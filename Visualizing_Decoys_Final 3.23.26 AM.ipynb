{
 "cells": [
  {
   "cell_type": "code",
   "execution_count": 1,
   "id": "a36d5bcf",
   "metadata": {},
   "outputs": [],
   "source": [
    "import numpy as np \n",
    "import pandas as pd \n",
    "import matplotlib.pyplot as plt\n",
    "import matplotlib.patches as mpatches\n",
    "import seaborn as sns\n",
    "import statsmodels.api as sm\n",
    "from statsmodels.formula.api import ols\n",
    "from statsmodels.stats.weightstats import ttest_ind\n",
    "import statsmodels.genmod.families.links as links\n",
    "import statsmodels.stats.power as stats_power\n",
    "from statsmodels.stats.power import TTestIndPower\n",
    "\n",
    "import scipy.stats as stats\n",
    "from scipy.stats import f_oneway\n",
    "\n",
    "from sklearn import linear_model\n",
    "from sklearn.metrics import mean_squared_error, r2_score\n",
    "import pingouin as pg\n",
    "from pingouin import mediation_analysis\n",
    "import os\n",
    "import glob"
   ]
  },
  {
   "cell_type": "code",
   "execution_count": 2,
   "id": "31c5e6ee",
   "metadata": {},
   "outputs": [],
   "source": [
    "def phantom_choices(option_1, option_2, option_3, choice, target_P, competitor_P):\n",
    "    if((option_1 == \"P_A\") or (option_2 == \"P_A\") or (option_3 == \"P_A\")):\n",
    "        if(choice == \"A\"):\n",
    "            target_P = target_P + 1\n",
    "        elif(choice == \"B\"):\n",
    "            competitor_P = competitor_P + 1\n",
    "    elif((option_1 == \"P_B\") or (option_2 == \"P_B\") or (option_3 == \"P_B\")):\n",
    "        if(choice == \"B\"):\n",
    "            target_P = target_P + 1\n",
    "        elif(choice == \"A\"):\n",
    "            competitor_P = competitor_P + 1\n",
    "    return target_P, competitor_P"
   ]
  },
  {
   "cell_type": "code",
   "execution_count": 3,
   "id": "8c053deb",
   "metadata": {},
   "outputs": [],
   "source": [
    "def getDecoyResponses(df, decoy_type):\n",
    "    try:\n",
    "        responses = df[\"Choice\"].value_counts(normalize=True)[decoy_type]\n",
    "    except KeyError:\n",
    "        responses = 0\n",
    "    return responses\n",
    "\n",
    "def barGraphDecoys(mean_percentage, std_data, title):\n",
    "    labels = ['Taget', 'Competitor', 'Decoy']\n",
    "    x = np.arange(len(labels)) \n",
    "    y = mean_percentage\n",
    "    error = std_data\n",
    "    fig, ax = plt.subplots(figsize=(5, 5))\n",
    "    ax.bar(labels, y, 0.9, yerr=std_data, capsize=8)\n",
    "    ax.set_ylim(0, 100)\n",
    "    ax.set_ylabel('Percentage')\n",
    "    ax.set_title(title)\n",
    "    plt.show()    \n",
    "    \n",
    "def barGraphDecoys3(mean_percentage, std_data, title, mean_percentage_LC, std_data_LC, title_LC, mean_percentage_HC, std_data_HC, title_HC):\n",
    "    labels = ['Taget', 'Competitor', 'Decoy']\n",
    "    \n",
    "    fig, ax = plt.subplots(1, 3, figsize=(14, 5))\n",
    "    \n",
    "    x = np.arange(len(labels)) \n",
    "    y = mean_percentage\n",
    "    error = std_data\n",
    "    \n",
    "    ax[0].bar(labels, y, 0.9, yerr=std_data, capsize=8)\n",
    "    ax[0].set_ylim(0, 100)\n",
    "    ax[0].set_ylabel('Percentage')\n",
    "    ax[0].set_title(title)\n",
    "    \n",
    "    y_LC = mean_percentage_LC\n",
    "    error_LC = std_data_LC\n",
    "    \n",
    "    ax[1].bar(labels, y_LC, 0.9, yerr=std_data_LC, capsize=8)\n",
    "    ax[1].set_ylim(0, 100)\n",
    "    ax[1].set_ylabel('Percentage')\n",
    "    ax[1].set_title(title_LC)\n",
    "    \n",
    "    y_HC = mean_percentage_HC\n",
    "    error_HC = std_data_HC\n",
    "    \n",
    "    ax[2].bar(labels, y_HC, 0.9, yerr=std_data_HC, capsize=8)\n",
    "    ax[2].set_ylim(0, 100)\n",
    "    ax[2].set_ylabel('Percentage')\n",
    "    ax[2].set_title(title_HC)\n",
    "    \n",
    "    plt.show()    \n",
    "    "
   ]
  },
  {
   "cell_type": "code",
   "execution_count": 4,
   "id": "34350f64",
   "metadata": {},
   "outputs": [],
   "source": [
    "def simDecoy_Selection(option_1, option_2, option_3, choice, target_count, competitor_count, decoy_count):\n",
    "    if((option_1 == \"S_A\") or (option_2 == \"S_A\") or (option_3) == \"S_A\"):\n",
    "        if(choice == \"A\"):\n",
    "            target_count = target_count + 1\n",
    "        elif (choice == \"S_A\"):\n",
    "            decoy_count = decoy_count + 1\n",
    "        elif (choice == \"B\"):\n",
    "            competitor_count = competitor_count + 1\n",
    "        else: \n",
    "            print(\"Error\")\n",
    "    elif((option_1 == \"S_B\") or (option_2 == \"S_B\") or (option_3 == \"S_B\")):\n",
    "        if(choice == \"B\"):\n",
    "            target_count = target_count + 1\n",
    "        elif (choice == \"S_B\"):\n",
    "            decoy_count = decoy_count + 1\n",
    "        elif (choice== \"A\"):\n",
    "            competitor_count = competitor_count + 1\n",
    "        else: \n",
    "            print(\"Error\")\n",
    "    return target_count, competitor_count, decoy_count\n",
    "        \n",
    "def comDecoy_Selection(option_1, option_2, option_3, choice, target_count, competitor_count, decoy_count):\n",
    "    if((option_1 == \"C_A\") or (option_2 == \"C_A\") or (option_3) == \"C_A\"):\n",
    "        if(choice == \"A\"):\n",
    "            target_count = target_count + 1\n",
    "        elif(choice == \"C_A\"):\n",
    "            decoy_count = decoy_count + 1\n",
    "        elif(choice == \"B\"):\n",
    "            competitor_count = competitor_count + 1\n",
    "        else: \n",
    "            print(\"Error!\") \n",
    "    elif((option_1 == \"C_B\") or (option_2 == \"C_B\") or (option_3) == \"C_B\"):\n",
    "        if(choice == \"B\"):\n",
    "            target_count = target_count + 1\n",
    "        elif(choice == \"C_B\"):\n",
    "            decoy_count = decoy_count + 1\n",
    "        elif(choice == \"A\"):\n",
    "            competitor_count = competitor_count + 1\n",
    "        else: \n",
    "            print(\"Error!\")\n",
    "    return target_count, competitor_count, decoy_count\n",
    "\n",
    "def attDecoy_Selection(option_1, option_2, option_3, choice, target_count, competitor_count, decoy_count):\n",
    "    if((option_1 == \"A_A\") or (option_2 == \"A_A\") or (option_3 == \"A_A\")):\n",
    "        if(choice == \"A\"):\n",
    "            target_count = target_count + 1\n",
    "        elif(choice == \"A_A\"):\n",
    "            decoy_count = decoy_count + 1\n",
    "        elif(choice == \"B\"):\n",
    "            competitor_count = competitor_count + 1\n",
    "        else: \n",
    "            print(\"Error!\")\n",
    "    elif((option_1 == \"A_B\") or (option_2 == \"A_B\") or (option_3) == \"A_B\"):\n",
    "        if(choice == \"B\"):\n",
    "            target_count = target_count + 1\n",
    "        elif(choice == \"A_B\"):\n",
    "            decoy_count = decoy_count + 1\n",
    "        elif(choice == \"A\"):\n",
    "            competitor_count = competitor_count + 1\n",
    "        else: \n",
    "            print(\"Error!\") \n",
    "    return target_count, competitor_count, decoy_count"
   ]
  },
  {
   "cell_type": "code",
   "execution_count": 5,
   "id": "9ec29dca",
   "metadata": {},
   "outputs": [],
   "source": [
    "def partFreq_Decoy(decoy_df, decoy_type):\n",
    "    \n",
    "    freq_name = str(decoy_type + \"(num)\")\n",
    "    perc_name = str(decoy_type + \"(%)\")\n",
    "    \n",
    "    freq_df = pd.DataFrame(columns=['PID', 'Target(num)', \"Competitor(num)\", freq_name, \"Target(%)\", \"Competitor(%)\", perc_name])\n",
    "    \n",
    "    participants_list = decoy_df[\"Survey_ID\"].unique()\n",
    "    \n",
    "    for idx in participants_list:\n",
    "        current_participant = decoy_df[decoy_df[\"Survey_ID\"] == idx]\n",
    "        current_participant = current_participant.reset_index()\n",
    "        m, n = current_participant.shape \n",
    "        \n",
    "        target_counter = 0\n",
    "        competitor_counter = 0\n",
    "        decoy_counter = 0\n",
    "        \n",
    "        for x in range(m):\n",
    "            option_1 = current_participant[\"Option_1\"][x]\n",
    "            option_2 = current_participant[\"Option_2\"][x]\n",
    "            option_3 = current_participant[\"Option_3\"][x]\n",
    "            choice = current_participant[\"Choice\"][x]\n",
    "            \n",
    "            if(decoy_type == \"Sim_Decoy\"):\n",
    "                target_counter, competitor_counter, decoy_counter = simDecoy_Selection(option_1, option_2, option_3, choice, target_counter, competitor_counter, decoy_counter)\n",
    "            elif(decoy_type == \"Com_Decoy\"):\n",
    "                target_counter, competitor_counter, decoy_counter = comDecoy_Selection(option_1, option_2, option_3, choice, target_counter, competitor_counter, decoy_counter)\n",
    "            elif(decoy_type == \"Att_Decoy\"):\n",
    "                target_counter, competitor_counter, decoy_counter = attDecoy_Selection(option_1, option_2, option_3, choice, target_counter, competitor_counter, decoy_counter)\n",
    "        \n",
    "        current_participant_freq = pd.DataFrame(data={'PID': idx, 'Target(num)': target_counter, 'Competitor(num)': competitor_counter, freq_name: decoy_counter, 'Target(%)': (target_counter/m)*100, 'Competitor(%)': (competitor_counter/m)*100, perc_name: (decoy_counter/m)*100}, index=range(1))\n",
    "        freq_df = freq_df.append(current_participant_freq, ignore_index = True)\n",
    "    return freq_df\n",
    "\n",
    "def partFreq_DecoyWCondition(decoy_df, decoy_type):\n",
    "    \n",
    "    freq_name = str(decoy_type + \"(num)\")\n",
    "    perc_name = str(decoy_type + \"(%)\")\n",
    "    \n",
    "    freq_df = pd.DataFrame(columns=['PID', 'Target(num)', \"Competitor(num)\", freq_name, \"Target(%)\", \"Competitor(%)\", perc_name])\n",
    "    \n",
    "    participants_list = decoy_df[\"Survey_ID\"].unique()\n",
    "    \n",
    "    for idx in participants_list:\n",
    "        current_participant = decoy_df[decoy_df[\"Survey_ID\"] == idx]\n",
    "        current_participant = current_participant.reset_index()\n",
    "        m, n = current_participant.shape \n",
    "        current_part_phant_condition = current_participant[\"PhantomCondition\"][0]\n",
    "        current_part_coup_condition = current_participant[\"CouplingCondition\"][0]\n",
    "        \n",
    "        target_counter = 0\n",
    "        competitor_counter = 0\n",
    "        decoy_counter = 0\n",
    "        \n",
    "        for x in range(m):\n",
    "            option_1 = current_participant[\"Option_1\"][x]\n",
    "            option_2 = current_participant[\"Option_2\"][x]\n",
    "            option_3 = current_participant[\"Option_3\"][x]\n",
    "            choice = current_participant[\"Choice\"][x]\n",
    "            \n",
    "            if(decoy_type == \"Sim_Decoy\"):\n",
    "                target_counter, competitor_counter, decoy_counter = simDecoy_Selection(option_1, option_2, option_3, choice, target_counter, competitor_counter, decoy_counter)\n",
    "            elif(decoy_type == \"Com_Decoy\"):\n",
    "                target_counter, competitor_counter, decoy_counter = comDecoy_Selection(option_1, option_2, option_3, choice, target_counter, competitor_counter, decoy_counter)\n",
    "            elif(decoy_type == \"Att_Decoy\"):\n",
    "                target_counter, competitor_counter, decoy_counter = attDecoy_Selection(option_1, option_2, option_3, choice, target_counter, competitor_counter, decoy_counter)\n",
    "        \n",
    "        current_participant_freq = pd.DataFrame(data={'PID': idx, 'Target(num)': target_counter, 'Competitor(num)': competitor_counter, freq_name: decoy_counter, 'Target_perc': (target_counter/m)*100, 'Competitor_perc': (competitor_counter/m)*100, perc_name: (decoy_counter/m)*100, 'PhantomCondition':current_part_phant_condition, 'CouplingCondition':current_part_coup_condition}, index=range(1))\n",
    "        freq_df = freq_df.append(current_participant_freq, ignore_index = True)\n",
    "    return freq_df\n",
    "\n",
    "def itemFreq_Decoy(decoy_df, decoy_type):\n",
    "    \n",
    "    freq_name = str(decoy_type + \"(num)\")\n",
    "    perc_name = str(decoy_type + \"(%)\")\n",
    "    \n",
    "    item_list = decoy_df[\"Item\"].unique()\n",
    "    \n",
    "    freq_df = pd.DataFrame(columns=['Item', 'Target(num)', \"Competitor(num)\", freq_name, \"Target(%)\", \"Competitor(%)\", perc_name])\n",
    "    \n",
    "    for item in item_list:\n",
    "        current_item = decoy_df[decoy_df[\"Item\"] == item]\n",
    "        current_item = current_item.reset_index()\n",
    "        m, n = current_item.shape \n",
    "        \n",
    "        target_counter = 0\n",
    "        competitor_counter = 0\n",
    "        decoy_counter = 0\n",
    "        \n",
    "        for x in range(m):\n",
    "            option_1 = current_item[\"Option_1\"][x]\n",
    "            option_2 = current_item[\"Option_2\"][x]\n",
    "            option_3 = current_item[\"Option_3\"][x]\n",
    "            choice = current_item[\"Choice\"][x]\n",
    "            \n",
    "            if(decoy_type == \"Sim_Decoy\"):\n",
    "                target_counter, competitor_counter, decoy_counter = simDecoy_Selection(option_1, option_2, option_3, choice, target_counter, competitor_counter, decoy_counter)\n",
    "            elif(decoy_type == \"Com_Decoy\"):\n",
    "                target_counter, competitor_counter, decoy_counter = comDecoy_Selection(option_1, option_2, option_3, choice, target_counter, competitor_counter, decoy_counter)\n",
    "            elif(decoy_type == \"Att_Decoy\"):\n",
    "                target_counter, competitor_counter, decoy_counter = attDecoy_Selection(option_1, option_2, option_3, choice, target_counter, competitor_counter, decoy_counter)\n",
    "        #Might add code to get sem.\n",
    "        target_perc = np.round(((target_counter/m)*100), 1)\n",
    "        competitor_perc = np.round(((competitor_counter/m)*100), 1)\n",
    "        decoy_perc = np.round(((decoy_counter/m)*100), 1)\n",
    "        current_item_freq = pd.DataFrame(data={'Item': item, 'Target(num)': target_counter, 'Competitor(num)': competitor_counter, freq_name: decoy_counter, 'Target(%)': target_perc, 'Competitor(%)': competitor_perc, perc_name: decoy_perc}, index=range(1))\n",
    "        freq_df = freq_df.append(current_item_freq, ignore_index = True)\n",
    "    return freq_df\n",
    "\n",
    "def partFreq_PhantomDecoy(decoy_df):\n",
    "    \n",
    "    freq_df = pd.DataFrame(columns=['PID', 'Target(num)', \"Competitor(num)\", \"Target(%)\", \"Competitor(%)\"])\n",
    "    \n",
    "    participants_list = decoy_df[\"Survey_ID\"].unique()\n",
    "    \n",
    "    for idx in participants_list:\n",
    "        current_participant = decoy_df[decoy_df[\"Survey_ID\"] == idx]\n",
    "        current_participant = current_participant.reset_index()\n",
    "        m, n = current_participant.shape \n",
    "        \n",
    "        target_counter = 0\n",
    "        competitor_counter = 0\n",
    "        \n",
    "        for x in range(m):\n",
    "            option_1 = current_participant[\"Option_1\"][x]\n",
    "            option_2 = current_participant[\"Option_2\"][x]\n",
    "            option_3 = current_participant[\"Option_3\"][x]\n",
    "            choice = current_participant[\"Choice\"][x]\n",
    "            \n",
    "            target_counter, competitor_counter = phantom_choices(option_1, option_2, option_3, choice, target_counter, competitor_counter)\n",
    "        \n",
    "        current_participant_freq = pd.DataFrame(data={'PID': idx, 'Target(num)': target_counter, 'Competitor(num)': competitor_counter, 'Target(%)': (target_counter/m)*100, 'Competitor(%)': (competitor_counter/m)*100}, index=range(1))\n",
    "        freq_df = freq_df.append(current_participant_freq, ignore_index = True)\n",
    "    return freq_df\n",
    "\n",
    "def partFreq_PhantomDecoyWCondition(decoy_df):\n",
    "    \n",
    "    freq_df = pd.DataFrame(columns=['PID', 'Target(num)', \"Competitor(num)\", \"Target(%)\", \"Competitor(%)\"])\n",
    "    \n",
    "    participants_list = decoy_df[\"Survey_ID\"].unique()\n",
    "    \n",
    "    for idx in participants_list:\n",
    "        current_participant = decoy_df[decoy_df[\"Survey_ID\"] == idx]\n",
    "        current_participant = current_participant.reset_index()\n",
    "        m, n = current_participant.shape \n",
    "        current_part_phant_condition = current_participant[\"PhantomCondition\"][0]\n",
    "        current_part_coup_condition = current_participant[\"CouplingCondition\"][0]\n",
    "        \n",
    "        target_counter = 0\n",
    "        competitor_counter = 0\n",
    "        \n",
    "        for x in range(m):\n",
    "            option_1 = current_participant[\"Option_1\"][x]\n",
    "            option_2 = current_participant[\"Option_2\"][x]\n",
    "            option_3 = current_participant[\"Option_3\"][x]\n",
    "            choice = current_participant[\"Choice\"][x]\n",
    "            \n",
    "            target_counter, competitor_counter = phantom_choices(option_1, option_2, option_3, choice, target_counter, competitor_counter)\n",
    "        \n",
    "        current_participant_freq = pd.DataFrame(data={'PID': idx, 'Target(num)': target_counter, 'Competitor(num)': competitor_counter, 'Target_perc': (target_counter/m)*100, 'Competitor_perc_': (competitor_counter/m)*100, 'PhantomCondition':current_part_phant_condition, 'CouplingCondition':current_part_coup_condition}, index=range(1))\n",
    "        freq_df = freq_df.append(current_participant_freq, ignore_index = True)\n",
    "    return freq_df\n",
    "\n",
    "def itemFreq_PhantomDecoy(decoy_df):\n",
    "    \n",
    "    freq_df = pd.DataFrame(columns=['Item', 'Target(num)', \"Competitor(num)\", \"Target(%)\", \"Competitor(%)\"])\n",
    "    \n",
    "    item_list = decoy_df[\"Item\"].unique()\n",
    "    \n",
    "    for item in item_list:\n",
    "        current_item = decoy_df[decoy_df[\"Item\"] == item]\n",
    "        current_item = current_item.reset_index()\n",
    "        m, n = current_item.shape \n",
    "        \n",
    "        target_counter = 0\n",
    "        competitor_counter = 0\n",
    "        \n",
    "        for x in range(m):\n",
    "            option_1 = current_item[\"Option_1\"][x]\n",
    "            option_2 = current_item[\"Option_2\"][x]\n",
    "            option_3 = current_item[\"Option_3\"][x]\n",
    "            choice = current_item[\"Choice\"][x]\n",
    "            \n",
    "            target_counter, competitor_counter = phantom_choices(option_1, option_2, option_3, choice, target_counter, competitor_counter)\n",
    "        target_perc = np.round((target_counter/m)*100, 1)\n",
    "        competitor_perc = np.round((competitor_counter/m)*100, 1)\n",
    "        current_participant_freq = pd.DataFrame(data={'Item': item, 'Target(num)': target_counter, 'Competitor(num)': competitor_counter, 'Target(%)': target_perc, 'Competitor(%)': competitor_perc}, index=range(1))\n",
    "        freq_df = freq_df.append(current_participant_freq, ignore_index = True)\n",
    "    return freq_df\n",
    "            \n"
   ]
  },
  {
   "cell_type": "markdown",
   "id": "9df6c201",
   "metadata": {},
   "source": [
    "## Load and Pre-process data"
   ]
  },
  {
   "cell_type": "code",
   "execution_count": 6,
   "id": "87ee2aed",
   "metadata": {},
   "outputs": [
    {
     "name": "stdout",
     "output_type": "stream",
     "text": [
      "Current working dir : /Users/luisalvarez/Documents/Decoy/22AY_01_Code/Participants_data\n"
     ]
    }
   ],
   "source": [
    "# Now open a directory/folder \"/zDemo_data\"\n",
    "fd = os.open(\"Participants_data\", os.O_RDONLY)\n",
    "\n",
    "# Use os.fchdir() method to change the dir/folder\n",
    "os.fchdir(fd)\n",
    "\n",
    "# Safe check- Print current working directory\n",
    "print(\"Current working dir : %s\" % os.getcwd())"
   ]
  },
  {
   "cell_type": "code",
   "execution_count": 7,
   "id": "327faf79",
   "metadata": {},
   "outputs": [
    {
     "data": {
      "text/html": [
       "<div>\n",
       "<style scoped>\n",
       "    .dataframe tbody tr th:only-of-type {\n",
       "        vertical-align: middle;\n",
       "    }\n",
       "\n",
       "    .dataframe tbody tr th {\n",
       "        vertical-align: top;\n",
       "    }\n",
       "\n",
       "    .dataframe thead th {\n",
       "        text-align: right;\n",
       "    }\n",
       "</style>\n",
       "<table border=\"1\" class=\"dataframe\">\n",
       "  <thead>\n",
       "    <tr style=\"text-align: right;\">\n",
       "      <th></th>\n",
       "      <th>Age</th>\n",
       "      <th>Sex</th>\n",
       "      <th>Race</th>\n",
       "      <th>Ethnicity</th>\n",
       "      <th>Date</th>\n",
       "      <th>PID</th>\n",
       "      <th>SurveyID</th>\n",
       "      <th>Email</th>\n",
       "      <th>CouplingCondition</th>\n",
       "      <th>PhantomCondition</th>\n",
       "    </tr>\n",
       "  </thead>\n",
       "  <tbody>\n",
       "    <tr>\n",
       "      <th>0</th>\n",
       "      <td>18</td>\n",
       "      <td>Female</td>\n",
       "      <td>Not_hispanic</td>\n",
       "      <td>White</td>\n",
       "      <td>04/11/2022</td>\n",
       "      <td>16938385</td>\n",
       "      <td>40781</td>\n",
       "      <td>ehefner@ucsd.edu</td>\n",
       "      <td>High coupling</td>\n",
       "      <td>Highly_desirable</td>\n",
       "    </tr>\n",
       "    <tr>\n",
       "      <th>1</th>\n",
       "      <td>21</td>\n",
       "      <td>Female</td>\n",
       "      <td>Not_hispanic</td>\n",
       "      <td>East_Asian</td>\n",
       "      <td>04/08/2022</td>\n",
       "      <td>17212732</td>\n",
       "      <td>40447</td>\n",
       "      <td>kyc002@ucsd.edu</td>\n",
       "      <td>Low coupling</td>\n",
       "      <td>Highly_desirable</td>\n",
       "    </tr>\n",
       "    <tr>\n",
       "      <th>2</th>\n",
       "      <td>19</td>\n",
       "      <td>Male</td>\n",
       "      <td>Hispanic</td>\n",
       "      <td>Hispanic</td>\n",
       "      <td>05/19/2022</td>\n",
       "      <td>16292970</td>\n",
       "      <td>41454</td>\n",
       "      <td>jpcruz@ucsd.edu</td>\n",
       "      <td>Low coupling</td>\n",
       "      <td>Undesirable</td>\n",
       "    </tr>\n",
       "    <tr>\n",
       "      <th>3</th>\n",
       "      <td>19</td>\n",
       "      <td>Female</td>\n",
       "      <td>Not_hispanic</td>\n",
       "      <td>East_Asian</td>\n",
       "      <td>05/20/2022</td>\n",
       "      <td>16430620</td>\n",
       "      <td>37956</td>\n",
       "      <td>kdelapen@ucsd.edu</td>\n",
       "      <td>Low coupling</td>\n",
       "      <td>Weakly_desirable</td>\n",
       "    </tr>\n",
       "    <tr>\n",
       "      <th>4</th>\n",
       "      <td>23</td>\n",
       "      <td>Female</td>\n",
       "      <td>Not_hispanic</td>\n",
       "      <td>White</td>\n",
       "      <td>04/07/2022</td>\n",
       "      <td>16083027</td>\n",
       "      <td>34796</td>\n",
       "      <td>mengel@ucsd.edu</td>\n",
       "      <td>Low coupling</td>\n",
       "      <td>Weakly_desirable</td>\n",
       "    </tr>\n",
       "    <tr>\n",
       "      <th>5</th>\n",
       "      <td>23</td>\n",
       "      <td>Male</td>\n",
       "      <td>Not_hispanic</td>\n",
       "      <td>White</td>\n",
       "      <td>05/22/2022</td>\n",
       "      <td>15402507</td>\n",
       "      <td>44066</td>\n",
       "      <td>jtschnec@ucsd.edu</td>\n",
       "      <td>High coupling</td>\n",
       "      <td>Weakly_desirable</td>\n",
       "    </tr>\n",
       "    <tr>\n",
       "      <th>6</th>\n",
       "      <td>22</td>\n",
       "      <td>Female</td>\n",
       "      <td>Not_hispanic</td>\n",
       "      <td>East_Asian</td>\n",
       "      <td>04/11/2022</td>\n",
       "      <td>15501740</td>\n",
       "      <td>33898</td>\n",
       "      <td>lnn019@ucsd.edu</td>\n",
       "      <td>High coupling</td>\n",
       "      <td>Weakly_desirable</td>\n",
       "    </tr>\n",
       "    <tr>\n",
       "      <th>7</th>\n",
       "      <td>22</td>\n",
       "      <td>Male</td>\n",
       "      <td>Not_hispanic</td>\n",
       "      <td>East_Asian</td>\n",
       "      <td>04/11/2022</td>\n",
       "      <td>16587075</td>\n",
       "      <td>37993</td>\n",
       "      <td>bgfang@ucsd.edu</td>\n",
       "      <td>High coupling</td>\n",
       "      <td>Undesirable</td>\n",
       "    </tr>\n",
       "    <tr>\n",
       "      <th>8</th>\n",
       "      <td>21</td>\n",
       "      <td>Female</td>\n",
       "      <td>Not_hispanic</td>\n",
       "      <td>White</td>\n",
       "      <td>05/23/2022</td>\n",
       "      <td>16155105</td>\n",
       "      <td>33491</td>\n",
       "      <td>kjevans@ucsd.edu</td>\n",
       "      <td>Low coupling</td>\n",
       "      <td>Undesirable</td>\n",
       "    </tr>\n",
       "    <tr>\n",
       "      <th>9</th>\n",
       "      <td>19</td>\n",
       "      <td>Female</td>\n",
       "      <td>Not_hispanic</td>\n",
       "      <td>East_Asian</td>\n",
       "      <td>05/20/2022</td>\n",
       "      <td>16297216</td>\n",
       "      <td>38313</td>\n",
       "      <td>lballest@ucsd.edu</td>\n",
       "      <td>High coupling</td>\n",
       "      <td>Undesirable</td>\n",
       "    </tr>\n",
       "    <tr>\n",
       "      <th>10</th>\n",
       "      <td>20</td>\n",
       "      <td>Male</td>\n",
       "      <td>Not_hispanic</td>\n",
       "      <td>East_Asian</td>\n",
       "      <td>04/10/2022</td>\n",
       "      <td>16358315</td>\n",
       "      <td>36203</td>\n",
       "      <td>yuw091@ucsd.edu</td>\n",
       "      <td>Low coupling</td>\n",
       "      <td>Undesirable</td>\n",
       "    </tr>\n",
       "    <tr>\n",
       "      <th>11</th>\n",
       "      <td>21</td>\n",
       "      <td>Female</td>\n",
       "      <td>Not_hispanic</td>\n",
       "      <td>East_Asian</td>\n",
       "      <td>05/24/2022</td>\n",
       "      <td>16583212</td>\n",
       "      <td>36951</td>\n",
       "      <td>jynguyen@ucsd.edu</td>\n",
       "      <td>High coupling</td>\n",
       "      <td>Highly_desirable</td>\n",
       "    </tr>\n",
       "    <tr>\n",
       "      <th>12</th>\n",
       "      <td>20</td>\n",
       "      <td>Female</td>\n",
       "      <td>Not_hispanic</td>\n",
       "      <td>East_Asian</td>\n",
       "      <td>05/19/2022</td>\n",
       "      <td>15953317</td>\n",
       "      <td>39630</td>\n",
       "      <td>hipark@ucsd.edu</td>\n",
       "      <td>Low coupling</td>\n",
       "      <td>Weakly_desirable</td>\n",
       "    </tr>\n",
       "    <tr>\n",
       "      <th>13</th>\n",
       "      <td>18</td>\n",
       "      <td>Female</td>\n",
       "      <td>Hispanic</td>\n",
       "      <td>Black_White_Mexican</td>\n",
       "      <td>05/19/2022</td>\n",
       "      <td>17050792</td>\n",
       "      <td>40448</td>\n",
       "      <td>mpruitt@ucsd.edu</td>\n",
       "      <td>High coupling</td>\n",
       "      <td>Weakly_desirable</td>\n",
       "    </tr>\n",
       "    <tr>\n",
       "      <th>14</th>\n",
       "      <td>20</td>\n",
       "      <td>Male</td>\n",
       "      <td>Hispanic</td>\n",
       "      <td>Hispanic</td>\n",
       "      <td>05/22/2022</td>\n",
       "      <td>16152509</td>\n",
       "      <td>34943</td>\n",
       "      <td>mfabian@ucsd.edu</td>\n",
       "      <td>Low coupling</td>\n",
       "      <td>Highly_desirable</td>\n",
       "    </tr>\n",
       "    <tr>\n",
       "      <th>15</th>\n",
       "      <td>19</td>\n",
       "      <td>Female</td>\n",
       "      <td>Hispanic</td>\n",
       "      <td>Hispanic</td>\n",
       "      <td>05/22/2022</td>\n",
       "      <td>16292556</td>\n",
       "      <td>39618</td>\n",
       "      <td>bcorrea@ucsd.edu</td>\n",
       "      <td>High coupling</td>\n",
       "      <td>Highly_desirable</td>\n",
       "    </tr>\n",
       "    <tr>\n",
       "      <th>16</th>\n",
       "      <td>19</td>\n",
       "      <td>Female</td>\n",
       "      <td>Not_hispanic</td>\n",
       "      <td>White</td>\n",
       "      <td>04/07/2022</td>\n",
       "      <td>16521128</td>\n",
       "      <td>40548</td>\n",
       "      <td>mmollaha@ucsd.edu</td>\n",
       "      <td>Low coupling</td>\n",
       "      <td>Highly_desirable</td>\n",
       "    </tr>\n",
       "    <tr>\n",
       "      <th>17</th>\n",
       "      <td>20</td>\n",
       "      <td>Female</td>\n",
       "      <td>Hispanic</td>\n",
       "      <td>Hispanic</td>\n",
       "      <td>05/20/2022</td>\n",
       "      <td>15877512</td>\n",
       "      <td>38543</td>\n",
       "      <td>nag002@ucsd.edu</td>\n",
       "      <td>Low coupling</td>\n",
       "      <td>Highly_desirable</td>\n",
       "    </tr>\n",
       "    <tr>\n",
       "      <th>18</th>\n",
       "      <td>21</td>\n",
       "      <td>Female</td>\n",
       "      <td>Not_hispanic</td>\n",
       "      <td>White</td>\n",
       "      <td>05/21/2022</td>\n",
       "      <td>15827319</td>\n",
       "      <td>34741</td>\n",
       "      <td>ffalzony@ucsd.edu</td>\n",
       "      <td>High coupling</td>\n",
       "      <td>Weakly_desirable</td>\n",
       "    </tr>\n",
       "    <tr>\n",
       "      <th>19</th>\n",
       "      <td>19</td>\n",
       "      <td>Female</td>\n",
       "      <td>Not_hispanic</td>\n",
       "      <td>middle_eastern</td>\n",
       "      <td>05/23/2022</td>\n",
       "      <td>16677895</td>\n",
       "      <td>40016</td>\n",
       "      <td>lyazouri@ucsd.edu</td>\n",
       "      <td>High coupling</td>\n",
       "      <td>Highly_desirable</td>\n",
       "    </tr>\n",
       "    <tr>\n",
       "      <th>20</th>\n",
       "      <td>19</td>\n",
       "      <td>Female</td>\n",
       "      <td>Not_hispanic</td>\n",
       "      <td>East_Asian</td>\n",
       "      <td>04/08/2022</td>\n",
       "      <td>16302756</td>\n",
       "      <td>39056</td>\n",
       "      <td>jtl003@ucsd.edu</td>\n",
       "      <td>High coupling</td>\n",
       "      <td>Undesirable</td>\n",
       "    </tr>\n",
       "    <tr>\n",
       "      <th>21</th>\n",
       "      <td>19</td>\n",
       "      <td>Female</td>\n",
       "      <td>Not_hispanic</td>\n",
       "      <td>East_Asian</td>\n",
       "      <td>04/10/2022</td>\n",
       "      <td>16727090</td>\n",
       "      <td>40719</td>\n",
       "      <td>m6chau@ucsd.edu</td>\n",
       "      <td>High coupling</td>\n",
       "      <td>Highly_desirable</td>\n",
       "    </tr>\n",
       "    <tr>\n",
       "      <th>22</th>\n",
       "      <td>21</td>\n",
       "      <td>Male</td>\n",
       "      <td>Not_hispanic</td>\n",
       "      <td>East_Asian</td>\n",
       "      <td>04/10/2022</td>\n",
       "      <td>15584833</td>\n",
       "      <td>33553</td>\n",
       "      <td>ytung@ucsd.edu</td>\n",
       "      <td>Low coupling</td>\n",
       "      <td>Undesirable</td>\n",
       "    </tr>\n",
       "    <tr>\n",
       "      <th>23</th>\n",
       "      <td>19</td>\n",
       "      <td>Male</td>\n",
       "      <td>Not_hispanic</td>\n",
       "      <td>East_Asian</td>\n",
       "      <td>05/19/2022</td>\n",
       "      <td>16486584</td>\n",
       "      <td>38642</td>\n",
       "      <td>jzs002@ucsd.edu</td>\n",
       "      <td>Low coupling</td>\n",
       "      <td>Highly_desirable</td>\n",
       "    </tr>\n",
       "    <tr>\n",
       "      <th>24</th>\n",
       "      <td>24</td>\n",
       "      <td>Female</td>\n",
       "      <td>Hispanic</td>\n",
       "      <td>Hispanic</td>\n",
       "      <td>05/20/2022</td>\n",
       "      <td>17181453</td>\n",
       "      <td>43019</td>\n",
       "      <td>jarroyo@ucsd.edu</td>\n",
       "      <td>Low coupling</td>\n",
       "      <td>Undesirable</td>\n",
       "    </tr>\n",
       "    <tr>\n",
       "      <th>25</th>\n",
       "      <td>19</td>\n",
       "      <td>Male</td>\n",
       "      <td>Not_hispanic</td>\n",
       "      <td>East_Asian</td>\n",
       "      <td>04/10/2022</td>\n",
       "      <td>16265450</td>\n",
       "      <td>41241</td>\n",
       "      <td>e1dong@ucsd.edu</td>\n",
       "      <td>High coupling</td>\n",
       "      <td>Highly_desirable</td>\n",
       "    </tr>\n",
       "    <tr>\n",
       "      <th>26</th>\n",
       "      <td>18</td>\n",
       "      <td>Female</td>\n",
       "      <td>Not_hispanic</td>\n",
       "      <td>East_Asian</td>\n",
       "      <td>04/10/2022</td>\n",
       "      <td>16911705</td>\n",
       "      <td>41067</td>\n",
       "      <td>m1xia@ucsd.edu</td>\n",
       "      <td>Low coupling</td>\n",
       "      <td>Undesirable</td>\n",
       "    </tr>\n",
       "    <tr>\n",
       "      <th>27</th>\n",
       "      <td>30</td>\n",
       "      <td>Male</td>\n",
       "      <td>Hispanic</td>\n",
       "      <td>Hispanic</td>\n",
       "      <td>05/23/2022</td>\n",
       "      <td>16592708</td>\n",
       "      <td>38284</td>\n",
       "      <td>gustavo13.92@gmail.com</td>\n",
       "      <td>High coupling</td>\n",
       "      <td>Undesirable</td>\n",
       "    </tr>\n",
       "    <tr>\n",
       "      <th>28</th>\n",
       "      <td>21</td>\n",
       "      <td>Male</td>\n",
       "      <td>Hispanic</td>\n",
       "      <td>Hispanic</td>\n",
       "      <td>04/11/2022</td>\n",
       "      <td>15846494</td>\n",
       "      <td>36391</td>\n",
       "      <td>j2guerre@ucsd.edu</td>\n",
       "      <td>High coupling</td>\n",
       "      <td>Undesirable</td>\n",
       "    </tr>\n",
       "    <tr>\n",
       "      <th>29</th>\n",
       "      <td>20</td>\n",
       "      <td>Male</td>\n",
       "      <td>Not_hispanic</td>\n",
       "      <td>Arab</td>\n",
       "      <td>05/23/2022</td>\n",
       "      <td>16678355</td>\n",
       "      <td>44198</td>\n",
       "      <td>halsamman@ucsd.edu</td>\n",
       "      <td>High coupling</td>\n",
       "      <td>Undesirable</td>\n",
       "    </tr>\n",
       "    <tr>\n",
       "      <th>30</th>\n",
       "      <td>20</td>\n",
       "      <td>Female</td>\n",
       "      <td>Hispanic</td>\n",
       "      <td>Hispanic</td>\n",
       "      <td>05/22/2022</td>\n",
       "      <td>16146553</td>\n",
       "      <td>32388</td>\n",
       "      <td>sghigare@ucsd.edu</td>\n",
       "      <td>High coupling</td>\n",
       "      <td>Undesirable</td>\n",
       "    </tr>\n",
       "    <tr>\n",
       "      <th>31</th>\n",
       "      <td>24</td>\n",
       "      <td>Female</td>\n",
       "      <td>Hispanic</td>\n",
       "      <td>White</td>\n",
       "      <td>05/23/2022</td>\n",
       "      <td>13524099</td>\n",
       "      <td>30026</td>\n",
       "      <td>zzhernan@ucsd.edu</td>\n",
       "      <td>High coupling</td>\n",
       "      <td>Highly_desirable</td>\n",
       "    </tr>\n",
       "    <tr>\n",
       "      <th>32</th>\n",
       "      <td>29</td>\n",
       "      <td>Female</td>\n",
       "      <td>Not_hispanic</td>\n",
       "      <td>White</td>\n",
       "      <td>05/20/2022</td>\n",
       "      <td>17234240</td>\n",
       "      <td>40413</td>\n",
       "      <td>cmcintyre@ucsd.edu</td>\n",
       "      <td>High coupling</td>\n",
       "      <td>Weakly_desirable</td>\n",
       "    </tr>\n",
       "    <tr>\n",
       "      <th>33</th>\n",
       "      <td>21</td>\n",
       "      <td>Male</td>\n",
       "      <td>Hispanic</td>\n",
       "      <td>Black</td>\n",
       "      <td>04/10/2022</td>\n",
       "      <td>15534110</td>\n",
       "      <td>30471</td>\n",
       "      <td>jmosquer@ucsd.edu</td>\n",
       "      <td>High coupling</td>\n",
       "      <td>Highly_desirable</td>\n",
       "    </tr>\n",
       "    <tr>\n",
       "      <th>34</th>\n",
       "      <td>22</td>\n",
       "      <td>Female</td>\n",
       "      <td>Hispanic</td>\n",
       "      <td>Hispanic</td>\n",
       "      <td>05/23/2022</td>\n",
       "      <td>17176746</td>\n",
       "      <td>40469</td>\n",
       "      <td>ezunigavargas@ucsd.edu</td>\n",
       "      <td>Low coupling</td>\n",
       "      <td>Highly_desirable</td>\n",
       "    </tr>\n",
       "    <tr>\n",
       "      <th>35</th>\n",
       "      <td>20</td>\n",
       "      <td>Male</td>\n",
       "      <td>Not_hispanic</td>\n",
       "      <td>East_Asian</td>\n",
       "      <td>05/19/2022</td>\n",
       "      <td>15967880</td>\n",
       "      <td>35225</td>\n",
       "      <td>hgle@ucsd.edu</td>\n",
       "      <td>Low coupling</td>\n",
       "      <td>Highly_desirable</td>\n",
       "    </tr>\n",
       "    <tr>\n",
       "      <th>36</th>\n",
       "      <td>21</td>\n",
       "      <td>Female</td>\n",
       "      <td>Not_hispanic</td>\n",
       "      <td>White</td>\n",
       "      <td>05/23/2022</td>\n",
       "      <td>15461930</td>\n",
       "      <td>38810</td>\n",
       "      <td>tbracy@ucsd.edu</td>\n",
       "      <td>High coupling</td>\n",
       "      <td>Highly_desirable</td>\n",
       "    </tr>\n",
       "    <tr>\n",
       "      <th>37</th>\n",
       "      <td>19</td>\n",
       "      <td>Female</td>\n",
       "      <td>Not_hispanic</td>\n",
       "      <td>East_Asian</td>\n",
       "      <td>04/12/2022</td>\n",
       "      <td>16893128</td>\n",
       "      <td>40763</td>\n",
       "      <td>yus056@ucsd.edu</td>\n",
       "      <td>Low coupling</td>\n",
       "      <td>Weakly_desirable</td>\n",
       "    </tr>\n",
       "    <tr>\n",
       "      <th>38</th>\n",
       "      <td>21</td>\n",
       "      <td>Female</td>\n",
       "      <td>Unknown</td>\n",
       "      <td>NaN</td>\n",
       "      <td>05/24/2022</td>\n",
       "      <td>16531672</td>\n",
       "      <td>36413</td>\n",
       "      <td>mcabasal@ucsd.edi</td>\n",
       "      <td>Low coupling</td>\n",
       "      <td>Highly_desirable</td>\n",
       "    </tr>\n",
       "    <tr>\n",
       "      <th>39</th>\n",
       "      <td>24</td>\n",
       "      <td>Male</td>\n",
       "      <td>Hispanic</td>\n",
       "      <td>Hispanic</td>\n",
       "      <td>05/21/2022</td>\n",
       "      <td>16530222</td>\n",
       "      <td>39312</td>\n",
       "      <td>dbrito@ucsd.edu</td>\n",
       "      <td>Low coupling</td>\n",
       "      <td>Highly_desirable</td>\n",
       "    </tr>\n",
       "  </tbody>\n",
       "</table>\n",
       "</div>"
      ],
      "text/plain": [
       "   Age     Sex          Race            Ethnicity        Date       PID  \\\n",
       "0   18  Female  Not_hispanic                White  04/11/2022  16938385   \n",
       "1   21  Female  Not_hispanic           East_Asian  04/08/2022  17212732   \n",
       "2   19    Male      Hispanic             Hispanic  05/19/2022  16292970   \n",
       "3   19  Female  Not_hispanic           East_Asian  05/20/2022  16430620   \n",
       "4   23  Female  Not_hispanic                White  04/07/2022  16083027   \n",
       "5   23    Male  Not_hispanic                White  05/22/2022  15402507   \n",
       "6   22  Female  Not_hispanic           East_Asian  04/11/2022  15501740   \n",
       "7   22    Male  Not_hispanic           East_Asian  04/11/2022  16587075   \n",
       "8   21  Female  Not_hispanic                White  05/23/2022  16155105   \n",
       "9   19  Female  Not_hispanic           East_Asian  05/20/2022  16297216   \n",
       "10  20    Male  Not_hispanic           East_Asian  04/10/2022  16358315   \n",
       "11  21  Female  Not_hispanic           East_Asian  05/24/2022  16583212   \n",
       "12  20  Female  Not_hispanic           East_Asian  05/19/2022  15953317   \n",
       "13  18  Female      Hispanic  Black_White_Mexican  05/19/2022  17050792   \n",
       "14  20    Male      Hispanic             Hispanic  05/22/2022  16152509   \n",
       "15  19  Female      Hispanic             Hispanic  05/22/2022  16292556   \n",
       "16  19  Female  Not_hispanic                White  04/07/2022  16521128   \n",
       "17  20  Female      Hispanic             Hispanic  05/20/2022  15877512   \n",
       "18  21  Female  Not_hispanic                White  05/21/2022  15827319   \n",
       "19  19  Female  Not_hispanic       middle_eastern  05/23/2022  16677895   \n",
       "20  19  Female  Not_hispanic           East_Asian  04/08/2022  16302756   \n",
       "21  19  Female  Not_hispanic           East_Asian  04/10/2022  16727090   \n",
       "22  21    Male  Not_hispanic           East_Asian  04/10/2022  15584833   \n",
       "23  19    Male  Not_hispanic           East_Asian  05/19/2022  16486584   \n",
       "24  24  Female      Hispanic             Hispanic  05/20/2022  17181453   \n",
       "25  19    Male  Not_hispanic           East_Asian  04/10/2022  16265450   \n",
       "26  18  Female  Not_hispanic           East_Asian  04/10/2022  16911705   \n",
       "27  30    Male      Hispanic             Hispanic  05/23/2022  16592708   \n",
       "28  21    Male      Hispanic             Hispanic  04/11/2022  15846494   \n",
       "29  20    Male  Not_hispanic                 Arab  05/23/2022  16678355   \n",
       "30  20  Female      Hispanic             Hispanic  05/22/2022  16146553   \n",
       "31  24  Female      Hispanic                White  05/23/2022  13524099   \n",
       "32  29  Female  Not_hispanic                White  05/20/2022  17234240   \n",
       "33  21    Male      Hispanic                Black  04/10/2022  15534110   \n",
       "34  22  Female      Hispanic             Hispanic  05/23/2022  17176746   \n",
       "35  20    Male  Not_hispanic           East_Asian  05/19/2022  15967880   \n",
       "36  21  Female  Not_hispanic                White  05/23/2022  15461930   \n",
       "37  19  Female  Not_hispanic           East_Asian  04/12/2022  16893128   \n",
       "38  21  Female       Unknown                  NaN  05/24/2022  16531672   \n",
       "39  24    Male      Hispanic             Hispanic  05/21/2022  16530222   \n",
       "\n",
       "   SurveyID                   Email CouplingCondition  PhantomCondition  \n",
       "0     40781        ehefner@ucsd.edu     High coupling  Highly_desirable  \n",
       "1     40447         kyc002@ucsd.edu      Low coupling  Highly_desirable  \n",
       "2     41454         jpcruz@ucsd.edu      Low coupling       Undesirable  \n",
       "3     37956       kdelapen@ucsd.edu      Low coupling  Weakly_desirable  \n",
       "4     34796         mengel@ucsd.edu      Low coupling  Weakly_desirable  \n",
       "5     44066       jtschnec@ucsd.edu     High coupling  Weakly_desirable  \n",
       "6     33898         lnn019@ucsd.edu     High coupling  Weakly_desirable  \n",
       "7     37993         bgfang@ucsd.edu     High coupling       Undesirable  \n",
       "8     33491        kjevans@ucsd.edu      Low coupling       Undesirable  \n",
       "9     38313       lballest@ucsd.edu     High coupling       Undesirable  \n",
       "10    36203         yuw091@ucsd.edu      Low coupling       Undesirable  \n",
       "11    36951       jynguyen@ucsd.edu     High coupling  Highly_desirable  \n",
       "12    39630         hipark@ucsd.edu      Low coupling  Weakly_desirable  \n",
       "13    40448        mpruitt@ucsd.edu     High coupling  Weakly_desirable  \n",
       "14    34943        mfabian@ucsd.edu      Low coupling  Highly_desirable  \n",
       "15    39618        bcorrea@ucsd.edu     High coupling  Highly_desirable  \n",
       "16    40548       mmollaha@ucsd.edu      Low coupling  Highly_desirable  \n",
       "17    38543         nag002@ucsd.edu      Low coupling  Highly_desirable  \n",
       "18    34741       ffalzony@ucsd.edu     High coupling  Weakly_desirable  \n",
       "19    40016       lyazouri@ucsd.edu     High coupling  Highly_desirable  \n",
       "20    39056         jtl003@ucsd.edu     High coupling       Undesirable  \n",
       "21    40719         m6chau@ucsd.edu     High coupling  Highly_desirable  \n",
       "22    33553          ytung@ucsd.edu      Low coupling       Undesirable  \n",
       "23    38642         jzs002@ucsd.edu      Low coupling  Highly_desirable  \n",
       "24    43019        jarroyo@ucsd.edu      Low coupling       Undesirable  \n",
       "25    41241         e1dong@ucsd.edu     High coupling  Highly_desirable  \n",
       "26    41067          m1xia@ucsd.edu      Low coupling       Undesirable  \n",
       "27    38284  gustavo13.92@gmail.com     High coupling       Undesirable  \n",
       "28    36391       j2guerre@ucsd.edu     High coupling       Undesirable  \n",
       "29    44198      halsamman@ucsd.edu     High coupling       Undesirable  \n",
       "30    32388       sghigare@ucsd.edu     High coupling       Undesirable  \n",
       "31    30026       zzhernan@ucsd.edu     High coupling  Highly_desirable  \n",
       "32    40413      cmcintyre@ucsd.edu     High coupling  Weakly_desirable  \n",
       "33    30471       jmosquer@ucsd.edu     High coupling  Highly_desirable  \n",
       "34    40469  ezunigavargas@ucsd.edu      Low coupling  Highly_desirable  \n",
       "35    35225           hgle@ucsd.edu      Low coupling  Highly_desirable  \n",
       "36    38810         tbracy@ucsd.edu     High coupling  Highly_desirable  \n",
       "37    40763         yus056@ucsd.edu      Low coupling  Weakly_desirable  \n",
       "38    36413       mcabasal@ucsd.edi      Low coupling  Highly_desirable  \n",
       "39    39312         dbrito@ucsd.edu      Low coupling  Highly_desirable  "
      ]
     },
     "execution_count": 7,
     "metadata": {},
     "output_type": "execute_result"
    }
   ],
   "source": [
    "# use glob to get all the csv files \n",
    "# in the folder\n",
    "path = os.getcwd()\n",
    "csv_files = glob.glob(os.path.join(path, \"*.csv\"))\n",
    "\n",
    "# Create DataFrame storing the demographic info \n",
    "col_names = ['Age', 'Sex', 'Race', 'Ethnicity', 'Date', 'PID', 'SurveyID', 'Email', 'CouplingCondition', 'PhantomCondition']\n",
    "demographic_info_df = pd.DataFrame(columns=col_names)\n",
    "\n",
    "for file in csv_files: \n",
    "    df = pd.read_csv(file)\n",
    "    # Check if first row contains demographic info\n",
    "                      \n",
    "    if((df[\"Gender\"][0] == \"Male\") or (df[\"Gender\"][0] == \"Female\") or (df[\"Gender\"][0] == \"Other\")): \n",
    "        Age = df[\"Age\"][0]\n",
    "        Sex = df[\"Gender\"][0]\n",
    "        Race = df[\"Race\"][0]\n",
    "        Ethnicity = df[\"Ethnicity\"][0]\n",
    "        Date = df[\"Date\"][0]\n",
    "        PID = df[\"User_PID\"][0]\n",
    "        SurveyID = df[\"Survey_ID\"][0]\n",
    "        Email = df[\"User_email\"][0]\n",
    "        CouplingCondition = df[\"Coupling\"][0]\n",
    "        PhantomCondition = df[\"Phantom_condition\"][0]\n",
    "        \n",
    "        demo_col = pd.DataFrame(data={'Age': Age, 'Sex': Sex, 'Race': Race, 'Ethnicity': Ethnicity, 'Date': Date, 'PID': PID, 'SurveyID': SurveyID, 'Email': Email, 'CouplingCondition': CouplingCondition,  'PhantomCondition': PhantomCondition}, index=range(1))\n",
    "        demographic_info_df = demographic_info_df.append(demo_col, ignore_index = True)\n",
    "    else: \n",
    "        print(\"Error: \" + str(file))\n",
    "\n",
    "demographic_info_df.head(40)\n"
   ]
  },
  {
   "cell_type": "code",
   "execution_count": 239,
   "id": "363732d7",
   "metadata": {},
   "outputs": [
    {
     "data": {
      "text/plain": [
       "(202, 10)"
      ]
     },
     "execution_count": 239,
     "metadata": {},
     "output_type": "execute_result"
    }
   ],
   "source": [
    "demographic_info_df[demographic_info_df[\"Sex\"] == \"Female\"].shape\n",
    "#.count()"
   ]
  },
  {
   "cell_type": "code",
   "execution_count": 8,
   "id": "b9250517",
   "metadata": {},
   "outputs": [
    {
     "name": "stdout",
     "output_type": "stream",
     "text": [
      "(27300, 13)\n"
     ]
    },
    {
     "data": {
      "text/html": [
       "<div>\n",
       "<style scoped>\n",
       "    .dataframe tbody tr th:only-of-type {\n",
       "        vertical-align: middle;\n",
       "    }\n",
       "\n",
       "    .dataframe tbody tr th {\n",
       "        vertical-align: top;\n",
       "    }\n",
       "\n",
       "    .dataframe thead th {\n",
       "        text-align: right;\n",
       "    }\n",
       "</style>\n",
       "<table border=\"1\" class=\"dataframe\">\n",
       "  <thead>\n",
       "    <tr style=\"text-align: right;\">\n",
       "      <th></th>\n",
       "      <th>Decoy</th>\n",
       "      <th>Item</th>\n",
       "      <th>Option_1</th>\n",
       "      <th>Option_2</th>\n",
       "      <th>Option_3</th>\n",
       "      <th>Choice</th>\n",
       "      <th>CatchTrials</th>\n",
       "      <th>Deliberation_RT</th>\n",
       "      <th>Choice_RT</th>\n",
       "      <th>Too_Slow</th>\n",
       "      <th>Survey_ID</th>\n",
       "      <th>CouplingCondition</th>\n",
       "      <th>PhantomCondition</th>\n",
       "    </tr>\n",
       "  </thead>\n",
       "  <tbody>\n",
       "    <tr>\n",
       "      <th>0</th>\n",
       "      <td>F</td>\n",
       "      <td>Kitchen Scale</td>\n",
       "      <td>A</td>\n",
       "      <td>C</td>\n",
       "      <td>B</td>\n",
       "      <td>C</td>\n",
       "      <td>NaN</td>\n",
       "      <td>10000</td>\n",
       "      <td>620</td>\n",
       "      <td>0</td>\n",
       "      <td>40781</td>\n",
       "      <td>High coupling</td>\n",
       "      <td>Highly_desirable</td>\n",
       "    </tr>\n",
       "    <tr>\n",
       "      <th>1</th>\n",
       "      <td>C</td>\n",
       "      <td>Baby crib</td>\n",
       "      <td>C_A</td>\n",
       "      <td>B</td>\n",
       "      <td>A</td>\n",
       "      <td>A</td>\n",
       "      <td>NaN</td>\n",
       "      <td>10000</td>\n",
       "      <td>389.0</td>\n",
       "      <td>0</td>\n",
       "      <td>40781</td>\n",
       "      <td>High coupling</td>\n",
       "      <td>Highly_desirable</td>\n",
       "    </tr>\n",
       "    <tr>\n",
       "      <th>2</th>\n",
       "      <td>S</td>\n",
       "      <td>Baby high chair</td>\n",
       "      <td>A</td>\n",
       "      <td>B</td>\n",
       "      <td>S_B</td>\n",
       "      <td>B</td>\n",
       "      <td>NaN</td>\n",
       "      <td>10000</td>\n",
       "      <td>761</td>\n",
       "      <td>0</td>\n",
       "      <td>40781</td>\n",
       "      <td>High coupling</td>\n",
       "      <td>Highly_desirable</td>\n",
       "    </tr>\n",
       "    <tr>\n",
       "      <th>3</th>\n",
       "      <td>A</td>\n",
       "      <td>Leaf Blower</td>\n",
       "      <td>A</td>\n",
       "      <td>B</td>\n",
       "      <td>A_B</td>\n",
       "      <td>A</td>\n",
       "      <td>NaN</td>\n",
       "      <td>10000</td>\n",
       "      <td>308</td>\n",
       "      <td>0</td>\n",
       "      <td>40781</td>\n",
       "      <td>High coupling</td>\n",
       "      <td>Highly_desirable</td>\n",
       "    </tr>\n",
       "    <tr>\n",
       "      <th>4</th>\n",
       "      <td>P</td>\n",
       "      <td>Wifi extender</td>\n",
       "      <td>A</td>\n",
       "      <td>B</td>\n",
       "      <td>P_B</td>\n",
       "      <td>A</td>\n",
       "      <td>NaN</td>\n",
       "      <td>10000</td>\n",
       "      <td>586.0</td>\n",
       "      <td>0</td>\n",
       "      <td>40781</td>\n",
       "      <td>High coupling</td>\n",
       "      <td>Highly_desirable</td>\n",
       "    </tr>\n",
       "    <tr>\n",
       "      <th>5</th>\n",
       "      <td>P</td>\n",
       "      <td>Electric mop</td>\n",
       "      <td>A</td>\n",
       "      <td>P_B</td>\n",
       "      <td>B</td>\n",
       "      <td>B</td>\n",
       "      <td>NaN</td>\n",
       "      <td>10000</td>\n",
       "      <td>451</td>\n",
       "      <td>0</td>\n",
       "      <td>40781</td>\n",
       "      <td>High coupling</td>\n",
       "      <td>Highly_desirable</td>\n",
       "    </tr>\n",
       "    <tr>\n",
       "      <th>6</th>\n",
       "      <td>C</td>\n",
       "      <td>Smart lock</td>\n",
       "      <td>C_B</td>\n",
       "      <td>A</td>\n",
       "      <td>B</td>\n",
       "      <td>B</td>\n",
       "      <td>NaN</td>\n",
       "      <td>10000</td>\n",
       "      <td>285.0</td>\n",
       "      <td>0</td>\n",
       "      <td>40781</td>\n",
       "      <td>High coupling</td>\n",
       "      <td>Highly_desirable</td>\n",
       "    </tr>\n",
       "    <tr>\n",
       "      <th>7</th>\n",
       "      <td>S</td>\n",
       "      <td>Air Fryer Oven</td>\n",
       "      <td>B</td>\n",
       "      <td>S_A</td>\n",
       "      <td>A</td>\n",
       "      <td>A</td>\n",
       "      <td>NaN</td>\n",
       "      <td>10000</td>\n",
       "      <td>301</td>\n",
       "      <td>0</td>\n",
       "      <td>40781</td>\n",
       "      <td>High coupling</td>\n",
       "      <td>Highly_desirable</td>\n",
       "    </tr>\n",
       "    <tr>\n",
       "      <th>8</th>\n",
       "      <td>F</td>\n",
       "      <td>Stun gun</td>\n",
       "      <td>B</td>\n",
       "      <td>A</td>\n",
       "      <td>C</td>\n",
       "      <td>B</td>\n",
       "      <td>NaN</td>\n",
       "      <td>10000</td>\n",
       "      <td>297</td>\n",
       "      <td>0</td>\n",
       "      <td>40781</td>\n",
       "      <td>High coupling</td>\n",
       "      <td>Highly_desirable</td>\n",
       "    </tr>\n",
       "    <tr>\n",
       "      <th>9</th>\n",
       "      <td>A</td>\n",
       "      <td>Smart bulb</td>\n",
       "      <td>A</td>\n",
       "      <td>B</td>\n",
       "      <td>A_A</td>\n",
       "      <td>A</td>\n",
       "      <td>NaN</td>\n",
       "      <td>10000</td>\n",
       "      <td>371</td>\n",
       "      <td>0</td>\n",
       "      <td>40781</td>\n",
       "      <td>High coupling</td>\n",
       "      <td>Highly_desirable</td>\n",
       "    </tr>\n",
       "  </tbody>\n",
       "</table>\n",
       "</div>"
      ],
      "text/plain": [
       "  Decoy             Item Option_1 Option_2 Option_3 Choice CatchTrials  \\\n",
       "0     F    Kitchen Scale        A        C        B      C         NaN   \n",
       "1     C        Baby crib      C_A        B        A      A         NaN   \n",
       "2     S  Baby high chair        A        B      S_B      B         NaN   \n",
       "3     A      Leaf Blower        A        B      A_B      A         NaN   \n",
       "4     P    Wifi extender        A        B      P_B      A         NaN   \n",
       "5     P     Electric mop        A      P_B        B      B         NaN   \n",
       "6     C       Smart lock      C_B        A        B      B         NaN   \n",
       "7     S   Air Fryer Oven        B      S_A        A      A         NaN   \n",
       "8     F         Stun gun        B        A        C      B         NaN   \n",
       "9     A       Smart bulb        A        B      A_A      A         NaN   \n",
       "\n",
       "  Deliberation_RT Choice_RT Too_Slow Survey_ID CouplingCondition  \\\n",
       "0           10000       620        0     40781     High coupling   \n",
       "1           10000     389.0        0     40781     High coupling   \n",
       "2           10000       761        0     40781     High coupling   \n",
       "3           10000       308        0     40781     High coupling   \n",
       "4           10000     586.0        0     40781     High coupling   \n",
       "5           10000       451        0     40781     High coupling   \n",
       "6           10000     285.0        0     40781     High coupling   \n",
       "7           10000       301        0     40781     High coupling   \n",
       "8           10000       297        0     40781     High coupling   \n",
       "9           10000       371        0     40781     High coupling   \n",
       "\n",
       "   PhantomCondition  \n",
       "0  Highly_desirable  \n",
       "1  Highly_desirable  \n",
       "2  Highly_desirable  \n",
       "3  Highly_desirable  \n",
       "4  Highly_desirable  \n",
       "5  Highly_desirable  \n",
       "6  Highly_desirable  \n",
       "7  Highly_desirable  \n",
       "8  Highly_desirable  \n",
       "9  Highly_desirable  "
      ]
     },
     "execution_count": 8,
     "metadata": {},
     "output_type": "execute_result"
    }
   ],
   "source": [
    "#Pre-process data \n",
    "\n",
    "all_responses = pd.DataFrame(columns=['Decoy', 'Item', 'Option_1', 'Option_2', 'Option_3', 'Choice', 'CatchTrials', 'Deliberation_RT', 'Choice_RT', 'Too_Slow'])\n",
    "\n",
    "for file in csv_files: \n",
    "    df = pd.read_csv(file)\n",
    "    Survey_ID = df[\"Survey_ID\"][0]\n",
    "    phantom_condition = df[\"Phantom_condition\"][0]\n",
    "    coupling_condition = df[\"Coupling\"][0]\n",
    "    \n",
    "    #Check shape of file\n",
    "    n, m = df.shape\n",
    "    for x in range(n):\n",
    "        # Select rows corresponding to choices.\n",
    "        if((df[\"User_email\"][x]!=\"C\") and (df[\"User_email\"][x]!=\"F\") and (df[\"User_email\"][x]!=\"A\") and (df[\"User_email\"][x]!=\"S\") and (df[\"User_email\"][x]!=\"P\")): #pd.isna(df[\"Item\"][x])\n",
    "            df.drop([x])\n",
    "        else: \n",
    "            decoy = df[\"User_email\"][x]\n",
    "            item = df[\"Gender\"][x]\n",
    "            Option_1 = df[\"Age\"][x]\n",
    "            Option_2 = df[\"Phantom_condition\"][x]\n",
    "            Option_3 = df[\"Race\"][x]\n",
    "            Choice = df[\"User_PID\"][x]\n",
    "            CatchTrials = df[\"Date\"][x]\n",
    "            Deliberation_RT = df[\"Survey_ID\"][x]\n",
    "            Choice_RT = df[\"Ethnicity\"][x]\n",
    "            Too_Slow = df[\"Coupling\"][x]\n",
    "            \n",
    "            demo_col = pd.DataFrame(data={'Decoy': decoy, 'Item': item, 'Option_1': Option_1, 'Option_2': Option_2, 'Option_3': Option_3, 'Choice': Choice, 'CatchTrials': CatchTrials, 'Deliberation_RT': Deliberation_RT, 'Choice_RT': Choice_RT, 'Too_Slow': Too_Slow, 'Survey_ID': Survey_ID, 'CouplingCondition': coupling_condition, 'PhantomCondition': phantom_condition}, index=range(1))\n",
    "            all_responses = all_responses.append(demo_col, ignore_index = True)\n",
    "\n",
    "print(all_responses.shape)\n",
    "all_responses.head(10)"
   ]
  },
  {
   "cell_type": "code",
   "execution_count": 9,
   "id": "b1da964c",
   "metadata": {},
   "outputs": [],
   "source": [
    "# Pre process RT data, turn 'str' to NaN, then remove NaN.\n",
    "all_responses[\"Choice_RT\"] = pd.to_numeric(all_responses[\"Choice_RT\"], errors='coerce')\n",
    "RT_df = all_responses[\"Choice_RT\"].dropna()\n",
    "RT_df = RT_df/1000"
   ]
  },
  {
   "cell_type": "code",
   "execution_count": 10,
   "id": "874b8a42",
   "metadata": {},
   "outputs": [],
   "source": [
    "#RT_df.head()"
   ]
  },
  {
   "cell_type": "code",
   "execution_count": 11,
   "id": "48807207",
   "metadata": {},
   "outputs": [
    {
     "name": "stdout",
     "output_type": "stream",
     "text": [
      "['40781' '40447' '41454' '37956' '34796' '44066' '33898' '37993' '33491'\n",
      " '38313' '36203' '36951' '39630' '40448' '34943' '39618' '40548' '38543'\n",
      " '34741' '40016' '39056' '40719' '33553' '38642' '43019' '41241' '41067'\n",
      " '38284' '36391' '44198' '32388' '30026' '40413' '30471' '40469' '35225'\n",
      " '38810' '40763' '36413' '39312' '37978' '40815' '36300' '36432' '43075'\n",
      " '38533' '39540' '36123' '32575' '40703' '34549' '34863' '43026' '37845'\n",
      " '36013' '28943' '38236' '40446' '41031' '38045' '29949' '42119' '42405'\n",
      " '39092' '41970' '40309' '41900' '43993' '42195' '42626' '37059' '37166'\n",
      " '33032' '35108' '37813' '38611' '42961' '32172' '35606' '39232' '41387'\n",
      " '42504' '32830' '31348' '32366' '35725' '35868' '34072' '31893' '32342'\n",
      " '40441' '33506' '41860' '34504' '40762' '40637' '42977' '39841' '41785'\n",
      " '44083' '37004' '43188' '32059' '35956' '37555' '33918' '30973' '43223'\n",
      " '35851' '36926' '40706' '41319' '37251' '42530' '35436' '40082' '35271'\n",
      " '39494' '42993' '42606' '34705' '44139' '38529' '37455' '35636' '27372'\n",
      " '43507' '36122' '43929' '34906' '27316' '42344' '38896' '41811' '36605'\n",
      " '33717' '31478' '40584' '37478' '39603' '39503' '43641' '31393' '42563'\n",
      " '39600' '41830' '44180' '33214' '32218' '44082' '36585' '28973' '36195'\n",
      " '41663' '39449' '42365' '38627' '36354' '44172' '40514' '43126' '38919'\n",
      " '27691' '42674' '33494' '36878' '40539' '37202' '32912' '36812' '41850'\n",
      " '35788' '41077' '38324' '42146' '40440' '41969' '40551' '41048' '34275'\n",
      " '42906' '33428' '38022' '41706' '40314' '40220' '40571' '38671' '36723'\n",
      " '26982' '36592' '42234' '33012' '34547' '35617' '43687' '37299' '35998'\n",
      " '39366' '41482' '43544' '37550' '43101' '41171' '39031' '44188' '30586'\n",
      " '35920' '35848' '35117' '36984' '40996' '30067' '31077' '43445' '28283'\n",
      " '32743' '41650' '43646' '42552' '41910' '41036' '35602' '40116' '40588'\n",
      " '36020' '33718' '37509' '32146' '36226' '37439' '44197' '43773' '39023'\n",
      " '41469' '39463' '41840' '38312' '42409' '44041' '31833' '41293' '40267'\n",
      " '42926' '43729' '40330' '43659' '32946' '39492' '35432' '42743' '43052'\n",
      " '31365' '32782' '34335' '31280' '33288' '41173' '42652' '40483' '36234'\n",
      " '44089' '39296' '27754' '31535' '37897' '42986' '42230' '40590' '32196'\n",
      " '42451' '33142' '31733']\n",
      "Total number of particiants: 273\n",
      "Total number of participants 'low coupling':132\n",
      "Total number of participants 'high coupling':141\n"
     ]
    }
   ],
   "source": [
    "Participants_PIDs = all_responses[\"Survey_ID\"].unique()\n",
    "total_n = int(len(Participants_PIDs))\n",
    "\n",
    "print(Participants_PIDs)\n",
    "print(\"Total number of particiants: \" + str(total_n))\n",
    "\n",
    "number_of_low_coupling = demographic_info_df[\"CouplingCondition\"].str.count(\"Low coupling\").sum()\n",
    "print(\"Total number of participants 'low coupling':\" + str(number_of_low_coupling))  \n",
    "\n",
    "number_of_high_coupling = demographic_info_df[\"CouplingCondition\"].str.count(\"High coupling\").sum()\n",
    "print(\"Total number of participants 'high coupling':\" + str(number_of_high_coupling))  "
   ]
  },
  {
   "cell_type": "markdown",
   "id": "63b3ac7f",
   "metadata": {},
   "source": [
    "## Participants RT"
   ]
  },
  {
   "cell_type": "code",
   "execution_count": 12,
   "id": "d02ce5ad",
   "metadata": {},
   "outputs": [
    {
     "name": "stdout",
     "output_type": "stream",
     "text": [
      "Group mean response time: 1.53 sec.\n"
     ]
    }
   ],
   "source": [
    "# Checking mean response time\n",
    "\n",
    "rt_mean = RT_df.mean()\n",
    "rt_mean = rt_mean#/1000\n",
    "\n",
    "print(\"Group mean response time: \" + str(round(rt_mean, 2)) + \" sec.\")"
   ]
  },
  {
   "cell_type": "code",
   "execution_count": 13,
   "id": "2c664701",
   "metadata": {},
   "outputs": [],
   "source": [
    "# Checking mean response time per participant \n",
    "\n",
    "group_rt_df = pd.DataFrame(columns=['PID', 'Mean_RT (sec)'])\n",
    "\n",
    "for x in Participants_PIDs:\n",
    "    participant_pid = str(x)\n",
    "    participant_rt = all_responses[all_responses[\"Survey_ID\"] == x][\"Choice_RT\"].apply(float).mean()/1000\n",
    "    participant_rt = round(participant_rt, 2)\n",
    "    current_p_df = pd.DataFrame(data={'PID': participant_pid, 'Mean_RT (sec)': participant_rt}, index=range(1))\n",
    "    group_rt_df = group_rt_df.append(current_p_df, ignore_index = True)\n",
    "\n",
    "#group_rt_df.head(40)"
   ]
  },
  {
   "cell_type": "code",
   "execution_count": 14,
   "id": "8842e825",
   "metadata": {},
   "outputs": [
    {
     "data": {
      "image/png": "[encoded data removed]",
      "text/plain": [
       "<Figure size 576x360 with 1 Axes>"
      ]
     },
     "metadata": {
      "needs_background": "light"
     },
     "output_type": "display_data"
    }
   ],
   "source": [
    "plt.subplots(figsize=(8, 5))\n",
    "plt.hist(RT_df, bins=700)\n",
    "plt.title('All choices RT')\n",
    "plt.xlabel('RT (sec)')\n",
    "plt.xlim(-.25, 20)\n",
    "plt.ylim(0, 28000)\n",
    "\n",
    "plt.show()\n"
   ]
  },
  {
   "cell_type": "code",
   "execution_count": 15,
   "id": "b16808cc",
   "metadata": {},
   "outputs": [
    {
     "data": {
      "image/png": "[encoded data removed]",
      "text/plain": [
       "<Figure size 576x360 with 1 Axes>"
      ]
     },
     "metadata": {
      "needs_background": "light"
     },
     "output_type": "display_data"
    }
   ],
   "source": [
    "plt.subplots(figsize=(8, 5))\n",
    "plt.hist(group_rt_df[\"Mean_RT (sec)\"], bins=10)\n",
    "plt.title('Participants Mean RT')\n",
    "plt.xlabel('Mean RT (sec)')\n",
    "plt.show()\n"
   ]
  },
  {
   "cell_type": "markdown",
   "id": "0afcd4fb",
   "metadata": {},
   "source": [
    "## Catch Trials "
   ]
  },
  {
   "cell_type": "code",
   "execution_count": 16,
   "id": "178fa37b",
   "metadata": {},
   "outputs": [
    {
     "name": "stdout",
     "output_type": "stream",
     "text": [
      "Total number of catch trials: 5460\n",
      "Total 'catch trials' correct: 3837\n",
      "Total 'catch trials' incorrect': 1623\n",
      "\n",
      " Correct trials avg: 70.0%\n",
      "\n",
      " Incorrect trials avg: 30.0%\n"
     ]
    }
   ],
   "source": [
    "# Checking filler/catch trials work as expected.\n",
    "\n",
    "filler_total = all_responses[all_responses[\"Decoy\"] ==\"F\"][\"Choice\"].count()\n",
    "filler_catch = all_responses[all_responses[\"Decoy\"] ==\"F\"][\"Choice\"].str.count(\"C\").sum()\n",
    "filler_miss = all_responses[all_responses[\"Decoy\"] ==\"F\"][\"Choice\"].str.count(\"B\").sum() + all_responses[all_responses[\"Decoy\"] ==\"F\"][\"Choice\"].str.count(\"A\").sum()\n",
    "print(\"Total number of catch trials: \" + str(filler_total))\n",
    "print(\"Total 'catch trials' correct: \" + str(filler_catch))\n",
    "print(\"Total 'catch trials' incorrect': \" + str(filler_miss))\n",
    "\n",
    "print(\"\\n Correct trials avg: \" + str(round(filler_catch/filler_total, 2)*100) + \"%\")\n",
    "print(\"\\n Incorrect trials avg: \" + str(round(filler_miss/filler_total, 2)*100) + \"%\")\n"
   ]
  },
  {
   "cell_type": "code",
   "execution_count": 17,
   "id": "29525916",
   "metadata": {},
   "outputs": [],
   "source": [
    "# Each participants catch trials info\n",
    "\n",
    "group_catch_df = pd.DataFrame(columns=['PID', 'Correct(num)', 'Incorrect(num)', 'Correct(%)', 'Incorrect(%)'])\n",
    "\n",
    "for x in Participants_PIDs:\n",
    "    participant_pid = str(x)\n",
    "    current_part_catch_df = all_responses[all_responses[\"Survey_ID\"] == x]\n",
    "    current_part_catch_df = current_part_catch_df[current_part_catch_df[\"Decoy\"] ==\"F\"]\n",
    "    current_part_total_trials = current_part_catch_df[\"Choice\"].count()\n",
    "    current_part_catch_freq = current_part_catch_df[\"Choice\"].str.count(\"C\").sum()\n",
    "    current_part_miss_freq = current_part_catch_df[\"Choice\"].str.count(\"B\").sum() + current_part_catch_df[\"Choice\"].str.count(\"A\").sum()\n",
    "    current_part_catch_perc = current_part_catch_freq/current_part_total_trials\n",
    "    current_part_miss_perc = current_part_miss_freq/current_part_total_trials\n",
    "    \n",
    "    current_p_df = pd.DataFrame(data={'PID': participant_pid, 'Correct(num)': current_part_catch_freq, \"Incorrect(num)\": current_part_miss_freq, \"Correct(%)\": current_part_catch_perc*100, \"Incorrect(%)\": current_part_miss_perc*100}, index=range(1))\n",
    "    group_catch_df = group_catch_df.append(current_p_df, ignore_index = True)\n",
    "    \n",
    "#group_catch_df.head(40)\n"
   ]
  },
  {
   "cell_type": "code",
   "execution_count": 18,
   "id": "64f51844",
   "metadata": {},
   "outputs": [
    {
     "data": {
      "image/png": "[encoded data removed]",
      "text/plain": [
       "<Figure size 576x360 with 1 Axes>"
      ]
     },
     "metadata": {
      "needs_background": "light"
     },
     "output_type": "display_data"
    }
   ],
   "source": [
    "plt.subplots(figsize=(8, 5))\n",
    "plt.hist(group_catch_df[\"Correct(%)\"], bins=20)\n",
    "plt.title('Histogram of % Correct Choices in Catch Trials')\n",
    "plt.xlabel('% of Correct Choices')\n",
    "plt.xlim(10, 100)\n",
    "plt.show()\n"
   ]
  },
  {
   "cell_type": "code",
   "execution_count": 19,
   "id": "a4d13395",
   "metadata": {},
   "outputs": [
    {
     "data": {
      "text/html": [
       "<div>\n",
       "<style scoped>\n",
       "    .dataframe tbody tr th:only-of-type {\n",
       "        vertical-align: middle;\n",
       "    }\n",
       "\n",
       "    .dataframe tbody tr th {\n",
       "        vertical-align: top;\n",
       "    }\n",
       "\n",
       "    .dataframe thead th {\n",
       "        text-align: right;\n",
       "    }\n",
       "</style>\n",
       "<table border=\"1\" class=\"dataframe\">\n",
       "  <thead>\n",
       "    <tr style=\"text-align: right;\">\n",
       "      <th></th>\n",
       "      <th>Item</th>\n",
       "      <th>Correct(num)</th>\n",
       "      <th>Incorrect(num)</th>\n",
       "      <th>Correct(%)</th>\n",
       "      <th>Incorrect(%)</th>\n",
       "      <th>Times_Encountered</th>\n",
       "    </tr>\n",
       "  </thead>\n",
       "  <tbody>\n",
       "    <tr>\n",
       "      <th>0</th>\n",
       "      <td>Kitchen Scale</td>\n",
       "      <td>165</td>\n",
       "      <td>94</td>\n",
       "      <td>64.0</td>\n",
       "      <td>36.0</td>\n",
       "      <td>259</td>\n",
       "    </tr>\n",
       "    <tr>\n",
       "      <th>1</th>\n",
       "      <td>Stun gun</td>\n",
       "      <td>170</td>\n",
       "      <td>107</td>\n",
       "      <td>61.0</td>\n",
       "      <td>39.0</td>\n",
       "      <td>277</td>\n",
       "    </tr>\n",
       "    <tr>\n",
       "      <th>2</th>\n",
       "      <td>Hearing aid</td>\n",
       "      <td>187</td>\n",
       "      <td>88</td>\n",
       "      <td>68.0</td>\n",
       "      <td>32.0</td>\n",
       "      <td>275</td>\n",
       "    </tr>\n",
       "    <tr>\n",
       "      <th>3</th>\n",
       "      <td>Alarm clock</td>\n",
       "      <td>184</td>\n",
       "      <td>84</td>\n",
       "      <td>69.0</td>\n",
       "      <td>31.0</td>\n",
       "      <td>268</td>\n",
       "    </tr>\n",
       "    <tr>\n",
       "      <th>4</th>\n",
       "      <td>Megaphone</td>\n",
       "      <td>198</td>\n",
       "      <td>63</td>\n",
       "      <td>76.0</td>\n",
       "      <td>24.0</td>\n",
       "      <td>261</td>\n",
       "    </tr>\n",
       "    <tr>\n",
       "      <th>5</th>\n",
       "      <td>Thermometer gun</td>\n",
       "      <td>211</td>\n",
       "      <td>60</td>\n",
       "      <td>78.0</td>\n",
       "      <td>22.0</td>\n",
       "      <td>271</td>\n",
       "    </tr>\n",
       "    <tr>\n",
       "      <th>6</th>\n",
       "      <td>Outdoor TV antenna</td>\n",
       "      <td>201</td>\n",
       "      <td>72</td>\n",
       "      <td>74.0</td>\n",
       "      <td>26.0</td>\n",
       "      <td>273</td>\n",
       "    </tr>\n",
       "    <tr>\n",
       "      <th>7</th>\n",
       "      <td>Wagon cart</td>\n",
       "      <td>180</td>\n",
       "      <td>85</td>\n",
       "      <td>68.0</td>\n",
       "      <td>32.0</td>\n",
       "      <td>265</td>\n",
       "    </tr>\n",
       "    <tr>\n",
       "      <th>8</th>\n",
       "      <td>Baby rocker</td>\n",
       "      <td>205</td>\n",
       "      <td>56</td>\n",
       "      <td>79.0</td>\n",
       "      <td>21.0</td>\n",
       "      <td>261</td>\n",
       "    </tr>\n",
       "    <tr>\n",
       "      <th>9</th>\n",
       "      <td>Inflatable baby pool</td>\n",
       "      <td>207</td>\n",
       "      <td>74</td>\n",
       "      <td>74.0</td>\n",
       "      <td>26.0</td>\n",
       "      <td>281</td>\n",
       "    </tr>\n",
       "    <tr>\n",
       "      <th>10</th>\n",
       "      <td>Pepper spray</td>\n",
       "      <td>208</td>\n",
       "      <td>82</td>\n",
       "      <td>72.0</td>\n",
       "      <td>28.0</td>\n",
       "      <td>290</td>\n",
       "    </tr>\n",
       "    <tr>\n",
       "      <th>11</th>\n",
       "      <td>LED strip lights</td>\n",
       "      <td>214</td>\n",
       "      <td>71</td>\n",
       "      <td>75.0</td>\n",
       "      <td>25.0</td>\n",
       "      <td>285</td>\n",
       "    </tr>\n",
       "    <tr>\n",
       "      <th>12</th>\n",
       "      <td>Automatic pet feeder</td>\n",
       "      <td>189</td>\n",
       "      <td>90</td>\n",
       "      <td>68.0</td>\n",
       "      <td>32.0</td>\n",
       "      <td>279</td>\n",
       "    </tr>\n",
       "    <tr>\n",
       "      <th>13</th>\n",
       "      <td>Electric kettle</td>\n",
       "      <td>181</td>\n",
       "      <td>79</td>\n",
       "      <td>70.0</td>\n",
       "      <td>30.0</td>\n",
       "      <td>260</td>\n",
       "    </tr>\n",
       "    <tr>\n",
       "      <th>14</th>\n",
       "      <td>Cordless home phone</td>\n",
       "      <td>220</td>\n",
       "      <td>53</td>\n",
       "      <td>81.0</td>\n",
       "      <td>19.0</td>\n",
       "      <td>273</td>\n",
       "    </tr>\n",
       "    <tr>\n",
       "      <th>15</th>\n",
       "      <td>Protein powder</td>\n",
       "      <td>180</td>\n",
       "      <td>92</td>\n",
       "      <td>66.0</td>\n",
       "      <td>34.0</td>\n",
       "      <td>272</td>\n",
       "    </tr>\n",
       "    <tr>\n",
       "      <th>16</th>\n",
       "      <td>Garbage disposal</td>\n",
       "      <td>191</td>\n",
       "      <td>69</td>\n",
       "      <td>73.0</td>\n",
       "      <td>27.0</td>\n",
       "      <td>260</td>\n",
       "    </tr>\n",
       "    <tr>\n",
       "      <th>17</th>\n",
       "      <td>Rechargeable AA batteries</td>\n",
       "      <td>183</td>\n",
       "      <td>111</td>\n",
       "      <td>62.0</td>\n",
       "      <td>38.0</td>\n",
       "      <td>294</td>\n",
       "    </tr>\n",
       "    <tr>\n",
       "      <th>18</th>\n",
       "      <td>Fire extinguisher</td>\n",
       "      <td>167</td>\n",
       "      <td>102</td>\n",
       "      <td>62.0</td>\n",
       "      <td>38.0</td>\n",
       "      <td>269</td>\n",
       "    </tr>\n",
       "    <tr>\n",
       "      <th>19</th>\n",
       "      <td>Microwave</td>\n",
       "      <td>196</td>\n",
       "      <td>91</td>\n",
       "      <td>68.0</td>\n",
       "      <td>32.0</td>\n",
       "      <td>287</td>\n",
       "    </tr>\n",
       "  </tbody>\n",
       "</table>\n",
       "</div>"
      ],
      "text/plain": [
       "                         Item Correct(num) Incorrect(num)  Correct(%)  \\\n",
       "0               Kitchen Scale          165             94        64.0   \n",
       "1                    Stun gun          170            107        61.0   \n",
       "2                 Hearing aid          187             88        68.0   \n",
       "3                 Alarm clock          184             84        69.0   \n",
       "4                   Megaphone          198             63        76.0   \n",
       "5             Thermometer gun          211             60        78.0   \n",
       "6          Outdoor TV antenna          201             72        74.0   \n",
       "7                  Wagon cart          180             85        68.0   \n",
       "8                 Baby rocker          205             56        79.0   \n",
       "9        Inflatable baby pool          207             74        74.0   \n",
       "10               Pepper spray          208             82        72.0   \n",
       "11           LED strip lights          214             71        75.0   \n",
       "12       Automatic pet feeder          189             90        68.0   \n",
       "13            Electric kettle          181             79        70.0   \n",
       "14        Cordless home phone          220             53        81.0   \n",
       "15             Protein powder          180             92        66.0   \n",
       "16           Garbage disposal          191             69        73.0   \n",
       "17  Rechargeable AA batteries          183            111        62.0   \n",
       "18          Fire extinguisher          167            102        62.0   \n",
       "19                  Microwave          196             91        68.0   \n",
       "\n",
       "    Incorrect(%) Times_Encountered  \n",
       "0           36.0               259  \n",
       "1           39.0               277  \n",
       "2           32.0               275  \n",
       "3           31.0               268  \n",
       "4           24.0               261  \n",
       "5           22.0               271  \n",
       "6           26.0               273  \n",
       "7           32.0               265  \n",
       "8           21.0               261  \n",
       "9           26.0               281  \n",
       "10          28.0               290  \n",
       "11          25.0               285  \n",
       "12          32.0               279  \n",
       "13          30.0               260  \n",
       "14          19.0               273  \n",
       "15          34.0               272  \n",
       "16          27.0               260  \n",
       "17          38.0               294  \n",
       "18          38.0               269  \n",
       "19          32.0               287  "
      ]
     },
     "execution_count": 19,
     "metadata": {},
     "output_type": "execute_result"
    }
   ],
   "source": [
    "catch_items_df = all_responses[all_responses[\"Decoy\"] ==\"F\"]\n",
    "catch_summary_df = pd.DataFrame(columns=['Item', 'Correct(num)', 'Incorrect(num)', 'Correct(%)', 'Incorrect(%)', \"Times_Encountered\"])\n",
    "\n",
    "catch_items_list = catch_items_df[\"Item\"].unique()\n",
    "\n",
    "for item in catch_items_list: \n",
    "    \n",
    "    current_item_catch_df = catch_items_df[catch_items_df[\"Item\"] == item]\n",
    "    times_encountered = current_item_catch_df[\"Choice\"].count()\n",
    "    current_item_catch_freq = current_item_catch_df[\"Choice\"].str.count(\"C\").sum()\n",
    "    current_item_miss_freq = current_item_catch_df[\"Choice\"].str.count(\"B\").sum() + current_item_catch_df[\"Choice\"].str.count(\"A\").sum()\n",
    "    current_item_catch_perc = current_item_catch_freq/times_encountered\n",
    "    current_item_miss_perc = current_item_miss_freq/times_encountered\n",
    "    \n",
    "    current_item_catch_perc = np.round(current_item_catch_perc, 2)\n",
    "    current_item_miss_perc = np.round(current_item_miss_perc, 2)\n",
    "    \n",
    "    current_i_df = pd.DataFrame(data={'Item': item, 'Correct(num)': current_item_catch_freq, \"Incorrect(num)\": current_item_miss_freq, \"Correct(%)\": current_item_catch_perc*100, \"Incorrect(%)\": current_item_miss_perc*100, \"Times_Encountered\":times_encountered}, index=range(1))\n",
    "    catch_summary_df = catch_summary_df.append(current_i_df, ignore_index = True)\n",
    "\n",
    "catch_summary_df.head(20)"
   ]
  },
  {
   "cell_type": "markdown",
   "id": "ee9bb3e0",
   "metadata": {},
   "source": [
    "### Filter/remove participants with Correct(%) < 80"
   ]
  },
  {
   "cell_type": "code",
   "execution_count": 20,
   "id": "a822ee03",
   "metadata": {},
   "outputs": [
    {
     "name": "stdout",
     "output_type": "stream",
     "text": [
      "Participants to filter out: ['37956' '38313' '36203' '36951' '40448' '34943' '40548' '38543' '40016'\n",
      " '40719' '38642' '43019' '32388' '30471' '40469' '35225' '40763' '36413'\n",
      " '39312' '40815' '43075' '38533' '39540' '36123' '32575' '40703' '34549'\n",
      " '34863' '37845' '38236' '38045' '42119' '41970' '43993' '42195' '42626'\n",
      " '33032' '37813' '38611' '35606' '41387' '32830' '31348' '32366' '31893'\n",
      " '32342' '34504' '40762' '42977' '41785' '44083' '37004' '32059' '33918'\n",
      " '30973' '36926' '40706' '42530' '35436' '40082' '42993' '42606' '34705'\n",
      " '44139' '37455' '35636' '43929' '27316' '38896' '41811' '36605' '33717'\n",
      " '31478' '40584' '39603' '39503' '31393' '42563' '33214' '32218' '28973'\n",
      " '39449' '38627' '43126' '38919' '27691' '42674' '32912' '41850' '35788'\n",
      " '41077' '38324' '40440' '41048' '42906' '38022' '41706' '40220' '40571'\n",
      " '38671' '36723' '26982' '36592' '33012' '34547' '35617' '37299' '39366'\n",
      " '39031' '44188' '35920' '40996' '31077' '28283' '41650' '43646' '41910'\n",
      " '41036' '40588' '37509' '32146' '36226' '44197' '43773' '39023' '42409'\n",
      " '44041' '41293' '40267' '42926' '43729' '40330' '43659' '35432' '42743'\n",
      " '31365' '34335' '33288' '41173' '42652' '36234' '39296' '27754' '42230'\n",
      " '32196' '42451' '33142' '31733']\n"
     ]
    }
   ],
   "source": [
    "participants_to_filter_out = group_catch_df[group_catch_df[\"Correct(%)\"] < 80][\"PID\"].unique()\n",
    "\n",
    "print(\"Participants to filter out: \" +  str(participants_to_filter_out))"
   ]
  },
  {
   "cell_type": "code",
   "execution_count": 21,
   "id": "31ddf6ee",
   "metadata": {},
   "outputs": [],
   "source": [
    "all_responses = all_responses[all_responses.Survey_ID.isin(participants_to_filter_out) == False]\n"
   ]
  },
  {
   "cell_type": "code",
   "execution_count": 22,
   "id": "56656461",
   "metadata": {},
   "outputs": [
    {
     "name": "stdout",
     "output_type": "stream",
     "text": [
      "Total number of particiants: 125\n",
      "['40781' '40447' '41454' '34796' '44066' '33898' '37993' '33491' '39630'\n",
      " '39618' '34741' '39056' '33553' '41241' '41067' '38284' '36391' '44198'\n",
      " '30026' '40413' '38810' '37978' '36300' '36432' '43026' '36013' '28943'\n",
      " '40446' '41031' '29949' '42405' '39092' '40309' '41900' '37059' '37166'\n",
      " '35108' '42961' '32172' '39232' '42504' '35725' '35868' '34072' '40441'\n",
      " '33506' '41860' '40637' '39841' '43188' '35956' '37555' '43223' '35851'\n",
      " '41319' '37251' '35271' '39494' '38529' '27372' '43507' '36122' '34906'\n",
      " '42344' '37478' '43641' '39600' '41830' '44180' '44082' '36585' '36195'\n",
      " '41663' '42365' '36354' '44172' '40514' '33494' '36878' '40539' '37202'\n",
      " '36812' '42146' '41969' '40551' '34275' '33428' '40314' '42234' '43687'\n",
      " '35998' '41482' '43544' '37550' '43101' '41171' '30586' '35848' '35117'\n",
      " '36984' '30067' '43445' '32743' '42552' '35602' '40116' '36020' '33718'\n",
      " '37439' '41469' '39463' '41840' '38312' '31833' '32946' '39492' '43052'\n",
      " '32782' '31280' '40483' '44089' '31535' '37897' '42986' '40590']\n"
     ]
    }
   ],
   "source": [
    "Participants_PIDs = all_responses[\"Survey_ID\"].unique()\n",
    "total_n = int(len(Participants_PIDs))\n",
    "\n",
    "print(\"Total number of particiants: \" + str(total_n))\n",
    "print(Participants_PIDs)"
   ]
  },
  {
   "cell_type": "code",
   "execution_count": 23,
   "id": "8cf63cd3",
   "metadata": {},
   "outputs": [
    {
     "name": "stdout",
     "output_type": "stream",
     "text": [
      "Total number of participants in 'Highly Desirable': 40\n",
      "Total number of participants in 'Weakly Desirable': 46\n",
      "Total number of participants in 'Undesirable': 39\n"
     ]
    }
   ],
   "source": [
    "# Get the number of participants for each phantom condition.\n",
    "\n",
    "decoy_P_df = all_responses[all_responses[\"Decoy\"] == \"P\"]\n",
    "decoy_P_HD_df = decoy_P_df[decoy_P_df[\"PhantomCondition\"] == \"Highly_desirable\"].reset_index()\n",
    "decoy_P_WD_df = decoy_P_df[decoy_P_df[\"PhantomCondition\"] == \"Weakly_desirable\"].reset_index()\n",
    "decoy_P_U_df = decoy_P_df[decoy_P_df[\"PhantomCondition\"] == \"Undesirable\"].reset_index()\n",
    "Phantom_HD_part_total = decoy_P_HD_df[\"Survey_ID\"].unique()\n",
    "Phantom_WD_part_total = decoy_P_WD_df[\"Survey_ID\"].unique()\n",
    "Phantom_U_part_total = decoy_P_U_df[\"Survey_ID\"].unique()\n",
    "\n",
    "number_of_HD = int(len(Phantom_HD_part_total))\n",
    "number_of_WD = int(len(Phantom_WD_part_total))\n",
    "number_of_U = int(len(Phantom_U_part_total))\n",
    "\n",
    "print(\"Total number of participants in 'Highly Desirable': \" + str(int(len(Phantom_HD_part_total))))\n",
    "print(\"Total number of participants in 'Weakly Desirable': \" + str(int(len(Phantom_WD_part_total))))\n",
    "print(\"Total number of participants in 'Undesirable': \" + str(int(len(Phantom_U_part_total))))"
   ]
  },
  {
   "cell_type": "markdown",
   "id": "dac44a1a",
   "metadata": {},
   "source": [
    "## Displaying Decoys in space"
   ]
  },
  {
   "cell_type": "code",
   "execution_count": 236,
   "id": "3231c103",
   "metadata": {
    "scrolled": false
   },
   "outputs": [
    {
     "data": {
      "image/png": "[encoded data removed]",
      "text/plain": [
       "<Figure size 432x432 with 1 Axes>"
      ]
     },
     "metadata": {},
     "output_type": "display_data"
    },
    {
     "data": {
      "text/plain": [
       "'\\nH1: PC1 indicates that similarity effect diminished attraction and compromise effect. \\nH2 (not mutually exclusive): PC2 suggests higher convexity can lead to larger compromise effect but smaller\\nattraction and similarity effects.\\n'"
      ]
     },
     "execution_count": 236,
     "metadata": {},
     "output_type": "execute_result"
    }
   ],
   "source": [
    "x = np.array([14, 16, 14, 16.8, 14, 15, 13.8, 16.2, 12, 18])\n",
    "y = np.array([18, 12, 20.4, 12, 15, 12, 18.6, 11.4, 24, 6])\n",
    "\n",
    "#x1 = np.array([14, 16, 13.8, 16.2, 12, 18])\n",
    "x1 = np.array([0, 20])\n",
    "#y1 = np.array([18, 12, 18.6, 11.4, 24, 6])\n",
    "y1 = np.array([60, 0])\n",
    "\n",
    "fig, ax = plt.subplots(figsize=(6, 6))\n",
    "\n",
    "#\"$Y_{axis}$\"\n",
    "\n",
    "\n",
    "ax.scatter(x, y, s=45, alpha=.75)\n",
    "ax.annotate(\"A\", (x[0]+.1, y[0]+.1), size=12.5)\n",
    "ax.annotate(\"B\", (x[1]+.1, y[1]+.1), size=12.5)\n",
    "ax.annotate(\"$P_{A}$\", (x[2]+.1, y[2]+.1), size=12.5)\n",
    "ax.annotate(\"$P_{B}$\", (x[3]+.1, y[3]+.1), size=12.5)\n",
    "ax.annotate(\"$A_{A}$\", (x[4]+.1, y[4]+.1), size=12.5)\n",
    "ax.annotate(\"$A_{B}$\", (x[5]+.1, y[5]+.1), size=12.5)\n",
    "ax.annotate(\"$S_{A}$\", (x[6]-.3, y[6]-.7), size=12.5)\n",
    "ax.annotate(\"$S_{B}$\", (x[7]-.3, y[7]-.8), size=12.5)\n",
    "ax.annotate(\"$C_{A}$\", (x[8]+.1, y[8]+.1), size=12.5)\n",
    "ax.annotate(\"$C_{B}$\", (x[9]+.1, y[9]+.1), size=12.5)\n",
    "ax.plot(x1, y1, color='0.75', linestyle='dashed')\n",
    "\n",
    "ax.set_xlim(11, 19)\n",
    "ax.set_ylim(4, 25.4)\n",
    "ax.set_xticks([])\n",
    "ax.set_yticks([])\n",
    "ax.set_ylabel('Dimension 2', size=14)\n",
    "ax.set_xlabel('Dimension 1', size=14)\n",
    "plt.show()\n",
    "\n",
    "\n",
    "\"\"\"\n",
    "H1: PC1 indicates that similarity effect diminished attraction and compromise effect. \n",
    "H2 (not mutually exclusive): PC2 suggests higher convexity can lead to larger compromise effect but smaller\n",
    "attraction and similarity effects.\n",
    "\"\"\""
   ]
  },
  {
   "cell_type": "code",
   "execution_count": null,
   "id": "afc3ce9e",
   "metadata": {},
   "outputs": [],
   "source": [
    "x = np.array([14, 16, 14, 16.8, 14, 15, 13.8, 16.2, 12, 18])\n",
    "y = np.array([18, 12, 20.4, 12, 15, 12, 18.6, 11.4, 24, 6])\n",
    "\n",
    "decoy_figure_df = pd.DataFrame({'D1': x,\n",
    "                           'D2': y}) \n",
    "\n",
    "fig, ax = plt.subplots(figsize=(5, 5))\n",
    "\n",
    "sns.scatterplot(data=decoy_figure_df, x=\"D1\", y=\"D2\", sizes=(100, 100))\n",
    "#decoys_display =\n",
    "#decoys_display.set(ylim=(4, 25.4))\n",
    "#decoys_display.set(xlim=(11, 19))\n",
    "\n",
    "ax.set_xlim(11, 19)\n",
    "ax.set_ylim(4, 25.4)\n",
    "\n",
    "plt.show()"
   ]
  },
  {
   "cell_type": "markdown",
   "id": "d5ab4057",
   "metadata": {},
   "source": [
    "## Similarity Decoy"
   ]
  },
  {
   "cell_type": "code",
   "execution_count": 25,
   "id": "6f13de8f",
   "metadata": {},
   "outputs": [],
   "source": [
    "def get_decoy_stats(df, kind, participants_num):\n",
    "    \n",
    "    mean_i = round(df[kind].mean(), 2)\n",
    "    std_i = df[kind].std()\n",
    "    sem_i = round((std_i/np.sqrt(participants_num)), 2)\n",
    "    \n",
    "    return mean_i, std_i, sem_i"
   ]
  },
  {
   "cell_type": "code",
   "execution_count": 26,
   "id": "7f4ebefb",
   "metadata": {},
   "outputs": [
    {
     "data": {
      "text/html": [
       "<div>\n",
       "<style scoped>\n",
       "    .dataframe tbody tr th:only-of-type {\n",
       "        vertical-align: middle;\n",
       "    }\n",
       "\n",
       "    .dataframe tbody tr th {\n",
       "        vertical-align: top;\n",
       "    }\n",
       "\n",
       "    .dataframe thead th {\n",
       "        text-align: right;\n",
       "    }\n",
       "</style>\n",
       "<table border=\"1\" class=\"dataframe\">\n",
       "  <thead>\n",
       "    <tr style=\"text-align: right;\">\n",
       "      <th></th>\n",
       "      <th>Target mean(%)</th>\n",
       "      <th>Target sem(%)</th>\n",
       "      <th>Comp mean(%)</th>\n",
       "      <th>Comp sem(%)</th>\n",
       "      <th>Decoy mean(%)</th>\n",
       "      <th>Decoy sem(%)</th>\n",
       "    </tr>\n",
       "  </thead>\n",
       "  <tbody>\n",
       "    <tr>\n",
       "      <th>All</th>\n",
       "      <td>53.94</td>\n",
       "      <td>1.56</td>\n",
       "      <td>22.57</td>\n",
       "      <td>1.16</td>\n",
       "      <td>23.49</td>\n",
       "      <td>1.02</td>\n",
       "    </tr>\n",
       "    <tr>\n",
       "      <th>LowCoupling</th>\n",
       "      <td>53.86</td>\n",
       "      <td>1.53</td>\n",
       "      <td>22.95</td>\n",
       "      <td>1.08</td>\n",
       "      <td>23.19</td>\n",
       "      <td>1.05</td>\n",
       "    </tr>\n",
       "    <tr>\n",
       "      <th>HighCoupling</th>\n",
       "      <td>54.02</td>\n",
       "      <td>1.48</td>\n",
       "      <td>22.21</td>\n",
       "      <td>1.14</td>\n",
       "      <td>23.77</td>\n",
       "      <td>0.92</td>\n",
       "    </tr>\n",
       "    <tr>\n",
       "      <th>HighlyDesirable</th>\n",
       "      <td>56.07</td>\n",
       "      <td>2.43</td>\n",
       "      <td>21.25</td>\n",
       "      <td>1.74</td>\n",
       "      <td>22.68</td>\n",
       "      <td>1.84</td>\n",
       "    </tr>\n",
       "    <tr>\n",
       "      <th>WeaklyDesirable</th>\n",
       "      <td>53.42</td>\n",
       "      <td>3.02</td>\n",
       "      <td>22.67</td>\n",
       "      <td>1.94</td>\n",
       "      <td>23.91</td>\n",
       "      <td>1.74</td>\n",
       "    </tr>\n",
       "    <tr>\n",
       "      <th>Undesirable</th>\n",
       "      <td>52.38</td>\n",
       "      <td>2.54</td>\n",
       "      <td>23.81</td>\n",
       "      <td>2.34</td>\n",
       "      <td>23.81</td>\n",
       "      <td>1.77</td>\n",
       "    </tr>\n",
       "  </tbody>\n",
       "</table>\n",
       "</div>"
      ],
      "text/plain": [
       "                 Target mean(%)  Target sem(%)  Comp mean(%)  Comp sem(%)  \\\n",
       "All                       53.94           1.56         22.57         1.16   \n",
       "LowCoupling               53.86           1.53         22.95         1.08   \n",
       "HighCoupling              54.02           1.48         22.21         1.14   \n",
       "HighlyDesirable           56.07           2.43         21.25         1.74   \n",
       "WeaklyDesirable           53.42           3.02         22.67         1.94   \n",
       "Undesirable               52.38           2.54         23.81         2.34   \n",
       "\n",
       "                 Decoy mean(%)  Decoy sem(%)  \n",
       "All                      23.49          1.02  \n",
       "LowCoupling              23.19          1.05  \n",
       "HighCoupling             23.77          0.92  \n",
       "HighlyDesirable          22.68          1.84  \n",
       "WeaklyDesirable          23.91          1.74  \n",
       "Undesirable              23.81          1.77  "
      ]
     },
     "execution_count": 26,
     "metadata": {},
     "output_type": "execute_result"
    }
   ],
   "source": [
    "decoy_S_df = all_responses[all_responses[\"Decoy\"] == \"S\"]\n",
    "\n",
    "# Filter out biased items.\n",
    "similarity_biased_items = [\"Baby high chair\", \"Metal detector\", \"Vacuum\"]\n",
    "decoy_S_df = decoy_S_df[~decoy_S_df.Item.isin(similarity_biased_items) == True]\n",
    "# Removing biased items increases \"Target(%)\" \n",
    "\n",
    "decoy_S_df_LowC = decoy_S_df[decoy_S_df[\"CouplingCondition\"] == \"Low coupling\"]\n",
    "decoy_S_df_HighC = decoy_S_df[decoy_S_df[\"CouplingCondition\"] == \"High coupling\"]\n",
    "decoy_S_HD_df = decoy_S_df[decoy_S_df[\"PhantomCondition\"] == \"Highly_desirable\"]\n",
    "decoy_S_WD_df = decoy_S_df[decoy_S_df[\"PhantomCondition\"] == \"Weakly_desirable\"]\n",
    "decoy_S_U_df = decoy_S_df[decoy_S_df[\"PhantomCondition\"] == \"Undesirable\"]\n",
    "\n",
    "decoy_S_df = decoy_S_df.reset_index()\n",
    "decoy_S_df_LowC = decoy_S_df_LowC.reset_index()\n",
    "decoy_S_df_HighC = decoy_S_df_HighC.reset_index()\n",
    "decoy_S_HD_df = decoy_S_HD_df.reset_index()\n",
    "decoy_S_WD_df = decoy_S_WD_df.reset_index()\n",
    "decoy_S_U_df = decoy_S_U_df.reset_index()\n",
    "\n",
    "group_sim_freq_df = partFreq_Decoy(decoy_S_df, \"Sim_Decoy\")\n",
    "group_sim_freq_with_condition_df = partFreq_DecoyWCondition(decoy_S_df, \"Sim_Decoy\")\n",
    "group_sim_freq_df_LowC = partFreq_Decoy(decoy_S_df_LowC, \"Sim_Decoy\")\n",
    "group_sim_freq_df_HighC = partFreq_Decoy(decoy_S_df_HighC, \"Sim_Decoy\")\n",
    "group_sim_HD_freq_df = partFreq_Decoy(decoy_S_HD_df, \"Sim_Decoy\")\n",
    "group_sim_WD_freq_df = partFreq_Decoy(decoy_S_WD_df, \"Sim_Decoy\")\n",
    "group_sim_U_freq_df = partFreq_Decoy(decoy_S_U_df, \"Sim_Decoy\")\n",
    "\n",
    "# Get mean, std, and sem for all participatns.\n",
    "target_S_mean, target_S_std, target_S_sem = get_decoy_stats(group_sim_freq_df, \"Target(%)\", total_n)\n",
    "competitor_S_mean, competitor_S_std, competitor_S_sem = get_decoy_stats(group_sim_freq_df, \"Competitor(%)\", total_n)\n",
    "decoy_S_mean, decoy_S_std, decoy_S_sem = get_decoy_stats(group_sim_freq_df, \"Sim_Decoy(%)\", total_n)\n",
    "\n",
    "# Get mean, std, and sem for 'Low coupling' participatns.\n",
    "target_S_LowC_mean, target_S_LowC_std, target_S_LowC_sem = get_decoy_stats(group_sim_freq_df_LowC, \"Target(%)\", number_of_low_coupling)\n",
    "competitor_S_LowC_mean, competitor_S_LowC_std, competitor_S_LowC_sem = get_decoy_stats(group_sim_freq_df_LowC, \"Competitor(%)\", number_of_low_coupling)\n",
    "decoy_S_LowC_mean, decoy_S_LowC_std, decoy_S_LowC_sem = get_decoy_stats(group_sim_freq_df_LowC, \"Sim_Decoy(%)\", number_of_low_coupling)\n",
    "\n",
    "# Get mean, std, and sem for 'High coupling' participatns.\n",
    "target_S_HighC_mean, target_S_HighC_std, target_S_HighC_sem = get_decoy_stats(group_sim_freq_df_HighC, \"Target(%)\", number_of_high_coupling)\n",
    "competitor_S_HighC_mean, competitor_S_HighC_std, competitor_S_HighC_sem = get_decoy_stats(group_sim_freq_df_HighC, \"Competitor(%)\", number_of_high_coupling)\n",
    "decoy_S_HighC_mean, decoy_S_HighC_std, decoy_S_HighC_sem = get_decoy_stats(group_sim_freq_df_HighC, \"Sim_Decoy(%)\", number_of_high_coupling)\n",
    "\n",
    "# Get mean, std, and sem for 'Highly desirable' participatns.\n",
    "target_S_HD_mean, target_S_HD_std, target_S_HD_sem = get_decoy_stats(group_sim_HD_freq_df, \"Target(%)\", number_of_HD)\n",
    "competitor_S_HD_mean, competitor_S_HD_std, competitor_S_HD_sem = get_decoy_stats(group_sim_HD_freq_df, \"Competitor(%)\", number_of_HD)\n",
    "decoy_S_HD_mean, decoy_S_HD_std, decoy_S_HD_sem = get_decoy_stats(group_sim_HD_freq_df, \"Sim_Decoy(%)\", number_of_HD)\n",
    "\n",
    "# Get mean, std, and sem for 'Weakly desirable' participatns.\n",
    "target_S_WD_mean, target_S_WD_std, target_S_WD_sem = get_decoy_stats(group_sim_WD_freq_df, \"Target(%)\", number_of_WD)\n",
    "competitor_S_WD_mean, competitor_S_WD_std, competitor_S_WD_sem = get_decoy_stats(group_sim_WD_freq_df, \"Competitor(%)\", number_of_WD)\n",
    "decoy_S_WD_mean, decoy_S_WD_std, decoy_S_WD_sem = get_decoy_stats(group_sim_WD_freq_df, \"Sim_Decoy(%)\", number_of_WD)\n",
    "\n",
    "# Get mean, std, and sem for 'Undesirable' participatns.\n",
    "target_S_U_mean, target_S_U_std, target_S_U_sem = get_decoy_stats(group_sim_U_freq_df, \"Target(%)\", number_of_U)\n",
    "competitor_S_U_mean, competitor_S_U_std, competitor_S_U_sem = get_decoy_stats(group_sim_U_freq_df, \"Competitor(%)\", number_of_U)\n",
    "decoy_S_U_mean, decoy_S_U_std, decoy_S_U_sem = get_decoy_stats(group_sim_U_freq_df, \"Sim_Decoy(%)\", number_of_U)\n",
    "\n",
    "# Show info for all groups.\n",
    "Sim_summary_df = pd.DataFrame({'Target mean(%)': [target_S_mean, target_S_LowC_mean, target_S_HighC_mean, target_S_HD_mean, target_S_WD_mean, target_S_U_mean],\n",
    "                  'Target sem(%)': [target_S_sem, target_S_LowC_sem, target_S_HighC_sem, target_S_HD_sem, target_S_WD_sem, target_S_U_sem],\n",
    "                  'Comp mean(%)': [competitor_S_mean, competitor_S_LowC_mean, competitor_S_HighC_mean, competitor_S_HD_mean, competitor_S_WD_mean, competitor_S_U_mean],\n",
    "                  'Comp sem(%)': [competitor_S_sem, competitor_S_LowC_sem, competitor_S_HighC_sem, competitor_S_HD_sem, competitor_S_WD_sem, competitor_S_U_sem],\n",
    "                  'Decoy mean(%)': [decoy_S_mean, decoy_S_LowC_mean, decoy_S_HighC_mean, decoy_S_HD_mean, decoy_S_WD_mean, decoy_S_U_mean],\n",
    "                  'Decoy sem(%)': [decoy_S_sem, decoy_S_LowC_sem, decoy_S_HighC_sem, decoy_S_HD_sem, decoy_S_WD_sem, decoy_S_U_sem]},\n",
    "                  index=[\"All\", \"LowCoupling\", \"HighCoupling\", \"HighlyDesirable\", \"WeaklyDesirable\", \"Undesirable\"])\n",
    "\n",
    "Sim_summary_df.head(6)\n"
   ]
  },
  {
   "cell_type": "code",
   "execution_count": 27,
   "id": "8ff28483",
   "metadata": {},
   "outputs": [
    {
     "data": {
      "image/png": "[encoded data removed]",
      "text/plain": [
       "<Figure size 1008x360 with 3 Axes>"
      ]
     },
     "metadata": {
      "needs_background": "light"
     },
     "output_type": "display_data"
    }
   ],
   "source": [
    "sim_decoy_mean_perc = np.array([target_S_mean, competitor_S_mean, decoy_S_mean])\n",
    "sim_decoy_sems = np.array([target_S_sem, competitor_S_sem, decoy_S_sem])\n",
    "\n",
    "sim_decoy_mean_perc_LC = np.array([target_S_LowC_mean, competitor_S_LowC_mean, decoy_S_LowC_mean])\n",
    "sim_decoy_sems_LC = np.array([target_S_LowC_sem, competitor_S_LowC_sem, decoy_S_LowC_sem])\n",
    "\n",
    "sim_decoy_mean_perc_HC = np.array([target_S_HighC_mean, competitor_S_HighC_mean, decoy_S_HighC_mean])\n",
    "sim_decoy_sems_HC = np.array([target_S_HighC_sem, competitor_S_HighC_sem, decoy_S_HighC_sem])\n",
    "\n",
    "barGraphDecoys3(sim_decoy_mean_perc, sim_decoy_sems, 'Similarity Decoy (All)', sim_decoy_mean_perc_LC, sim_decoy_sems_LC, 'Similarity Decoy (LC)', sim_decoy_mean_perc_HC, sim_decoy_sems_HC, 'Similarity Decoy (HC)')\n"
   ]
  },
  {
   "cell_type": "code",
   "execution_count": 28,
   "id": "4e6d1569",
   "metadata": {},
   "outputs": [],
   "source": [
    "#sim_decoy_mean_perc_HD = np.array([target_S_HD_mean, competitor_S_HD_mean, decoy_S_HD_mean])\n",
    "#sim_decoy_sems_HD = np.array([target_S_HD_sem, competitor_S_HD_sem, decoy_S_HD_sem])\n",
    "\n",
    "#sim_decoy_mean_perc_WD = np.array([target_S_WD_mean, competitor_S_WD_mean, decoy_S_WD_mean])\n",
    "#sim_decoy_sems_WD = np.array([target_S_WD_sem, competitor_S_WD_sem, decoy_S_WD_sem])\n",
    "\n",
    "#sim_decoy_mean_perc_U = np.array([target_S_U_mean, competitor_S_U_mean, decoy_S_U_mean])\n",
    "#sim_decoy_sems_U = np.array([target_S_U_sem, competitor_S_U_sem, decoy_S_U_sem])\n",
    "\n",
    "#barGraphDecoys3(sim_decoy_mean_perc_HD, sim_decoy_sems_HD, 'Similarity Decoy (HD)', sim_decoy_mean_perc_WD, sim_decoy_sems_WD, 'Similarity Decoy (WD)', sim_decoy_mean_perc_U, sim_decoy_sems_U, 'Similarity Decoy (U)')"
   ]
  },
  {
   "cell_type": "markdown",
   "id": "b4e43ee7",
   "metadata": {},
   "source": [
    "### Stat Analysis (Similarity Decoy)"
   ]
  },
  {
   "cell_type": "code",
   "execution_count": 29,
   "id": "b1c699e5",
   "metadata": {},
   "outputs": [
    {
     "name": "stdout",
     "output_type": "stream",
     "text": [
      "p_sim_coup: 0.6080650732806911\n",
      "SimDecoy High & Low Coupling: \n",
      " t-stat: -0.049\n",
      " p-value: 0.961\n",
      " df: 123.0\n"
     ]
    }
   ],
   "source": [
    "#Check if the two samples have the same variance.\n",
    "stat_sim_coup, p_sim_coup = stats.levene(group_sim_freq_df_LowC[\"Target(%)\"], group_sim_freq_df_HighC[\"Target(%)\"])\n",
    "\n",
    "print(\"p_sim_coup: \" + str(p_sim_coup))\n",
    "    \n",
    "#Perform two sample t-test with equal variances\n",
    "Sim_ttest_results = ttest_ind(group_sim_freq_df_LowC[\"Target(%)\"], group_sim_freq_df_HighC[\"Target(%)\"], alternative=\"two-sided\", usevar=\"pooled\")\n",
    "\n",
    "print(\"SimDecoy High & Low Coupling: \" + \"\\n t-stat: \" + str(round(Sim_ttest_results[0], 3)) + \"\\n p-value: \" + str(round(Sim_ttest_results[1], 3)) + \"\\n df: \" + str(round(Sim_ttest_results[2], 3)))\n"
   ]
  },
  {
   "cell_type": "code",
   "execution_count": 30,
   "id": "bcdacc4d",
   "metadata": {},
   "outputs": [
    {
     "name": "stdout",
     "output_type": "stream",
     "text": [
      "                     df        sum_sq     mean_sq         F    PR(>F)\n",
      "PhantomCondition    2.0    289.136350  144.568175  0.468896  0.626815\n",
      "Residual          122.0  37614.537119  308.315878       NaN       NaN\n"
     ]
    }
   ],
   "source": [
    "# One-way ANOVA w/ statsmodels\n",
    "SimDecoy_PhanC_lm = ols('Target_perc ~ PhantomCondition', data=group_sim_freq_with_condition_df).fit()\n",
    "\n",
    "SimDecoy_PhanC_table = sm.stats.anova_lm(SimDecoy_PhanC_lm)\n",
    "\n",
    "print(SimDecoy_PhanC_table)"
   ]
  },
  {
   "cell_type": "markdown",
   "id": "04ba59a0",
   "metadata": {},
   "source": [
    "## Compromise Decoy"
   ]
  },
  {
   "cell_type": "code",
   "execution_count": 31,
   "id": "fcf5d3e9",
   "metadata": {},
   "outputs": [
    {
     "data": {
      "text/html": [
       "<div>\n",
       "<style scoped>\n",
       "    .dataframe tbody tr th:only-of-type {\n",
       "        vertical-align: middle;\n",
       "    }\n",
       "\n",
       "    .dataframe tbody tr th {\n",
       "        vertical-align: top;\n",
       "    }\n",
       "\n",
       "    .dataframe thead th {\n",
       "        text-align: right;\n",
       "    }\n",
       "</style>\n",
       "<table border=\"1\" class=\"dataframe\">\n",
       "  <thead>\n",
       "    <tr style=\"text-align: right;\">\n",
       "      <th></th>\n",
       "      <th>Target mean(%)</th>\n",
       "      <th>Target sem(%)</th>\n",
       "      <th>Comp mean(%)</th>\n",
       "      <th>Comp sem(%)</th>\n",
       "      <th>Decoy mean(%)</th>\n",
       "      <th>Decoy sem(%)</th>\n",
       "    </tr>\n",
       "  </thead>\n",
       "  <tbody>\n",
       "    <tr>\n",
       "      <th>All</th>\n",
       "      <td>66.40</td>\n",
       "      <td>1.60</td>\n",
       "      <td>22.60</td>\n",
       "      <td>1.08</td>\n",
       "      <td>11.00</td>\n",
       "      <td>0.85</td>\n",
       "    </tr>\n",
       "    <tr>\n",
       "      <th>LowCoupling</th>\n",
       "      <td>67.62</td>\n",
       "      <td>1.47</td>\n",
       "      <td>21.21</td>\n",
       "      <td>0.95</td>\n",
       "      <td>11.17</td>\n",
       "      <td>0.87</td>\n",
       "    </tr>\n",
       "    <tr>\n",
       "      <th>HighCoupling</th>\n",
       "      <td>65.23</td>\n",
       "      <td>1.59</td>\n",
       "      <td>23.93</td>\n",
       "      <td>1.10</td>\n",
       "      <td>10.84</td>\n",
       "      <td>0.77</td>\n",
       "    </tr>\n",
       "    <tr>\n",
       "      <th>HighlyDesirable</th>\n",
       "      <td>67.34</td>\n",
       "      <td>2.40</td>\n",
       "      <td>22.19</td>\n",
       "      <td>1.78</td>\n",
       "      <td>10.47</td>\n",
       "      <td>1.27</td>\n",
       "    </tr>\n",
       "    <tr>\n",
       "      <th>WeaklyDesirable</th>\n",
       "      <td>67.26</td>\n",
       "      <td>2.78</td>\n",
       "      <td>22.55</td>\n",
       "      <td>1.99</td>\n",
       "      <td>10.19</td>\n",
       "      <td>1.35</td>\n",
       "    </tr>\n",
       "    <tr>\n",
       "      <th>Undesirable</th>\n",
       "      <td>64.42</td>\n",
       "      <td>3.13</td>\n",
       "      <td>23.08</td>\n",
       "      <td>1.82</td>\n",
       "      <td>12.50</td>\n",
       "      <td>1.81</td>\n",
       "    </tr>\n",
       "  </tbody>\n",
       "</table>\n",
       "</div>"
      ],
      "text/plain": [
       "                 Target mean(%)  Target sem(%)  Comp mean(%)  Comp sem(%)  \\\n",
       "All                       66.40           1.60         22.60         1.08   \n",
       "LowCoupling               67.62           1.47         21.21         0.95   \n",
       "HighCoupling              65.23           1.59         23.93         1.10   \n",
       "HighlyDesirable           67.34           2.40         22.19         1.78   \n",
       "WeaklyDesirable           67.26           2.78         22.55         1.99   \n",
       "Undesirable               64.42           3.13         23.08         1.82   \n",
       "\n",
       "                 Decoy mean(%)  Decoy sem(%)  \n",
       "All                      11.00          0.85  \n",
       "LowCoupling              11.17          0.87  \n",
       "HighCoupling             10.84          0.77  \n",
       "HighlyDesirable          10.47          1.27  \n",
       "WeaklyDesirable          10.19          1.35  \n",
       "Undesirable              12.50          1.81  "
      ]
     },
     "execution_count": 31,
     "metadata": {},
     "output_type": "execute_result"
    }
   ],
   "source": [
    "decoy_C_df = all_responses[all_responses[\"Decoy\"] == \"C\"]\n",
    "\n",
    "# Filter out biased items.\n",
    "compromise_biased_items = [\"Mobility scooter\", \"Smart lock\"]\n",
    "decoy_C_df = decoy_C_df[~decoy_C_df.Item.isin(compromise_biased_items) == True]\n",
    "# Removing items makes compromise effect stronger.\n",
    "\n",
    "decoy_C_df_LowC = decoy_C_df[decoy_C_df[\"CouplingCondition\"] == \"Low coupling\"]\n",
    "decoy_C_df_HighC = decoy_C_df[decoy_C_df[\"CouplingCondition\"] == \"High coupling\"]\n",
    "decoy_C_HD_df = decoy_C_df[decoy_C_df[\"PhantomCondition\"] == \"Highly_desirable\"]\n",
    "decoy_C_WD_df = decoy_C_df[decoy_C_df[\"PhantomCondition\"] == \"Weakly_desirable\"]\n",
    "decoy_C_U_df = decoy_C_df[decoy_C_df[\"PhantomCondition\"] == \"Undesirable\"]\n",
    "\n",
    "decoy_C_df = decoy_C_df.reset_index()\n",
    "decoy_C_df_LowC = decoy_C_df_LowC.reset_index()\n",
    "decoy_C_df_HighC = decoy_C_df_HighC.reset_index()\n",
    "decoy_C_HD_df = decoy_C_HD_df.reset_index()\n",
    "decoy_C_WD_df = decoy_C_WD_df.reset_index()\n",
    "decoy_C_U_df = decoy_C_U_df.reset_index()\n",
    "\n",
    "group_com_freq_df = partFreq_Decoy(decoy_C_df, \"Com_Decoy\")\n",
    "group_com_freq_with_condition_df = partFreq_DecoyWCondition(decoy_C_df, \"Com_Decoy\")\n",
    "group_com_freq_df_LowC = partFreq_Decoy(decoy_C_df_LowC, \"Com_Decoy\")\n",
    "group_com_freq_df_HighC = partFreq_Decoy(decoy_C_df_HighC, \"Com_Decoy\")\n",
    "group_com_freq_HD_df = partFreq_Decoy(decoy_C_HD_df, \"Com_Decoy\")\n",
    "group_com_freq_WD_df = partFreq_Decoy(decoy_C_WD_df, \"Com_Decoy\")\n",
    "group_com_freq_U_df = partFreq_Decoy(decoy_C_U_df, \"Com_Decoy\")\n",
    "\n",
    "# Get mean, std, and sem for all participatns.\n",
    "target_C_mean, target_C_std, target_C_sem = get_decoy_stats(group_com_freq_df, \"Target(%)\", total_n)\n",
    "competitor_C_mean, competitor_C_std, competitor_C_sem = get_decoy_stats(group_com_freq_df, \"Competitor(%)\", total_n)\n",
    "decoy_C_mean, decoy_C_std, decoy_C_sem = get_decoy_stats(group_com_freq_df, \"Com_Decoy(%)\", total_n)\n",
    "\n",
    "# Get mean, std, and sem for 'Low coupling' participatns.\n",
    "target_C_LowC_mean, target_C_LowC_std, target_C_LowC_sem = get_decoy_stats(group_com_freq_df_LowC, \"Target(%)\", number_of_low_coupling)\n",
    "competitor_C_LowC_mean, competitor_C_LowC_std, competitor_C_LowC_sem = get_decoy_stats(group_com_freq_df_LowC, \"Competitor(%)\", number_of_low_coupling)\n",
    "decoy_C_LowC_mean, decoy_C_LowC_std, decoy_C_LowC_sem = get_decoy_stats(group_com_freq_df_LowC, \"Com_Decoy(%)\", number_of_low_coupling)\n",
    "\n",
    "# Get mean, std, and sem for 'High coupling' participatns.\n",
    "target_C_HighC_mean, target_C_HighC_std, target_C_HighC_sem = get_decoy_stats(group_com_freq_df_HighC, \"Target(%)\", number_of_high_coupling)\n",
    "competitor_C_HighC_mean, competitor_C_HighC_std, competitor_C_HighC_sem = get_decoy_stats(group_com_freq_df_HighC, \"Competitor(%)\", number_of_high_coupling)\n",
    "decoy_C_HighC_mean, decoy_C_HighC_std, decoy_C_HighC_sem = get_decoy_stats(group_com_freq_df_HighC, \"Com_Decoy(%)\", number_of_high_coupling)\n",
    "\n",
    "# Get mean, std, and sem for 'Highly desirable' participatns.\n",
    "target_C_HD_mean, target_C_HD_std, target_C_HD_sem = get_decoy_stats(group_com_freq_HD_df, \"Target(%)\", number_of_HD)\n",
    "competitor_C_HD_mean, competitor_C_HD_std, competitor_C_HD_sem = get_decoy_stats(group_com_freq_HD_df, \"Competitor(%)\", number_of_HD)\n",
    "decoy_C_HD_mean, decoy_C_HD_std, decoy_C_HD_sem = get_decoy_stats(group_com_freq_HD_df, \"Com_Decoy(%)\", number_of_HD)\n",
    "\n",
    "# Get mean, std, and sem for 'Weakly desirable' participatns.\n",
    "target_C_WD_mean, target_C_WD_std, target_C_WD_sem = get_decoy_stats(group_com_freq_WD_df, \"Target(%)\", number_of_WD)\n",
    "competitor_C_WD_mean, competitor_C_WD_std, competitor_C_WD_sem = get_decoy_stats(group_com_freq_WD_df, \"Competitor(%)\", number_of_WD)\n",
    "decoy_C_WD_mean, decoy_C_WD_std, decoy_C_WD_sem = get_decoy_stats(group_com_freq_WD_df, \"Com_Decoy(%)\", number_of_WD)\n",
    "\n",
    "# Get mean, std, and sem for 'Undesirable' participatns.\n",
    "target_C_U_mean, target_C_U_std, target_C_U_sem = get_decoy_stats(group_com_freq_U_df, \"Target(%)\", number_of_U)\n",
    "competitor_C_U_mean, competitor_C_U_std, competitor_C_U_sem = get_decoy_stats(group_com_freq_U_df, \"Competitor(%)\", number_of_U)\n",
    "decoy_C_U_mean, decoy_C_U_std, decoy_C_U_sem = get_decoy_stats(group_com_freq_U_df, \"Com_Decoy(%)\", number_of_U)\n",
    "\n",
    "# Show info for all groups.\n",
    "Com_summary_df = pd.DataFrame({'Target mean(%)': [target_C_mean, target_C_LowC_mean, target_C_HighC_mean, target_C_HD_mean, target_C_WD_mean, target_C_U_mean],\n",
    "                  'Target sem(%)': [target_C_sem, target_C_LowC_sem, target_C_HighC_sem, target_C_HD_sem, target_C_WD_sem, target_C_U_sem],\n",
    "                  'Comp mean(%)': [competitor_C_mean, competitor_C_LowC_mean, competitor_C_HighC_mean, competitor_C_HD_mean, competitor_C_WD_mean, competitor_C_U_mean],\n",
    "                  'Comp sem(%)': [competitor_C_sem, competitor_C_LowC_sem, competitor_C_HighC_sem, competitor_C_HD_sem, competitor_C_WD_sem, competitor_C_U_sem],\n",
    "                  'Decoy mean(%)': [decoy_C_mean, decoy_C_LowC_mean, decoy_C_HighC_mean, decoy_C_HD_mean, decoy_C_WD_mean, decoy_C_U_mean],\n",
    "                  'Decoy sem(%)': [decoy_C_sem, decoy_C_LowC_sem, decoy_C_HighC_sem, decoy_C_HD_sem, decoy_C_WD_sem, decoy_C_U_sem]},\n",
    "                  index=[\"All\", \"LowCoupling\", \"HighCoupling\", \"HighlyDesirable\", \"WeaklyDesirable\", \"Undesirable\"])\n",
    "\n",
    "Com_summary_df.head(6)"
   ]
  },
  {
   "cell_type": "code",
   "execution_count": 32,
   "id": "f69a7eaf",
   "metadata": {},
   "outputs": [
    {
     "data": {
      "image/png": "[encoded data removed]",
      "text/plain": [
       "<Figure size 1008x360 with 3 Axes>"
      ]
     },
     "metadata": {
      "needs_background": "light"
     },
     "output_type": "display_data"
    }
   ],
   "source": [
    "com_decoy_mean_perc = np.array([target_C_mean, competitor_C_mean, decoy_C_mean])\n",
    "com_decoy_sems = np.array([target_C_sem, competitor_C_sem, decoy_C_sem])\n",
    "\n",
    "com_decoy_mean_perc_LC = np.array([target_C_LowC_mean, competitor_C_LowC_mean, decoy_C_LowC_mean])\n",
    "com_decoy_sems_LC = np.array([target_C_LowC_sem, competitor_C_LowC_sem, decoy_C_LowC_sem])\n",
    "\n",
    "com_decoy_mean_perc_HC = np.array([target_C_HighC_mean, competitor_C_HighC_mean, decoy_C_HighC_mean])\n",
    "com_decoy_sems_HC = np.array([target_C_HighC_sem, competitor_C_HighC_sem, decoy_C_HighC_sem])\n",
    "\n",
    "barGraphDecoys3(com_decoy_mean_perc, com_decoy_sems, 'Compromise Decoy (All)', com_decoy_mean_perc_LC, com_decoy_sems_LC, 'Compromise Decoy (LC)', com_decoy_mean_perc_HC, com_decoy_sems_HC, 'Compromise Decoy (HC)')\n"
   ]
  },
  {
   "cell_type": "code",
   "execution_count": 33,
   "id": "614f2aa9",
   "metadata": {},
   "outputs": [],
   "source": [
    "#com_decoy_mean_perc_HD = np.array([target_C_HD_mean, competitor_C_HD_mean, decoy_C_HD_mean])\n",
    "#com_decoy_sems_HD = np.array([target_C_HD_sem, competitor_C_HD_sem, decoy_C_HD_sem])\n",
    "\n",
    "#com_decoy_mean_perc_WD = np.array([target_C_WD_mean, competitor_C_WD_mean, decoy_C_WD_mean])\n",
    "#com_decoy_sems_WD = np.array([target_C_WD_sem, competitor_C_WD_sem, decoy_C_WD_sem])\n",
    "\n",
    "#com_decoy_mean_perc_U = np.array([target_C_U_mean, competitor_C_U_mean, decoy_C_U_mean])\n",
    "#com_decoy_sems_U = np.array([target_C_U_sem, competitor_C_U_sem, decoy_C_U_sem])\n",
    "\n",
    "#barGraphDecoys3(com_decoy_mean_perc_HD, com_decoy_sems_HD, 'Compromise Decoy (HD)', com_decoy_mean_perc_WD, com_decoy_sems_WD, 'Compromise Decoy (WD)', com_decoy_mean_perc_U, com_decoy_sems_U, 'Compromise Decoy (U)')\n"
   ]
  },
  {
   "cell_type": "markdown",
   "id": "d747adc7",
   "metadata": {},
   "source": [
    "### Stat Analysis (Compromise Decoy)"
   ]
  },
  {
   "cell_type": "code",
   "execution_count": 34,
   "id": "2290edc0",
   "metadata": {},
   "outputs": [
    {
     "name": "stdout",
     "output_type": "stream",
     "text": [
      "p_com_coup: 0.2027372448910749\n",
      "ComDecoy High & Low Coupling: \n",
      " t-stat: 0.744\n",
      " p-value: 0.459\n",
      " df: 123.0\n"
     ]
    }
   ],
   "source": [
    "#Check if the two samples have the same variance.\n",
    "stat_com_coup, p_com_coup = stats.levene(group_com_freq_df_LowC[\"Target(%)\"], group_com_freq_df_HighC[\"Target(%)\"])\n",
    "\n",
    "print(\"p_com_coup: \" + str(p_com_coup))\n",
    "    \n",
    "#Perform two sample t-test with equal variances\n",
    "Com_ttest_results = ttest_ind(group_com_freq_df_LowC[\"Target(%)\"], group_com_freq_df_HighC[\"Target(%)\"], alternative=\"two-sided\", usevar=\"pooled\")\n",
    "\n",
    "print(\"ComDecoy High & Low Coupling: \" + \"\\n t-stat: \" + str(round(Com_ttest_results[0], 3)) + \"\\n p-value: \" + str(round(Com_ttest_results[1], 3)) + \"\\n df: \" + str(round(Com_ttest_results[2], 3)))\n"
   ]
  },
  {
   "cell_type": "code",
   "execution_count": 35,
   "id": "4174b314",
   "metadata": {},
   "outputs": [
    {
     "name": "stdout",
     "output_type": "stream",
     "text": [
      "                     df       sum_sq     mean_sq         F   PR(>F)\n",
      "PhantomCondition    2.0    221.70869  110.854345  0.341557  0.71134\n",
      "Residual          122.0  39595.79131  324.555666       NaN      NaN\n"
     ]
    }
   ],
   "source": [
    "# One-way ANOVA w/ statsmodels\n",
    "ComDecoy_PhanC_lm = ols('Target_perc ~ PhantomCondition', data=group_com_freq_with_condition_df).fit()\n",
    "\n",
    "ComDecoy_PhanC_table = sm.stats.anova_lm(ComDecoy_PhanC_lm)\n",
    "\n",
    "print(ComDecoy_PhanC_table)"
   ]
  },
  {
   "cell_type": "markdown",
   "id": "2ae1fa56",
   "metadata": {},
   "source": [
    "## Attraction Decoy"
   ]
  },
  {
   "cell_type": "code",
   "execution_count": 36,
   "id": "18826857",
   "metadata": {},
   "outputs": [
    {
     "data": {
      "text/html": [
       "<div>\n",
       "<style scoped>\n",
       "    .dataframe tbody tr th:only-of-type {\n",
       "        vertical-align: middle;\n",
       "    }\n",
       "\n",
       "    .dataframe tbody tr th {\n",
       "        vertical-align: top;\n",
       "    }\n",
       "\n",
       "    .dataframe thead th {\n",
       "        text-align: right;\n",
       "    }\n",
       "</style>\n",
       "<table border=\"1\" class=\"dataframe\">\n",
       "  <thead>\n",
       "    <tr style=\"text-align: right;\">\n",
       "      <th></th>\n",
       "      <th>Target mean(%)</th>\n",
       "      <th>Target sem(%)</th>\n",
       "      <th>Comp mean(%)</th>\n",
       "      <th>Comp sem(%)</th>\n",
       "      <th>Decoy mean(%)</th>\n",
       "      <th>Decoy sem(%)</th>\n",
       "    </tr>\n",
       "  </thead>\n",
       "  <tbody>\n",
       "    <tr>\n",
       "      <th>All</th>\n",
       "      <td>61.28</td>\n",
       "      <td>1.57</td>\n",
       "      <td>26.88</td>\n",
       "      <td>1.37</td>\n",
       "      <td>11.84</td>\n",
       "      <td>1.19</td>\n",
       "    </tr>\n",
       "    <tr>\n",
       "      <th>LowCoupling</th>\n",
       "      <td>60.00</td>\n",
       "      <td>1.68</td>\n",
       "      <td>27.38</td>\n",
       "      <td>1.34</td>\n",
       "      <td>12.62</td>\n",
       "      <td>1.38</td>\n",
       "    </tr>\n",
       "    <tr>\n",
       "      <th>HighCoupling</th>\n",
       "      <td>62.50</td>\n",
       "      <td>1.33</td>\n",
       "      <td>26.41</td>\n",
       "      <td>1.30</td>\n",
       "      <td>11.09</td>\n",
       "      <td>0.88</td>\n",
       "    </tr>\n",
       "    <tr>\n",
       "      <th>HighlyDesirable</th>\n",
       "      <td>62.75</td>\n",
       "      <td>2.82</td>\n",
       "      <td>25.50</td>\n",
       "      <td>2.40</td>\n",
       "      <td>11.75</td>\n",
       "      <td>1.68</td>\n",
       "    </tr>\n",
       "    <tr>\n",
       "      <th>WeaklyDesirable</th>\n",
       "      <td>58.91</td>\n",
       "      <td>2.70</td>\n",
       "      <td>26.52</td>\n",
       "      <td>2.43</td>\n",
       "      <td>14.57</td>\n",
       "      <td>2.50</td>\n",
       "    </tr>\n",
       "    <tr>\n",
       "      <th>Undesirable</th>\n",
       "      <td>62.56</td>\n",
       "      <td>2.67</td>\n",
       "      <td>28.72</td>\n",
       "      <td>2.30</td>\n",
       "      <td>8.72</td>\n",
       "      <td>1.65</td>\n",
       "    </tr>\n",
       "  </tbody>\n",
       "</table>\n",
       "</div>"
      ],
      "text/plain": [
       "                 Target mean(%)  Target sem(%)  Comp mean(%)  Comp sem(%)  \\\n",
       "All                       61.28           1.57         26.88         1.37   \n",
       "LowCoupling               60.00           1.68         27.38         1.34   \n",
       "HighCoupling              62.50           1.33         26.41         1.30   \n",
       "HighlyDesirable           62.75           2.82         25.50         2.40   \n",
       "WeaklyDesirable           58.91           2.70         26.52         2.43   \n",
       "Undesirable               62.56           2.67         28.72         2.30   \n",
       "\n",
       "                 Decoy mean(%)  Decoy sem(%)  \n",
       "All                      11.84          1.19  \n",
       "LowCoupling              12.62          1.38  \n",
       "HighCoupling             11.09          0.88  \n",
       "HighlyDesirable          11.75          1.68  \n",
       "WeaklyDesirable          14.57          2.50  \n",
       "Undesirable               8.72          1.65  "
      ]
     },
     "execution_count": 36,
     "metadata": {},
     "output_type": "execute_result"
    }
   ],
   "source": [
    "decoy_A_df = all_responses[all_responses[\"Decoy\"] == \"A\"]\n",
    "\n",
    "# Filter out biased items.\n",
    "attraction_biased_items = [\"Car seat\", \"Leaf Blower\", \"Rash cream\", \"Slow cooker\", \"Tire inflator\"]\n",
    "decoy_A_df = decoy_A_df[~decoy_A_df.Item.isin(attraction_biased_items) == True]\n",
    "# Filtering out biased items increases a bit attraction effect.\n",
    "\n",
    "decoy_A_df_LowC = decoy_A_df[decoy_A_df[\"CouplingCondition\"] == \"Low coupling\"]\n",
    "decoy_A_df_HighC = decoy_A_df[decoy_A_df[\"CouplingCondition\"] == \"High coupling\"]\n",
    "decoy_A_HD_df = decoy_A_df[decoy_A_df[\"PhantomCondition\"] == \"Highly_desirable\"]\n",
    "decoy_A_WD_df = decoy_A_df[decoy_A_df[\"PhantomCondition\"] == \"Weakly_desirable\"]\n",
    "decoy_A_U_df = decoy_A_df[decoy_A_df[\"PhantomCondition\"] == \"Undesirable\"]\n",
    "\n",
    "decoy_A_df = decoy_A_df.reset_index()\n",
    "decoy_A_df_LowC = decoy_A_df_LowC.reset_index()\n",
    "decoy_A_df_HighC = decoy_A_df_HighC.reset_index()\n",
    "decoy_A_HD_df = decoy_A_HD_df.reset_index()\n",
    "decoy_A_WD_df = decoy_A_WD_df.reset_index()\n",
    "decoy_A_U_df = decoy_A_U_df.reset_index()\n",
    "\n",
    "group_att_freq_df = partFreq_Decoy(decoy_A_df, \"Att_Decoy\")\n",
    "group_att_freq_with_condition_df = partFreq_DecoyWCondition(decoy_A_df, \"Att_Decoy\")\n",
    "group_att_freq_df_LowC = partFreq_Decoy(decoy_A_df_LowC, \"Att_Decoy\")\n",
    "group_att_freq_df_HighC = partFreq_Decoy(decoy_A_df_HighC, \"Att_Decoy\")\n",
    "group_att_freq_HD_df = partFreq_Decoy(decoy_A_HD_df, \"Att_Decoy\")\n",
    "group_att_freq_WD_df = partFreq_Decoy(decoy_A_WD_df, \"Att_Decoy\")\n",
    "group_att_freq_U_df = partFreq_Decoy(decoy_A_U_df, \"Att_Decoy\")\n",
    "\n",
    "# Get mean, std, and sem for all participatns.\n",
    "target_A_mean, target_A_std, target_A_sem = get_decoy_stats(group_att_freq_df, \"Target(%)\", total_n)\n",
    "competitor_A_mean, competitor_A_std, competitor_A_sem = get_decoy_stats(group_att_freq_df, \"Competitor(%)\", total_n)\n",
    "decoy_A_mean, decoy_A_std, decoy_A_sem = get_decoy_stats(group_att_freq_df, \"Att_Decoy(%)\", total_n)\n",
    "\n",
    "# Get mean, std, and sem for 'Low coupling' participatns.\n",
    "target_A_LowC_mean, target_A_LowC_std, target_A_LowC_sem = get_decoy_stats(group_att_freq_df_LowC, \"Target(%)\", number_of_low_coupling)\n",
    "competitor_A_LowC_mean, competitor_A_LowC_std, competitor_A_LowC_sem = get_decoy_stats(group_att_freq_df_LowC, \"Competitor(%)\", number_of_low_coupling)\n",
    "decoy_A_LowC_mean, decoy_A_LowC_std, decoy_A_LowC_sem = get_decoy_stats(group_att_freq_df_LowC, \"Att_Decoy(%)\", number_of_low_coupling)\n",
    "\n",
    "# Get mean, std, and sem for 'High coupling' participatns.\n",
    "target_A_HighC_mean, target_A_HighC_std, target_A_HighC_sem = get_decoy_stats(group_att_freq_df_HighC, \"Target(%)\", number_of_high_coupling)\n",
    "competitor_A_HighC_mean, competitor_A_HighC_std, competitor_A_HighC_sem = get_decoy_stats(group_att_freq_df_HighC, \"Competitor(%)\", number_of_high_coupling)\n",
    "decoy_A_HighC_mean, decoy_A_HighC_std, decoy_A_HighC_sem = get_decoy_stats(group_att_freq_df_HighC, \"Att_Decoy(%)\", number_of_high_coupling)\n",
    "\n",
    "# Get mean, std, and sem for 'Highly desirable' participatns.\n",
    "target_A_HD_mean, target_A_HD_std, target_A_HD_sem = get_decoy_stats(group_att_freq_HD_df, \"Target(%)\", number_of_HD)\n",
    "competitor_A_HD_mean, competitor_A_HD_std, competitor_A_HD_sem = get_decoy_stats(group_att_freq_HD_df, \"Competitor(%)\", number_of_HD)\n",
    "decoy_A_HD_mean, decoy_A_HD_std, decoy_A_HD_sem = get_decoy_stats(group_att_freq_HD_df, \"Att_Decoy(%)\", number_of_HD)\n",
    "\n",
    "# Get mean, std, and sem for 'Weakly desirable' participatns.\n",
    "target_A_WD_mean, target_A_WD_std, target_A_WD_sem = get_decoy_stats(group_att_freq_WD_df, \"Target(%)\", number_of_WD)\n",
    "competitor_A_WD_mean, competitor_A_WD_std, competitor_A_WD_sem = get_decoy_stats(group_att_freq_WD_df, \"Competitor(%)\", number_of_WD)\n",
    "decoy_A_WD_mean, decoy_A_WD_std, decoy_A_WD_sem = get_decoy_stats(group_att_freq_WD_df, \"Att_Decoy(%)\", number_of_WD)\n",
    "\n",
    "# Get mean, std, and sem for 'Undesirable' participatns.\n",
    "target_A_U_mean, target_A_U_std, target_A_U_sem = get_decoy_stats(group_att_freq_U_df, \"Target(%)\", number_of_U)\n",
    "competitor_A_U_mean, competitor_A_U_std, competitor_A_U_sem = get_decoy_stats(group_att_freq_U_df, \"Competitor(%)\", number_of_U)\n",
    "decoy_A_U_mean, decoy_A_U_std, decoy_A_U_sem = get_decoy_stats(group_att_freq_U_df, \"Att_Decoy(%)\", number_of_U)\n",
    "\n",
    "# Show info for all groups.\n",
    "Att_summary_df = pd.DataFrame({'Target mean(%)': [target_A_mean, target_A_LowC_mean, target_A_HighC_mean, target_A_HD_mean, target_A_WD_mean, target_A_U_mean],\n",
    "                  'Target sem(%)': [target_A_sem, target_A_LowC_sem, target_A_HighC_sem, target_A_HD_sem, target_A_WD_sem, target_A_U_sem],\n",
    "                  'Comp mean(%)': [competitor_A_mean, competitor_A_LowC_mean, competitor_A_HighC_mean, competitor_A_HD_mean, competitor_A_WD_mean, competitor_A_U_mean],\n",
    "                  'Comp sem(%)': [competitor_A_sem, competitor_A_LowC_sem, competitor_A_HighC_sem, competitor_A_HD_sem, competitor_A_WD_sem, competitor_A_U_sem],\n",
    "                  'Decoy mean(%)': [decoy_A_mean, decoy_A_LowC_mean, decoy_A_HighC_mean, decoy_A_HD_mean, decoy_A_WD_mean, decoy_A_U_mean],\n",
    "                  'Decoy sem(%)': [decoy_A_sem, decoy_A_LowC_sem, decoy_A_HighC_sem, decoy_A_HD_sem, decoy_A_WD_sem, decoy_A_U_sem]},\n",
    "                  index=[\"All\", \"LowCoupling\", \"HighCoupling\", \"HighlyDesirable\", \"WeaklyDesirable\", \"Undesirable\"])\n",
    "\n",
    "Att_summary_df.head(6)"
   ]
  },
  {
   "cell_type": "code",
   "execution_count": 37,
   "id": "1c036c43",
   "metadata": {},
   "outputs": [
    {
     "data": {
      "image/png": "[encoded data removed]",
      "text/plain": [
       "<Figure size 1008x360 with 3 Axes>"
      ]
     },
     "metadata": {
      "needs_background": "light"
     },
     "output_type": "display_data"
    }
   ],
   "source": [
    "att_decoy_mean_perc = np.array([target_A_mean, competitor_A_mean, decoy_A_mean])\n",
    "att_decoy_sems = np.array([target_A_sem, competitor_A_sem, decoy_A_sem])\n",
    "\n",
    "att_decoy_mean_perc_LC = np.array([target_A_LowC_mean, competitor_A_LowC_mean, decoy_A_LowC_mean])\n",
    "att_decoy_sems_LC = np.array([target_A_LowC_sem, competitor_A_LowC_sem, decoy_A_LowC_sem])\n",
    "\n",
    "att_decoy_mean_perc_HC = np.array([target_A_HighC_mean, competitor_A_HighC_mean, decoy_A_HighC_mean])\n",
    "att_decoy_sems_HC = np.array([target_A_HighC_sem, competitor_A_HighC_sem, decoy_A_HighC_sem])\n",
    "\n",
    "barGraphDecoys3(att_decoy_mean_perc, att_decoy_sems, 'Attraction Decoy (All)', att_decoy_mean_perc_LC, att_decoy_sems_LC, 'Attraction Decoy (LC)', att_decoy_mean_perc_HC, att_decoy_sems_HC, 'Attraction Decoy (HC)')\n"
   ]
  },
  {
   "cell_type": "code",
   "execution_count": 38,
   "id": "fdc01d2f",
   "metadata": {},
   "outputs": [],
   "source": [
    "#att_decoy_mean_perc_HD = np.array([target_A_HD_mean, competitor_A_HD_mean, decoy_A_HD_mean])\n",
    "#att_decoy_sems_HD = np.array([target_A_HD_sem, competitor_A_HD_sem, decoy_A_HD_sem])\n",
    "\n",
    "#att_decoy_mean_perc_WD = np.array([target_A_WD_mean, competitor_A_WD_mean, decoy_A_WD_mean])\n",
    "#att_decoy_sems_WD = np.array([target_A_WD_sem, competitor_A_WD_sem, decoy_A_WD_sem])\n",
    "\n",
    "#att_decoy_mean_perc_U = np.array([target_A_U_mean, competitor_A_U_mean, decoy_A_U_mean])\n",
    "#att_decoy_sems_U = np.array([target_A_U_sem, competitor_A_U_sem, decoy_A_U_sem])\n",
    "\n",
    "#barGraphDecoys3(att_decoy_mean_perc_HD, att_decoy_sems_HD, 'Attraction Decoy (HD)', att_decoy_mean_perc_WD, att_decoy_sems_WD, 'Attraction Decoy (WD)', att_decoy_mean_perc_U, att_decoy_sems_U, 'Attraction Decoy (U)')\n"
   ]
  },
  {
   "cell_type": "markdown",
   "id": "d20e7142",
   "metadata": {},
   "source": [
    "### Stat Analysis (Attraction Decoy)"
   ]
  },
  {
   "cell_type": "code",
   "execution_count": 39,
   "id": "80de4381",
   "metadata": {},
   "outputs": [
    {
     "name": "stdout",
     "output_type": "stream",
     "text": [
      "p_att_coup: 0.529\n",
      "AttDecoy High & Low Coupling: \n",
      " t-stat: -0.793\n",
      " p-value: 0.429\n",
      " df: 123.0\n"
     ]
    }
   ],
   "source": [
    "#Check if the two samples have the same variance.\n",
    "stat_att_coup, p_att_coup = stats.levene(group_att_freq_df_LowC[\"Target(%)\"], group_att_freq_df_HighC[\"Target(%)\"])\n",
    "\n",
    "print(\"p_att_coup: \" + str(round(p_att_coup, 3)))\n",
    "    \n",
    "#Perform two sample t-test with equal variances\n",
    "Att_ttest_results = ttest_ind(group_att_freq_df_LowC[\"Target(%)\"], group_att_freq_df_HighC[\"Target(%)\"], alternative=\"two-sided\", usevar=\"pooled\")\n",
    "\n",
    "print(\"AttDecoy High & Low Coupling: \" + \"\\n t-stat: \" + str(round(Att_ttest_results[0], 3)) + \"\\n p-value: \" + str(round(Att_ttest_results[1], 3)) + \"\\n df: \" + str(round(Att_ttest_results[2], 3)))\n"
   ]
  },
  {
   "cell_type": "code",
   "execution_count": 40,
   "id": "4edab98a",
   "metadata": {},
   "outputs": [
    {
     "name": "stdout",
     "output_type": "stream",
     "text": [
      "                     df        sum_sq     mean_sq         F    PR(>F)\n",
      "PhantomCondition    2.0    408.458082  204.229041  0.655912  0.520789\n",
      "Residual          122.0  37986.741918  311.366737       NaN       NaN\n"
     ]
    }
   ],
   "source": [
    "# One-way ANOVA w/ statsmodels\n",
    "AttDecoy_PhanC_lm = ols('Target_perc ~ PhantomCondition', data=group_att_freq_with_condition_df).fit()\n",
    "\n",
    "AttDecoy_PhanC_table = sm.stats.anova_lm(AttDecoy_PhanC_lm)\n",
    "\n",
    "print(AttDecoy_PhanC_table)"
   ]
  },
  {
   "cell_type": "markdown",
   "id": "c8a0d745",
   "metadata": {},
   "source": [
    "## Correlation between Classic Decoys"
   ]
  },
  {
   "cell_type": "code",
   "execution_count": 41,
   "id": "d1d2636e",
   "metadata": {},
   "outputs": [
    {
     "data": {
      "text/html": [
       "<div>\n",
       "<style scoped>\n",
       "    .dataframe tbody tr th:only-of-type {\n",
       "        vertical-align: middle;\n",
       "    }\n",
       "\n",
       "    .dataframe tbody tr th {\n",
       "        vertical-align: top;\n",
       "    }\n",
       "\n",
       "    .dataframe thead th {\n",
       "        text-align: right;\n",
       "    }\n",
       "</style>\n",
       "<table border=\"1\" class=\"dataframe\">\n",
       "  <thead>\n",
       "    <tr style=\"text-align: right;\">\n",
       "      <th></th>\n",
       "      <th>Similarity</th>\n",
       "      <th>Compromise</th>\n",
       "      <th>Attraction</th>\n",
       "    </tr>\n",
       "  </thead>\n",
       "  <tbody>\n",
       "    <tr>\n",
       "      <th>0</th>\n",
       "      <td>0.000000</td>\n",
       "      <td>0.928571</td>\n",
       "      <td>0.777778</td>\n",
       "    </tr>\n",
       "    <tr>\n",
       "      <th>1</th>\n",
       "      <td>0.400000</td>\n",
       "      <td>0.466667</td>\n",
       "      <td>0.444444</td>\n",
       "    </tr>\n",
       "    <tr>\n",
       "      <th>2</th>\n",
       "      <td>0.181818</td>\n",
       "      <td>0.692308</td>\n",
       "      <td>0.600000</td>\n",
       "    </tr>\n",
       "    <tr>\n",
       "      <th>3</th>\n",
       "      <td>0.230769</td>\n",
       "      <td>0.785714</td>\n",
       "      <td>0.625000</td>\n",
       "    </tr>\n",
       "    <tr>\n",
       "      <th>4</th>\n",
       "      <td>0.363636</td>\n",
       "      <td>0.937500</td>\n",
       "      <td>0.700000</td>\n",
       "    </tr>\n",
       "  </tbody>\n",
       "</table>\n",
       "</div>"
      ],
      "text/plain": [
       "   Similarity  Compromise  Attraction\n",
       "0    0.000000    0.928571    0.777778\n",
       "1    0.400000    0.466667    0.444444\n",
       "2    0.181818    0.692308    0.600000\n",
       "3    0.230769    0.785714    0.625000\n",
       "4    0.363636    0.937500    0.700000"
      ]
     },
     "execution_count": 41,
     "metadata": {},
     "output_type": "execute_result"
    }
   ],
   "source": [
    "similarity_scores_all = []\n",
    "compromise_Scores_all = []\n",
    "attention_scores_all = []\n",
    "\n",
    "for x in Participants_PIDs: \n",
    "    \n",
    "    similarity_scrore = group_sim_freq_df[group_sim_freq_df[\"PID\"] == x][\"Competitor(%)\"]/(group_sim_freq_df[group_sim_freq_df[\"PID\"] == x][\"Competitor(%)\"] + group_sim_freq_df[group_sim_freq_df[\"PID\"] == x][\"Target(%)\"])\n",
    "    \n",
    "    compromise_score = group_com_freq_df[group_com_freq_df[\"PID\"] == x][\"Target(%)\"]/(group_com_freq_df[group_com_freq_df[\"PID\"] == x][\"Target(%)\"] + group_com_freq_df[group_com_freq_df[\"PID\"] == x][\"Competitor(%)\"])\n",
    "    \n",
    "    attention_score = group_att_freq_df[group_att_freq_df[\"PID\"] == x][\"Target(%)\"]/(group_att_freq_df[group_att_freq_df[\"PID\"] == x][\"Target(%)\"] + group_att_freq_df[group_att_freq_df[\"PID\"] == x][\"Competitor(%)\"])\n",
    "    \n",
    "    similarity_scores_all.append(similarity_scrore)\n",
    "    \n",
    "    compromise_Scores_all.append(compromise_score)\n",
    "    \n",
    "    attention_scores_all.append(attention_score)\n",
    "    \n",
    "similarity_scores_all = np.array(similarity_scores_all)\n",
    "compromise_Scores_all = np.array(compromise_Scores_all)\n",
    "attention_scores_all = np.array(attention_scores_all)\n",
    "\n",
    "all_classic_decoys_df = pd.DataFrame(data={'Similarity': similarity_scores_all.flatten(),\n",
    "                  'Compromise': compromise_Scores_all.flatten(),\n",
    "                  'Attraction': attention_scores_all.flatten()}, index=range(total_n))\n",
    "\n",
    "all_classic_decoys_df = all_classic_decoys_df.fillna(0)\n",
    "all_classic_decoys_df.head()\n"
   ]
  },
  {
   "cell_type": "code",
   "execution_count": 42,
   "id": "d2fabb7d",
   "metadata": {},
   "outputs": [
    {
     "name": "stdout",
     "output_type": "stream",
     "text": [
      "Correlation coefficient similarity-compromise: -0.49, p-value: 6.710526483419168e-09\n",
      "Correlation coefficient similarity-attraction: -0.38, p-value: 1.1295298572157684e-05\n",
      "Correlation coefficient attraction-compromise: 0.41, p-value: 1.5794851937437951e-06\n"
     ]
    }
   ],
   "source": [
    "import scipy.stats as stats\n",
    "\n",
    "corr_sim_com = stats.pearsonr(all_classic_decoys_df[\"Similarity\"], all_classic_decoys_df[\"Compromise\"])\n",
    "corr_sim_att = stats.pearsonr(all_classic_decoys_df[\"Similarity\"], all_classic_decoys_df[\"Attraction\"])\n",
    "corr_att_com = stats.pearsonr(all_classic_decoys_df[\"Attraction\"], all_classic_decoys_df[\"Compromise\"])\n",
    "\n",
    "print(\"Correlation coefficient similarity-compromise: \" + str(round(corr_sim_com[0], 2)) + \", p-value: \" + str(corr_sim_com[1]))\n",
    "print(\"Correlation coefficient similarity-attraction: \" + str(round(corr_sim_att[0], 2)) + \", p-value: \" + str(corr_sim_att[1]))\n",
    "print(\"Correlation coefficient attraction-compromise: \" + str(round(corr_att_com[0], 2)) + \", p-value: \" + str(corr_att_com[1]))\n"
   ]
  },
  {
   "cell_type": "code",
   "execution_count": 43,
   "id": "a18c85ed",
   "metadata": {
    "scrolled": false
   },
   "outputs": [
    {
     "data": {
      "text/plain": [
       "Text(0.5, 1.0, 'Compromise vs. Attraction')"
      ]
     },
     "execution_count": 43,
     "metadata": {},
     "output_type": "execute_result"
    },
    {
     "data": {
      "image/png": "[encoded data removed]",
      "text/plain": [
       "<Figure size 1008x360 with 3 Axes>"
      ]
     },
     "metadata": {
      "needs_background": "light"
     },
     "output_type": "display_data"
    }
   ],
   "source": [
    "fig, ax = plt.subplots(1, 3, figsize=(14, 5))\n",
    "\n",
    "ax[0].scatter(all_classic_decoys_df[\"Similarity\"], all_classic_decoys_df[\"Compromise\"])\n",
    "a_0, b_0 = np.polyfit(np.array(all_classic_decoys_df[\"Similarity\"]).flatten(), np.array(all_classic_decoys_df[\"Compromise\"]).flatten(), 1)\n",
    "ax[0].plot(all_classic_decoys_df[\"Similarity\"], a_0*all_classic_decoys_df[\"Similarity\"]+b_0, color='black')  \n",
    "ax[0].set_xlabel(\"Similarity scores\")\n",
    "ax[0].set_ylabel(\"Compromise scores\")\n",
    "ax[0].set_title(\"Similarity vs. Compromise\")\n",
    "\n",
    "ax[1].scatter(all_classic_decoys_df[\"Similarity\"], all_classic_decoys_df[\"Attraction\"])\n",
    "a_1, b_1 = np.polyfit(np.array(all_classic_decoys_df[\"Similarity\"]).flatten(), np.array(all_classic_decoys_df[\"Attraction\"]).flatten(), 1)\n",
    "ax[1].plot(all_classic_decoys_df[\"Similarity\"], a_1*all_classic_decoys_df[\"Similarity\"]+b_1, color='black')  \n",
    "ax[1].set_xlabel(\"Similarity scores\")\n",
    "ax[1].set_ylabel(\"Attraction scores\")\n",
    "ax[1].set_title(\"Similarity vs. Attraction\")\n",
    "\n",
    "ax[2].scatter(all_classic_decoys_df[\"Compromise\"], all_classic_decoys_df[\"Attraction\"])\n",
    "a_2, b_2 = np.polyfit(np.array(all_classic_decoys_df[\"Compromise\"]).flatten(), np.array(all_classic_decoys_df[\"Attraction\"]).flatten(), 1)\n",
    "ax[2].plot(all_classic_decoys_df[\"Compromise\"], a_2*all_classic_decoys_df[\"Compromise\"]+b_2, color='black')  \n",
    "ax[2].set_xlabel(\"Compromise scores\")\n",
    "ax[2].set_ylabel(\"Attraction scores\")\n",
    "ax[2].set_title(\"Compromise vs. Attraction\")\n"
   ]
  },
  {
   "cell_type": "markdown",
   "id": "b77d7465",
   "metadata": {},
   "source": [
    "## Mediation Analysis on Classical Decoys"
   ]
  },
  {
   "cell_type": "markdown",
   "id": "077d7085",
   "metadata": {},
   "source": [
    "### Mediation Analysis (Attraction -> Compromise; M=Similarity)"
   ]
  },
  {
   "cell_type": "code",
   "execution_count": 151,
   "id": "c5d1c39b",
   "metadata": {},
   "outputs": [
    {
     "data": {
      "text/html": [
       "<div>\n",
       "<style scoped>\n",
       "    .dataframe tbody tr th:only-of-type {\n",
       "        vertical-align: middle;\n",
       "    }\n",
       "\n",
       "    .dataframe tbody tr th {\n",
       "        vertical-align: top;\n",
       "    }\n",
       "\n",
       "    .dataframe thead th {\n",
       "        text-align: right;\n",
       "    }\n",
       "</style>\n",
       "<table border=\"1\" class=\"dataframe\">\n",
       "  <thead>\n",
       "    <tr style=\"text-align: right;\">\n",
       "      <th></th>\n",
       "      <th>path</th>\n",
       "      <th>coef</th>\n",
       "      <th>se</th>\n",
       "      <th>pval</th>\n",
       "      <th>CI[2.5%]</th>\n",
       "      <th>CI[97.5%]</th>\n",
       "      <th>sig</th>\n",
       "    </tr>\n",
       "  </thead>\n",
       "  <tbody>\n",
       "    <tr>\n",
       "      <th>0</th>\n",
       "      <td>Similarity ~ X</td>\n",
       "      <td>-0.369963</td>\n",
       "      <td>0.080805</td>\n",
       "      <td>1.129530e-05</td>\n",
       "      <td>-0.529911</td>\n",
       "      <td>-0.210015</td>\n",
       "      <td>Yes</td>\n",
       "    </tr>\n",
       "    <tr>\n",
       "      <th>1</th>\n",
       "      <td>Y ~ Similarity</td>\n",
       "      <td>-0.438731</td>\n",
       "      <td>0.070402</td>\n",
       "      <td>6.710526e-09</td>\n",
       "      <td>-0.578088</td>\n",
       "      <td>-0.299375</td>\n",
       "      <td>Yes</td>\n",
       "    </tr>\n",
       "    <tr>\n",
       "      <th>2</th>\n",
       "      <td>Total</td>\n",
       "      <td>0.359596</td>\n",
       "      <td>0.071265</td>\n",
       "      <td>1.579485e-06</td>\n",
       "      <td>0.218532</td>\n",
       "      <td>0.500661</td>\n",
       "      <td>Yes</td>\n",
       "    </tr>\n",
       "    <tr>\n",
       "      <th>3</th>\n",
       "      <td>Direct</td>\n",
       "      <td>0.230904</td>\n",
       "      <td>0.071138</td>\n",
       "      <td>1.511817e-03</td>\n",
       "      <td>0.090079</td>\n",
       "      <td>0.371730</td>\n",
       "      <td>Yes</td>\n",
       "    </tr>\n",
       "    <tr>\n",
       "      <th>4</th>\n",
       "      <td>Indirect</td>\n",
       "      <td>0.128692</td>\n",
       "      <td>0.052388</td>\n",
       "      <td>0.000000e+00</td>\n",
       "      <td>0.053906</td>\n",
       "      <td>0.291436</td>\n",
       "      <td>Yes</td>\n",
       "    </tr>\n",
       "  </tbody>\n",
       "</table>\n",
       "</div>"
      ],
      "text/plain": [
       "             path      coef        se          pval  CI[2.5%]  CI[97.5%]  sig\n",
       "0  Similarity ~ X -0.369963  0.080805  1.129530e-05 -0.529911  -0.210015  Yes\n",
       "1  Y ~ Similarity -0.438731  0.070402  6.710526e-09 -0.578088  -0.299375  Yes\n",
       "2           Total  0.359596  0.071265  1.579485e-06  0.218532   0.500661  Yes\n",
       "3          Direct  0.230904  0.071138  1.511817e-03  0.090079   0.371730  Yes\n",
       "4        Indirect  0.128692  0.052388  0.000000e+00  0.053906   0.291436  Yes"
      ]
     },
     "execution_count": 151,
     "metadata": {},
     "output_type": "execute_result"
    }
   ],
   "source": [
    "# Does Similarity mediate the relationship between Attraction-Compromise?\n",
    "\n",
    "mediation_analysis(data=all_classic_decoys_df, x='Attraction', m='Similarity', y='Compromise', \n",
    "                   alpha=0.05, n_boot=100)\n"
   ]
  },
  {
   "cell_type": "markdown",
   "id": "1c08933c",
   "metadata": {},
   "source": [
    "### Mediation Analysis (Attraction -> Similarity; M=Compromise)\n"
   ]
  },
  {
   "cell_type": "code",
   "execution_count": 153,
   "id": "77efc42e",
   "metadata": {},
   "outputs": [
    {
     "data": {
      "text/html": [
       "<div>\n",
       "<style scoped>\n",
       "    .dataframe tbody tr th:only-of-type {\n",
       "        vertical-align: middle;\n",
       "    }\n",
       "\n",
       "    .dataframe tbody tr th {\n",
       "        vertical-align: top;\n",
       "    }\n",
       "\n",
       "    .dataframe thead th {\n",
       "        text-align: right;\n",
       "    }\n",
       "</style>\n",
       "<table border=\"1\" class=\"dataframe\">\n",
       "  <thead>\n",
       "    <tr style=\"text-align: right;\">\n",
       "      <th></th>\n",
       "      <th>path</th>\n",
       "      <th>coef</th>\n",
       "      <th>se</th>\n",
       "      <th>pval</th>\n",
       "      <th>CI[2.5%]</th>\n",
       "      <th>CI[97.5%]</th>\n",
       "      <th>sig</th>\n",
       "    </tr>\n",
       "  </thead>\n",
       "  <tbody>\n",
       "    <tr>\n",
       "      <th>0</th>\n",
       "      <td>Compromise ~ X</td>\n",
       "      <td>0.359596</td>\n",
       "      <td>0.071265</td>\n",
       "      <td>1.579485e-06</td>\n",
       "      <td>0.218532</td>\n",
       "      <td>0.500661</td>\n",
       "      <td>Yes</td>\n",
       "    </tr>\n",
       "    <tr>\n",
       "      <th>1</th>\n",
       "      <td>Y ~ Compromise</td>\n",
       "      <td>-0.546961</td>\n",
       "      <td>0.087769</td>\n",
       "      <td>6.710526e-09</td>\n",
       "      <td>-0.720695</td>\n",
       "      <td>-0.373228</td>\n",
       "      <td>Yes</td>\n",
       "    </tr>\n",
       "    <tr>\n",
       "      <th>2</th>\n",
       "      <td>Total</td>\n",
       "      <td>-0.369963</td>\n",
       "      <td>0.080805</td>\n",
       "      <td>1.129530e-05</td>\n",
       "      <td>-0.529911</td>\n",
       "      <td>-0.210015</td>\n",
       "      <td>Yes</td>\n",
       "    </tr>\n",
       "    <tr>\n",
       "      <th>3</th>\n",
       "      <td>Direct</td>\n",
       "      <td>-0.209146</td>\n",
       "      <td>0.081912</td>\n",
       "      <td>1.190274e-02</td>\n",
       "      <td>-0.371299</td>\n",
       "      <td>-0.046994</td>\n",
       "      <td>Yes</td>\n",
       "    </tr>\n",
       "    <tr>\n",
       "      <th>4</th>\n",
       "      <td>Indirect</td>\n",
       "      <td>-0.160817</td>\n",
       "      <td>0.054484</td>\n",
       "      <td>0.000000e+00</td>\n",
       "      <td>-0.287598</td>\n",
       "      <td>-0.074701</td>\n",
       "      <td>Yes</td>\n",
       "    </tr>\n",
       "  </tbody>\n",
       "</table>\n",
       "</div>"
      ],
      "text/plain": [
       "             path      coef        se          pval  CI[2.5%]  CI[97.5%]  sig\n",
       "0  Compromise ~ X  0.359596  0.071265  1.579485e-06  0.218532   0.500661  Yes\n",
       "1  Y ~ Compromise -0.546961  0.087769  6.710526e-09 -0.720695  -0.373228  Yes\n",
       "2           Total -0.369963  0.080805  1.129530e-05 -0.529911  -0.210015  Yes\n",
       "3          Direct -0.209146  0.081912  1.190274e-02 -0.371299  -0.046994  Yes\n",
       "4        Indirect -0.160817  0.054484  0.000000e+00 -0.287598  -0.074701  Yes"
      ]
     },
     "execution_count": 153,
     "metadata": {},
     "output_type": "execute_result"
    }
   ],
   "source": [
    "mediation_analysis(data=all_classic_decoys_df, x='Attraction', m='Compromise', y='Similarity', \n",
    "                   alpha=0.05, n_boot=100)"
   ]
  },
  {
   "cell_type": "markdown",
   "id": "ec96402d",
   "metadata": {},
   "source": [
    "### Mediation Analysis (Similarity -> Compromise; M=Attraction)\n"
   ]
  },
  {
   "cell_type": "code",
   "execution_count": 46,
   "id": "60d5eef4",
   "metadata": {},
   "outputs": [
    {
     "data": {
      "text/html": [
       "<div>\n",
       "<style scoped>\n",
       "    .dataframe tbody tr th:only-of-type {\n",
       "        vertical-align: middle;\n",
       "    }\n",
       "\n",
       "    .dataframe tbody tr th {\n",
       "        vertical-align: top;\n",
       "    }\n",
       "\n",
       "    .dataframe thead th {\n",
       "        text-align: right;\n",
       "    }\n",
       "</style>\n",
       "<table border=\"1\" class=\"dataframe\">\n",
       "  <thead>\n",
       "    <tr style=\"text-align: right;\">\n",
       "      <th></th>\n",
       "      <th>path</th>\n",
       "      <th>coef</th>\n",
       "      <th>se</th>\n",
       "      <th>pval</th>\n",
       "      <th>CI[2.5%]</th>\n",
       "      <th>CI[97.5%]</th>\n",
       "      <th>sig</th>\n",
       "    </tr>\n",
       "  </thead>\n",
       "  <tbody>\n",
       "    <tr>\n",
       "      <th>0</th>\n",
       "      <td>Attraction ~ X</td>\n",
       "      <td>-0.393582</td>\n",
       "      <td>0.085963</td>\n",
       "      <td>1.129530e-05</td>\n",
       "      <td>-0.563741</td>\n",
       "      <td>-0.223423</td>\n",
       "      <td>Yes</td>\n",
       "    </tr>\n",
       "    <tr>\n",
       "      <th>1</th>\n",
       "      <td>Y ~ Attraction</td>\n",
       "      <td>0.359596</td>\n",
       "      <td>0.071265</td>\n",
       "      <td>1.579485e-06</td>\n",
       "      <td>0.218532</td>\n",
       "      <td>0.500661</td>\n",
       "      <td>Yes</td>\n",
       "    </tr>\n",
       "    <tr>\n",
       "      <th>2</th>\n",
       "      <td>Total</td>\n",
       "      <td>-0.438731</td>\n",
       "      <td>0.070402</td>\n",
       "      <td>6.710526e-09</td>\n",
       "      <td>-0.578088</td>\n",
       "      <td>-0.299375</td>\n",
       "      <td>Yes</td>\n",
       "    </tr>\n",
       "    <tr>\n",
       "      <th>3</th>\n",
       "      <td>Direct</td>\n",
       "      <td>-0.347852</td>\n",
       "      <td>0.073374</td>\n",
       "      <td>5.823384e-06</td>\n",
       "      <td>-0.493103</td>\n",
       "      <td>-0.202600</td>\n",
       "      <td>Yes</td>\n",
       "    </tr>\n",
       "    <tr>\n",
       "      <th>4</th>\n",
       "      <td>Indirect</td>\n",
       "      <td>-0.090880</td>\n",
       "      <td>0.054113</td>\n",
       "      <td>0.000000e+00</td>\n",
       "      <td>-0.192777</td>\n",
       "      <td>-0.008728</td>\n",
       "      <td>Yes</td>\n",
       "    </tr>\n",
       "  </tbody>\n",
       "</table>\n",
       "</div>"
      ],
      "text/plain": [
       "             path      coef        se          pval  CI[2.5%]  CI[97.5%]  sig\n",
       "0  Attraction ~ X -0.393582  0.085963  1.129530e-05 -0.563741  -0.223423  Yes\n",
       "1  Y ~ Attraction  0.359596  0.071265  1.579485e-06  0.218532   0.500661  Yes\n",
       "2           Total -0.438731  0.070402  6.710526e-09 -0.578088  -0.299375  Yes\n",
       "3          Direct -0.347852  0.073374  5.823384e-06 -0.493103  -0.202600  Yes\n",
       "4        Indirect -0.090880  0.054113  0.000000e+00 -0.192777  -0.008728  Yes"
      ]
     },
     "execution_count": 46,
     "metadata": {},
     "output_type": "execute_result"
    }
   ],
   "source": [
    "mediation_analysis(data=all_classic_decoys_df, x='Similarity', m='Attraction', y='Compromise', \n",
    "                   alpha=0.05, n_boot=100)"
   ]
  },
  {
   "cell_type": "markdown",
   "id": "efa1c399",
   "metadata": {},
   "source": [
    "### Mediation Analysis (Similarity -> Attraction; M=Compromise)\n"
   ]
  },
  {
   "cell_type": "code",
   "execution_count": 47,
   "id": "afacf5a9",
   "metadata": {},
   "outputs": [
    {
     "data": {
      "text/html": [
       "<div>\n",
       "<style scoped>\n",
       "    .dataframe tbody tr th:only-of-type {\n",
       "        vertical-align: middle;\n",
       "    }\n",
       "\n",
       "    .dataframe tbody tr th {\n",
       "        vertical-align: top;\n",
       "    }\n",
       "\n",
       "    .dataframe thead th {\n",
       "        text-align: right;\n",
       "    }\n",
       "</style>\n",
       "<table border=\"1\" class=\"dataframe\">\n",
       "  <thead>\n",
       "    <tr style=\"text-align: right;\">\n",
       "      <th></th>\n",
       "      <th>path</th>\n",
       "      <th>coef</th>\n",
       "      <th>se</th>\n",
       "      <th>pval</th>\n",
       "      <th>CI[2.5%]</th>\n",
       "      <th>CI[97.5%]</th>\n",
       "      <th>sig</th>\n",
       "    </tr>\n",
       "  </thead>\n",
       "  <tbody>\n",
       "    <tr>\n",
       "      <th>0</th>\n",
       "      <td>Compromise ~ X</td>\n",
       "      <td>-0.438731</td>\n",
       "      <td>0.070402</td>\n",
       "      <td>6.710526e-09</td>\n",
       "      <td>-0.578088</td>\n",
       "      <td>-0.299375</td>\n",
       "      <td>Yes</td>\n",
       "    </tr>\n",
       "    <tr>\n",
       "      <th>1</th>\n",
       "      <td>Y ~ Compromise</td>\n",
       "      <td>0.476925</td>\n",
       "      <td>0.094517</td>\n",
       "      <td>1.579485e-06</td>\n",
       "      <td>0.289834</td>\n",
       "      <td>0.664016</td>\n",
       "      <td>Yes</td>\n",
       "    </tr>\n",
       "    <tr>\n",
       "      <th>2</th>\n",
       "      <td>Total</td>\n",
       "      <td>-0.393582</td>\n",
       "      <td>0.085963</td>\n",
       "      <td>1.129530e-05</td>\n",
       "      <td>-0.563741</td>\n",
       "      <td>-0.223423</td>\n",
       "      <td>Yes</td>\n",
       "    </tr>\n",
       "    <tr>\n",
       "      <th>3</th>\n",
       "      <td>Direct</td>\n",
       "      <td>-0.242543</td>\n",
       "      <td>0.094991</td>\n",
       "      <td>1.190274e-02</td>\n",
       "      <td>-0.430588</td>\n",
       "      <td>-0.054497</td>\n",
       "      <td>Yes</td>\n",
       "    </tr>\n",
       "    <tr>\n",
       "      <th>4</th>\n",
       "      <td>Indirect</td>\n",
       "      <td>-0.151039</td>\n",
       "      <td>0.057369</td>\n",
       "      <td>0.000000e+00</td>\n",
       "      <td>-0.286535</td>\n",
       "      <td>-0.048918</td>\n",
       "      <td>Yes</td>\n",
       "    </tr>\n",
       "  </tbody>\n",
       "</table>\n",
       "</div>"
      ],
      "text/plain": [
       "             path      coef        se          pval  CI[2.5%]  CI[97.5%]  sig\n",
       "0  Compromise ~ X -0.438731  0.070402  6.710526e-09 -0.578088  -0.299375  Yes\n",
       "1  Y ~ Compromise  0.476925  0.094517  1.579485e-06  0.289834   0.664016  Yes\n",
       "2           Total -0.393582  0.085963  1.129530e-05 -0.563741  -0.223423  Yes\n",
       "3          Direct -0.242543  0.094991  1.190274e-02 -0.430588  -0.054497  Yes\n",
       "4        Indirect -0.151039  0.057369  0.000000e+00 -0.286535  -0.048918  Yes"
      ]
     },
     "execution_count": 47,
     "metadata": {},
     "output_type": "execute_result"
    }
   ],
   "source": [
    "mediation_analysis(data=all_classic_decoys_df, x='Similarity', m='Compromise', y='Attraction', \n",
    "                   alpha=0.05, n_boot=100)"
   ]
  },
  {
   "cell_type": "markdown",
   "id": "4d68fffd",
   "metadata": {},
   "source": [
    "### Mediation Analysis (Compromise -> Attraction; M=Similarity)\n"
   ]
  },
  {
   "cell_type": "code",
   "execution_count": 48,
   "id": "f873b615",
   "metadata": {},
   "outputs": [
    {
     "data": {
      "text/html": [
       "<div>\n",
       "<style scoped>\n",
       "    .dataframe tbody tr th:only-of-type {\n",
       "        vertical-align: middle;\n",
       "    }\n",
       "\n",
       "    .dataframe tbody tr th {\n",
       "        vertical-align: top;\n",
       "    }\n",
       "\n",
       "    .dataframe thead th {\n",
       "        text-align: right;\n",
       "    }\n",
       "</style>\n",
       "<table border=\"1\" class=\"dataframe\">\n",
       "  <thead>\n",
       "    <tr style=\"text-align: right;\">\n",
       "      <th></th>\n",
       "      <th>path</th>\n",
       "      <th>coef</th>\n",
       "      <th>se</th>\n",
       "      <th>pval</th>\n",
       "      <th>CI[2.5%]</th>\n",
       "      <th>CI[97.5%]</th>\n",
       "      <th>sig</th>\n",
       "    </tr>\n",
       "  </thead>\n",
       "  <tbody>\n",
       "    <tr>\n",
       "      <th>0</th>\n",
       "      <td>Similarity ~ X</td>\n",
       "      <td>-0.546961</td>\n",
       "      <td>0.087769</td>\n",
       "      <td>6.710526e-09</td>\n",
       "      <td>-0.720695</td>\n",
       "      <td>-0.373228</td>\n",
       "      <td>Yes</td>\n",
       "    </tr>\n",
       "    <tr>\n",
       "      <th>1</th>\n",
       "      <td>Y ~ Similarity</td>\n",
       "      <td>-0.393582</td>\n",
       "      <td>0.085963</td>\n",
       "      <td>1.129530e-05</td>\n",
       "      <td>-0.563741</td>\n",
       "      <td>-0.223423</td>\n",
       "      <td>Yes</td>\n",
       "    </tr>\n",
       "    <tr>\n",
       "      <th>2</th>\n",
       "      <td>Total</td>\n",
       "      <td>0.476925</td>\n",
       "      <td>0.094517</td>\n",
       "      <td>1.579485e-06</td>\n",
       "      <td>0.289834</td>\n",
       "      <td>0.664016</td>\n",
       "      <td>Yes</td>\n",
       "    </tr>\n",
       "    <tr>\n",
       "      <th>3</th>\n",
       "      <td>Direct</td>\n",
       "      <td>0.344264</td>\n",
       "      <td>0.106063</td>\n",
       "      <td>1.511817e-03</td>\n",
       "      <td>0.134302</td>\n",
       "      <td>0.554226</td>\n",
       "      <td>Yes</td>\n",
       "    </tr>\n",
       "    <tr>\n",
       "      <th>4</th>\n",
       "      <td>Indirect</td>\n",
       "      <td>0.132661</td>\n",
       "      <td>0.059078</td>\n",
       "      <td>0.000000e+00</td>\n",
       "      <td>0.018940</td>\n",
       "      <td>0.260152</td>\n",
       "      <td>Yes</td>\n",
       "    </tr>\n",
       "  </tbody>\n",
       "</table>\n",
       "</div>"
      ],
      "text/plain": [
       "             path      coef        se          pval  CI[2.5%]  CI[97.5%]  sig\n",
       "0  Similarity ~ X -0.546961  0.087769  6.710526e-09 -0.720695  -0.373228  Yes\n",
       "1  Y ~ Similarity -0.393582  0.085963  1.129530e-05 -0.563741  -0.223423  Yes\n",
       "2           Total  0.476925  0.094517  1.579485e-06  0.289834   0.664016  Yes\n",
       "3          Direct  0.344264  0.106063  1.511817e-03  0.134302   0.554226  Yes\n",
       "4        Indirect  0.132661  0.059078  0.000000e+00  0.018940   0.260152  Yes"
      ]
     },
     "execution_count": 48,
     "metadata": {},
     "output_type": "execute_result"
    }
   ],
   "source": [
    "mediation_analysis(data=all_classic_decoys_df, x='Compromise', m='Similarity', y='Attraction', \n",
    "                   alpha=0.05, n_boot=100)"
   ]
  },
  {
   "cell_type": "markdown",
   "id": "55bd6920",
   "metadata": {},
   "source": [
    "### Mediation Analysis (Compromise -> Similarity; M=Attraction)\n"
   ]
  },
  {
   "cell_type": "code",
   "execution_count": 49,
   "id": "59d383ac",
   "metadata": {},
   "outputs": [
    {
     "data": {
      "text/html": [
       "<div>\n",
       "<style scoped>\n",
       "    .dataframe tbody tr th:only-of-type {\n",
       "        vertical-align: middle;\n",
       "    }\n",
       "\n",
       "    .dataframe tbody tr th {\n",
       "        vertical-align: top;\n",
       "    }\n",
       "\n",
       "    .dataframe thead th {\n",
       "        text-align: right;\n",
       "    }\n",
       "</style>\n",
       "<table border=\"1\" class=\"dataframe\">\n",
       "  <thead>\n",
       "    <tr style=\"text-align: right;\">\n",
       "      <th></th>\n",
       "      <th>path</th>\n",
       "      <th>coef</th>\n",
       "      <th>se</th>\n",
       "      <th>pval</th>\n",
       "      <th>CI[2.5%]</th>\n",
       "      <th>CI[97.5%]</th>\n",
       "      <th>sig</th>\n",
       "    </tr>\n",
       "  </thead>\n",
       "  <tbody>\n",
       "    <tr>\n",
       "      <th>0</th>\n",
       "      <td>Attraction ~ X</td>\n",
       "      <td>0.476925</td>\n",
       "      <td>0.094517</td>\n",
       "      <td>1.579485e-06</td>\n",
       "      <td>0.289834</td>\n",
       "      <td>0.664016</td>\n",
       "      <td>Yes</td>\n",
       "    </tr>\n",
       "    <tr>\n",
       "      <th>1</th>\n",
       "      <td>Y ~ Attraction</td>\n",
       "      <td>-0.369963</td>\n",
       "      <td>0.080805</td>\n",
       "      <td>1.129530e-05</td>\n",
       "      <td>-0.529911</td>\n",
       "      <td>-0.210015</td>\n",
       "      <td>Yes</td>\n",
       "    </tr>\n",
       "    <tr>\n",
       "      <th>2</th>\n",
       "      <td>Total</td>\n",
       "      <td>-0.546961</td>\n",
       "      <td>0.087769</td>\n",
       "      <td>6.710526e-09</td>\n",
       "      <td>-0.720695</td>\n",
       "      <td>-0.373228</td>\n",
       "      <td>Yes</td>\n",
       "    </tr>\n",
       "    <tr>\n",
       "      <th>3</th>\n",
       "      <td>Direct</td>\n",
       "      <td>-0.447214</td>\n",
       "      <td>0.094333</td>\n",
       "      <td>5.823384e-06</td>\n",
       "      <td>-0.633956</td>\n",
       "      <td>-0.260473</td>\n",
       "      <td>Yes</td>\n",
       "    </tr>\n",
       "    <tr>\n",
       "      <th>4</th>\n",
       "      <td>Indirect</td>\n",
       "      <td>-0.099747</td>\n",
       "      <td>0.060772</td>\n",
       "      <td>4.000000e-02</td>\n",
       "      <td>-0.225249</td>\n",
       "      <td>-0.007954</td>\n",
       "      <td>Yes</td>\n",
       "    </tr>\n",
       "  </tbody>\n",
       "</table>\n",
       "</div>"
      ],
      "text/plain": [
       "             path      coef        se          pval  CI[2.5%]  CI[97.5%]  sig\n",
       "0  Attraction ~ X  0.476925  0.094517  1.579485e-06  0.289834   0.664016  Yes\n",
       "1  Y ~ Attraction -0.369963  0.080805  1.129530e-05 -0.529911  -0.210015  Yes\n",
       "2           Total -0.546961  0.087769  6.710526e-09 -0.720695  -0.373228  Yes\n",
       "3          Direct -0.447214  0.094333  5.823384e-06 -0.633956  -0.260473  Yes\n",
       "4        Indirect -0.099747  0.060772  4.000000e-02 -0.225249  -0.007954  Yes"
      ]
     },
     "execution_count": 49,
     "metadata": {},
     "output_type": "execute_result"
    }
   ],
   "source": [
    "mediation_analysis(data=all_classic_decoys_df, x='Compromise', m='Attraction', y='Similarity', \n",
    "                   alpha=0.05, n_boot=100)"
   ]
  },
  {
   "cell_type": "markdown",
   "id": "d2061e1f",
   "metadata": {},
   "source": [
    "## PCA Analysis on Classical Decoys"
   ]
  },
  {
   "cell_type": "code",
   "execution_count": 50,
   "id": "ccc1ae67",
   "metadata": {},
   "outputs": [
    {
     "data": {
      "text/plain": [
       "array([0.61862228, 0.22723892])"
      ]
     },
     "execution_count": 50,
     "metadata": {},
     "output_type": "execute_result"
    }
   ],
   "source": [
    "from sklearn.decomposition import PCA\n",
    "\n",
    "pca = PCA(n_components=2)\n",
    "\n",
    "principalComponents = pca.fit_transform(all_classic_decoys_df)\n",
    "\n",
    "pca.explained_variance_ratio_"
   ]
  },
  {
   "cell_type": "code",
   "execution_count": 51,
   "id": "50e4017a",
   "metadata": {},
   "outputs": [
    {
     "data": {
      "text/plain": [
       "array([[ 0.60252063, -0.51315567, -0.61126111],\n",
       "       [-0.59823747,  0.2165733 , -0.7714972 ]])"
      ]
     },
     "execution_count": 51,
     "metadata": {},
     "output_type": "execute_result"
    }
   ],
   "source": [
    "pca.components_"
   ]
  },
  {
   "cell_type": "code",
   "execution_count": 52,
   "id": "2387e96e",
   "metadata": {},
   "outputs": [
    {
     "data": {
      "text/html": [
       "<div>\n",
       "<style scoped>\n",
       "    .dataframe tbody tr th:only-of-type {\n",
       "        vertical-align: middle;\n",
       "    }\n",
       "\n",
       "    .dataframe tbody tr th {\n",
       "        vertical-align: top;\n",
       "    }\n",
       "\n",
       "    .dataframe thead th {\n",
       "        text-align: right;\n",
       "    }\n",
       "</style>\n",
       "<table border=\"1\" class=\"dataframe\">\n",
       "  <thead>\n",
       "    <tr style=\"text-align: right;\">\n",
       "      <th></th>\n",
       "      <th>Similarity</th>\n",
       "      <th>Compromise</th>\n",
       "      <th>Attraction</th>\n",
       "    </tr>\n",
       "  </thead>\n",
       "  <tbody>\n",
       "    <tr>\n",
       "      <th>0</th>\n",
       "      <td>0.000000</td>\n",
       "      <td>0.928571</td>\n",
       "      <td>0.777778</td>\n",
       "    </tr>\n",
       "    <tr>\n",
       "      <th>1</th>\n",
       "      <td>0.400000</td>\n",
       "      <td>0.466667</td>\n",
       "      <td>0.444444</td>\n",
       "    </tr>\n",
       "    <tr>\n",
       "      <th>2</th>\n",
       "      <td>0.181818</td>\n",
       "      <td>0.692308</td>\n",
       "      <td>0.600000</td>\n",
       "    </tr>\n",
       "    <tr>\n",
       "      <th>3</th>\n",
       "      <td>0.230769</td>\n",
       "      <td>0.785714</td>\n",
       "      <td>0.625000</td>\n",
       "    </tr>\n",
       "    <tr>\n",
       "      <th>4</th>\n",
       "      <td>0.363636</td>\n",
       "      <td>0.937500</td>\n",
       "      <td>0.700000</td>\n",
       "    </tr>\n",
       "  </tbody>\n",
       "</table>\n",
       "</div>"
      ],
      "text/plain": [
       "   Similarity  Compromise  Attraction\n",
       "0    0.000000    0.928571    0.777778\n",
       "1    0.400000    0.466667    0.444444\n",
       "2    0.181818    0.692308    0.600000\n",
       "3    0.230769    0.785714    0.625000\n",
       "4    0.363636    0.937500    0.700000"
      ]
     },
     "execution_count": 52,
     "metadata": {},
     "output_type": "execute_result"
    }
   ],
   "source": [
    "all_classic_decoys_df.head()"
   ]
  },
  {
   "cell_type": "code",
   "execution_count": 53,
   "id": "d0067d4d",
   "metadata": {},
   "outputs": [
    {
     "data": {
      "text/plain": [
       "array([0.34088199, 0.46455546])"
      ]
     },
     "execution_count": 53,
     "metadata": {},
     "output_type": "execute_result"
    }
   ],
   "source": [
    "from sklearn.decomposition import TruncatedSVD\n",
    "\n",
    "svd = TruncatedSVD(n_components=2, n_iter=5)\n",
    "\n",
    "svd.fit(all_classic_decoys_df)\n",
    "\n",
    "svd.explained_variance_ratio_\n"
   ]
  },
  {
   "cell_type": "markdown",
   "id": "1df505e0",
   "metadata": {},
   "source": [
    "## Phantom Decoys"
   ]
  },
  {
   "cell_type": "markdown",
   "id": "e9259027",
   "metadata": {},
   "source": [
    "### Highly Desirable Group"
   ]
  },
  {
   "cell_type": "code",
   "execution_count": 54,
   "id": "5d015bd0",
   "metadata": {},
   "outputs": [
    {
     "data": {
      "text/html": [
       "<div>\n",
       "<style scoped>\n",
       "    .dataframe tbody tr th:only-of-type {\n",
       "        vertical-align: middle;\n",
       "    }\n",
       "\n",
       "    .dataframe tbody tr th {\n",
       "        vertical-align: top;\n",
       "    }\n",
       "\n",
       "    .dataframe thead th {\n",
       "        text-align: right;\n",
       "    }\n",
       "</style>\n",
       "<table border=\"1\" class=\"dataframe\">\n",
       "  <thead>\n",
       "    <tr style=\"text-align: right;\">\n",
       "      <th></th>\n",
       "      <th>Target mean(%)</th>\n",
       "      <th>Target sem(%)</th>\n",
       "      <th>Comp mean(%)</th>\n",
       "      <th>Comp sem(%)</th>\n",
       "    </tr>\n",
       "  </thead>\n",
       "  <tbody>\n",
       "    <tr>\n",
       "      <th>All</th>\n",
       "      <td>58.12</td>\n",
       "      <td>1.64</td>\n",
       "      <td>41.88</td>\n",
       "      <td>1.64</td>\n",
       "    </tr>\n",
       "    <tr>\n",
       "      <th>LowCoupling</th>\n",
       "      <td>57.89</td>\n",
       "      <td>2.40</td>\n",
       "      <td>42.11</td>\n",
       "      <td>2.40</td>\n",
       "    </tr>\n",
       "    <tr>\n",
       "      <th>HighCoupling</th>\n",
       "      <td>58.33</td>\n",
       "      <td>2.30</td>\n",
       "      <td>41.67</td>\n",
       "      <td>2.30</td>\n",
       "    </tr>\n",
       "  </tbody>\n",
       "</table>\n",
       "</div>"
      ],
      "text/plain": [
       "              Target mean(%)  Target sem(%)  Comp mean(%)  Comp sem(%)\n",
       "All                    58.12           1.64         41.88         1.64\n",
       "LowCoupling            57.89           2.40         42.11         2.40\n",
       "HighCoupling           58.33           2.30         41.67         2.30"
      ]
     },
     "execution_count": 54,
     "metadata": {},
     "output_type": "execute_result"
    }
   ],
   "source": [
    "# Phantom Decoy: Highly Desirable\n",
    "decoy_P_df = all_responses[all_responses[\"Decoy\"] == \"P\"]\n",
    "\n",
    "decoy_P_HD_df = decoy_P_df[decoy_P_df[\"PhantomCondition\"] == \"Highly_desirable\"]\n",
    "decoy_P_HD_df_LowC = decoy_P_HD_df[decoy_P_HD_df[\"CouplingCondition\"] == \"Low coupling\"]\n",
    "decoy_P_HD_df_HighC = decoy_P_HD_df[decoy_P_HD_df[\"CouplingCondition\"] == \"High coupling\"]\n",
    "\n",
    "decoy_P_HD_df = decoy_P_HD_df.reset_index()\n",
    "decoy_P_HD_df_LowC = decoy_P_HD_df_LowC.reset_index()\n",
    "decoy_P_HD_df_HighC = decoy_P_HD_df_HighC.reset_index()\n",
    "\n",
    "total_n = decoy_P_HD_df[\"Survey_ID\"].unique()\n",
    "number_of_low_coupling = decoy_P_HD_df_LowC[\"Survey_ID\"].unique()\n",
    "number_of_high_coupling = decoy_P_HD_df_HighC[\"Survey_ID\"].unique()\n",
    "\n",
    "total_n = int(len(total_n))\n",
    "number_of_low_coupling = int(len(number_of_low_coupling))\n",
    "number_of_high_coupling = int(len(number_of_high_coupling))\n",
    "\n",
    "decoy_P_HD_freq_df = partFreq_PhantomDecoy(decoy_P_HD_df)\n",
    "decoy_P_HD_LowC_freq_df = partFreq_PhantomDecoy(decoy_P_HD_df_LowC)\n",
    "decoy_P_HD_HighC_freq_df = partFreq_PhantomDecoy(decoy_P_HD_df_HighC)\n",
    "\n",
    "# Get mean, std, and sem for all participatns.\n",
    "target_P_HD_mean, target_P_HD_std, target_P_HD_sem = get_decoy_stats(decoy_P_HD_freq_df, \"Target(%)\", total_n)\n",
    "competitor_P_HD_mean, competitor_P_HD_std, competitor_P_HD_sem = get_decoy_stats(decoy_P_HD_freq_df, \"Competitor(%)\", total_n)\n",
    "\n",
    "# Get mean, std, and sem for 'Low coupling' participatns.\n",
    "target_P_HD_LowC_mean, target_P_HD_LowC_std, target_P_HD_LowC_sem = get_decoy_stats(decoy_P_HD_LowC_freq_df, \"Target(%)\", number_of_low_coupling)\n",
    "competitor_P_HD_LowC_mean, competitor_P_HD_LowC_std, competitor_P_HD_LowC_sem = get_decoy_stats(decoy_P_HD_LowC_freq_df, \"Competitor(%)\", number_of_low_coupling)\n",
    "\n",
    "# Get mean, std, and sem for 'High coupling' participatns.\n",
    "target_P_HD_HighC_mean, target_P_HD_HighC_std, target_P_HD_HighC_sem = get_decoy_stats(decoy_P_HD_HighC_freq_df, \"Target(%)\", number_of_high_coupling)\n",
    "competitor_P_HD_HighC_mean, competitor_P_HD_HighC_std, competitor_P_HD_HighC_sem = get_decoy_stats(decoy_P_HD_HighC_freq_df, \"Competitor(%)\", number_of_high_coupling)\n",
    "\n",
    "P_HD_summary_df = pd.DataFrame({'Target mean(%)': [target_P_HD_mean, target_P_HD_LowC_mean, target_P_HD_HighC_mean],\n",
    "                  'Target sem(%)': [target_P_HD_sem, target_P_HD_LowC_sem, target_P_HD_HighC_sem],\n",
    "                  'Comp mean(%)': [competitor_P_HD_mean, competitor_P_HD_LowC_mean, competitor_P_HD_HighC_mean],\n",
    "                  'Comp sem(%)': [competitor_P_HD_sem, competitor_P_HD_LowC_sem, competitor_P_HD_HighC_sem]},\n",
    "                  index=[\"All\", \"LowCoupling\", \"HighCoupling\"])\n",
    "\n",
    "P_HD_summary_df.head()"
   ]
  },
  {
   "cell_type": "code",
   "execution_count": 269,
   "id": "febc4dee",
   "metadata": {},
   "outputs": [
    {
     "data": {
      "text/plain": [
       "10.358169078880044"
      ]
     },
     "execution_count": 269,
     "metadata": {},
     "output_type": "execute_result"
    }
   ],
   "source": [
    "target_P_HD_std"
   ]
  },
  {
   "cell_type": "markdown",
   "id": "081cd147",
   "metadata": {},
   "source": [
    "### Weakly Desirable Group"
   ]
  },
  {
   "cell_type": "code",
   "execution_count": 55,
   "id": "95857778",
   "metadata": {},
   "outputs": [
    {
     "data": {
      "text/html": [
       "<div>\n",
       "<style scoped>\n",
       "    .dataframe tbody tr th:only-of-type {\n",
       "        vertical-align: middle;\n",
       "    }\n",
       "\n",
       "    .dataframe tbody tr th {\n",
       "        vertical-align: top;\n",
       "    }\n",
       "\n",
       "    .dataframe thead th {\n",
       "        text-align: right;\n",
       "    }\n",
       "</style>\n",
       "<table border=\"1\" class=\"dataframe\">\n",
       "  <thead>\n",
       "    <tr style=\"text-align: right;\">\n",
       "      <th></th>\n",
       "      <th>Target mean(%)</th>\n",
       "      <th>Target sem(%)</th>\n",
       "      <th>Comp mean(%)</th>\n",
       "      <th>Comp sem(%)</th>\n",
       "    </tr>\n",
       "  </thead>\n",
       "  <tbody>\n",
       "    <tr>\n",
       "      <th>All</th>\n",
       "      <td>54.13</td>\n",
       "      <td>1.64</td>\n",
       "      <td>45.87</td>\n",
       "      <td>1.64</td>\n",
       "    </tr>\n",
       "    <tr>\n",
       "      <th>LowCoupling</th>\n",
       "      <td>52.78</td>\n",
       "      <td>2.66</td>\n",
       "      <td>47.22</td>\n",
       "      <td>2.66</td>\n",
       "    </tr>\n",
       "    <tr>\n",
       "      <th>HighCoupling</th>\n",
       "      <td>55.00</td>\n",
       "      <td>2.11</td>\n",
       "      <td>45.00</td>\n",
       "      <td>2.11</td>\n",
       "    </tr>\n",
       "  </tbody>\n",
       "</table>\n",
       "</div>"
      ],
      "text/plain": [
       "              Target mean(%)  Target sem(%)  Comp mean(%)  Comp sem(%)\n",
       "All                    54.13           1.64         45.87         1.64\n",
       "LowCoupling            52.78           2.66         47.22         2.66\n",
       "HighCoupling           55.00           2.11         45.00         2.11"
      ]
     },
     "execution_count": 55,
     "metadata": {},
     "output_type": "execute_result"
    }
   ],
   "source": [
    "# Phantom Decoy: Weakly Desirable\n",
    "decoy_P_WD_df = decoy_P_df[decoy_P_df[\"PhantomCondition\"] == \"Weakly_desirable\"]\n",
    "decoy_P_WD_df_LowC = decoy_P_WD_df[decoy_P_WD_df[\"CouplingCondition\"] == \"Low coupling\"]\n",
    "decoy_P_WD_df_HighC = decoy_P_WD_df[decoy_P_WD_df[\"CouplingCondition\"] == \"High coupling\"]\n",
    "\n",
    "decoy_P_WD_df = decoy_P_WD_df.reset_index()\n",
    "decoy_P_WD_df_LowC = decoy_P_WD_df_LowC.reset_index()\n",
    "decoy_P_WD_df_HighC = decoy_P_WD_df_HighC.reset_index()\n",
    "\n",
    "total_n = decoy_P_WD_df[\"Survey_ID\"].unique()\n",
    "number_of_low_coupling = decoy_P_WD_df_LowC[\"Survey_ID\"].unique()\n",
    "number_of_high_coupling = decoy_P_WD_df_HighC[\"Survey_ID\"].unique()\n",
    "\n",
    "total_n = int(len(total_n))\n",
    "number_of_low_coupling = int(len(number_of_low_coupling))\n",
    "number_of_high_coupling = int(len(number_of_high_coupling))\n",
    "\n",
    "decoy_P_WD_freq_df = partFreq_PhantomDecoy(decoy_P_WD_df)\n",
    "decoy_P_WD_LowC_freq_df = partFreq_PhantomDecoy(decoy_P_WD_df_LowC)\n",
    "decoy_P_WD_HighC_freq_df = partFreq_PhantomDecoy(decoy_P_WD_df_HighC)\n",
    "\n",
    "# Get mean, std, and sem for all participatns.\n",
    "target_P_WD_mean, target_P_WD_std, target_P_WD_sem = get_decoy_stats(decoy_P_WD_freq_df, \"Target(%)\", total_n)\n",
    "competitor_P_WD_mean, competitor_P_WD_std, competitor_P_WD_sem = get_decoy_stats(decoy_P_WD_freq_df, \"Competitor(%)\", total_n)\n",
    "\n",
    "# Get mean, std, and sem for 'Low coupling' participatns.\n",
    "target_P_WD_LowC_mean, target_P_WD_LowC_std, target_P_WD_LowC_sem = get_decoy_stats(decoy_P_WD_LowC_freq_df, \"Target(%)\", number_of_low_coupling)\n",
    "competitor_P_WD_LowC_mean, competitor_P_WD_LowC_std, competitor_P_WD_LowC_sem = get_decoy_stats(decoy_P_WD_LowC_freq_df, \"Competitor(%)\", number_of_low_coupling)\n",
    "\n",
    "# Get mean, std, and sem for 'High coupling' participatns.\n",
    "target_P_WD_HighC_mean, target_P_WD_HighC_std, target_P_WD_HighC_sem = get_decoy_stats(decoy_P_WD_HighC_freq_df, \"Target(%)\", number_of_high_coupling)\n",
    "competitor_P_WD_HighC_mean, competitor_P_WD_HighC_std, competitor_P_WD_HighC_sem = get_decoy_stats(decoy_P_WD_HighC_freq_df, \"Competitor(%)\", number_of_high_coupling)\n",
    "\n",
    "P_WD_summary_df = pd.DataFrame({'Target mean(%)': [target_P_WD_mean, target_P_WD_LowC_mean, target_P_WD_HighC_mean],\n",
    "                  'Target sem(%)': [target_P_WD_sem, target_P_WD_LowC_sem, target_P_WD_HighC_sem],\n",
    "                  'Comp mean(%)': [competitor_P_WD_mean, competitor_P_WD_LowC_mean, competitor_P_WD_HighC_mean],\n",
    "                  'Comp sem(%)': [competitor_P_WD_sem, competitor_P_WD_LowC_sem, competitor_P_WD_HighC_sem]},\n",
    "                  index=[\"All\", \"LowCoupling\", \"HighCoupling\"])\n",
    "\n",
    "P_WD_summary_df.head()"
   ]
  },
  {
   "cell_type": "markdown",
   "id": "a57465a1",
   "metadata": {},
   "source": [
    "### Undesirable Group"
   ]
  },
  {
   "cell_type": "code",
   "execution_count": 56,
   "id": "3ba37279",
   "metadata": {},
   "outputs": [
    {
     "data": {
      "text/html": [
       "<div>\n",
       "<style scoped>\n",
       "    .dataframe tbody tr th:only-of-type {\n",
       "        vertical-align: middle;\n",
       "    }\n",
       "\n",
       "    .dataframe tbody tr th {\n",
       "        vertical-align: top;\n",
       "    }\n",
       "\n",
       "    .dataframe thead th {\n",
       "        text-align: right;\n",
       "    }\n",
       "</style>\n",
       "<table border=\"1\" class=\"dataframe\">\n",
       "  <thead>\n",
       "    <tr style=\"text-align: right;\">\n",
       "      <th></th>\n",
       "      <th>Target mean(%)</th>\n",
       "      <th>Target sem(%)</th>\n",
       "      <th>Comp mean(%)</th>\n",
       "      <th>Comp sem(%)</th>\n",
       "    </tr>\n",
       "  </thead>\n",
       "  <tbody>\n",
       "    <tr>\n",
       "      <th>All</th>\n",
       "      <td>51.92</td>\n",
       "      <td>1.77</td>\n",
       "      <td>48.08</td>\n",
       "      <td>1.77</td>\n",
       "    </tr>\n",
       "    <tr>\n",
       "      <th>LowCoupling</th>\n",
       "      <td>52.71</td>\n",
       "      <td>2.39</td>\n",
       "      <td>47.29</td>\n",
       "      <td>2.39</td>\n",
       "    </tr>\n",
       "    <tr>\n",
       "      <th>HighCoupling</th>\n",
       "      <td>50.67</td>\n",
       "      <td>2.62</td>\n",
       "      <td>49.33</td>\n",
       "      <td>2.62</td>\n",
       "    </tr>\n",
       "  </tbody>\n",
       "</table>\n",
       "</div>"
      ],
      "text/plain": [
       "              Target mean(%)  Target sem(%)  Comp mean(%)  Comp sem(%)\n",
       "All                    51.92           1.77         48.08         1.77\n",
       "LowCoupling            52.71           2.39         47.29         2.39\n",
       "HighCoupling           50.67           2.62         49.33         2.62"
      ]
     },
     "execution_count": 56,
     "metadata": {},
     "output_type": "execute_result"
    }
   ],
   "source": [
    "# Phantom Decoy: Undesirable\n",
    "decoy_P_U_df = decoy_P_df[decoy_P_df[\"PhantomCondition\"] == \"Undesirable\"]\n",
    "decoy_P_U_df_LowC = decoy_P_U_df[decoy_P_U_df[\"CouplingCondition\"] == \"Low coupling\"]\n",
    "decoy_P_U_df_HighC = decoy_P_U_df[decoy_P_U_df[\"CouplingCondition\"] == \"High coupling\"]\n",
    "\n",
    "decoy_P_U_df = decoy_P_U_df.reset_index()\n",
    "decoy_P_U_df_LowC = decoy_P_U_df_LowC.reset_index()\n",
    "decoy_P_U_df_HighC = decoy_P_U_df_HighC.reset_index()\n",
    "\n",
    "total_n = decoy_P_U_df[\"Survey_ID\"].unique()\n",
    "number_of_low_coupling = decoy_P_U_df_LowC[\"Survey_ID\"].unique()\n",
    "number_of_high_coupling = decoy_P_U_df_HighC[\"Survey_ID\"].unique()\n",
    "\n",
    "total_n = int(len(total_n))\n",
    "number_of_low_coupling = int(len(number_of_low_coupling))\n",
    "number_of_high_coupling = int(len(number_of_high_coupling))\n",
    "\n",
    "decoy_P_U_freq_df = partFreq_PhantomDecoy(decoy_P_U_df)\n",
    "decoy_P_U_LowC_freq_df = partFreq_PhantomDecoy(decoy_P_U_df_LowC)\n",
    "decoy_P_U_HighC_freq_df = partFreq_PhantomDecoy(decoy_P_U_df_HighC)\n",
    "\n",
    "# Get mean, std, and sem for all participatns.\n",
    "target_P_U_mean, target_P_U_std, target_P_U_sem = get_decoy_stats(decoy_P_U_freq_df, \"Target(%)\", total_n)\n",
    "competitor_P_U_mean, competitor_P_U_std, competitor_P_U_sem = get_decoy_stats(decoy_P_U_freq_df, \"Competitor(%)\", total_n)\n",
    "\n",
    "# Get mean, std, and sem for 'Low coupling' participatns.\n",
    "target_P_U_LowC_mean, target_P_U_LowC_std, target_P_U_LowC_sem = get_decoy_stats(decoy_P_U_LowC_freq_df, \"Target(%)\", number_of_low_coupling)\n",
    "competitor_P_U_LowC_mean, competitor_P_U_LowC_std, competitor_P_U_LowC_sem = get_decoy_stats(decoy_P_U_LowC_freq_df, \"Competitor(%)\", number_of_low_coupling)\n",
    "\n",
    "# Get mean, std, and sem for 'High coupling' participatns.\n",
    "target_P_U_HighC_mean, target_P_U_HighC_std, target_P_U_HighC_sem = get_decoy_stats(decoy_P_U_HighC_freq_df, \"Target(%)\", number_of_high_coupling)\n",
    "competitor_P_U_HighC_mean, competitor_P_U_HighC_std, competitor_P_U_HighC_sem = get_decoy_stats(decoy_P_U_HighC_freq_df, \"Competitor(%)\", number_of_high_coupling)\n",
    "\n",
    "P_U_summary_df = pd.DataFrame({'Target mean(%)': [target_P_U_mean, target_P_U_LowC_mean, target_P_U_HighC_mean],\n",
    "                  'Target sem(%)': [target_P_U_sem, target_P_U_LowC_sem, target_P_U_HighC_sem],\n",
    "                  'Comp mean(%)': [competitor_P_U_mean, competitor_P_U_LowC_mean, competitor_P_U_HighC_mean],\n",
    "                  'Comp sem(%)': [competitor_P_U_sem, competitor_P_U_LowC_sem, competitor_P_U_HighC_sem]},\n",
    "                  index=[\"All\", \"LowCoupling\", \"HighCoupling\"])\n",
    "\n",
    "P_U_summary_df.head()"
   ]
  },
  {
   "cell_type": "code",
   "execution_count": 268,
   "id": "547cb49c",
   "metadata": {},
   "outputs": [
    {
     "data": {
      "text/plain": [
       "11.039128053344506"
      ]
     },
     "execution_count": 268,
     "metadata": {},
     "output_type": "execute_result"
    }
   ],
   "source": [
    "target_P_U_std"
   ]
  },
  {
   "cell_type": "markdown",
   "id": "09374803",
   "metadata": {},
   "source": [
    "### Displaying All Phantoms"
   ]
  },
  {
   "cell_type": "code",
   "execution_count": 57,
   "id": "c9513a42",
   "metadata": {},
   "outputs": [
    {
     "data": {
      "image/png": "[encoded data removed]",
      "text/plain": [
       "<Figure size 1080x1080 with 9 Axes>"
      ]
     },
     "metadata": {
      "needs_background": "light"
     },
     "output_type": "display_data"
    }
   ],
   "source": [
    "labels = ['Taget', 'Competitor']\n",
    "\n",
    "x = np.arange(len(labels))\n",
    "\n",
    "y1 = np.array([target_P_HD_mean, competitor_P_HD_mean])\n",
    "y2 = np.array([target_P_WD_mean, competitor_P_WD_mean])\n",
    "y3 = np.array([target_P_U_mean, competitor_P_U_mean])\n",
    "\n",
    "error1 = np.array([target_P_HD_sem, competitor_P_HD_sem])\n",
    "error2 = np.array([target_P_WD_sem, competitor_P_WD_sem])\n",
    "error3 = np.array([target_P_U_sem, competitor_P_U_sem])\n",
    "\n",
    "y1s = np.array([y1, y2, y3])\n",
    "errors1 = np.array([error1, error2, error3])\n",
    "\n",
    "ys = np.array([[[target_P_HD_mean, competitor_P_HD_mean], [target_P_WD_mean, competitor_P_WD_mean], [target_P_U_mean, competitor_P_U_mean]],\n",
    "              [[target_P_HD_LowC_mean, competitor_P_HD_LowC_mean], [target_P_WD_LowC_mean, competitor_P_WD_LowC_mean], [target_P_U_LowC_mean, competitor_P_U_LowC_mean]], \n",
    "              [[target_P_HD_HighC_mean, competitor_P_HD_HighC_mean], [target_P_WD_HighC_mean, competitor_P_WD_HighC_mean], [target_P_U_HighC_mean, competitor_P_U_HighC_mean]]])\n",
    "\n",
    "errors = np.array([[[target_P_HD_sem, competitor_P_HD_sem], [target_P_WD_sem, competitor_P_WD_sem], [target_P_U_sem, competitor_P_U_sem]],\n",
    "                  [[target_P_HD_LowC_sem, competitor_P_HD_LowC_sem], [target_P_WD_LowC_sem, competitor_P_WD_LowC_sem], [target_P_U_LowC_sem, competitor_P_U_LowC_sem]],\n",
    "                  [[target_P_HD_HighC_sem, competitor_P_HD_HighC_sem], [target_P_WD_HighC_sem, competitor_P_WD_HighC_sem], [target_P_U_HighC_sem, competitor_P_U_HighC_sem]]])\n",
    "\n",
    "titles = [[\"Phantom Highly Desirable\", \"Phantom Weakly Desirable\", \"Phantom Undersirable\"],\n",
    "         [\"Phantom Highly Desirable (LC)\", \"Phantom Weakly Desirable (LC)\", \"Phantom Undersirable (LC)\"],\n",
    "         [\"Phantom Highly Desirable (HC)\", \"Phantom Weakly Desirable (HC)\", \"Phantom Undersirable (HC)\"]]\n",
    "\n",
    "fig, ax = plt.subplots(3, 3, figsize=(15, 15))\n",
    "                       \n",
    "for x in range(3):\n",
    "    for y in range(3):\n",
    "        ax[y][x].bar(labels, ys[y][x], 0.75, yerr=errors[y][x], capsize=8)\n",
    "        ax[y][x].set_ylim(0, 105)\n",
    "        ax[y][x].set_ylabel('Percentage')\n",
    "        ax[y][x].set_title(titles[y][x])\n",
    "        \n",
    "plt.show()"
   ]
  },
  {
   "cell_type": "code",
   "execution_count": 58,
   "id": "8fe7d2b3",
   "metadata": {},
   "outputs": [
    {
     "data": {
      "text/plain": [
       "Text(0.5, 1.0, 'Noisy Phantoms')"
      ]
     },
     "execution_count": 58,
     "metadata": {},
     "output_type": "execute_result"
    },
    {
     "data": {
      "image/png": "[encoded data removed]",
      "text/plain": [
       "<Figure size 360x360 with 1 Axes>"
      ]
     },
     "metadata": {
      "needs_background": "light"
     },
     "output_type": "display_data"
    }
   ],
   "source": [
    "fig, ax = plt.subplots(1, 1, figsize=(5, 5))\n",
    "\n",
    "ax.bar(['HD', 'WD', \"U\"], [target_P_HD_mean, target_P_WD_mean, target_P_U_mean], 0.75, capsize=8, yerr=[target_P_HD_sem, target_P_WD_sem, target_P_U_sem])\n",
    "#error_bars = ax.errorbar(x=['HD', 'WD', \"U\"], y=[target_P_HD_mean, target_P_WD_mean, target_P_U_mean], yerr=[target_P_HD_sem, target_P_WD_sem, target_P_U_sem])\n",
    "#ax.set_ylim(40, 65)\n",
    "#xys = error_bars.lines[0].get_xydata()\n",
    "#print(xys)\n",
    "\n",
    "ax.set_ylabel('Percentage')\n",
    "ax.set_title(\"Noisy Phantoms\")\n"
   ]
  },
  {
   "cell_type": "code",
   "execution_count": 260,
   "id": "07ab8938",
   "metadata": {},
   "outputs": [
    {
     "data": {
      "text/html": [
       "<div>\n",
       "<style scoped>\n",
       "    .dataframe tbody tr th:only-of-type {\n",
       "        vertical-align: middle;\n",
       "    }\n",
       "\n",
       "    .dataframe tbody tr th {\n",
       "        vertical-align: top;\n",
       "    }\n",
       "\n",
       "    .dataframe thead th {\n",
       "        text-align: right;\n",
       "    }\n",
       "</style>\n",
       "<table border=\"1\" class=\"dataframe\">\n",
       "  <thead>\n",
       "    <tr style=\"text-align: right;\">\n",
       "      <th></th>\n",
       "      <th>PID</th>\n",
       "      <th>Target(num)</th>\n",
       "      <th>Competitor(num)</th>\n",
       "      <th>Target(%)</th>\n",
       "      <th>Competitor(%)</th>\n",
       "      <th>Target_perc</th>\n",
       "      <th>Competitor_perc_</th>\n",
       "      <th>PhantomCondition</th>\n",
       "      <th>CouplingCondition</th>\n",
       "    </tr>\n",
       "  </thead>\n",
       "  <tbody>\n",
       "    <tr>\n",
       "      <th>0</th>\n",
       "      <td>40781</td>\n",
       "      <td>12</td>\n",
       "      <td>8</td>\n",
       "      <td>NaN</td>\n",
       "      <td>NaN</td>\n",
       "      <td>60.0</td>\n",
       "      <td>40.0</td>\n",
       "      <td>Highly_desirable</td>\n",
       "      <td>High coupling</td>\n",
       "    </tr>\n",
       "    <tr>\n",
       "      <th>1</th>\n",
       "      <td>40447</td>\n",
       "      <td>12</td>\n",
       "      <td>8</td>\n",
       "      <td>NaN</td>\n",
       "      <td>NaN</td>\n",
       "      <td>60.0</td>\n",
       "      <td>40.0</td>\n",
       "      <td>Highly_desirable</td>\n",
       "      <td>Low coupling</td>\n",
       "    </tr>\n",
       "    <tr>\n",
       "      <th>2</th>\n",
       "      <td>41454</td>\n",
       "      <td>10</td>\n",
       "      <td>10</td>\n",
       "      <td>NaN</td>\n",
       "      <td>NaN</td>\n",
       "      <td>50.0</td>\n",
       "      <td>50.0</td>\n",
       "      <td>Undesirable</td>\n",
       "      <td>Low coupling</td>\n",
       "    </tr>\n",
       "    <tr>\n",
       "      <th>3</th>\n",
       "      <td>34796</td>\n",
       "      <td>8</td>\n",
       "      <td>12</td>\n",
       "      <td>NaN</td>\n",
       "      <td>NaN</td>\n",
       "      <td>40.0</td>\n",
       "      <td>60.0</td>\n",
       "      <td>Weakly_desirable</td>\n",
       "      <td>Low coupling</td>\n",
       "    </tr>\n",
       "    <tr>\n",
       "      <th>4</th>\n",
       "      <td>44066</td>\n",
       "      <td>9</td>\n",
       "      <td>11</td>\n",
       "      <td>NaN</td>\n",
       "      <td>NaN</td>\n",
       "      <td>45.0</td>\n",
       "      <td>55.0</td>\n",
       "      <td>Weakly_desirable</td>\n",
       "      <td>High coupling</td>\n",
       "    </tr>\n",
       "    <tr>\n",
       "      <th>...</th>\n",
       "      <td>...</td>\n",
       "      <td>...</td>\n",
       "      <td>...</td>\n",
       "      <td>...</td>\n",
       "      <td>...</td>\n",
       "      <td>...</td>\n",
       "      <td>...</td>\n",
       "      <td>...</td>\n",
       "      <td>...</td>\n",
       "    </tr>\n",
       "    <tr>\n",
       "      <th>120</th>\n",
       "      <td>44089</td>\n",
       "      <td>9</td>\n",
       "      <td>11</td>\n",
       "      <td>NaN</td>\n",
       "      <td>NaN</td>\n",
       "      <td>45.0</td>\n",
       "      <td>55.0</td>\n",
       "      <td>Highly_desirable</td>\n",
       "      <td>High coupling</td>\n",
       "    </tr>\n",
       "    <tr>\n",
       "      <th>121</th>\n",
       "      <td>31535</td>\n",
       "      <td>8</td>\n",
       "      <td>12</td>\n",
       "      <td>NaN</td>\n",
       "      <td>NaN</td>\n",
       "      <td>40.0</td>\n",
       "      <td>60.0</td>\n",
       "      <td>Highly_desirable</td>\n",
       "      <td>Low coupling</td>\n",
       "    </tr>\n",
       "    <tr>\n",
       "      <th>122</th>\n",
       "      <td>37897</td>\n",
       "      <td>11</td>\n",
       "      <td>9</td>\n",
       "      <td>NaN</td>\n",
       "      <td>NaN</td>\n",
       "      <td>55.0</td>\n",
       "      <td>45.0</td>\n",
       "      <td>Weakly_desirable</td>\n",
       "      <td>Low coupling</td>\n",
       "    </tr>\n",
       "    <tr>\n",
       "      <th>123</th>\n",
       "      <td>42986</td>\n",
       "      <td>10</td>\n",
       "      <td>10</td>\n",
       "      <td>NaN</td>\n",
       "      <td>NaN</td>\n",
       "      <td>50.0</td>\n",
       "      <td>50.0</td>\n",
       "      <td>Highly_desirable</td>\n",
       "      <td>High coupling</td>\n",
       "    </tr>\n",
       "    <tr>\n",
       "      <th>124</th>\n",
       "      <td>40590</td>\n",
       "      <td>15</td>\n",
       "      <td>5</td>\n",
       "      <td>NaN</td>\n",
       "      <td>NaN</td>\n",
       "      <td>75.0</td>\n",
       "      <td>25.0</td>\n",
       "      <td>Highly_desirable</td>\n",
       "      <td>Low coupling</td>\n",
       "    </tr>\n",
       "  </tbody>\n",
       "</table>\n",
       "<p>125 rows × 9 columns</p>\n",
       "</div>"
      ],
      "text/plain": [
       "       PID Target(num) Competitor(num) Target(%) Competitor(%)  Target_perc  \\\n",
       "0    40781          12               8       NaN           NaN         60.0   \n",
       "1    40447          12               8       NaN           NaN         60.0   \n",
       "2    41454          10              10       NaN           NaN         50.0   \n",
       "3    34796           8              12       NaN           NaN         40.0   \n",
       "4    44066           9              11       NaN           NaN         45.0   \n",
       "..     ...         ...             ...       ...           ...          ...   \n",
       "120  44089           9              11       NaN           NaN         45.0   \n",
       "121  31535           8              12       NaN           NaN         40.0   \n",
       "122  37897          11               9       NaN           NaN         55.0   \n",
       "123  42986          10              10       NaN           NaN         50.0   \n",
       "124  40590          15               5       NaN           NaN         75.0   \n",
       "\n",
       "     Competitor_perc_  PhantomCondition CouplingCondition  \n",
       "0                40.0  Highly_desirable     High coupling  \n",
       "1                40.0  Highly_desirable      Low coupling  \n",
       "2                50.0       Undesirable      Low coupling  \n",
       "3                60.0  Weakly_desirable      Low coupling  \n",
       "4                55.0  Weakly_desirable     High coupling  \n",
       "..                ...               ...               ...  \n",
       "120              55.0  Highly_desirable     High coupling  \n",
       "121              60.0  Highly_desirable      Low coupling  \n",
       "122              45.0  Weakly_desirable      Low coupling  \n",
       "123              50.0  Highly_desirable     High coupling  \n",
       "124              25.0  Highly_desirable      Low coupling  \n",
       "\n",
       "[125 rows x 9 columns]"
      ]
     },
     "execution_count": 260,
     "metadata": {},
     "output_type": "execute_result"
    }
   ],
   "source": [
    "decoy_P_part_df"
   ]
  },
  {
   "cell_type": "code",
   "execution_count": 265,
   "id": "07eb6f61",
   "metadata": {
    "scrolled": false
   },
   "outputs": [
    {
     "data": {
      "text/plain": [
       "<ErrorbarContainer object of 3 artists>"
      ]
     },
     "execution_count": 265,
     "metadata": {},
     "output_type": "execute_result"
    },
    {
     "data": {
      "image/png": "[encoded data removed]",
      "text/plain": [
       "<Figure size 288x288 with 1 Axes>"
      ]
     },
     "metadata": {
      "needs_background": "light"
     },
     "output_type": "display_data"
    }
   ],
   "source": [
    "decoy_P_part_df = partFreq_PhantomDecoyWCondition(decoy_P_df)\n",
    "#decoy_P_part_df['PhantomCondition'] = decoy_P_part_df['PhantomCondition'].replace(['Highly_desirable'],'Highly desirable')\n",
    "#decoy_P_part_df['PhantomCondition'] = decoy_P_part_df['PhantomCondition'].replace(['Weakly_desirable'],'Weakly desirable')\n",
    "\n",
    "fig, ax = plt.subplots(1, 1, figsize=(4, 4))\n",
    "\n",
    "sns_y1 = np.array([target_P_HD_mean, target_P_WD_mean, target_P_U_mean])\n",
    "sns_x1 = [\"Highly_desirable\", \"Weakly_desirable\", \"Undesirable\"]\n",
    "sns_error1 = np.array([target_P_HD_sem, target_P_WD_sem, target_P_U_sem])\n",
    "\n",
    "PNBar = sns.barplot(x=\"PhantomCondition\", y=\"Target_perc\",\n",
    "            order=[\"Highly_desirable\", \"Weakly_desirable\", \"Undesirable\"],\n",
    "            ci=None,\n",
    "            ax=ax,        \n",
    "            data=decoy_P_part_df) #kind=\"bar\", ci=None,\n",
    "PNBar.set(ylim=(40, 65))\n",
    "\n",
    "sns.despine()\n",
    "ax.set_xticks([])\n",
    "#ax.set_xticks([\"Highly desirable\", \"Weakly desirable\", \"Undesirable\"])\n",
    "\n",
    "ax.set_ylabel('Mean pereference for Target (%)', size=12)\n",
    "ax.set_xlabel(\"HighlyDesirable  WeaklyDesirable  Undesirable\", size=10)\n",
    "\n",
    "bars = PNBar.errorbar(x=sns_x1, y=sns_y1, yerr=sns_error1)\n",
    "\n",
    "xys = bars.lines[0].get_xydata()\n",
    "xys2 = np.array([[0, 58.12], [1, 54.13], [2, 51.92]])\n",
    "xys3 = np.array([[0, 58.12], [1, 0], [2, 0]])\n",
    "#xys3 = xys[:,0] + np.array()\n",
    "#print(xys)\n",
    "bars.remove()\n",
    "#[\"Highly_desirable\", \"Weakly_desirable\", \"Undesirable\"]\n",
    "PNBar.errorbar(x=xys2[:, 0], y=[target_P_HD_mean, target_P_WD_mean, target_P_U_mean], \n",
    "               yerr=[target_P_HD_sem, target_P_WD_sem, target_P_U_sem],\n",
    "              ls='', lw=3, color='black', capsize=8)\n",
    "\n",
    "\n",
    "\n",
    "\n"
   ]
  },
  {
   "cell_type": "code",
   "execution_count": 69,
   "id": "ce6daa48",
   "metadata": {},
   "outputs": [],
   "source": [
    "#sns_y1"
   ]
  },
  {
   "cell_type": "code",
   "execution_count": 70,
   "id": "8a0d6049",
   "metadata": {},
   "outputs": [],
   "source": [
    "#sns_error1"
   ]
  },
  {
   "cell_type": "code",
   "execution_count": 71,
   "id": "547af45f",
   "metadata": {},
   "outputs": [
    {
     "name": "stdout",
     "output_type": "stream",
     "text": [
      "3\n",
      "[[0.  0.4]\n",
      " [1.  0.6]\n",
      " [2.  0.6]]\n",
      "-0.2666666666666667\n",
      "[[0.  0.5]\n",
      " [1.  0.7]\n",
      " [2.  0.2]]\n",
      "0.0\n",
      "[[0.  0.5]\n",
      " [1.  0.7]\n",
      " [2.  0.4]]\n",
      "0.2666666666666666\n"
     ]
    },
    {
     "data": {
      "image/png": "[encoded data removed]",
      "text/plain": [
       "<Figure size 432x288 with 1 Axes>"
      ]
     },
     "metadata": {
      "needs_background": "light"
     },
     "output_type": "display_data"
    }
   ],
   "source": [
    "x = pd.DataFrame([\n",
    "    ['Group 1', 'A', 0.4, 0.08],\n",
    "    ['Group 1', 'B', 0.5, 0.05],\n",
    "    ['Group 1', 'C', 0.5, 0.02],\n",
    "    ['Group 2', 'A', 0.6, 0.07],\n",
    "    ['Group 2', 'B', 0.7, 0.09],\n",
    "    ['Group 2', 'C', 0.7, 0.02],\n",
    "    ['Group 3', 'A', 0.6, 0.07],\n",
    "    ['Group 3', 'B', 0.2, 0.09],\n",
    "    ['Group 3', 'C', 0.4, 0.11],\n",
    "], columns=['Group', 'Subgroup', 'Mean', 'SD'])\n",
    "\n",
    "num_hues = len(np.unique(x['Subgroup']))\n",
    "print(num_hues)\n",
    "ax = sns.barplot(data=x, x='Group', y='Mean', hue='Subgroup')\n",
    "for (hue, df_hue), dogde_dist in zip(x.groupby('Subgroup'), np.linspace(-0.4, 0.4, 2 * num_hues + 1)[1::2]):\n",
    "    bars = ax.errorbar(data=df_hue, x='Group', y='Mean', yerr='SD', ls='', lw=3, color='black')\n",
    "    xys = bars.lines[0].get_xydata()\n",
    "    bars.remove()\n",
    "    print(xys)\n",
    "    print(dogde_dist)\n",
    "    ax.errorbar(data=df_hue, x=xys[:, 0] + dogde_dist, y='Mean', yerr='SD', ls='', lw=3, color='black')\n",
    "plt.show()"
   ]
  },
  {
   "cell_type": "code",
   "execution_count": null,
   "id": "58e1846f",
   "metadata": {},
   "outputs": [],
   "source": [
    "# Makes figures comparing all items and not biased items."
   ]
  },
  {
   "cell_type": "code",
   "execution_count": 72,
   "id": "d3984c9d",
   "metadata": {},
   "outputs": [
    {
     "data": {
      "image/png": "[encoded data removed]",
      "text/plain": [
       "<Figure size 576x360 with 1 Axes>"
      ]
     },
     "metadata": {
      "needs_background": "light"
     },
     "output_type": "display_data"
    }
   ],
   "source": [
    "fig, ax = plt.subplots(1, 1, figsize=(8, 5))\n",
    "\n",
    "n_HD, bins_HD, patches_HD = ax.hist(decoy_P_HD_freq_df[\"Target(%)\"], density=True, histtype='barstacked', rwidth=None, label=\"Highly Desirable\", alpha=0.4, bins=10)\n",
    "y_HD = ((1 / (np.sqrt(2 * np.pi) * target_P_HD_std)) * np.exp(-0.5 * (1 / target_P_HD_std * (bins_HD - target_P_HD_mean))**2))\n",
    "ax.plot(bins_HD, y_HD, color=\"blue\")\n",
    "ax.plot(target_P_HD_mean, max(y_HD), \"ro\", color=\"blue\")\n",
    "\n",
    "n_WD, bins_WD, patches_WD = ax.hist(decoy_P_WD_freq_df[\"Target(%)\"], density=True, histtype='barstacked', rwidth=None, label=\"Weakly Desirable\", alpha=0.4, bins=10)\n",
    "y_WD = ((1 / (np.sqrt(2 * np.pi) * target_P_WD_std)) * np.exp(-0.5 * (1 / target_P_WD_std * (bins_WD - target_P_WD_mean))**2))\n",
    "ax.plot(bins_WD, y_WD, color=\"orange\")\n",
    "ax.plot(target_P_WD_mean, max(y_WD), \"ro\", color=\"orange\")\n",
    "\n",
    "n_U, bins_U, patches_U = ax.hist(decoy_P_U_freq_df[\"Target(%)\"], density=True, histtype='barstacked', rwidth=None, label=\"Undesirable\", alpha=0.4, bins=10)\n",
    "y_U = ((1 / (np.sqrt(2 * np.pi) * target_P_U_std)) * np.exp(-0.5 * (1 / target_P_U_std * (bins_U - target_P_U_mean))**2))\n",
    "ax.plot(bins_U, y_U, color=\"green\")\n",
    "ax.plot(target_P_U_mean, max(y_U), \"ro\", color=\"green\")\n",
    "\n",
    "ax.set_title(\"Histogram of %Correct Choices across conditions\")\n",
    "ax.set_xlabel('% Correct Choices')\n",
    "ax.legend()\n",
    "plt.show()\n"
   ]
  },
  {
   "cell_type": "code",
   "execution_count": 73,
   "id": "45ef5094",
   "metadata": {},
   "outputs": [
    {
     "data": {
      "text/plain": [
       "<seaborn.axisgrid.FacetGrid at 0x7f82c1386fd0>"
      ]
     },
     "execution_count": 73,
     "metadata": {},
     "output_type": "execute_result"
    },
    {
     "data": {
      "image/png": "[encoded data removed]",
      "text/plain": [
       "<Figure size 360x360 with 1 Axes>"
      ]
     },
     "metadata": {
      "needs_background": "light"
     },
     "output_type": "display_data"
    }
   ],
   "source": [
    "\n",
    "sns.catplot(x=\"PhantomCondition\", y=\"Target_perc\", kind=\"box\", order=[\"Highly_desirable\", \"Weakly_desirable\", \"Undesirable\"], data=decoy_P_part_df)"
   ]
  },
  {
   "cell_type": "code",
   "execution_count": 74,
   "id": "d0ad7eb6",
   "metadata": {},
   "outputs": [
    {
     "data": {
      "text/plain": [
       "<seaborn.axisgrid.FacetGrid at 0x7f82709d4bb0>"
      ]
     },
     "execution_count": 74,
     "metadata": {},
     "output_type": "execute_result"
    },
    {
     "data": {
      "image/png": "[encoded data removed]",
      "text/plain": [
       "<Figure size 360x360 with 1 Axes>"
      ]
     },
     "metadata": {
      "needs_background": "light"
     },
     "output_type": "display_data"
    }
   ],
   "source": [
    "sns.catplot(x=\"CouplingCondition\", y=\"Target_perc\", kind=\"box\", data=decoy_P_part_df)"
   ]
  },
  {
   "cell_type": "code",
   "execution_count": 75,
   "id": "00a1aa32",
   "metadata": {},
   "outputs": [
    {
     "data": {
      "text/plain": [
       "<seaborn.axisgrid.FacetGrid at 0x7f82897e4160>"
      ]
     },
     "execution_count": 75,
     "metadata": {},
     "output_type": "execute_result"
    },
    {
     "data": {
      "image/png": "[encoded data removed]",
      "text/plain": [
       "<Figure size 464.875x360 with 1 Axes>"
      ]
     },
     "metadata": {
      "needs_background": "light"
     },
     "output_type": "display_data"
    }
   ],
   "source": [
    "sns.catplot(x=\"PhantomCondition\", y=\"Target_perc\", kind=\"box\", hue=\"CouplingCondition\", data=decoy_P_part_df)\n"
   ]
  },
  {
   "cell_type": "markdown",
   "id": "6be38349",
   "metadata": {},
   "source": [
    "### Statistical Analysis Phantom Decoys NoisyItems"
   ]
  },
  {
   "cell_type": "markdown",
   "id": "4fc4588d",
   "metadata": {},
   "source": [
    "#### All conditions One-way ANOVA"
   ]
  },
  {
   "cell_type": "code",
   "execution_count": 76,
   "id": "33b0b8a9",
   "metadata": {},
   "outputs": [
    {
     "name": "stdout",
     "output_type": "stream",
     "text": [
      "                     df        sum_sq     mean_sq         F    PR(>F)\n",
      "PhantomCondition    2.0    784.838378  392.419189  3.329203  0.039104\n",
      "Residual          122.0  14380.361622  117.871817       NaN       NaN\n"
     ]
    }
   ],
   "source": [
    "#One-way ANOVA \"PhantomCondition\" with statsmodels\n",
    "PhanDecoys_Noisy_lm = ols('Target_perc ~ PhantomCondition', data=decoy_P_part_df).fit()\n",
    "\n",
    "PhanDecoys_Noisy_table = sm.stats.anova_lm(PhanDecoys_Noisy_lm)\n",
    "\n",
    "print(PhanDecoys_Noisy_table)"
   ]
  },
  {
   "cell_type": "code",
   "execution_count": 267,
   "id": "d028c501",
   "metadata": {},
   "outputs": [
    {
     "data": {
      "text/html": [
       "<table class=\"simpletable\">\n",
       "<caption>OLS Regression Results</caption>\n",
       "<tr>\n",
       "  <th>Dep. Variable:</th>       <td>Target_perc</td>   <th>  R-squared:         </th> <td>   0.052</td>\n",
       "</tr>\n",
       "<tr>\n",
       "  <th>Model:</th>                   <td>OLS</td>       <th>  Adj. R-squared:    </th> <td>   0.036</td>\n",
       "</tr>\n",
       "<tr>\n",
       "  <th>Method:</th>             <td>Least Squares</td>  <th>  F-statistic:       </th> <td>   3.329</td>\n",
       "</tr>\n",
       "<tr>\n",
       "  <th>Date:</th>             <td>Fri, 03 Jun 2022</td> <th>  Prob (F-statistic):</th>  <td>0.0391</td> \n",
       "</tr>\n",
       "<tr>\n",
       "  <th>Time:</th>                 <td>01:27:32</td>     <th>  Log-Likelihood:    </th> <td> -473.95</td>\n",
       "</tr>\n",
       "<tr>\n",
       "  <th>No. Observations:</th>      <td>   125</td>      <th>  AIC:               </th> <td>   953.9</td>\n",
       "</tr>\n",
       "<tr>\n",
       "  <th>Df Residuals:</th>          <td>   122</td>      <th>  BIC:               </th> <td>   962.4</td>\n",
       "</tr>\n",
       "<tr>\n",
       "  <th>Df Model:</th>              <td>     2</td>      <th>                     </th>     <td> </td>   \n",
       "</tr>\n",
       "<tr>\n",
       "  <th>Covariance Type:</th>      <td>nonrobust</td>    <th>                     </th>     <td> </td>   \n",
       "</tr>\n",
       "</table>\n",
       "<table class=\"simpletable\">\n",
       "<tr>\n",
       "                    <td></td>                      <th>coef</th>     <th>std err</th>      <th>t</th>      <th>P>|t|</th>  <th>[0.025</th>    <th>0.975]</th>  \n",
       "</tr>\n",
       "<tr>\n",
       "  <th>Intercept</th>                            <td>   58.1250</td> <td>    1.717</td> <td>   33.860</td> <td> 0.000</td> <td>   54.727</td> <td>   61.523</td>\n",
       "</tr>\n",
       "<tr>\n",
       "  <th>PhantomCondition[T.Undesirable]</th>      <td>   -6.2019</td> <td>    2.443</td> <td>   -2.538</td> <td> 0.012</td> <td>  -11.038</td> <td>   -1.365</td>\n",
       "</tr>\n",
       "<tr>\n",
       "  <th>PhantomCondition[T.Weakly_desirable]</th> <td>   -3.9946</td> <td>    2.347</td> <td>   -1.702</td> <td> 0.091</td> <td>   -8.641</td> <td>    0.652</td>\n",
       "</tr>\n",
       "</table>\n",
       "<table class=\"simpletable\">\n",
       "<tr>\n",
       "  <th>Omnibus:</th>       <td>12.361</td> <th>  Durbin-Watson:     </th> <td>   2.128</td>\n",
       "</tr>\n",
       "<tr>\n",
       "  <th>Prob(Omnibus):</th> <td> 0.002</td> <th>  Jarque-Bera (JB):  </th> <td>  14.626</td>\n",
       "</tr>\n",
       "<tr>\n",
       "  <th>Skew:</th>          <td> 0.607</td> <th>  Prob(JB):          </th> <td>0.000667</td>\n",
       "</tr>\n",
       "<tr>\n",
       "  <th>Kurtosis:</th>      <td> 4.155</td> <th>  Cond. No.          </th> <td>    3.81</td>\n",
       "</tr>\n",
       "</table><br/><br/>Notes:<br/>[1] Standard Errors assume that the covariance matrix of the errors is correctly specified."
      ],
      "text/plain": [
       "<class 'statsmodels.iolib.summary.Summary'>\n",
       "\"\"\"\n",
       "                            OLS Regression Results                            \n",
       "==============================================================================\n",
       "Dep. Variable:            Target_perc   R-squared:                       0.052\n",
       "Model:                            OLS   Adj. R-squared:                  0.036\n",
       "Method:                 Least Squares   F-statistic:                     3.329\n",
       "Date:                Fri, 03 Jun 2022   Prob (F-statistic):             0.0391\n",
       "Time:                        01:27:32   Log-Likelihood:                -473.95\n",
       "No. Observations:                 125   AIC:                             953.9\n",
       "Df Residuals:                     122   BIC:                             962.4\n",
       "Df Model:                           2                                         \n",
       "Covariance Type:            nonrobust                                         \n",
       "========================================================================================================\n",
       "                                           coef    std err          t      P>|t|      [0.025      0.975]\n",
       "--------------------------------------------------------------------------------------------------------\n",
       "Intercept                               58.1250      1.717     33.860      0.000      54.727      61.523\n",
       "PhantomCondition[T.Undesirable]         -6.2019      2.443     -2.538      0.012     -11.038      -1.365\n",
       "PhantomCondition[T.Weakly_desirable]    -3.9946      2.347     -1.702      0.091      -8.641       0.652\n",
       "==============================================================================\n",
       "Omnibus:                       12.361   Durbin-Watson:                   2.128\n",
       "Prob(Omnibus):                  0.002   Jarque-Bera (JB):               14.626\n",
       "Skew:                           0.607   Prob(JB):                     0.000667\n",
       "Kurtosis:                       4.155   Cond. No.                         3.81\n",
       "==============================================================================\n",
       "\n",
       "Notes:\n",
       "[1] Standard Errors assume that the covariance matrix of the errors is correctly specified.\n",
       "\"\"\""
      ]
     },
     "execution_count": 267,
     "metadata": {},
     "output_type": "execute_result"
    }
   ],
   "source": [
    "PhanDecoys_Noisy_lm.summary()"
   ]
  },
  {
   "cell_type": "code",
   "execution_count": 77,
   "id": "d7c8a576",
   "metadata": {},
   "outputs": [
    {
     "data": {
      "text/plain": [
       "F_onewayResult(statistic=3.329202860936702, pvalue=0.03910403517705392)"
      ]
     },
     "execution_count": 77,
     "metadata": {},
     "output_type": "execute_result"
    }
   ],
   "source": [
    "#One-way ANOVA \"PhantomCondition\" with scipy.stats\n",
    "f_oneway(decoy_P_HD_freq_df[\"Target(%)\"], decoy_P_WD_freq_df[\"Target(%)\"], decoy_P_U_freq_df[\"Target(%)\"])\n"
   ]
  },
  {
   "cell_type": "code",
   "execution_count": 78,
   "id": "42b388ec",
   "metadata": {},
   "outputs": [
    {
     "name": "stdout",
     "output_type": "stream",
     "text": [
      "                      df        sum_sq     mean_sq         F    PR(>F)\n",
      "CouplingCondition    1.0     16.820133   16.820133  0.136574  0.712346\n",
      "Residual           123.0  15148.379867  123.157560       NaN       NaN\n"
     ]
    }
   ],
   "source": [
    "#One-way ANOVA \"CouplingCondition\" with statsmodels\n",
    "PhanDecoys_CoupC_Noisy_lm = ols('Target_perc ~ CouplingCondition', data=decoy_P_part_df).fit()\n",
    "\n",
    "PhanDecoys_CoupC_Noisy_table = sm.stats.anova_lm(PhanDecoys_CoupC_Noisy_lm)\n",
    "\n",
    "print(PhanDecoys_CoupC_Noisy_table)"
   ]
  },
  {
   "cell_type": "code",
   "execution_count": 79,
   "id": "9e470fe6",
   "metadata": {},
   "outputs": [
    {
     "data": {
      "text/plain": [
       "1.0"
      ]
     },
     "execution_count": 79,
     "metadata": {},
     "output_type": "execute_result"
    }
   ],
   "source": [
    "# Power analysis for ANOVA\n",
    "\n",
    "anova_power = stats_power.FTestAnovaPower()\n",
    "\n",
    "anova_power.solve_power(effect_size=3.329,\n",
    "                 nobs=125,\n",
    "                 alpha=0.05,\n",
    "                 power=None,\n",
    "                 k_groups=3)"
   ]
  },
  {
   "cell_type": "markdown",
   "id": "33bbca69",
   "metadata": {},
   "source": [
    "#### Individual testing"
   ]
  },
  {
   "cell_type": "markdown",
   "id": "717c3d2d",
   "metadata": {},
   "source": [
    "##### Highly desirability and Weakly desirability (Noisy)"
   ]
  },
  {
   "cell_type": "code",
   "execution_count": 80,
   "id": "32adf56b",
   "metadata": {},
   "outputs": [
    {
     "name": "stdout",
     "output_type": "stream",
     "text": [
      "p_HD_WD: 0.9008856088928653\n"
     ]
    },
    {
     "data": {
      "text/plain": [
       "Ttest_indResult(statistic=1.715045377842608, pvalue=0.09002389786841232)"
      ]
     },
     "execution_count": 80,
     "metadata": {},
     "output_type": "execute_result"
    }
   ],
   "source": [
    "#Check if the two samples have the same variance.\n",
    "stat_HD_WD, p_HD_WD = stats.levene(decoy_P_HD_freq_df[\"Target(%)\"], decoy_P_WD_freq_df[\"Target(%)\"])\n",
    "\n",
    "print(\"p_HD_WD: \" + str(p_HD_WD))\n",
    "    \n",
    "#Perform two sample t-test with equal variances\n",
    "stats.ttest_ind(a=decoy_P_HD_freq_df[\"Target(%)\"], b=decoy_P_WD_freq_df[\"Target(%)\"], equal_var=True)\n"
   ]
  },
  {
   "cell_type": "code",
   "execution_count": 81,
   "id": "a766e848",
   "metadata": {},
   "outputs": [
    {
     "name": "stdout",
     "output_type": "stream",
     "text": [
      "Phantom Decoy NoisyItems Highly desirable & Weakly desirable: \n",
      " t-stat: 1.715\n",
      " p-value: 0.09\n",
      " df: 84.0\n"
     ]
    }
   ],
   "source": [
    "PhantNoisy_HDWD_ttest_results = ttest_ind(decoy_P_HD_freq_df[\"Target(%)\"], decoy_P_WD_freq_df[\"Target(%)\"], alternative=\"two-sided\", usevar=\"pooled\")\n",
    "\n",
    "print(\"Phantom Decoy NoisyItems Highly desirable & Weakly desirable: \" + \"\\n t-stat: \" + str(round(PhantNoisy_HDWD_ttest_results[0], 3)) + \"\\n p-value: \" + str(round(PhantNoisy_HDWD_ttest_results[1], 3)) + \"\\n df: \" + str(round(PhantNoisy_HDWD_ttest_results[2], 3)))\n"
   ]
  },
  {
   "cell_type": "code",
   "execution_count": 82,
   "id": "fd881594",
   "metadata": {},
   "outputs": [
    {
     "name": "stdout",
     "output_type": "stream",
     "text": [
      "Cohen's d between Highly desirability and Weakly desirability groups: \n"
     ]
    },
    {
     "data": {
      "text/plain": [
       "0.3707796835965918"
      ]
     },
     "execution_count": 82,
     "metadata": {},
     "output_type": "execute_result"
    }
   ],
   "source": [
    "print(\"Cohen's d between Highly desirability and Weakly desirability groups: \")\n",
    "pg.compute_effsize(decoy_P_HD_freq_df[\"Target(%)\"], decoy_P_WD_freq_df[\"Target(%)\"], eftype='cohen')\n"
   ]
  },
  {
   "cell_type": "code",
   "execution_count": 83,
   "id": "5cdf28b5",
   "metadata": {},
   "outputs": [
    {
     "name": "stdout",
     "output_type": "stream",
     "text": [
      "Power 0.1 required sample size: 7.26\n",
      "Power 0.2 required sample size: 19.14\n",
      "Power 0.3 required sample size: 31.05\n",
      "Power 0.4 required sample size: 43.51\n",
      "Power 0.5 required sample size: 57.09\n",
      "Power 0.6 required sample size: 72.54\n",
      "Power 0.7 required sample size: 91.14\n",
      "Power 0.8 required sample size: 115.63\n",
      "Power 0.9 required sample size: 154.47\n",
      "\n",
      "At present with a ratio of 40/46 for both group samples, we have a power of : 0.35\n"
     ]
    }
   ],
   "source": [
    "#Power analysis \n",
    "\n",
    "powers = np.arange(0.1, 1, .1)\n",
    "\n",
    "for x in powers:\n",
    "    sample_size = stats_power.tt_ind_solve_power(effect_size = 0.37, \n",
    "                                         nobs1=None,\n",
    "                                         power = x, \n",
    "                                         alpha = 0.05)\n",
    "    print('Power '+ str(round(x,2)) + ' required sample size: {0:.2f}'.format(sample_size))\n",
    "    \n",
    "current_power = stats_power.tt_ind_solve_power(effect_size = 0.37, #Effect size from Cohen's d\n",
    "                                         nobs1=40, #sample size group 1\n",
    "                                         ratio=40/46, #ratio between sample1/sample2\n",
    "                                         power = None, \n",
    "                                         alpha = 0.05)\n",
    "\n",
    "print(\"\\nAt present with a ratio of 40/46 for both group samples, we have a power of : \" + str(round(current_power, 3)))"
   ]
  },
  {
   "cell_type": "code",
   "execution_count": 84,
   "id": "da145ff5",
   "metadata": {},
   "outputs": [
    {
     "data": {
      "image/png": "[encoded data removed]",
      "text/plain": [
       "<Figure size 576x360 with 1 Axes>"
      ]
     },
     "metadata": {
      "needs_background": "light"
     },
     "output_type": "display_data"
    }
   ],
   "source": [
    "fig, ax = plt.subplots(1, 1, figsize=(8, 5))\n",
    "\n",
    "fig = TTestIndPower().plot_power(dep_var='nobs',\n",
    "                                 nobs= np.arange(5, 200),\n",
    "                                 effect_size=np.array([0.37]),\n",
    "                                 alpha=0.05,\n",
    "                                 ax=ax) #title='Power of t-Test' + '\\n' + r'$\\alpha = 0.01$'\n",
    "#np.array([0.2, 0.35, 0.5, 0.8]),\n",
    "ax.annotate(\"We are here \\n (.35 power)\", (40, .35))\n",
    "ax.grid(linestyle = '--')\n"
   ]
  },
  {
   "cell_type": "code",
   "execution_count": 85,
   "id": "d105156b",
   "metadata": {},
   "outputs": [
    {
     "data": {
      "text/plain": [
       "\"\\nTotal number of participants in 'Highly Desirable': 40\\nTotal number of participants in 'Weakly Desirable': 46\\nTotal number of participants in 'Undesirable': 39\\n\""
      ]
     },
     "execution_count": 85,
     "metadata": {},
     "output_type": "execute_result"
    }
   ],
   "source": [
    "\"\"\"\n",
    "Total number of participants in 'Highly Desirable': 40\n",
    "Total number of participants in 'Weakly Desirable': 46\n",
    "Total number of participants in 'Undesirable': 39\n",
    "\"\"\""
   ]
  },
  {
   "cell_type": "markdown",
   "id": "069e361c",
   "metadata": {},
   "source": [
    "##### Weakly desirability and Undesirable (Noisy)"
   ]
  },
  {
   "cell_type": "code",
   "execution_count": 86,
   "id": "97c0334a",
   "metadata": {},
   "outputs": [
    {
     "name": "stdout",
     "output_type": "stream",
     "text": [
      "p_U_WD: 0.32169253102686823\n"
     ]
    },
    {
     "data": {
      "text/plain": [
       "Ttest_indResult(statistic=-0.914953286406703, pvalue=0.3628666621304373)"
      ]
     },
     "execution_count": 86,
     "metadata": {},
     "output_type": "execute_result"
    }
   ],
   "source": [
    "stat_U_WD, p_U_WD = stats.levene(decoy_P_U_freq_df[\"Target(%)\"], decoy_P_WD_freq_df[\"Target(%)\"])\n",
    "\n",
    "print(\"p_U_WD: \" + str(p_U_WD))\n",
    "\n",
    "stats.ttest_ind(a=decoy_P_U_freq_df[\"Target(%)\"], b=decoy_P_WD_freq_df[\"Target(%)\"], equal_var=True)"
   ]
  },
  {
   "cell_type": "code",
   "execution_count": 87,
   "id": "d4323d9b",
   "metadata": {},
   "outputs": [
    {
     "name": "stdout",
     "output_type": "stream",
     "text": [
      "Phantom Decoy NoisyItems Weakly desirable &  Undesirable: \n",
      " t-stat: 0.915\n",
      " p-value: 0.363\n",
      " df: 83.0\n"
     ]
    }
   ],
   "source": [
    "PhantNoisy_WDU_ttest_results = ttest_ind(decoy_P_WD_freq_df[\"Target(%)\"], decoy_P_U_freq_df[\"Target(%)\"], alternative=\"two-sided\", usevar=\"pooled\")\n",
    "\n",
    "print(\"Phantom Decoy NoisyItems Weakly desirable &  Undesirable: \" + \"\\n t-stat: \" + str(round(PhantNoisy_WDU_ttest_results[0], 3)) + \"\\n p-value: \" + str(round(PhantNoisy_WDU_ttest_results[1], 3)) + \"\\n df: \" + str(round(PhantNoisy_WDU_ttest_results[2], 3)))\n"
   ]
  },
  {
   "cell_type": "code",
   "execution_count": 88,
   "id": "aee08626",
   "metadata": {},
   "outputs": [
    {
     "name": "stdout",
     "output_type": "stream",
     "text": [
      "Cohen's d between Weakly desirability and  Undesirability groups: \n"
     ]
    },
    {
     "data": {
      "text/plain": [
       "0.19915772879761687"
      ]
     },
     "execution_count": 88,
     "metadata": {},
     "output_type": "execute_result"
    }
   ],
   "source": [
    "print(\"Cohen's d between Weakly desirability and  Undesirability groups: \")\n",
    "pg.compute_effsize(decoy_P_WD_freq_df[\"Target(%)\"], decoy_P_U_freq_df[\"Target(%)\"], eftype='cohen')"
   ]
  },
  {
   "cell_type": "markdown",
   "id": "1f4edc9e",
   "metadata": {},
   "source": [
    "##### Highly desirable and Undesirable (Noisy)"
   ]
  },
  {
   "cell_type": "code",
   "execution_count": 89,
   "id": "6a262712",
   "metadata": {
    "scrolled": true
   },
   "outputs": [
    {
     "name": "stdout",
     "output_type": "stream",
     "text": [
      "p_HD_U: 0.23806287198316395\n"
     ]
    },
    {
     "data": {
      "text/plain": [
       "Ttest_indResult(statistic=2.575762287109483, pvalue=0.01191653907500491)"
      ]
     },
     "execution_count": 89,
     "metadata": {},
     "output_type": "execute_result"
    }
   ],
   "source": [
    "stat_HD_U, p_HD_U = stats.levene(decoy_P_HD_freq_df[\"Target(%)\"], decoy_P_U_freq_df[\"Target(%)\"])\n",
    "\n",
    "print(\"p_HD_U: \" + str(p_HD_U))\n",
    "\n",
    "stats.ttest_ind(a=decoy_P_HD_freq_df[\"Target(%)\"], b=decoy_P_U_freq_df[\"Target(%)\"], equal_var=True)\n"
   ]
  },
  {
   "cell_type": "code",
   "execution_count": 90,
   "id": "f766e7ef",
   "metadata": {},
   "outputs": [
    {
     "name": "stdout",
     "output_type": "stream",
     "text": [
      "Phantom Decoy NoisyItems Highly desirable &  Undesirable: \n",
      " t-stat: 2.576\n",
      " p-value: 0.012\n",
      " df: 77.0\n"
     ]
    }
   ],
   "source": [
    "PhantNoisy_HDU_ttest_results = ttest_ind(decoy_P_HD_freq_df[\"Target(%)\"], decoy_P_U_freq_df[\"Target(%)\"], alternative=\"two-sided\", usevar=\"pooled\")\n",
    "\n",
    "print(\"Phantom Decoy NoisyItems Highly desirable &  Undesirable: \" + \"\\n t-stat: \" + str(round(PhantNoisy_HDU_ttest_results[0], 3)) + \"\\n p-value: \" + str(round(PhantNoisy_HDU_ttest_results[1], 3)) + \"\\n df: \" + str(round(PhantNoisy_HDU_ttest_results[2], 3)))\n"
   ]
  },
  {
   "cell_type": "code",
   "execution_count": 91,
   "id": "cf4b7447",
   "metadata": {},
   "outputs": [
    {
     "name": "stdout",
     "output_type": "stream",
     "text": [
      "Cohen's d between Highly desirability and  Undesirability groups: \n"
     ]
    },
    {
     "data": {
      "text/plain": [
       "0.5796382367675894"
      ]
     },
     "execution_count": 91,
     "metadata": {},
     "output_type": "execute_result"
    }
   ],
   "source": [
    "print(\"Cohen's d between Highly desirability and  Undesirability groups: \")\n",
    "pg.compute_effsize(decoy_P_HD_freq_df[\"Target(%)\"], decoy_P_U_freq_df[\"Target(%)\"], eftype='cohen')"
   ]
  },
  {
   "cell_type": "code",
   "execution_count": 92,
   "id": "95eb1d9b",
   "metadata": {},
   "outputs": [
    {
     "name": "stdout",
     "output_type": "stream",
     "text": [
      "Power 0.1 required sample size: 3.67\n",
      "Power 0.2 required sample size: 8.45\n",
      "Power 0.3 required sample size: 13.29\n",
      "Power 0.4 required sample size: 18.37\n",
      "Power 0.5 required sample size: 23.91\n",
      "Power 0.6 required sample size: 30.21\n",
      "Power 0.7 required sample size: 37.80\n",
      "Power 0.8 required sample size: 47.80\n",
      "Power 0.9 required sample size: 63.66\n",
      "\n",
      "At present with a ratio of 40/39 for both group samples, we have a power of : 0.73\n"
     ]
    }
   ],
   "source": [
    "#Power analysis \n",
    "\n",
    "powers = np.arange(0.1, 1, .1)\n",
    "\n",
    "for x in powers:\n",
    "    sample_size = stats_power.tt_ind_solve_power(effect_size = 0.579, \n",
    "                                         nobs1=None,\n",
    "                                         power = x, \n",
    "                                         alpha = 0.05)\n",
    "    print('Power '+ str(round(x,2)) + ' required sample size: {0:.2f}'.format(sample_size))\n",
    "    \n",
    "current_power = stats_power.tt_ind_solve_power(effect_size = 0.579, #Effect size from Cohen's d\n",
    "                                         nobs1=40, #sample size group 1\n",
    "                                         ratio=40/39, #ratio between sample1/sample2\n",
    "                                         power = None, \n",
    "                                         alpha = 0.05)\n",
    "\n",
    "print(\"\\nAt present with a ratio of 40/39 for both group samples, we have a power of : \" + str(round(current_power, 3)))\n"
   ]
  },
  {
   "cell_type": "code",
   "execution_count": null,
   "id": "998bc640",
   "metadata": {},
   "outputs": [],
   "source": []
  },
  {
   "cell_type": "code",
   "execution_count": null,
   "id": "7e0e6bcb",
   "metadata": {},
   "outputs": [],
   "source": []
  },
  {
   "cell_type": "markdown",
   "id": "96e9d8ce",
   "metadata": {},
   "source": [
    "### Still, there appears to be too much noise with the items/stimulus. <br>So, I am running a brief check including only the items that work. "
   ]
  },
  {
   "cell_type": "markdown",
   "id": "edd6d465",
   "metadata": {},
   "source": [
    "### Highly Desirable Condition"
   ]
  },
  {
   "cell_type": "code",
   "execution_count": 93,
   "id": "41d972eb",
   "metadata": {},
   "outputs": [
    {
     "data": {
      "text/html": [
       "<div>\n",
       "<style scoped>\n",
       "    .dataframe tbody tr th:only-of-type {\n",
       "        vertical-align: middle;\n",
       "    }\n",
       "\n",
       "    .dataframe tbody tr th {\n",
       "        vertical-align: top;\n",
       "    }\n",
       "\n",
       "    .dataframe thead th {\n",
       "        text-align: right;\n",
       "    }\n",
       "</style>\n",
       "<table border=\"1\" class=\"dataframe\">\n",
       "  <thead>\n",
       "    <tr style=\"text-align: right;\">\n",
       "      <th></th>\n",
       "      <th>Target mean(%)</th>\n",
       "      <th>Target sem(%)</th>\n",
       "      <th>Comp mean(%)</th>\n",
       "      <th>Comp sem(%)</th>\n",
       "    </tr>\n",
       "  </thead>\n",
       "  <tbody>\n",
       "    <tr>\n",
       "      <th>All</th>\n",
       "      <td>59.38</td>\n",
       "      <td>1.98</td>\n",
       "      <td>40.62</td>\n",
       "      <td>1.98</td>\n",
       "    </tr>\n",
       "    <tr>\n",
       "      <th>LowCoupling</th>\n",
       "      <td>58.33</td>\n",
       "      <td>2.99</td>\n",
       "      <td>41.67</td>\n",
       "      <td>2.99</td>\n",
       "    </tr>\n",
       "    <tr>\n",
       "      <th>HighCoupling</th>\n",
       "      <td>60.32</td>\n",
       "      <td>2.69</td>\n",
       "      <td>39.68</td>\n",
       "      <td>2.69</td>\n",
       "    </tr>\n",
       "  </tbody>\n",
       "</table>\n",
       "</div>"
      ],
      "text/plain": [
       "              Target mean(%)  Target sem(%)  Comp mean(%)  Comp sem(%)\n",
       "All                    59.38           1.98         40.62         1.98\n",
       "LowCoupling            58.33           2.99         41.67         2.99\n",
       "HighCoupling           60.32           2.69         39.68         2.69"
      ]
     },
     "execution_count": 93,
     "metadata": {},
     "output_type": "execute_result"
    }
   ],
   "source": [
    "decoy_P_HD_CI_df = decoy_P_HD_df.loc[(decoy_P_HD_df[\"Item\"]==\"Baby stroller\") | (decoy_P_HD_df[\"Item\"]==\"Dehumidifier\") | (decoy_P_HD_df[\"Item\"]==\"Electric mop\") | (decoy_P_HD_df[\"Item\"]==\"Organic fertilizer\") | (decoy_P_HD_df[\"Item\"]==\"Paint sprayer\") | (decoy_P_HD_df[\"Item\"]==\"Wifi extender\")] \n",
    "decoy_P_HD_df_LowC = decoy_P_HD_CI_df[decoy_P_HD_CI_df[\"CouplingCondition\"] == \"Low coupling\"]\n",
    "decoy_P_HD_df_HighC = decoy_P_HD_CI_df[decoy_P_HD_CI_df[\"CouplingCondition\"] == \"High coupling\"]\n",
    "\n",
    "#\"Baby stroller\", \"Dehumidifier\", \"Electric mop\", \"Organic fertilizer\", \"Paint sprayer\"\n",
    "\n",
    "decoy_P_HD_freq_CI_df = partFreq_PhantomDecoy(decoy_P_HD_CI_df)\n",
    "decoy_P_HD_LowC_freq_CI_df = partFreq_PhantomDecoy(decoy_P_HD_df_LowC)\n",
    "decoy_P_HD_HighC_freq_CI_df = partFreq_PhantomDecoy(decoy_P_HD_df_HighC)\n",
    "\n",
    "total_n = decoy_P_HD_df[\"Survey_ID\"].unique()\n",
    "number_of_low_coupling = decoy_P_HD_df_LowC[\"Survey_ID\"].unique()\n",
    "number_of_high_coupling = decoy_P_HD_df_HighC[\"Survey_ID\"].unique()\n",
    "\n",
    "total_n = int(len(total_n))\n",
    "number_of_low_coupling = int(len(number_of_low_coupling))\n",
    "number_of_high_coupling = int(len(number_of_high_coupling))\n",
    "\n",
    "# Get mean, std, and sem for all participatns.\n",
    "target_P_HD_CI_mean, target_P_HD_CI_std, target_P_HD_CI_sem = get_decoy_stats(decoy_P_HD_freq_CI_df, \"Target(%)\", total_n)\n",
    "competitor_P_HD_CI_mean, competitor_P_HD_CI_std, competitor_P_HD_CI_sem = get_decoy_stats(decoy_P_HD_freq_CI_df, \"Competitor(%)\", total_n)\n",
    "\n",
    "# Get mean, std, and sem for 'Low coupling' participatns.\n",
    "target_P_HD_LowC_CI_mean, target_P_HD_LowC_CI_std, target_P_HD_LowC_CI_sem = get_decoy_stats(decoy_P_HD_LowC_freq_CI_df, \"Target(%)\", number_of_low_coupling)\n",
    "competitor_P_HD_LowC_CI_mean, competitor_P_HD_LowC_CI_std, competitor_P_HD_LowC_CI_sem = get_decoy_stats(decoy_P_HD_LowC_freq_CI_df, \"Competitor(%)\", number_of_low_coupling)\n",
    "\n",
    "# Get mean, std, and sem for 'High coupling' participatns.\n",
    "target_P_HD_HighC_CI_mean, target_P_HD_HighC_CI_std, target_P_HD_HighC_CI_sem = get_decoy_stats(decoy_P_HD_HighC_freq_CI_df, \"Target(%)\", number_of_high_coupling)\n",
    "competitor_P_HD_HighC_CI_mean, competitor_P_HD_HighC_CI_std, competitor_P_HD_HighC_CI_sem = get_decoy_stats(decoy_P_HD_HighC_freq_CI_df, \"Competitor(%)\", number_of_high_coupling)\n",
    "\n",
    "P_HD_summary_df = pd.DataFrame({'Target mean(%)': [target_P_HD_CI_mean, target_P_HD_LowC_CI_mean, target_P_HD_HighC_CI_mean],\n",
    "                  'Target sem(%)': [target_P_HD_CI_sem, target_P_HD_LowC_CI_sem, target_P_HD_HighC_CI_sem],\n",
    "                  'Comp mean(%)': [competitor_P_HD_CI_mean, competitor_P_HD_LowC_CI_mean, competitor_P_HD_HighC_CI_mean],\n",
    "                  'Comp sem(%)': [competitor_P_HD_CI_sem, competitor_P_HD_LowC_CI_sem, competitor_P_HD_HighC_CI_sem]},\n",
    "                  index=[\"All\", \"LowCoupling\", \"HighCoupling\"])\n",
    "\n",
    "P_HD_summary_df.head()"
   ]
  },
  {
   "cell_type": "markdown",
   "id": "02b3472a",
   "metadata": {},
   "source": [
    "### Weakly Desirable Condition"
   ]
  },
  {
   "cell_type": "code",
   "execution_count": 94,
   "id": "0c8cc054",
   "metadata": {},
   "outputs": [
    {
     "data": {
      "text/html": [
       "<div>\n",
       "<style scoped>\n",
       "    .dataframe tbody tr th:only-of-type {\n",
       "        vertical-align: middle;\n",
       "    }\n",
       "\n",
       "    .dataframe tbody tr th {\n",
       "        vertical-align: top;\n",
       "    }\n",
       "\n",
       "    .dataframe thead th {\n",
       "        text-align: right;\n",
       "    }\n",
       "</style>\n",
       "<table border=\"1\" class=\"dataframe\">\n",
       "  <thead>\n",
       "    <tr style=\"text-align: right;\">\n",
       "      <th></th>\n",
       "      <th>Target mean(%)</th>\n",
       "      <th>Target sem(%)</th>\n",
       "      <th>Comp mean(%)</th>\n",
       "      <th>Comp sem(%)</th>\n",
       "    </tr>\n",
       "  </thead>\n",
       "  <tbody>\n",
       "    <tr>\n",
       "      <th>All</th>\n",
       "      <td>56.43</td>\n",
       "      <td>2.13</td>\n",
       "      <td>43.57</td>\n",
       "      <td>2.13</td>\n",
       "    </tr>\n",
       "    <tr>\n",
       "      <th>LowCoupling</th>\n",
       "      <td>52.78</td>\n",
       "      <td>2.66</td>\n",
       "      <td>47.22</td>\n",
       "      <td>2.66</td>\n",
       "    </tr>\n",
       "    <tr>\n",
       "      <th>HighCoupling</th>\n",
       "      <td>55.00</td>\n",
       "      <td>2.11</td>\n",
       "      <td>45.00</td>\n",
       "      <td>2.11</td>\n",
       "    </tr>\n",
       "  </tbody>\n",
       "</table>\n",
       "</div>"
      ],
      "text/plain": [
       "              Target mean(%)  Target sem(%)  Comp mean(%)  Comp sem(%)\n",
       "All                    56.43           2.13         43.57         2.13\n",
       "LowCoupling            52.78           2.66         47.22         2.66\n",
       "HighCoupling           55.00           2.11         45.00         2.11"
      ]
     },
     "execution_count": 94,
     "metadata": {},
     "output_type": "execute_result"
    }
   ],
   "source": [
    "decoy_P_WD_CI_df = decoy_P_WD_df.loc[(decoy_P_WD_df[\"Item\"]==\"Dehumidifier\") | (decoy_P_WD_df[\"Item\"]==\"Organic fertilizer\") | (decoy_P_WD_df[\"Item\"]==\"Paint sprayer\") | (decoy_P_WD_df[\"Item\"]==\"Wifi extender\") | (decoy_P_WD_df[\"Item\"]==\"Outdoor solar lights\") | (decoy_P_HD_df[\"Item\"]==\"Wifi extender\")]\n",
    "decoy_P_WD_df_LowC = decoy_P_WD_df[decoy_P_WD_df[\"CouplingCondition\"] == \"Low coupling\"]\n",
    "decoy_P_WD_df_HighC = decoy_P_WD_df[decoy_P_WD_df[\"CouplingCondition\"] == \"High coupling\"]\n",
    "\n",
    "decoy_P_WD_freq_CI_df = partFreq_PhantomDecoy(decoy_P_WD_CI_df)\n",
    "decoy_P_WD_LowC_freq_CI_df = partFreq_PhantomDecoy(decoy_P_WD_df_LowC)\n",
    "decoy_P_WD_HighC_freq_CI_df = partFreq_PhantomDecoy(decoy_P_WD_df_HighC)\n",
    "\n",
    "total_n = decoy_P_WD_df[\"Survey_ID\"].unique()\n",
    "number_of_low_coupling = decoy_P_WD_df_LowC[\"Survey_ID\"].unique()\n",
    "number_of_high_coupling = decoy_P_WD_df_HighC[\"Survey_ID\"].unique()\n",
    "\n",
    "total_n = int(len(total_n))\n",
    "number_of_low_coupling = int(len(number_of_low_coupling))\n",
    "number_of_high_coupling = int(len(number_of_high_coupling))\n",
    "\n",
    "# Get mean, std, and sem for all participatns.\n",
    "target_P_WD_CI_mean, target_P_WD_CI_std, target_P_WD_CI_sem = get_decoy_stats(decoy_P_WD_freq_CI_df, \"Target(%)\", total_n)\n",
    "competitor_P_WD_CI_mean, competitor_P_WD_CI_std, competitor_P_WD_CI_sem = get_decoy_stats(decoy_P_WD_freq_CI_df, \"Competitor(%)\", total_n)\n",
    "\n",
    "# Get mean, std, and sem for 'Low coupling' participatns.\n",
    "target_P_WD_LowC_CI_mean, target_P_WD_LowC_CI_std, target_P_WD_LowC_CI_sem = get_decoy_stats(decoy_P_WD_LowC_freq_CI_df, \"Target(%)\", number_of_low_coupling)\n",
    "competitor_P_WD_LowC_CI_mean, competitor_P_WD_LowC_CI_std, competitor_P_WD_LowC_CI_sem = get_decoy_stats(decoy_P_WD_LowC_freq_CI_df, \"Competitor(%)\", number_of_low_coupling)\n",
    "\n",
    "# Get mean, std, and sem for 'High coupling' participatns.\n",
    "target_P_WD_HighC_CI_mean, target_P_WD_HighC_CI_std, target_P_WD_HighC_CI_sem = get_decoy_stats(decoy_P_WD_HighC_freq_CI_df, \"Target(%)\", number_of_high_coupling)\n",
    "competitor_P_WD_HighC_CI_mean, competitor_P_WD_HighC_CI_std, competitor_P_WD_HighC_CI_sem = get_decoy_stats(decoy_P_WD_HighC_freq_CI_df, \"Competitor(%)\", number_of_high_coupling)\n",
    "\n",
    "P_WD_summary_df = pd.DataFrame({'Target mean(%)': [target_P_WD_CI_mean, target_P_WD_LowC_CI_mean, target_P_WD_HighC_CI_mean],\n",
    "                  'Target sem(%)': [target_P_WD_CI_sem, target_P_WD_LowC_CI_sem, target_P_WD_HighC_CI_sem],\n",
    "                  'Comp mean(%)': [competitor_P_WD_CI_mean, competitor_P_WD_LowC_CI_mean, competitor_P_WD_HighC_CI_mean],\n",
    "                  'Comp sem(%)': [competitor_P_WD_CI_sem, competitor_P_WD_LowC_CI_sem, competitor_P_WD_HighC_CI_sem]},\n",
    "                  index=[\"All\", \"LowCoupling\", \"HighCoupling\"])\n",
    "\n",
    "P_WD_summary_df.head()\n"
   ]
  },
  {
   "cell_type": "markdown",
   "id": "5b57c3d2",
   "metadata": {},
   "source": [
    "### Undesirable Condition"
   ]
  },
  {
   "cell_type": "code",
   "execution_count": 95,
   "id": "4e91dbe1",
   "metadata": {},
   "outputs": [
    {
     "data": {
      "text/html": [
       "<div>\n",
       "<style scoped>\n",
       "    .dataframe tbody tr th:only-of-type {\n",
       "        vertical-align: middle;\n",
       "    }\n",
       "\n",
       "    .dataframe tbody tr th {\n",
       "        vertical-align: top;\n",
       "    }\n",
       "\n",
       "    .dataframe thead th {\n",
       "        text-align: right;\n",
       "    }\n",
       "</style>\n",
       "<table border=\"1\" class=\"dataframe\">\n",
       "  <thead>\n",
       "    <tr style=\"text-align: right;\">\n",
       "      <th></th>\n",
       "      <th>Target mean(%)</th>\n",
       "      <th>Target sem(%)</th>\n",
       "      <th>Comp mean(%)</th>\n",
       "      <th>Comp sem(%)</th>\n",
       "    </tr>\n",
       "  </thead>\n",
       "  <tbody>\n",
       "    <tr>\n",
       "      <th>All</th>\n",
       "      <td>51.92</td>\n",
       "      <td>1.77</td>\n",
       "      <td>48.08</td>\n",
       "      <td>1.77</td>\n",
       "    </tr>\n",
       "    <tr>\n",
       "      <th>LowCoupling</th>\n",
       "      <td>52.71</td>\n",
       "      <td>2.39</td>\n",
       "      <td>47.29</td>\n",
       "      <td>2.39</td>\n",
       "    </tr>\n",
       "    <tr>\n",
       "      <th>HighCoupling</th>\n",
       "      <td>50.67</td>\n",
       "      <td>2.62</td>\n",
       "      <td>49.33</td>\n",
       "      <td>2.62</td>\n",
       "    </tr>\n",
       "  </tbody>\n",
       "</table>\n",
       "</div>"
      ],
      "text/plain": [
       "              Target mean(%)  Target sem(%)  Comp mean(%)  Comp sem(%)\n",
       "All                    51.92           1.77         48.08         1.77\n",
       "LowCoupling            52.71           2.39         47.29         2.39\n",
       "HighCoupling           50.67           2.62         49.33         2.62"
      ]
     },
     "execution_count": 95,
     "metadata": {},
     "output_type": "execute_result"
    }
   ],
   "source": [
    "decoy_P_U_CI_df = decoy_P_U_df.loc[(decoy_P_U_df[\"Item\"]==\"Dehumidifier\") | (decoy_P_U_df[\"Item\"]==\"Organic fertilizer\") | (decoy_P_U_df[\"Item\"]==\"Paint sprayer\") | (decoy_P_U_df[\"Item\"]==\"Wifi extender\") | (decoy_P_U_df[\"Item\"]==\"Outdoor solar lights\") | (decoy_P_HD_df[\"Item\"]==\"Wifi extender\")]\n",
    "decoy_P_U_df_LowC = decoy_P_U_df[decoy_P_U_df[\"CouplingCondition\"] == \"Low coupling\"]\n",
    "decoy_P_U_df_HighC = decoy_P_U_df[decoy_P_U_df[\"CouplingCondition\"] == \"High coupling\"]\n",
    "\n",
    "decoy_P_U_freq_CI_df = partFreq_PhantomDecoy(decoy_P_U_df)\n",
    "decoy_P_U_LowC_freq_CI_df = partFreq_PhantomDecoy(decoy_P_U_df_LowC)\n",
    "decoy_P_U_HighC_freq_CI_df = partFreq_PhantomDecoy(decoy_P_U_df_HighC)\n",
    "\n",
    "total_n = decoy_P_U_df[\"Survey_ID\"].unique()\n",
    "number_of_low_coupling = decoy_P_U_df_LowC[\"Survey_ID\"].unique()\n",
    "number_of_high_coupling = decoy_P_U_df_HighC[\"Survey_ID\"].unique()\n",
    "\n",
    "total_n = int(len(total_n))\n",
    "number_of_low_coupling = int(len(number_of_low_coupling))\n",
    "number_of_high_coupling = int(len(number_of_high_coupling))\n",
    "\n",
    "# Get mean, std, and sem for all participatns.\n",
    "target_P_U_CI_mean, target_P_U_CI_std, target_P_U_CI_sem = get_decoy_stats(decoy_P_U_freq_CI_df, \"Target(%)\", total_n)\n",
    "competitor_P_U_CI_mean, competitor_P_U_CI_std, competitor_P_U_CI_sem = get_decoy_stats(decoy_P_U_freq_CI_df, \"Competitor(%)\", total_n)\n",
    "\n",
    "# Get mean, std, and sem for 'Low coupling' participatns.\n",
    "target_P_U_LowC_CI_mean, target_P_U_LowC_CI_std, target_P_U_LowC_CI_sem = get_decoy_stats(decoy_P_U_LowC_freq_CI_df, \"Target(%)\", number_of_low_coupling)\n",
    "competitor_P_U_LowC_CI_mean, competitor_P_U_LowC_CI_std, competitor_P_U_LowC_CI_sem = get_decoy_stats(decoy_P_U_LowC_freq_CI_df, \"Competitor(%)\", number_of_low_coupling)\n",
    "\n",
    "# Get mean, std, and sem for 'High coupling' participatns.\n",
    "target_P_U_HighC_CI_mean, target_P_U_HighC_CI_std, target_P_U_HighC_CI_sem = get_decoy_stats(decoy_P_U_HighC_freq_CI_df, \"Target(%)\", number_of_high_coupling)\n",
    "competitor_P_U_HighC_CI_mean, competitor_P_U_HighC_CI_std, competitor_P_U_HighC_CI_sem = get_decoy_stats(decoy_P_U_HighC_freq_CI_df, \"Competitor(%)\", number_of_high_coupling)\n",
    "\n",
    "P_U_summary_df = pd.DataFrame({'Target mean(%)': [target_P_U_CI_mean, target_P_U_LowC_CI_mean, target_P_U_HighC_CI_mean],\n",
    "                  'Target sem(%)': [target_P_U_CI_sem, target_P_U_LowC_CI_sem, target_P_U_HighC_CI_sem],\n",
    "                  'Comp mean(%)': [competitor_P_U_CI_mean, competitor_P_U_LowC_CI_mean, competitor_P_U_HighC_CI_mean],\n",
    "                  'Comp sem(%)': [competitor_P_U_CI_sem, competitor_P_U_LowC_CI_sem, competitor_P_U_HighC_CI_sem]},\n",
    "                  index=[\"All\", \"LowCoupling\", \"HighCoupling\"])\n",
    "\n",
    "P_U_summary_df.head()"
   ]
  },
  {
   "cell_type": "markdown",
   "id": "eed30afd",
   "metadata": {},
   "source": [
    "### All phantoms"
   ]
  },
  {
   "cell_type": "code",
   "execution_count": 96,
   "id": "d2840c3a",
   "metadata": {
    "scrolled": false
   },
   "outputs": [
    {
     "data": {
      "image/png": "[encoded data removed]",
      "text/plain": [
       "<Figure size 1080x1080 with 9 Axes>"
      ]
     },
     "metadata": {
      "needs_background": "light"
     },
     "output_type": "display_data"
    }
   ],
   "source": [
    "labels = ['Taget', 'Competitor']\n",
    "\n",
    "x = np.arange(len(labels))\n",
    "\n",
    "y1 = np.array([target_P_HD_CI_mean, competitor_P_HD_CI_mean])\n",
    "y2 = np.array([target_P_WD_CI_mean, competitor_P_WD_CI_mean])\n",
    "y3 = np.array([target_P_U_CI_mean, competitor_P_U_CI_mean])\n",
    "\n",
    "error1 = np.array([target_P_HD_CI_sem, competitor_P_HD_CI_sem])\n",
    "error2 = np.array([target_P_WD_CI_sem, competitor_P_WD_CI_sem])\n",
    "error3 = np.array([target_P_U_CI_sem, competitor_P_U_CI_sem])\n",
    "\n",
    "y1s = np.array([y1, y2, y3])\n",
    "errors1 = np.array([error1, error2, error3])\n",
    "\n",
    "ys = np.array([[[target_P_HD_CI_mean, competitor_P_HD_CI_mean], [target_P_WD_CI_mean, competitor_P_WD_CI_mean], [target_P_U_CI_mean, competitor_P_U_CI_mean]],\n",
    "              [[target_P_HD_LowC_CI_mean, competitor_P_HD_LowC_CI_mean], [target_P_WD_LowC_CI_mean, competitor_P_WD_LowC_CI_mean], [target_P_U_LowC_CI_mean, competitor_P_U_LowC_CI_mean]], \n",
    "              [[target_P_HD_HighC_CI_mean, competitor_P_HD_HighC_CI_mean], [target_P_WD_HighC_CI_mean, competitor_P_WD_HighC_CI_mean], [target_P_U_HighC_CI_mean, competitor_P_U_HighC_CI_mean]]])\n",
    "\n",
    "errors = np.array([[[target_P_HD_CI_sem, competitor_P_HD_CI_sem], [target_P_WD_CI_sem, competitor_P_WD_CI_sem], [target_P_U_CI_sem, competitor_P_U_CI_sem]],\n",
    "                  [[target_P_HD_LowC_CI_sem, competitor_P_HD_LowC_CI_sem], [target_P_WD_LowC_CI_sem, competitor_P_WD_LowC_CI_sem], [target_P_U_LowC_CI_sem, competitor_P_U_LowC_CI_sem]],\n",
    "                  [[target_P_HD_HighC_CI_sem, competitor_P_HD_HighC_CI_sem], [target_P_WD_HighC_CI_sem, competitor_P_WD_HighC_CI_sem], [target_P_U_HighC_CI_sem, competitor_P_U_HighC_CI_sem]]])\n",
    "\n",
    "titles = [[\"Phantom Highly Desirable\", \"Phantom Weakly Desirable\", \"Phantom Undersirable\"],\n",
    "         [\"Phantom Highly Desirable (LC)\", \"Phantom Weakly Desirable (LC)\", \"Phantom Undersirable (LC)\"],\n",
    "         [\"Phantom Highly Desirable (HC)\", \"Phantom Weakly Desirable (HC)\", \"Phantom Undersirable (HC)\"]]\n",
    "\n",
    "fig, ax = plt.subplots(3, 3, figsize=(15, 15))\n",
    "                       \n",
    "for x in range(3):\n",
    "    for y in range(3):\n",
    "        ax[y][x].bar(labels, ys[y][x], 0.75, yerr=errors[y][x], capsize=8)\n",
    "        ax[y][x].set_ylim(0, 105)\n",
    "        ax[y][x].set_ylabel('Percentage')\n",
    "        ax[y][x].set_title(titles[y][x])\n",
    "        \n",
    "plt.show()\n",
    "# Include only target bars.\n",
    "# Narrow y-axis (40-80)."
   ]
  },
  {
   "cell_type": "code",
   "execution_count": 97,
   "id": "3cb78d11",
   "metadata": {
    "scrolled": true
   },
   "outputs": [
    {
     "data": {
      "image/png": "[encoded data removed]",
      "text/plain": [
       "<Figure size 576x360 with 1 Axes>"
      ]
     },
     "metadata": {
      "needs_background": "light"
     },
     "output_type": "display_data"
    }
   ],
   "source": [
    "fig, ax = plt.subplots(1, 1, figsize=(8, 5))\n",
    "\n",
    "n_HD, bins_HD, patches_HD = ax.hist(decoy_P_HD_freq_CI_df[\"Target(%)\"], density=True, histtype='barstacked', rwidth=None, label=\"Highly Desirable\", alpha=0.4, bins=10)\n",
    "y_HD = ((1 / (np.sqrt(2 * np.pi) * target_P_HD_CI_std)) * np.exp(-0.5 * (1 / target_P_HD_CI_std * (bins_HD - target_P_HD_CI_mean))**2))\n",
    "ax.plot(bins_HD, y_HD, color=\"blue\")\n",
    "ax.plot(target_P_HD_CI_mean, max(y_HD), \"ro\", color=\"blue\")\n",
    "\n",
    "n_WD, bins_WD, patches_WD = ax.hist(decoy_P_WD_freq_CI_df[\"Target(%)\"], density=True, histtype='barstacked', rwidth=None, label=\"Weakly Desirable\", alpha=0.4, bins=10)\n",
    "y_WD = ((1 / (np.sqrt(2 * np.pi) * target_P_WD_CI_std)) * np.exp(-0.5 * (1 / target_P_WD_CI_std * (bins_WD - target_P_WD_CI_mean))**2))\n",
    "ax.plot(bins_WD, y_WD, color=\"orange\")\n",
    "ax.plot(target_P_WD_CI_mean, max(y_WD), \"ro\", color=\"orange\")\n",
    "\n",
    "n_U, bins_U, patches_U = ax.hist(decoy_P_U_freq_CI_df[\"Target(%)\"], density=True, histtype='barstacked', rwidth=None, label=\"Undesirable\", alpha=0.4, bins=10)\n",
    "y_U = ((1 / (np.sqrt(2 * np.pi) * target_P_U_CI_std)) * np.exp(-0.5 * (1 / target_P_U_CI_std * (bins_U - target_P_U_CI_mean))**2))\n",
    "ax.plot(bins_U, y_U, color=\"green\")\n",
    "ax.plot(target_P_U_CI_mean, max(y_U), \"ro\", color=\"green\")\n",
    "\n",
    "ax.set_title(\"Histogram of %Correct Choices across conditions\")\n",
    "ax.set_xlabel('% Correct Choices')\n",
    "ax.legend()\n",
    "plt.show()\n"
   ]
  },
  {
   "cell_type": "code",
   "execution_count": 103,
   "id": "92c74154",
   "metadata": {},
   "outputs": [
    {
     "data": {
      "text/plain": [
       "<ErrorbarContainer object of 3 artists>"
      ]
     },
     "execution_count": 103,
     "metadata": {},
     "output_type": "execute_result"
    },
    {
     "data": {
      "image/png": "[encoded data removed]",
      "text/plain": [
       "<Figure size 432x288 with 1 Axes>"
      ]
     },
     "metadata": {
      "needs_background": "light"
     },
     "output_type": "display_data"
    }
   ],
   "source": [
    "decoy_P_part_df = decoy_P_df.loc[(decoy_P_df[\"Item\"]==\"Baby stroller\") | (decoy_P_df[\"Item\"]==\"Dehumidifier\") | (decoy_P_df[\"Item\"]==\"Electric mop\") | (decoy_P_df[\"Item\"]==\"Organic fertilizer\") | (decoy_P_df[\"Item\"]==\"Paint sprayer\") | (decoy_P_df[\"Item\"]==\"Wifi extender\")] \n",
    "decoy_P_part_LessNoisy_df = partFreq_PhantomDecoyWCondition(decoy_P_part_df)\n",
    "\n",
    "sns_y = np.array([target_P_HD_CI_mean, target_P_WD_CI_mean, target_P_U_CI_mean])\n",
    "sns_x = [\"Highly_desirable\", \"Weakly_desirable\", \"Undesirable\"]\n",
    "sns_error = np.array([target_P_HD_CI_sem, target_P_WD_CI_sem, target_P_U_CI_sem])\n",
    "\n",
    "PNBar2 = sns.barplot(x=\"PhantomCondition\", y=\"Target_perc\",\n",
    "            order=[\"Highly_desirable\", \"Weakly_desirable\", \"Undesirable\"],\n",
    "            ci=None,\n",
    "            data=decoy_P_part_LessNoisy_df) #kind=\"bar\", ci=None,\n",
    "PNBar2.set(ylim=(40, 65))\n",
    "sns.despine()\n",
    "\n",
    "bars2 = PNBar.errorbar(x=sns_x, y=sns_y, yerr=sns_error)\n",
    "\n",
    "\n",
    "xys = bars2.lines[0].get_xydata()\n",
    "xys2 = np.array([[0, 59.38], [1, 56.43], [2, 51.92]])\n",
    "#xys3 = xys[:,0] + np.array()\n",
    "bars2.remove()\n",
    "\n",
    "PNBar2.errorbar(x=xys[:, 0], y=[target_P_HD_CI_mean, target_P_WD_CI_mean, target_P_U_CI_mean], \n",
    "               yerr=[target_P_HD_CI_sem, target_P_WD_CI_sem, target_P_U_CI_sem],\n",
    "              ls='', lw=3, color='black', capsize=8)\n"
   ]
  },
  {
   "cell_type": "code",
   "execution_count": 99,
   "id": "1e06221a",
   "metadata": {},
   "outputs": [
    {
     "data": {
      "text/plain": [
       "array([59.38, 56.43, 51.92])"
      ]
     },
     "execution_count": 99,
     "metadata": {},
     "output_type": "execute_result"
    }
   ],
   "source": [
    "sns_y"
   ]
  },
  {
   "cell_type": "code",
   "execution_count": 100,
   "id": "3f84d178",
   "metadata": {},
   "outputs": [
    {
     "data": {
      "text/plain": [
       "array([1.98, 2.13, 1.77])"
      ]
     },
     "execution_count": 100,
     "metadata": {},
     "output_type": "execute_result"
    }
   ],
   "source": [
    "sns_error"
   ]
  },
  {
   "cell_type": "code",
   "execution_count": 101,
   "id": "207d3def",
   "metadata": {},
   "outputs": [
    {
     "data": {
      "text/plain": [
       "array([[ 0.  , 59.38],\n",
       "       [ 1.  , 56.43],\n",
       "       [ 2.  , 51.92]])"
      ]
     },
     "execution_count": 101,
     "metadata": {},
     "output_type": "execute_result"
    }
   ],
   "source": [
    "xys"
   ]
  },
  {
   "cell_type": "markdown",
   "id": "5d4238df",
   "metadata": {},
   "source": [
    "### Statistical Analysis Phantom Decoys LessNoisyItems"
   ]
  },
  {
   "cell_type": "markdown",
   "id": "1110ea6d",
   "metadata": {},
   "source": [
    "#### All conditions One-way ANOVA\n"
   ]
  },
  {
   "cell_type": "code",
   "execution_count": 120,
   "id": "7b9e7016",
   "metadata": {},
   "outputs": [
    {
     "name": "stdout",
     "output_type": "stream",
     "text": [
      "                     df        sum_sq     mean_sq         F    PR(>F)\n",
      "PhantomCondition    2.0   1540.104747  770.052374  3.689975  0.027801\n",
      "Residual          122.0  25459.895253  208.687666       NaN       NaN\n"
     ]
    }
   ],
   "source": [
    "#One-way ANOVA \"PhantomCondition\" with statsmodels\n",
    "PhanDecoys_LessNoisy_lm = ols('Target_perc ~ PhantomCondition', data=decoy_P_part_LessNoisy_df).fit()\n",
    "\n",
    "PhanDecoys_LessNoisy_table = sm.stats.anova_lm(PhanDecoys_LessNoisy_lm)\n",
    "\n",
    "print(PhanDecoys_LessNoisy_table)"
   ]
  },
  {
   "cell_type": "code",
   "execution_count": 121,
   "id": "40b8926d",
   "metadata": {},
   "outputs": [
    {
     "name": "stdout",
     "output_type": "stream",
     "text": [
      "                      df        sum_sq     mean_sq         F    PR(>F)\n",
      "CouplingCondition    1.0    148.053279  148.053279  0.678184  0.411807\n",
      "Residual           123.0  26851.946721  218.308510       NaN       NaN\n"
     ]
    }
   ],
   "source": [
    "#One-way ANOVA \"CouplingCondition\" with statsmodels\n",
    "PhanDecoys_CoupC_LessNoisy_lm = ols('Target_perc ~ CouplingCondition', data=decoy_P_part_LessNoisy_df).fit()\n",
    "\n",
    "PhanDecoys_CoupC_LessNoisy_table = sm.stats.anova_lm(PhanDecoys_CoupC_LessNoisy_lm)\n",
    "\n",
    "print(PhanDecoys_CoupC_LessNoisy_table)"
   ]
  },
  {
   "cell_type": "code",
   "execution_count": 122,
   "id": "fff1afea",
   "metadata": {},
   "outputs": [
    {
     "data": {
      "text/plain": [
       "F_onewayResult(statistic=3.36044301460113, pvalue=0.03796290349119579)"
      ]
     },
     "execution_count": 122,
     "metadata": {},
     "output_type": "execute_result"
    }
   ],
   "source": [
    "# One-way ANOVA \n",
    "\n",
    "f_oneway(decoy_P_HD_freq_CI_df[\"Target(%)\"], decoy_P_WD_freq_CI_df[\"Target(%)\"], decoy_P_U_freq_CI_df[\"Target(%)\"])\n"
   ]
  },
  {
   "cell_type": "markdown",
   "id": "aec0c700",
   "metadata": {},
   "source": [
    "#### Individual testing"
   ]
  },
  {
   "cell_type": "markdown",
   "id": "5ec0d5b6",
   "metadata": {},
   "source": [
    "##### Highly desirability and Weakly desirability (LessNoisy)"
   ]
  },
  {
   "cell_type": "code",
   "execution_count": 123,
   "id": "7b8fa62a",
   "metadata": {},
   "outputs": [
    {
     "name": "stdout",
     "output_type": "stream",
     "text": [
      "p_HD_WD_CI: 0.2096971678690332\n"
     ]
    },
    {
     "data": {
      "text/plain": [
       "Ttest_indResult(statistic=1.001096720174051, pvalue=0.31965520610996145)"
      ]
     },
     "execution_count": 123,
     "metadata": {},
     "output_type": "execute_result"
    }
   ],
   "source": [
    "#Perform two sample t-test with equal variances\n",
    "stat_HD_WD_CI, p_HD_WD_CI = stats.levene(decoy_P_HD_freq_CI_df[\"Target(%)\"], decoy_P_WD_freq_CI_df[\"Target(%)\"])\n",
    "\n",
    "print(\"p_HD_WD_CI: \" + str(p_HD_WD_CI))\n",
    "\n",
    "stats.ttest_ind(a=decoy_P_HD_freq_CI_df[\"Target(%)\"], b=decoy_P_WD_freq_CI_df[\"Target(%)\"], equal_var=True)\n"
   ]
  },
  {
   "cell_type": "code",
   "execution_count": 124,
   "id": "f5c3bfc0",
   "metadata": {},
   "outputs": [
    {
     "name": "stdout",
     "output_type": "stream",
     "text": [
      "Phantom Decoy LessNoisyItems Highly desirable & Weakly desirable: \n",
      " t-stat: 1.001\n",
      " p-value: 0.32\n",
      " df: 84.0\n"
     ]
    }
   ],
   "source": [
    "PhantLessNoisy_HDWD_ttest_results = ttest_ind(decoy_P_HD_freq_CI_df[\"Target(%)\"], decoy_P_WD_freq_CI_df[\"Target(%)\"], alternative=\"two-sided\", usevar=\"pooled\")\n",
    "\n",
    "print(\"Phantom Decoy LessNoisyItems Highly desirable & Weakly desirable: \" + \"\\n t-stat: \" + str(round(PhantLessNoisy_HDWD_ttest_results[0], 3)) + \"\\n p-value: \" + str(round(PhantLessNoisy_HDWD_ttest_results[1], 3)) + \"\\n df: \" + str(round(PhantLessNoisy_HDWD_ttest_results[2], 3)))\n"
   ]
  },
  {
   "cell_type": "code",
   "execution_count": 125,
   "id": "2ec37250",
   "metadata": {},
   "outputs": [
    {
     "name": "stdout",
     "output_type": "stream",
     "text": [
      "Cohen's d between Highly desirable and Weakly desirable groups: \n"
     ]
    },
    {
     "data": {
      "text/plain": [
       "0.2164294484281481"
      ]
     },
     "execution_count": 125,
     "metadata": {},
     "output_type": "execute_result"
    }
   ],
   "source": [
    "print(\"Cohen's d between Highly desirable and Weakly desirable groups: \")\n",
    "pg.compute_effsize(decoy_P_HD_freq_CI_df[\"Target(%)\"], decoy_P_WD_freq_CI_df[\"Target(%)\"], eftype='cohen')"
   ]
  },
  {
   "cell_type": "code",
   "execution_count": 126,
   "id": "d53b5e52",
   "metadata": {},
   "outputs": [
    {
     "name": "stdout",
     "output_type": "stream",
     "text": [
      "Power 0.1 required sample size: 19.23\n",
      "Power 0.2 required sample size: 54.22\n",
      "Power 0.3 required sample size: 89.19\n",
      "Power 0.4 required sample size: 125.77\n",
      "Power 0.5 required sample size: 165.62\n",
      "Power 0.6 required sample size: 210.95\n",
      "Power 0.7 required sample size: 265.54\n",
      "Power 0.8 required sample size: 337.42\n",
      "Power 0.9 required sample size: 451.38\n",
      "\n",
      "At present with a ratio of 46/39 for both group samples, we have a power of : 0.151\n"
     ]
    }
   ],
   "source": [
    "#Power analysis \n",
    "\n",
    "powers = np.arange(0.1, 1, .1)\n",
    "\n",
    "for x in powers:\n",
    "    sample_size = stats_power.tt_ind_solve_power(effect_size=0.216, \n",
    "                                         nobs1=None,\n",
    "                                         power = x, \n",
    "                                         alpha = 0.05)\n",
    "    print('Power '+ str(round(x,2)) + ' required sample size: {0:.2f}'.format(sample_size))\n",
    "    \n",
    "current_power = stats_power.tt_ind_solve_power(effect_size=0.216, #Effect size from Cohen's d\n",
    "                                         nobs1=40, #sample size group 1\n",
    "                                         ratio=40/46, #ratio between sample1/sample2\n",
    "                                         power = None, \n",
    "                                         alpha = 0.05)\n",
    "\n",
    "print(\"\\nAt present with a ratio of 46/39 for both group samples, we have a power of : \" + str(round(current_power, 3)))\n"
   ]
  },
  {
   "cell_type": "markdown",
   "id": "587fc406",
   "metadata": {},
   "source": [
    "##### Weakly desirability and Undesirable (LessNoisy)"
   ]
  },
  {
   "cell_type": "code",
   "execution_count": 127,
   "id": "dab0b867",
   "metadata": {},
   "outputs": [
    {
     "name": "stdout",
     "output_type": "stream",
     "text": [
      "p_WD_U_CI: 0.15751038230238612\n"
     ]
    },
    {
     "data": {
      "text/plain": [
       "Ttest_indResult(statistic=1.5911343610175408, pvalue=0.11538114079138027)"
      ]
     },
     "execution_count": 127,
     "metadata": {},
     "output_type": "execute_result"
    }
   ],
   "source": [
    "stat_WD_U_CI, p_WD_U_CI = stats.levene(decoy_P_WD_freq_CI_df[\"Target(%)\"], decoy_P_U_freq_CI_df[\"Target(%)\"])\n",
    "\n",
    "print(\"p_WD_U_CI: \" + str(p_WD_U_CI))\n",
    "\n",
    "stats.ttest_ind(a=decoy_P_WD_freq_CI_df[\"Target(%)\"], b=decoy_P_U_freq_CI_df[\"Target(%)\"], equal_var=True)"
   ]
  },
  {
   "cell_type": "code",
   "execution_count": 128,
   "id": "4b82c88a",
   "metadata": {},
   "outputs": [
    {
     "name": "stdout",
     "output_type": "stream",
     "text": [
      "Phantom Decoy LessNoisyItems Weakly desirable & Undesirable: \n",
      " t-stat: 1.591\n",
      " p-value: 0.115\n",
      " df: 83.0\n"
     ]
    }
   ],
   "source": [
    "PhantLessNoisy_WDU_ttest_results = ttest_ind(decoy_P_WD_freq_CI_df[\"Target(%)\"], decoy_P_U_freq_CI_df[\"Target(%)\"], alternative=\"two-sided\", usevar=\"pooled\")\n",
    "\n",
    "print(\"Phantom Decoy LessNoisyItems Weakly desirable & Undesirable: \" + \"\\n t-stat: \" + str(round(PhantLessNoisy_WDU_ttest_results[0], 3)) + \"\\n p-value: \" + str(round(PhantLessNoisy_WDU_ttest_results[1], 3)) + \"\\n df: \" + str(round(PhantLessNoisy_WDU_ttest_results[2], 3)))\n"
   ]
  },
  {
   "cell_type": "code",
   "execution_count": 129,
   "id": "70a18f36",
   "metadata": {},
   "outputs": [
    {
     "name": "stdout",
     "output_type": "stream",
     "text": [
      "Cohen's d between Weakly desirable and Undesirable groups: \n"
     ]
    },
    {
     "data": {
      "text/plain": [
       "0.34634195019574193"
      ]
     },
     "execution_count": 129,
     "metadata": {},
     "output_type": "execute_result"
    }
   ],
   "source": [
    "print(\"Cohen's d between Weakly desirable and Undesirable groups: \")\n",
    "pg.compute_effsize(decoy_P_WD_freq_CI_df[\"Target(%)\"], decoy_P_U_freq_CI_df[\"Target(%)\"], eftype='cohen')"
   ]
  },
  {
   "cell_type": "code",
   "execution_count": 130,
   "id": "0d08a1a9",
   "metadata": {},
   "outputs": [
    {
     "name": "stdout",
     "output_type": "stream",
     "text": [
      "Power 0.1 required sample size: 8.14\n",
      "Power 0.2 required sample size: 21.74\n",
      "Power 0.3 required sample size: 35.36\n",
      "Power 0.4 required sample size: 49.61\n",
      "Power 0.5 required sample size: 65.14\n",
      "Power 0.6 required sample size: 82.81\n",
      "Power 0.7 required sample size: 104.08\n",
      "Power 0.8 required sample size: 132.09\n",
      "Power 0.9 required sample size: 176.51\n",
      "\n",
      "At present with a ratio of 46/39 for both group samples, we have a power of : 0.401\n"
     ]
    }
   ],
   "source": [
    "#Power analysis \n",
    "\n",
    "powers = np.arange(0.1, 1, .1)\n",
    "\n",
    "for x in powers:\n",
    "    sample_size = stats_power.tt_ind_solve_power(effect_size=0.346, \n",
    "                                         nobs1=None,\n",
    "                                         power = x, \n",
    "                                         alpha = 0.05)\n",
    "    print('Power '+ str(round(x,2)) + ' required sample size: {0:.2f}'.format(sample_size))\n",
    "    \n",
    "current_power = stats_power.tt_ind_solve_power(effect_size=0.346, #Effect size from Cohen's d\n",
    "                                         nobs1=46, #sample size group 1\n",
    "                                         ratio=46/39, #ratio between sample1/sample2\n",
    "                                         power = None, \n",
    "                                         alpha = 0.05)\n",
    "\n",
    "print(\"\\nAt present with a ratio of 46/39 for both group samples, we have a power of : \" + str(round(current_power, 3)))\n"
   ]
  },
  {
   "cell_type": "markdown",
   "id": "6f592e72",
   "metadata": {},
   "source": [
    "##### Highly desirability and  Undesirable (LessNoisy)"
   ]
  },
  {
   "cell_type": "code",
   "execution_count": 131,
   "id": "9c509082",
   "metadata": {},
   "outputs": [
    {
     "name": "stdout",
     "output_type": "stream",
     "text": [
      "p_HD_U_CI: 0.9921655482506276\n"
     ]
    },
    {
     "data": {
      "text/plain": [
       "Ttest_indResult(statistic=2.800248212415819, pvalue=0.006452525140823083)"
      ]
     },
     "execution_count": 131,
     "metadata": {},
     "output_type": "execute_result"
    }
   ],
   "source": [
    "stat_HD_U_CI, p_HD_U_CI = stats.levene(decoy_P_HD_freq_CI_df[\"Target(%)\"], decoy_P_U_freq_CI_df[\"Target(%)\"])\n",
    "\n",
    "print(\"p_HD_U_CI: \" + str(p_HD_U_CI))\n",
    "\n",
    "stats.ttest_ind(a=decoy_P_HD_freq_CI_df[\"Target(%)\"], b=decoy_P_U_freq_CI_df[\"Target(%)\"], equal_var=True)"
   ]
  },
  {
   "cell_type": "code",
   "execution_count": 132,
   "id": "7ff87d97",
   "metadata": {},
   "outputs": [
    {
     "name": "stdout",
     "output_type": "stream",
     "text": [
      "Phantom Decoy LessNoisyItems Highly desirable & Undesirable: \n",
      " t-stat: 2.8\n",
      " p-value: 0.006\n",
      " df: 77.0\n"
     ]
    }
   ],
   "source": [
    "PhantLessNoisy_HDU_ttest_results = ttest_ind(decoy_P_HD_freq_CI_df[\"Target(%)\"], decoy_P_U_freq_CI_df[\"Target(%)\"], alternative=\"two-sided\", usevar=\"pooled\")\n",
    "\n",
    "print(\"Phantom Decoy LessNoisyItems Highly desirable & Undesirable: \" + \"\\n t-stat: \" + str(round(PhantLessNoisy_HDU_ttest_results[0], 3)) + \"\\n p-value: \" + str(round(PhantLessNoisy_HDU_ttest_results[1], 3)) + \"\\n df: \" + str(round(PhantLessNoisy_HDU_ttest_results[2], 3)))\n"
   ]
  },
  {
   "cell_type": "code",
   "execution_count": 133,
   "id": "ad9d779f",
   "metadata": {},
   "outputs": [
    {
     "name": "stdout",
     "output_type": "stream",
     "text": [
      "Cohen's d between Highly desirable and Undesirable groups: \n"
     ]
    },
    {
     "data": {
      "text/plain": [
       "0.6301555638419472"
      ]
     },
     "execution_count": 133,
     "metadata": {},
     "output_type": "execute_result"
    }
   ],
   "source": [
    "print(\"Cohen's d between Highly desirable and Undesirable groups: \")\n",
    "pg.compute_effsize(decoy_P_HD_freq_CI_df[\"Target(%)\"], decoy_P_U_freq_CI_df[\"Target(%)\"], eftype='cohen')"
   ]
  },
  {
   "cell_type": "code",
   "execution_count": 134,
   "id": "67f7a057",
   "metadata": {},
   "outputs": [
    {
     "name": "stdout",
     "output_type": "stream",
     "text": [
      "Power 0.1 required sample size: 3.29\n",
      "Power 0.2 required sample size: 7.31\n",
      "Power 0.3 required sample size: 11.39\n",
      "Power 0.4 required sample size: 15.68\n",
      "Power 0.5 required sample size: 20.35\n",
      "Power 0.6 required sample size: 25.68\n",
      "Power 0.7 required sample size: 32.09\n",
      "Power 0.8 required sample size: 40.53\n",
      "Power 0.9 required sample size: 53.93\n",
      "\n",
      "At present with a ratio of 40/39 for both group samples, we have a power of : 0.8\n"
     ]
    }
   ],
   "source": [
    "#Power analysis \n",
    "\n",
    "powers = np.arange(0.1, 1, .1)\n",
    "\n",
    "for x in powers:\n",
    "    sample_size = stats_power.tt_ind_solve_power(effect_size = 0.630, \n",
    "                                         nobs1=None,\n",
    "                                         power = x, \n",
    "                                         alpha = 0.05)\n",
    "    print('Power '+ str(round(x,2)) + ' required sample size: {0:.2f}'.format(sample_size))\n",
    "    \n",
    "current_power = stats_power.tt_ind_solve_power(effect_size = 0.630, #Effect size from Cohen's d\n",
    "                                         nobs1=40, #sample size group 1\n",
    "                                         ratio=40/39, #ratio between sample1/sample2\n",
    "                                         power = None, \n",
    "                                         alpha = 0.05)\n",
    "\n",
    "print(\"\\nAt present with a ratio of 40/39 for both group samples, we have a power of : \" + str(round(current_power, 3)))\n"
   ]
  },
  {
   "cell_type": "code",
   "execution_count": null,
   "id": "2175a2c3",
   "metadata": {},
   "outputs": [],
   "source": []
  },
  {
   "cell_type": "code",
   "execution_count": 135,
   "id": "db437595",
   "metadata": {},
   "outputs": [
    {
     "data": {
      "text/plain": [
       "\"\\nTotal number of participants in 'Highly Desirable': 40\\nTotal number of participants in 'Weakly Desirable': 46\\nTotal number of participants in 'Undesirable': 39\\n\""
      ]
     },
     "execution_count": 135,
     "metadata": {},
     "output_type": "execute_result"
    }
   ],
   "source": [
    "\"\"\"\n",
    "Total number of participants in 'Highly Desirable': 40\n",
    "Total number of participants in 'Weakly Desirable': 46\n",
    "Total number of participants in 'Undesirable': 39\n",
    "\"\"\""
   ]
  },
  {
   "cell_type": "markdown",
   "id": "aee4d948",
   "metadata": {},
   "source": [
    "## Inspecting Individual Items"
   ]
  },
  {
   "cell_type": "markdown",
   "id": "19e55210",
   "metadata": {},
   "source": [
    "### Similarity Decoy"
   ]
  },
  {
   "cell_type": "code",
   "execution_count": 136,
   "id": "4988f807",
   "metadata": {},
   "outputs": [],
   "source": [
    "decoy_S_TargetA_df = decoy_S_df.loc[decoy_S_df['Option_1'].str.contains('S_A') | decoy_S_df['Option_2'].str.contains('S_A') | decoy_S_df['Option_3'].str.contains('S_A')]\n",
    "decoy_S_TargetB_df = decoy_S_df.loc[decoy_S_df['Option_1'].str.contains('S_B') | decoy_S_df['Option_2'].str.contains('S_B') | decoy_S_df['Option_3'].str.contains('S_B')]\n",
    "\n",
    "decoy_S_Items_TargetA_df = itemFreq_Decoy(decoy_S_TargetA_df, \"Sim_Decoy\")\n",
    "decoy_S_Items_TargetB_df = itemFreq_Decoy(decoy_S_TargetB_df, \"Sim_Decoy\")\n",
    "\n",
    "item_list = decoy_S_TargetA_df[\"Item\"].unique()\n",
    "item_list = np.sort(item_list)\n",
    "\n",
    "Sim_items_targets_A = np.array([])\n",
    "Sim_items_competitors_A = np.array([])\n",
    "Sim_items_decoys_A = np.array([])\n",
    "\n",
    "Sim_items_targets_B = np.array([])\n",
    "Sim_items_competitors_B = np.array([])\n",
    "Sim_items_decoys_B = np.array([])\n",
    "\n",
    "Sim_items_targets_A_sem = np.array([])\n",
    "Sim_items_competitors_A_sem = np.array([])\n",
    "Sim_items_decoys_A_sem = np.array([])\n",
    "\n",
    "Sim_items_targets_B_sem = np.array([])\n",
    "Sim_items_competitors_B_sem = np.array([])\n",
    "Sim_items_decoys_B_sem = np.array([])\n",
    "\n",
    "for item in item_list:\n",
    "    \n",
    "    current_item_A = decoy_S_Items_TargetA_df[decoy_S_Items_TargetA_df[\"Item\"] == item]\n",
    "    current_item_B = decoy_S_Items_TargetB_df[decoy_S_Items_TargetB_df[\"Item\"] == item]\n",
    "    \n",
    "    Sim_items_targets_A = np.append(Sim_items_targets_A, current_item_A[\"Target(%)\"])\n",
    "    Sim_items_competitors_A = np.append(Sim_items_competitors_A, current_item_A[\"Competitor(%)\"])\n",
    "    Sim_items_decoys_A = np.append(Sim_items_decoys_A, current_item_A[\"Sim_Decoy(%)\"])\n",
    "    \n",
    "    Sim_items_targets_B = np.append(Sim_items_targets_B, current_item_B[\"Target(%)\"])\n",
    "    Sim_items_competitors_B = np.append(Sim_items_competitors_B, current_item_B[\"Competitor(%)\"])\n",
    "    Sim_items_decoys_B = np.append(Sim_items_decoys_B, current_item_B[\"Sim_Decoy(%)\"])\n",
    "    \n",
    "    target_P_WD_std = decoy_P_WD_freq_df[\"Target(%)\"].std()\n",
    "    competitor_P_WD_std = decoy_P_WD_freq_df[\"Competitor(%)\"].std()\n",
    "\n",
    "    target_P_WD_sem = round((target_P_WD_std/np.sqrt(total_n)), 2)\n",
    "    competitor_P_WD_sem = round((competitor_P_WD_std/np.sqrt(total_n)), 2)\n",
    "    "
   ]
  },
  {
   "cell_type": "code",
   "execution_count": 137,
   "id": "17e87233",
   "metadata": {},
   "outputs": [],
   "source": [
    "decoy_S_Items_TargetA_df.sort_values(by=['Item'], inplace=True) \n",
    "#decoy_S_Items_TargetA_df.head(10)"
   ]
  },
  {
   "cell_type": "code",
   "execution_count": 138,
   "id": "736cb26a",
   "metadata": {},
   "outputs": [],
   "source": [
    "decoy_S_Items_TargetB_df.sort_values(by=['Item'], inplace=True) \n",
    "#decoy_S_Items_TargetB_df.head(10)"
   ]
  },
  {
   "cell_type": "code",
   "execution_count": 139,
   "id": "89397d84",
   "metadata": {},
   "outputs": [
    {
     "data": {
      "image/png": "[encoded data removed]",
      "text/plain": [
       "<Figure size 1440x720 with 10 Axes>"
      ]
     },
     "metadata": {
      "needs_background": "light"
     },
     "output_type": "display_data"
    }
   ],
   "source": [
    "fig, ax = plt.subplots(2, 5, figsize=(20, 10))\n",
    "\n",
    "# Biased items: \"Baby high chair\", \"Metal detector\", \"Vacuum\"\n",
    "\n",
    "counter = 0\n",
    "\n",
    "labels1 = [\"T_A\", \"C_A\", \"S_A\"]\n",
    "labels2 = [\"T_B\", \"C_B\", \"S_B\"]\n",
    "\n",
    "n = Sim_items_targets_A.shape[0]\n",
    "\n",
    "for x in range(2):\n",
    "    \n",
    "    for xi in range(5):\n",
    "        \n",
    "        if (counter == (n)):\n",
    "            counter = 0\n",
    "        \n",
    "        y1 = np.array([Sim_items_targets_A[counter], Sim_items_competitors_A[counter], Sim_items_decoys_A[counter]])\n",
    "        y2 = np.array([Sim_items_targets_B[counter], Sim_items_competitors_B[counter], Sim_items_decoys_B[counter]])\n",
    "        ax[x][xi].bar(labels1, y1, 0.5, capsize=8, label=\"Target A\")\n",
    "        ax[x][xi].bar(labels2, y2, 0.5, capsize=8, label=\"Target B\")\n",
    "        ax[x][xi].set_ylim(0, 105)\n",
    "        ax[x][xi].set_title(item_list[counter])\n",
    "        ax[x][xi].legend()\n",
    "        counter = counter + 1\n",
    "\n",
    "plt.tight_layout()"
   ]
  },
  {
   "cell_type": "markdown",
   "id": "1dec8b44",
   "metadata": {},
   "source": [
    "### Compromise Decoy"
   ]
  },
  {
   "cell_type": "code",
   "execution_count": 140,
   "id": "e7df84f9",
   "metadata": {},
   "outputs": [],
   "source": [
    "decoy_C_TargetA_df = decoy_C_df.loc[decoy_C_df['Option_1'].str.contains('C_A') | decoy_C_df['Option_2'].str.contains('C_A') | decoy_C_df['Option_3'].str.contains('C_A')]\n",
    "decoy_C_TargetB_df = decoy_C_df.loc[decoy_C_df['Option_1'].str.contains('C_B') | decoy_C_df['Option_2'].str.contains('C_B') | decoy_C_df['Option_3'].str.contains('C_B')]\n",
    "\n",
    "decoy_C_Items_TargetA_df = itemFreq_Decoy(decoy_C_TargetA_df, \"Com_Decoy\")\n",
    "decoy_C_Items_TargetB_df = itemFreq_Decoy(decoy_C_TargetB_df, \"Com_Decoy\")\n",
    "\n",
    "item_list = decoy_C_TargetA_df[\"Item\"].unique()\n",
    "item_list = np.sort(item_list)\n",
    "\n",
    "Com_items_targets_A = np.array([])\n",
    "Com_items_competitors_A = np.array([])\n",
    "Com_items_decoys_A = np.array([])\n",
    "\n",
    "Com_items_targets_B = np.array([])\n",
    "Com_items_competitors_B = np.array([])\n",
    "Com_items_decoys_B = np.array([])\n",
    "\n",
    "for item in item_list:\n",
    "    \n",
    "    current_item_A = decoy_C_Items_TargetA_df[decoy_C_Items_TargetA_df[\"Item\"] == item]\n",
    "    current_item_B = decoy_C_Items_TargetB_df[decoy_C_Items_TargetB_df[\"Item\"] == item]\n",
    "    \n",
    "    Com_items_targets_A = np.append(Com_items_targets_A, current_item_A[\"Target(%)\"])\n",
    "    Com_items_competitors_A = np.append(Com_items_competitors_A, current_item_A[\"Competitor(%)\"])\n",
    "    Com_items_decoys_A = np.append(Com_items_decoys_A, current_item_A[\"Com_Decoy(%)\"])\n",
    "    \n",
    "    Com_items_targets_B = np.append(Com_items_targets_B, current_item_B[\"Target(%)\"])\n",
    "    Com_items_competitors_B = np.append(Com_items_competitors_B, current_item_B[\"Competitor(%)\"])\n",
    "    Com_items_decoys_B = np.append(Com_items_decoys_B, current_item_B[\"Com_Decoy(%)\"])\n"
   ]
  },
  {
   "cell_type": "code",
   "execution_count": 141,
   "id": "6e3db7d2",
   "metadata": {},
   "outputs": [],
   "source": [
    "decoy_C_Items_TargetA_df.sort_values(by=['Item'], inplace=True) \n",
    "#decoy_C_Items_TargetA_df.head(10)"
   ]
  },
  {
   "cell_type": "code",
   "execution_count": 142,
   "id": "9572615d",
   "metadata": {},
   "outputs": [],
   "source": [
    "decoy_C_Items_TargetB_df.sort_values(by=['Item'], inplace=True) \n",
    "#decoy_C_Items_TargetB_df.head(10)"
   ]
  },
  {
   "cell_type": "code",
   "execution_count": 143,
   "id": "95ad7f63",
   "metadata": {},
   "outputs": [
    {
     "data": {
      "image/png": "[encoded data removed]",
      "text/plain": [
       "<Figure size 1440x720 with 10 Axes>"
      ]
     },
     "metadata": {
      "needs_background": "light"
     },
     "output_type": "display_data"
    }
   ],
   "source": [
    "fig, ax = plt.subplots(2, 5, figsize=(20, 10))\n",
    "\n",
    "# Biased items: \"Mobility scooter\", \"Smart lock\"\n",
    "\n",
    "counter = 0\n",
    "\n",
    "labels1 = [\"T_A\", \"C_A\", \"Co_A\"]\n",
    "labels2 = [\"T_B\", \"C_B\", \"Co_B\"]\n",
    "\n",
    "n = Com_items_targets_A.shape[0]\n",
    "\n",
    "for x in range(2):\n",
    "    \n",
    "    for xi in range(5):\n",
    "        \n",
    "        if (counter == (n)):\n",
    "            counter = 0\n",
    "        \n",
    "        y1 = np.array([Com_items_targets_A[counter], Com_items_competitors_A[counter], Com_items_decoys_A[counter]])\n",
    "        y2 = np.array([Com_items_targets_B[counter], Com_items_competitors_B[counter], Com_items_decoys_B[counter]])\n",
    "        ax[x][xi].bar(labels1, y1, 0.5, capsize=8, label=\"Target A\")\n",
    "        ax[x][xi].bar(labels2, y2, 0.5, capsize=8, label=\"Target B\")\n",
    "        ax[x][xi].set_ylim(0, 105)\n",
    "        ax[x][xi].set_title(item_list[counter])\n",
    "        ax[x][xi].legend()\n",
    "        counter = counter + 1\n",
    "\n",
    "plt.tight_layout()"
   ]
  },
  {
   "cell_type": "markdown",
   "id": "bf5d94b3",
   "metadata": {},
   "source": [
    "### Attraction Decoy"
   ]
  },
  {
   "cell_type": "code",
   "execution_count": 144,
   "id": "8b75abc6",
   "metadata": {},
   "outputs": [],
   "source": [
    "decoy_A_TargetA_df = decoy_A_df.loc[decoy_A_df['Option_1'].str.contains('A_A') | decoy_A_df['Option_2'].str.contains('A_A') | decoy_A_df['Option_3'].str.contains('A_A')]\n",
    "decoy_A_TargetB_df = decoy_A_df.loc[decoy_A_df['Option_1'].str.contains('A_B') | decoy_A_df['Option_2'].str.contains('A_B') | decoy_A_df['Option_3'].str.contains('A_B')]\n",
    "\n",
    "decoy_A_Items_TargetA_df = itemFreq_Decoy(decoy_A_TargetA_df, \"Att_Decoy\")\n",
    "decoy_A_Items_TargetB_df = itemFreq_Decoy(decoy_A_TargetB_df, \"Att_Decoy\")\n",
    "\n",
    "item_list = decoy_A_TargetA_df[\"Item\"].unique()\n",
    "item_list = np.sort(item_list)\n",
    "\n",
    "Att_items_targets_A = np.array([])\n",
    "Att_items_competitors_A = np.array([])\n",
    "Att_items_decoys_A = np.array([])\n",
    "\n",
    "Att_items_targets_B = np.array([])\n",
    "Att_items_competitors_B = np.array([])\n",
    "Att_items_decoys_B = np.array([])\n",
    "\n",
    "for item in item_list:\n",
    "    \n",
    "    current_item_A = decoy_A_Items_TargetA_df[decoy_A_Items_TargetA_df[\"Item\"] == item]\n",
    "    current_item_B = decoy_A_Items_TargetB_df[decoy_A_Items_TargetB_df[\"Item\"] == item]\n",
    "    \n",
    "    Att_items_targets_A = np.append(Att_items_targets_A, current_item_A[\"Target(%)\"])\n",
    "    Att_items_competitors_A = np.append(Att_items_competitors_A, current_item_A[\"Competitor(%)\"])\n",
    "    Att_items_decoys_A = np.append(Att_items_decoys_A, current_item_A[\"Att_Decoy(%)\"])\n",
    "    \n",
    "    Att_items_targets_B = np.append(Att_items_targets_B, current_item_B[\"Target(%)\"])\n",
    "    Att_items_competitors_B = np.append(Att_items_competitors_B, current_item_B[\"Competitor(%)\"])\n",
    "    Att_items_decoys_B = np.append(Att_items_decoys_B, current_item_B[\"Att_Decoy(%)\"])\n"
   ]
  },
  {
   "cell_type": "code",
   "execution_count": 145,
   "id": "91b6d7db",
   "metadata": {},
   "outputs": [],
   "source": [
    "decoy_A_Items_TargetA_df.sort_values(by=['Item'], inplace=True) \n",
    "#decoy_A_Items_TargetA_df.head(10)"
   ]
  },
  {
   "cell_type": "code",
   "execution_count": 146,
   "id": "e2d73601",
   "metadata": {},
   "outputs": [],
   "source": [
    "decoy_A_Items_TargetB_df.sort_values(by=['Item'], inplace=True) \n",
    "#decoy_A_Items_TargetB_df.head(10)"
   ]
  },
  {
   "cell_type": "code",
   "execution_count": 147,
   "id": "51342826",
   "metadata": {},
   "outputs": [
    {
     "data": {
      "image/png": "[encoded data removed]",
      "text/plain": [
       "<Figure size 1440x720 with 10 Axes>"
      ]
     },
     "metadata": {
      "needs_background": "light"
     },
     "output_type": "display_data"
    }
   ],
   "source": [
    "fig, ax = plt.subplots(2, 5, figsize=(20, 10))\n",
    "\n",
    "# Biased items: \"Car seat\", \"Leaf Blower\", \"Rash cream\", \"Slow cooker\", \"Tire inflator\"\n",
    "\n",
    "counter = 0\n",
    "\n",
    "labels1 = [\"T_A\", \"C_A\", \"A_A\"]\n",
    "labels2 = [\"T_B\", \"C_B\", \"A_B\"]\n",
    "\n",
    "n = Att_items_targets_A.shape[0]\n",
    "\n",
    "for x in range(2):\n",
    "    \n",
    "    for xi in range(5):\n",
    "        \n",
    "        if (counter == (n)):\n",
    "            counter = 0\n",
    "        \n",
    "        y1 = np.array([Att_items_targets_A[counter], Att_items_competitors_A[counter], Att_items_decoys_A[counter]])\n",
    "        y2 = np.array([Att_items_targets_B[counter], Att_items_competitors_B[counter], Att_items_decoys_B[counter]])\n",
    "        ax[x][xi].bar(labels1, y1, 0.5, capsize=8, label=\"Target A\")\n",
    "        ax[x][xi].bar(labels2, y2, 0.5, capsize=8, label=\"Target B\")\n",
    "        ax[x][xi].set_ylim(0, 105)\n",
    "        ax[x][xi].set_title(item_list[counter])\n",
    "        ax[x][xi].legend()\n",
    "        counter = counter + 1\n",
    "\n",
    "plt.tight_layout()"
   ]
  },
  {
   "cell_type": "markdown",
   "id": "f620ba5f",
   "metadata": {},
   "source": [
    "### Phantom Decoy"
   ]
  },
  {
   "cell_type": "code",
   "execution_count": 148,
   "id": "03c0c035",
   "metadata": {},
   "outputs": [],
   "source": [
    "decoy_P_TargetA_df = decoy_P_df.loc[decoy_P_df['Option_1'].str.contains('P_A') | decoy_P_df['Option_2'].str.contains('P_A') | decoy_P_df['Option_3'].str.contains('P_A')]\n",
    "decoy_P_TargetB_df = decoy_P_df.loc[decoy_P_df['Option_1'].str.contains('P_B') | decoy_P_df['Option_2'].str.contains('P_B') | decoy_P_df['Option_3'].str.contains('P_B')]\n",
    "\n",
    "# Only looking at \"Weakly_desirable\" condition, as it is sort of a control group.\n",
    "decoy_P_TargetA_df = decoy_P_TargetA_df[decoy_P_TargetA_df[\"PhantomCondition\"] == \"Weakly_desirable\"]\n",
    "decoy_P_TargetB_df = decoy_P_TargetB_df[decoy_P_TargetB_df[\"PhantomCondition\"] == \"Weakly_desirable\"]\n",
    "\n",
    "# \"Weakly desirable\" -> \"Dehumidifier\", \"Organic fertilizer\" \"Wifi extender\"\n",
    "# \"Highly desirable\" -> \"Baby stroller\", \"Dehumidifier\", \"Electric mop\", \"Organic fertilizer\", \"Paint sprayer\"\n",
    "# \"Undesirable\" ->\n",
    "\n",
    "decoy_P_Items_TargetA_df = itemFreq_PhantomDecoy(decoy_P_TargetA_df)\n",
    "decoy_P_Items_TargetB_df = itemFreq_PhantomDecoy(decoy_P_TargetB_df)\n",
    "\n",
    "item_list = decoy_P_TargetA_df[\"Item\"].unique()\n",
    "item_list = np.sort(item_list)\n",
    "\n",
    "Phan_items_targets_A = np.array([])\n",
    "Phan_items_competitors_A = np.array([])\n",
    "\n",
    "Phan_items_targets_B = np.array([])\n",
    "Phan_items_competitors_B = np.array([])\n",
    "\n",
    "for item in item_list:\n",
    "    \n",
    "    current_item_A = decoy_P_Items_TargetA_df[decoy_P_Items_TargetA_df[\"Item\"] == item]\n",
    "    current_item_B = decoy_P_Items_TargetB_df[decoy_P_Items_TargetB_df[\"Item\"] == item]\n",
    "    \n",
    "    Phan_items_targets_A = np.append(Phan_items_targets_A, current_item_A[\"Target(%)\"])\n",
    "    Phan_items_competitors_A = np.append(Phan_items_competitors_A, current_item_A[\"Competitor(%)\"])\n",
    "    \n",
    "    Phan_items_targets_B = np.append(Phan_items_targets_B, current_item_B[\"Target(%)\"])\n",
    "    Phan_items_competitors_B = np.append(Phan_items_competitors_B, current_item_B[\"Competitor(%)\"])\n",
    "\n",
    "    "
   ]
  },
  {
   "cell_type": "code",
   "execution_count": 149,
   "id": "b36a0ef0",
   "metadata": {},
   "outputs": [
    {
     "data": {
      "text/html": [
       "<div>\n",
       "<style scoped>\n",
       "    .dataframe tbody tr th:only-of-type {\n",
       "        vertical-align: middle;\n",
       "    }\n",
       "\n",
       "    .dataframe tbody tr th {\n",
       "        vertical-align: top;\n",
       "    }\n",
       "\n",
       "    .dataframe thead th {\n",
       "        text-align: right;\n",
       "    }\n",
       "</style>\n",
       "<table border=\"1\" class=\"dataframe\">\n",
       "  <thead>\n",
       "    <tr style=\"text-align: right;\">\n",
       "      <th></th>\n",
       "      <th>Item</th>\n",
       "      <th>Target(num)</th>\n",
       "      <th>Competitor(num)</th>\n",
       "      <th>Target(%)</th>\n",
       "      <th>Competitor(%)</th>\n",
       "    </tr>\n",
       "  </thead>\n",
       "  <tbody>\n",
       "    <tr>\n",
       "      <th>7</th>\n",
       "      <td>Air purifier</td>\n",
       "      <td>33</td>\n",
       "      <td>13</td>\n",
       "      <td>71.7</td>\n",
       "      <td>28.3</td>\n",
       "    </tr>\n",
       "    <tr>\n",
       "      <th>9</th>\n",
       "      <td>Baby stroller</td>\n",
       "      <td>31</td>\n",
       "      <td>15</td>\n",
       "      <td>67.4</td>\n",
       "      <td>32.6</td>\n",
       "    </tr>\n",
       "    <tr>\n",
       "      <th>6</th>\n",
       "      <td>Countertop blender</td>\n",
       "      <td>19</td>\n",
       "      <td>27</td>\n",
       "      <td>41.3</td>\n",
       "      <td>58.7</td>\n",
       "    </tr>\n",
       "    <tr>\n",
       "      <th>5</th>\n",
       "      <td>Dehumidifier</td>\n",
       "      <td>23</td>\n",
       "      <td>23</td>\n",
       "      <td>50.0</td>\n",
       "      <td>50.0</td>\n",
       "    </tr>\n",
       "    <tr>\n",
       "      <th>2</th>\n",
       "      <td>Electric mop</td>\n",
       "      <td>28</td>\n",
       "      <td>18</td>\n",
       "      <td>60.9</td>\n",
       "      <td>39.1</td>\n",
       "    </tr>\n",
       "    <tr>\n",
       "      <th>1</th>\n",
       "      <td>Organic fertilizer</td>\n",
       "      <td>25</td>\n",
       "      <td>21</td>\n",
       "      <td>54.3</td>\n",
       "      <td>45.7</td>\n",
       "    </tr>\n",
       "    <tr>\n",
       "      <th>0</th>\n",
       "      <td>Outdoor solar lights</td>\n",
       "      <td>35</td>\n",
       "      <td>11</td>\n",
       "      <td>76.1</td>\n",
       "      <td>23.9</td>\n",
       "    </tr>\n",
       "    <tr>\n",
       "      <th>3</th>\n",
       "      <td>Paint sprayer</td>\n",
       "      <td>21</td>\n",
       "      <td>25</td>\n",
       "      <td>45.7</td>\n",
       "      <td>54.3</td>\n",
       "    </tr>\n",
       "    <tr>\n",
       "      <th>4</th>\n",
       "      <td>Solar panel system</td>\n",
       "      <td>37</td>\n",
       "      <td>9</td>\n",
       "      <td>80.4</td>\n",
       "      <td>19.6</td>\n",
       "    </tr>\n",
       "    <tr>\n",
       "      <th>8</th>\n",
       "      <td>Wifi extender</td>\n",
       "      <td>24</td>\n",
       "      <td>22</td>\n",
       "      <td>52.2</td>\n",
       "      <td>47.8</td>\n",
       "    </tr>\n",
       "  </tbody>\n",
       "</table>\n",
       "</div>"
      ],
      "text/plain": [
       "                   Item Target(num) Competitor(num)  Target(%)  Competitor(%)\n",
       "7          Air purifier          33              13       71.7           28.3\n",
       "9         Baby stroller          31              15       67.4           32.6\n",
       "6    Countertop blender          19              27       41.3           58.7\n",
       "5          Dehumidifier          23              23       50.0           50.0\n",
       "2          Electric mop          28              18       60.9           39.1\n",
       "1    Organic fertilizer          25              21       54.3           45.7\n",
       "0  Outdoor solar lights          35              11       76.1           23.9\n",
       "3         Paint sprayer          21              25       45.7           54.3\n",
       "4    Solar panel system          37               9       80.4           19.6\n",
       "8         Wifi extender          24              22       52.2           47.8"
      ]
     },
     "execution_count": 149,
     "metadata": {},
     "output_type": "execute_result"
    }
   ],
   "source": [
    "decoy_P_Items_TargetB_df.sort_values(by=['Item'], inplace=True) \n",
    "decoy_P_Items_TargetB_df.head(10)"
   ]
  },
  {
   "cell_type": "code",
   "execution_count": 150,
   "id": "f096775c",
   "metadata": {},
   "outputs": [
    {
     "data": {
      "image/png": "[encoded data removed]",
      "text/plain": [
       "<Figure size 1440x720 with 10 Axes>"
      ]
     },
     "metadata": {
      "needs_background": "light"
     },
     "output_type": "display_data"
    }
   ],
   "source": [
    "fig, ax = plt.subplots(2, 5, figsize=(20, 10))\n",
    "\n",
    "counter = 0\n",
    "\n",
    "labels1 = [\"T_A\", \"C_A\"]\n",
    "labels2 = [\"T_B\", \"C_B\"]\n",
    "\n",
    "n = item_list.shape[0]\n",
    "\n",
    "for x in range(2):\n",
    "    \n",
    "    for xi in range(5):\n",
    "        \n",
    "        if (counter == (n)):\n",
    "            counter = 0\n",
    "        \n",
    "        y1 = np.array([Phan_items_targets_A[counter], Phan_items_competitors_A[counter]])\n",
    "        y2 = np.array([Phan_items_targets_B[counter], Phan_items_competitors_B[counter]])\n",
    "        ax[x][xi].bar(labels1, y1, 0.5, capsize=8, label=\"Target A\")\n",
    "        ax[x][xi].bar(labels2, y2, 0.5, capsize=8, label=\"Target B\")\n",
    "        ax[x][xi].set_ylim(0, 105)\n",
    "        ax[x][xi].set_title(item_list[counter])\n",
    "        ax[x][xi].legend()\n",
    "        counter = counter + 1\n",
    "\n",
    "plt.tight_layout()"
   ]
  },
  {
   "cell_type": "code",
   "execution_count": null,
   "id": "6fcf9302",
   "metadata": {},
   "outputs": [],
   "source": []
  },
  {
   "cell_type": "code",
   "execution_count": null,
   "id": "0b8559f2",
   "metadata": {},
   "outputs": [],
   "source": []
  },
  {
   "cell_type": "code",
   "execution_count": null,
   "id": "e1996232",
   "metadata": {},
   "outputs": [],
   "source": []
  },
  {
   "cell_type": "code",
   "execution_count": null,
   "id": "1a3e3964",
   "metadata": {},
   "outputs": [],
   "source": []
  },
  {
   "cell_type": "code",
   "execution_count": null,
   "id": "315f06b7",
   "metadata": {},
   "outputs": [],
   "source": []
  },
  {
   "cell_type": "code",
   "execution_count": null,
   "id": "4e5ac2b2",
   "metadata": {},
   "outputs": [],
   "source": []
  },
  {
   "cell_type": "code",
   "execution_count": null,
   "id": "31ae41fc",
   "metadata": {},
   "outputs": [],
   "source": []
  },
  {
   "cell_type": "code",
   "execution_count": null,
   "id": "c4a66bad",
   "metadata": {},
   "outputs": [],
   "source": []
  },
  {
   "cell_type": "code",
   "execution_count": null,
   "id": "14a784ea",
   "metadata": {},
   "outputs": [],
   "source": []
  },
  {
   "cell_type": "code",
   "execution_count": null,
   "id": "88367c24",
   "metadata": {},
   "outputs": [],
   "source": []
  },
  {
   "cell_type": "code",
   "execution_count": null,
   "id": "126d6a94",
   "metadata": {},
   "outputs": [],
   "source": []
  },
  {
   "cell_type": "code",
   "execution_count": null,
   "id": "2668b178",
   "metadata": {},
   "outputs": [],
   "source": []
  },
  {
   "cell_type": "code",
   "execution_count": null,
   "id": "689eaefa",
   "metadata": {},
   "outputs": [],
   "source": []
  },
  {
   "cell_type": "code",
   "execution_count": null,
   "id": "690b5e94",
   "metadata": {},
   "outputs": [],
   "source": []
  },
  {
   "cell_type": "code",
   "execution_count": null,
   "id": "6b0591da",
   "metadata": {
    "scrolled": true
   },
   "outputs": [],
   "source": []
  },
  {
   "cell_type": "code",
   "execution_count": null,
   "id": "ae8ddea9",
   "metadata": {},
   "outputs": [],
   "source": []
  },
  {
   "cell_type": "code",
   "execution_count": null,
   "id": "32e280b9",
   "metadata": {},
   "outputs": [],
   "source": []
  },
  {
   "cell_type": "code",
   "execution_count": null,
   "id": "8f72a379",
   "metadata": {},
   "outputs": [],
   "source": []
  },
  {
   "cell_type": "code",
   "execution_count": null,
   "id": "dc85ae5b",
   "metadata": {},
   "outputs": [],
   "source": []
  },
  {
   "cell_type": "code",
   "execution_count": null,
   "id": "550e7afc",
   "metadata": {},
   "outputs": [],
   "source": []
  },
  {
   "cell_type": "code",
   "execution_count": null,
   "id": "bf0807c3",
   "metadata": {},
   "outputs": [],
   "source": []
  },
  {
   "cell_type": "code",
   "execution_count": null,
   "id": "a102a22a",
   "metadata": {},
   "outputs": [],
   "source": []
  },
  {
   "cell_type": "code",
   "execution_count": null,
   "id": "dd200ac6",
   "metadata": {},
   "outputs": [],
   "source": []
  },
  {
   "cell_type": "code",
   "execution_count": null,
   "id": "316cd722",
   "metadata": {},
   "outputs": [],
   "source": []
  },
  {
   "cell_type": "code",
   "execution_count": null,
   "id": "8b28b0a2",
   "metadata": {},
   "outputs": [],
   "source": []
  },
  {
   "cell_type": "code",
   "execution_count": null,
   "id": "8665ad45",
   "metadata": {},
   "outputs": [],
   "source": []
  },
  {
   "cell_type": "code",
   "execution_count": null,
   "id": "fc2db78c",
   "metadata": {},
   "outputs": [],
   "source": []
  },
  {
   "cell_type": "code",
   "execution_count": null,
   "id": "d54bee5a",
   "metadata": {},
   "outputs": [],
   "source": []
  },
  {
   "cell_type": "code",
   "execution_count": null,
   "id": "41752699",
   "metadata": {},
   "outputs": [],
   "source": []
  },
  {
   "cell_type": "code",
   "execution_count": null,
   "id": "ed33ca5a",
   "metadata": {},
   "outputs": [],
   "source": []
  },
  {
   "cell_type": "code",
   "execution_count": null,
   "id": "b8fe646d",
   "metadata": {},
   "outputs": [],
   "source": []
  },
  {
   "cell_type": "code",
   "execution_count": null,
   "id": "0ceb93ed",
   "metadata": {},
   "outputs": [],
   "source": []
  },
  {
   "cell_type": "code",
   "execution_count": null,
   "id": "4b8e8ef4",
   "metadata": {},
   "outputs": [],
   "source": []
  },
  {
   "cell_type": "code",
   "execution_count": null,
   "id": "671505a1",
   "metadata": {},
   "outputs": [],
   "source": []
  },
  {
   "cell_type": "code",
   "execution_count": null,
   "id": "12460120",
   "metadata": {},
   "outputs": [],
   "source": []
  },
  {
   "cell_type": "code",
   "execution_count": null,
   "id": "02483119",
   "metadata": {},
   "outputs": [],
   "source": []
  }
 ],
 "metadata": {
  "kernelspec": {
   "display_name": "Python 3",
   "language": "python",
   "name": "python3"
  },
  "language_info": {
   "codemirror_mode": {
    "name": "ipython",
    "version": 3
   },
   "file_extension": ".py",
   "mimetype": "text/x-python",
   "name": "python",
   "nbconvert_exporter": "python",
   "pygments_lexer": "ipython3",
   "version": "3.8.8"
  }
 },
 "nbformat": 4,
 "nbformat_minor": 5
}
