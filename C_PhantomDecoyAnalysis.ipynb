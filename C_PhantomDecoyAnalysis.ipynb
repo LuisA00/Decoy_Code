{
 "cells": [
  {
   "cell_type": "code",
   "execution_count": 40,
   "id": "b7e87483",
   "metadata": {},
   "outputs": [],
   "source": [
    "import Useful_functions as uf\n",
    "import pandas as pd \n",
    "import numpy as np\n",
    "import statsmodels.api as sm\n",
    "from statsmodels.formula.api import ols\n",
    "from statsmodels.stats.power import TTestIndPower\n",
    "from statsmodels.stats.weightstats import ttest_ind\n",
    "from scipy.stats import f_oneway\n",
    "import statsmodels.stats.power as stats_power\n",
    "import pingouin as pg\n",
    "import scipy.stats as stats\n",
    "from sklearn.decomposition import PCA\n",
    "\n",
    "import matplotlib.pyplot as plt\n",
    "import matplotlib.patches as mpatches\n",
    "import seaborn as sns"
   ]
  },
  {
   "cell_type": "code",
   "execution_count": 2,
   "id": "0599ce06",
   "metadata": {},
   "outputs": [
    {
     "data": {
      "text/html": [
       "<div>\n",
       "<style scoped>\n",
       "    .dataframe tbody tr th:only-of-type {\n",
       "        vertical-align: middle;\n",
       "    }\n",
       "\n",
       "    .dataframe tbody tr th {\n",
       "        vertical-align: top;\n",
       "    }\n",
       "\n",
       "    .dataframe thead th {\n",
       "        text-align: right;\n",
       "    }\n",
       "</style>\n",
       "<table border=\"1\" class=\"dataframe\">\n",
       "  <thead>\n",
       "    <tr style=\"text-align: right;\">\n",
       "      <th></th>\n",
       "      <th>Decoy</th>\n",
       "      <th>Item</th>\n",
       "      <th>Option_1</th>\n",
       "      <th>Option_2</th>\n",
       "      <th>Option_3</th>\n",
       "      <th>Choice</th>\n",
       "      <th>CatchTrials</th>\n",
       "      <th>Deliberation_RT</th>\n",
       "      <th>Choice_RT</th>\n",
       "      <th>Too_Slow</th>\n",
       "      <th>Survey_ID</th>\n",
       "      <th>CouplingCondition</th>\n",
       "      <th>PhantomCondition</th>\n",
       "    </tr>\n",
       "  </thead>\n",
       "  <tbody>\n",
       "    <tr>\n",
       "      <th>0</th>\n",
       "      <td>F</td>\n",
       "      <td>Kitchen Scale</td>\n",
       "      <td>A</td>\n",
       "      <td>C</td>\n",
       "      <td>B</td>\n",
       "      <td>C</td>\n",
       "      <td>NaN</td>\n",
       "      <td>10000</td>\n",
       "      <td>620.0</td>\n",
       "      <td>0</td>\n",
       "      <td>40781</td>\n",
       "      <td>High coupling</td>\n",
       "      <td>Highly_desirable</td>\n",
       "    </tr>\n",
       "    <tr>\n",
       "      <th>1</th>\n",
       "      <td>C</td>\n",
       "      <td>Baby crib</td>\n",
       "      <td>C_A</td>\n",
       "      <td>B</td>\n",
       "      <td>A</td>\n",
       "      <td>A</td>\n",
       "      <td>NaN</td>\n",
       "      <td>10000</td>\n",
       "      <td>389.0</td>\n",
       "      <td>0</td>\n",
       "      <td>40781</td>\n",
       "      <td>High coupling</td>\n",
       "      <td>Highly_desirable</td>\n",
       "    </tr>\n",
       "    <tr>\n",
       "      <th>2</th>\n",
       "      <td>S</td>\n",
       "      <td>Baby high chair</td>\n",
       "      <td>A</td>\n",
       "      <td>B</td>\n",
       "      <td>S_B</td>\n",
       "      <td>B</td>\n",
       "      <td>NaN</td>\n",
       "      <td>10000</td>\n",
       "      <td>761.0</td>\n",
       "      <td>0</td>\n",
       "      <td>40781</td>\n",
       "      <td>High coupling</td>\n",
       "      <td>Highly_desirable</td>\n",
       "    </tr>\n",
       "    <tr>\n",
       "      <th>3</th>\n",
       "      <td>A</td>\n",
       "      <td>Leaf Blower</td>\n",
       "      <td>A</td>\n",
       "      <td>B</td>\n",
       "      <td>A_B</td>\n",
       "      <td>A</td>\n",
       "      <td>NaN</td>\n",
       "      <td>10000</td>\n",
       "      <td>308.0</td>\n",
       "      <td>0</td>\n",
       "      <td>40781</td>\n",
       "      <td>High coupling</td>\n",
       "      <td>Highly_desirable</td>\n",
       "    </tr>\n",
       "    <tr>\n",
       "      <th>4</th>\n",
       "      <td>P</td>\n",
       "      <td>Wifi extender</td>\n",
       "      <td>A</td>\n",
       "      <td>B</td>\n",
       "      <td>P_B</td>\n",
       "      <td>A</td>\n",
       "      <td>NaN</td>\n",
       "      <td>10000</td>\n",
       "      <td>586.0</td>\n",
       "      <td>0</td>\n",
       "      <td>40781</td>\n",
       "      <td>High coupling</td>\n",
       "      <td>Highly_desirable</td>\n",
       "    </tr>\n",
       "  </tbody>\n",
       "</table>\n",
       "</div>"
      ],
      "text/plain": [
       "  Decoy             Item Option_1 Option_2 Option_3 Choice  CatchTrials  \\\n",
       "0     F    Kitchen Scale        A        C        B      C          NaN   \n",
       "1     C        Baby crib      C_A        B        A      A          NaN   \n",
       "2     S  Baby high chair        A        B      S_B      B          NaN   \n",
       "3     A      Leaf Blower        A        B      A_B      A          NaN   \n",
       "4     P    Wifi extender        A        B      P_B      A          NaN   \n",
       "\n",
       "   Deliberation_RT  Choice_RT  Too_Slow  Survey_ID CouplingCondition  \\\n",
       "0            10000      620.0         0      40781     High coupling   \n",
       "1            10000      389.0         0      40781     High coupling   \n",
       "2            10000      761.0         0      40781     High coupling   \n",
       "3            10000      308.0         0      40781     High coupling   \n",
       "4            10000      586.0         0      40781     High coupling   \n",
       "\n",
       "   PhantomCondition  \n",
       "0  Highly_desirable  \n",
       "1  Highly_desirable  \n",
       "2  Highly_desirable  \n",
       "3  Highly_desirable  \n",
       "4  Highly_desirable  "
      ]
     },
     "execution_count": 2,
     "metadata": {},
     "output_type": "execute_result"
    }
   ],
   "source": [
    "all_responses_filtered = pd.read_csv(\"all_responses_filtered.csv\")\n",
    "\n",
    "all_responses_filtered.head()"
   ]
  },
  {
   "cell_type": "code",
   "execution_count": 3,
   "id": "33b8d0cd",
   "metadata": {},
   "outputs": [],
   "source": [
    "# Define important variables (based on A_Preprocessing.ipynb)\n",
    "total_n = 125\n",
    "\n",
    "number_of_low_coupling = 61\n",
    "number_of_high_coupling = 64\n",
    "\n",
    "number_of_HD = 40\n",
    "number_of_WD = 46\n",
    "number_of_U = 39\n",
    "\n",
    "Participants_PIDs = all_responses_filtered[\"Survey_ID\"].unique()"
   ]
  },
  {
   "cell_type": "code",
   "execution_count": null,
   "id": "342434f8",
   "metadata": {},
   "outputs": [],
   "source": []
  },
  {
   "cell_type": "markdown",
   "id": "8aafafe2",
   "metadata": {},
   "source": [
    "## Phantom Decoys"
   ]
  },
  {
   "cell_type": "markdown",
   "id": "b9e6b7ed",
   "metadata": {},
   "source": [
    "### Highly Desirable Group"
   ]
  },
  {
   "cell_type": "code",
   "execution_count": 4,
   "id": "415c09c4",
   "metadata": {},
   "outputs": [
    {
     "data": {
      "text/html": [
       "<div>\n",
       "<style scoped>\n",
       "    .dataframe tbody tr th:only-of-type {\n",
       "        vertical-align: middle;\n",
       "    }\n",
       "\n",
       "    .dataframe tbody tr th {\n",
       "        vertical-align: top;\n",
       "    }\n",
       "\n",
       "    .dataframe thead th {\n",
       "        text-align: right;\n",
       "    }\n",
       "</style>\n",
       "<table border=\"1\" class=\"dataframe\">\n",
       "  <thead>\n",
       "    <tr style=\"text-align: right;\">\n",
       "      <th></th>\n",
       "      <th>Target mean(%)</th>\n",
       "      <th>Target sem(%)</th>\n",
       "      <th>Comp mean(%)</th>\n",
       "      <th>Comp sem(%)</th>\n",
       "    </tr>\n",
       "  </thead>\n",
       "  <tbody>\n",
       "    <tr>\n",
       "      <th>All</th>\n",
       "      <td>58.12</td>\n",
       "      <td>1.64</td>\n",
       "      <td>41.88</td>\n",
       "      <td>1.64</td>\n",
       "    </tr>\n",
       "    <tr>\n",
       "      <th>LowCoupling</th>\n",
       "      <td>57.89</td>\n",
       "      <td>2.40</td>\n",
       "      <td>42.11</td>\n",
       "      <td>2.40</td>\n",
       "    </tr>\n",
       "    <tr>\n",
       "      <th>HighCoupling</th>\n",
       "      <td>58.33</td>\n",
       "      <td>2.30</td>\n",
       "      <td>41.67</td>\n",
       "      <td>2.30</td>\n",
       "    </tr>\n",
       "  </tbody>\n",
       "</table>\n",
       "</div>"
      ],
      "text/plain": [
       "              Target mean(%)  Target sem(%)  Comp mean(%)  Comp sem(%)\n",
       "All                    58.12           1.64         41.88         1.64\n",
       "LowCoupling            57.89           2.40         42.11         2.40\n",
       "HighCoupling           58.33           2.30         41.67         2.30"
      ]
     },
     "execution_count": 4,
     "metadata": {},
     "output_type": "execute_result"
    }
   ],
   "source": [
    "decoy_P_df = all_responses_filtered[all_responses_filtered[\"Decoy\"] == \"P\"]\n",
    "\n",
    "decoy_P_HD_df = decoy_P_df[decoy_P_df[\"PhantomCondition\"] == \"Highly_desirable\"]\n",
    "decoy_P_HD_df_LowC = decoy_P_HD_df[decoy_P_HD_df[\"CouplingCondition\"] == \"Low coupling\"]\n",
    "decoy_P_HD_df_HighC = decoy_P_HD_df[decoy_P_HD_df[\"CouplingCondition\"] == \"High coupling\"]\n",
    "\n",
    "decoy_P_HD_df = decoy_P_HD_df.reset_index()\n",
    "decoy_P_HD_df_LowC = decoy_P_HD_df_LowC.reset_index()\n",
    "decoy_P_HD_df_HighC = decoy_P_HD_df_HighC.reset_index()\n",
    "\n",
    "total_n = decoy_P_HD_df[\"Survey_ID\"].unique()\n",
    "number_of_low_coupling = decoy_P_HD_df_LowC[\"Survey_ID\"].unique()\n",
    "number_of_high_coupling = decoy_P_HD_df_HighC[\"Survey_ID\"].unique()\n",
    "\n",
    "total_n = int(len(total_n))\n",
    "number_of_low_coupling = int(len(number_of_low_coupling))\n",
    "number_of_high_coupling = int(len(number_of_high_coupling))\n",
    "\n",
    "decoy_P_HD_freq_df = uf.partFreq_PhantomDecoy(decoy_P_HD_df)\n",
    "decoy_P_HD_LowC_freq_df = uf.partFreq_PhantomDecoy(decoy_P_HD_df_LowC)\n",
    "decoy_P_HD_HighC_freq_df = uf.partFreq_PhantomDecoy(decoy_P_HD_df_HighC)\n",
    "\n",
    "# Get mean, std, and sem for all participatns.\n",
    "target_P_HD_mean, target_P_HD_std, target_P_HD_sem = uf.get_decoy_stats(decoy_P_HD_freq_df, \"Target(%)\", total_n)\n",
    "competitor_P_HD_mean, competitor_P_HD_std, competitor_P_HD_sem = uf.get_decoy_stats(decoy_P_HD_freq_df, \"Competitor(%)\", total_n)\n",
    "\n",
    "# Get mean, std, and sem for 'Low coupling' participatns.\n",
    "target_P_HD_LowC_mean, target_P_HD_LowC_std, target_P_HD_LowC_sem = uf.get_decoy_stats(decoy_P_HD_LowC_freq_df, \"Target(%)\", number_of_low_coupling)\n",
    "competitor_P_HD_LowC_mean, competitor_P_HD_LowC_std, competitor_P_HD_LowC_sem = uf.get_decoy_stats(decoy_P_HD_LowC_freq_df, \"Competitor(%)\", number_of_low_coupling)\n",
    "\n",
    "# Get mean, std, and sem for 'High coupling' participatns.\n",
    "target_P_HD_HighC_mean, target_P_HD_HighC_std, target_P_HD_HighC_sem = uf.get_decoy_stats(decoy_P_HD_HighC_freq_df, \"Target(%)\", number_of_high_coupling)\n",
    "competitor_P_HD_HighC_mean, competitor_P_HD_HighC_std, competitor_P_HD_HighC_sem = uf.get_decoy_stats(decoy_P_HD_HighC_freq_df, \"Competitor(%)\", number_of_high_coupling)\n",
    "\n",
    "P_HD_summary_df = pd.DataFrame({'Target mean(%)': [target_P_HD_mean, target_P_HD_LowC_mean, target_P_HD_HighC_mean],\n",
    "                  'Target sem(%)': [target_P_HD_sem, target_P_HD_LowC_sem, target_P_HD_HighC_sem],\n",
    "                  'Comp mean(%)': [competitor_P_HD_mean, competitor_P_HD_LowC_mean, competitor_P_HD_HighC_mean],\n",
    "                  'Comp sem(%)': [competitor_P_HD_sem, competitor_P_HD_LowC_sem, competitor_P_HD_HighC_sem]},\n",
    "                  index=[\"All\", \"LowCoupling\", \"HighCoupling\"])\n",
    "\n",
    "P_HD_summary_df.head()"
   ]
  },
  {
   "cell_type": "markdown",
   "id": "80b9fe31",
   "metadata": {},
   "source": [
    "### Weakly Desirable Group"
   ]
  },
  {
   "cell_type": "code",
   "execution_count": 5,
   "id": "430e2316",
   "metadata": {},
   "outputs": [
    {
     "data": {
      "text/html": [
       "<div>\n",
       "<style scoped>\n",
       "    .dataframe tbody tr th:only-of-type {\n",
       "        vertical-align: middle;\n",
       "    }\n",
       "\n",
       "    .dataframe tbody tr th {\n",
       "        vertical-align: top;\n",
       "    }\n",
       "\n",
       "    .dataframe thead th {\n",
       "        text-align: right;\n",
       "    }\n",
       "</style>\n",
       "<table border=\"1\" class=\"dataframe\">\n",
       "  <thead>\n",
       "    <tr style=\"text-align: right;\">\n",
       "      <th></th>\n",
       "      <th>Target mean(%)</th>\n",
       "      <th>Target sem(%)</th>\n",
       "      <th>Comp mean(%)</th>\n",
       "      <th>Comp sem(%)</th>\n",
       "    </tr>\n",
       "  </thead>\n",
       "  <tbody>\n",
       "    <tr>\n",
       "      <th>All</th>\n",
       "      <td>54.13</td>\n",
       "      <td>1.64</td>\n",
       "      <td>45.87</td>\n",
       "      <td>1.64</td>\n",
       "    </tr>\n",
       "    <tr>\n",
       "      <th>LowCoupling</th>\n",
       "      <td>52.78</td>\n",
       "      <td>2.66</td>\n",
       "      <td>47.22</td>\n",
       "      <td>2.66</td>\n",
       "    </tr>\n",
       "    <tr>\n",
       "      <th>HighCoupling</th>\n",
       "      <td>55.00</td>\n",
       "      <td>2.11</td>\n",
       "      <td>45.00</td>\n",
       "      <td>2.11</td>\n",
       "    </tr>\n",
       "  </tbody>\n",
       "</table>\n",
       "</div>"
      ],
      "text/plain": [
       "              Target mean(%)  Target sem(%)  Comp mean(%)  Comp sem(%)\n",
       "All                    54.13           1.64         45.87         1.64\n",
       "LowCoupling            52.78           2.66         47.22         2.66\n",
       "HighCoupling           55.00           2.11         45.00         2.11"
      ]
     },
     "execution_count": 5,
     "metadata": {},
     "output_type": "execute_result"
    }
   ],
   "source": [
    "decoy_P_WD_df = decoy_P_df[decoy_P_df[\"PhantomCondition\"] == \"Weakly_desirable\"]\n",
    "decoy_P_WD_df_LowC = decoy_P_WD_df[decoy_P_WD_df[\"CouplingCondition\"] == \"Low coupling\"]\n",
    "decoy_P_WD_df_HighC = decoy_P_WD_df[decoy_P_WD_df[\"CouplingCondition\"] == \"High coupling\"]\n",
    "\n",
    "decoy_P_WD_df = decoy_P_WD_df.reset_index()\n",
    "decoy_P_WD_df_LowC = decoy_P_WD_df_LowC.reset_index()\n",
    "decoy_P_WD_df_HighC = decoy_P_WD_df_HighC.reset_index()\n",
    "\n",
    "total_n = decoy_P_WD_df[\"Survey_ID\"].unique()\n",
    "number_of_low_coupling = decoy_P_WD_df_LowC[\"Survey_ID\"].unique()\n",
    "number_of_high_coupling = decoy_P_WD_df_HighC[\"Survey_ID\"].unique()\n",
    "\n",
    "total_n = int(len(total_n))\n",
    "number_of_low_coupling = int(len(number_of_low_coupling))\n",
    "number_of_high_coupling = int(len(number_of_high_coupling))\n",
    "\n",
    "decoy_P_WD_freq_df = uf.partFreq_PhantomDecoy(decoy_P_WD_df)\n",
    "decoy_P_WD_LowC_freq_df = uf.partFreq_PhantomDecoy(decoy_P_WD_df_LowC)\n",
    "decoy_P_WD_HighC_freq_df = uf.partFreq_PhantomDecoy(decoy_P_WD_df_HighC)\n",
    "\n",
    "# Get mean, std, and sem for all participatns.\n",
    "target_P_WD_mean, target_P_WD_std, target_P_WD_sem = uf.get_decoy_stats(decoy_P_WD_freq_df, \"Target(%)\", total_n)\n",
    "competitor_P_WD_mean, competitor_P_WD_std, competitor_P_WD_sem = uf.get_decoy_stats(decoy_P_WD_freq_df, \"Competitor(%)\", total_n)\n",
    "\n",
    "# Get mean, std, and sem for 'Low coupling' participatns.\n",
    "target_P_WD_LowC_mean, target_P_WD_LowC_std, target_P_WD_LowC_sem = uf.get_decoy_stats(decoy_P_WD_LowC_freq_df, \"Target(%)\", number_of_low_coupling)\n",
    "competitor_P_WD_LowC_mean, competitor_P_WD_LowC_std, competitor_P_WD_LowC_sem = uf.get_decoy_stats(decoy_P_WD_LowC_freq_df, \"Competitor(%)\", number_of_low_coupling)\n",
    "\n",
    "# Get mean, std, and sem for 'High coupling' participatns.\n",
    "target_P_WD_HighC_mean, target_P_WD_HighC_std, target_P_WD_HighC_sem = uf.get_decoy_stats(decoy_P_WD_HighC_freq_df, \"Target(%)\", number_of_high_coupling)\n",
    "competitor_P_WD_HighC_mean, competitor_P_WD_HighC_std, competitor_P_WD_HighC_sem = uf.get_decoy_stats(decoy_P_WD_HighC_freq_df, \"Competitor(%)\", number_of_high_coupling)\n",
    "\n",
    "P_WD_summary_df = pd.DataFrame({'Target mean(%)': [target_P_WD_mean, target_P_WD_LowC_mean, target_P_WD_HighC_mean],\n",
    "                  'Target sem(%)': [target_P_WD_sem, target_P_WD_LowC_sem, target_P_WD_HighC_sem],\n",
    "                  'Comp mean(%)': [competitor_P_WD_mean, competitor_P_WD_LowC_mean, competitor_P_WD_HighC_mean],\n",
    "                  'Comp sem(%)': [competitor_P_WD_sem, competitor_P_WD_LowC_sem, competitor_P_WD_HighC_sem]},\n",
    "                  index=[\"All\", \"LowCoupling\", \"HighCoupling\"])\n",
    "\n",
    "P_WD_summary_df.head()"
   ]
  },
  {
   "cell_type": "markdown",
   "id": "6042b785",
   "metadata": {},
   "source": [
    "### Undesirable Group"
   ]
  },
  {
   "cell_type": "code",
   "execution_count": 6,
   "id": "6d066255",
   "metadata": {},
   "outputs": [
    {
     "data": {
      "text/html": [
       "<div>\n",
       "<style scoped>\n",
       "    .dataframe tbody tr th:only-of-type {\n",
       "        vertical-align: middle;\n",
       "    }\n",
       "\n",
       "    .dataframe tbody tr th {\n",
       "        vertical-align: top;\n",
       "    }\n",
       "\n",
       "    .dataframe thead th {\n",
       "        text-align: right;\n",
       "    }\n",
       "</style>\n",
       "<table border=\"1\" class=\"dataframe\">\n",
       "  <thead>\n",
       "    <tr style=\"text-align: right;\">\n",
       "      <th></th>\n",
       "      <th>Target mean(%)</th>\n",
       "      <th>Target sem(%)</th>\n",
       "      <th>Comp mean(%)</th>\n",
       "      <th>Comp sem(%)</th>\n",
       "    </tr>\n",
       "  </thead>\n",
       "  <tbody>\n",
       "    <tr>\n",
       "      <th>All</th>\n",
       "      <td>51.92</td>\n",
       "      <td>1.77</td>\n",
       "      <td>48.08</td>\n",
       "      <td>1.77</td>\n",
       "    </tr>\n",
       "    <tr>\n",
       "      <th>LowCoupling</th>\n",
       "      <td>52.71</td>\n",
       "      <td>2.39</td>\n",
       "      <td>47.29</td>\n",
       "      <td>2.39</td>\n",
       "    </tr>\n",
       "    <tr>\n",
       "      <th>HighCoupling</th>\n",
       "      <td>50.67</td>\n",
       "      <td>2.62</td>\n",
       "      <td>49.33</td>\n",
       "      <td>2.62</td>\n",
       "    </tr>\n",
       "  </tbody>\n",
       "</table>\n",
       "</div>"
      ],
      "text/plain": [
       "              Target mean(%)  Target sem(%)  Comp mean(%)  Comp sem(%)\n",
       "All                    51.92           1.77         48.08         1.77\n",
       "LowCoupling            52.71           2.39         47.29         2.39\n",
       "HighCoupling           50.67           2.62         49.33         2.62"
      ]
     },
     "execution_count": 6,
     "metadata": {},
     "output_type": "execute_result"
    }
   ],
   "source": [
    "decoy_P_U_df = decoy_P_df[decoy_P_df[\"PhantomCondition\"] == \"Undesirable\"]\n",
    "decoy_P_U_df_LowC = decoy_P_U_df[decoy_P_U_df[\"CouplingCondition\"] == \"Low coupling\"]\n",
    "decoy_P_U_df_HighC = decoy_P_U_df[decoy_P_U_df[\"CouplingCondition\"] == \"High coupling\"]\n",
    "\n",
    "decoy_P_U_df = decoy_P_U_df.reset_index()\n",
    "decoy_P_U_df_LowC = decoy_P_U_df_LowC.reset_index()\n",
    "decoy_P_U_df_HighC = decoy_P_U_df_HighC.reset_index()\n",
    "\n",
    "total_n = decoy_P_U_df[\"Survey_ID\"].unique()\n",
    "number_of_low_coupling = decoy_P_U_df_LowC[\"Survey_ID\"].unique()\n",
    "number_of_high_coupling = decoy_P_U_df_HighC[\"Survey_ID\"].unique()\n",
    "\n",
    "total_n = int(len(total_n))\n",
    "number_of_low_coupling = int(len(number_of_low_coupling))\n",
    "number_of_high_coupling = int(len(number_of_high_coupling))\n",
    "\n",
    "decoy_P_U_freq_df = uf.partFreq_PhantomDecoy(decoy_P_U_df)\n",
    "decoy_P_U_LowC_freq_df = uf.partFreq_PhantomDecoy(decoy_P_U_df_LowC)\n",
    "decoy_P_U_HighC_freq_df = uf.partFreq_PhantomDecoy(decoy_P_U_df_HighC)\n",
    "\n",
    "# Get mean, std, and sem for all participatns.\n",
    "target_P_U_mean, target_P_U_std, target_P_U_sem = uf.get_decoy_stats(decoy_P_U_freq_df, \"Target(%)\", total_n)\n",
    "competitor_P_U_mean, competitor_P_U_std, competitor_P_U_sem = uf.get_decoy_stats(decoy_P_U_freq_df, \"Competitor(%)\", total_n)\n",
    "\n",
    "# Get mean, std, and sem for 'Low coupling' participatns.\n",
    "target_P_U_LowC_mean, target_P_U_LowC_std, target_P_U_LowC_sem = uf.get_decoy_stats(decoy_P_U_LowC_freq_df, \"Target(%)\", number_of_low_coupling)\n",
    "competitor_P_U_LowC_mean, competitor_P_U_LowC_std, competitor_P_U_LowC_sem = uf.get_decoy_stats(decoy_P_U_LowC_freq_df, \"Competitor(%)\", number_of_low_coupling)\n",
    "\n",
    "# Get mean, std, and sem for 'High coupling' participatns.\n",
    "target_P_U_HighC_mean, target_P_U_HighC_std, target_P_U_HighC_sem = uf.get_decoy_stats(decoy_P_U_HighC_freq_df, \"Target(%)\", number_of_high_coupling)\n",
    "competitor_P_U_HighC_mean, competitor_P_U_HighC_std, competitor_P_U_HighC_sem = uf.get_decoy_stats(decoy_P_U_HighC_freq_df, \"Competitor(%)\", number_of_high_coupling)\n",
    "\n",
    "P_U_summary_df = pd.DataFrame({'Target mean(%)': [target_P_U_mean, target_P_U_LowC_mean, target_P_U_HighC_mean],\n",
    "                  'Target sem(%)': [target_P_U_sem, target_P_U_LowC_sem, target_P_U_HighC_sem],\n",
    "                  'Comp mean(%)': [competitor_P_U_mean, competitor_P_U_LowC_mean, competitor_P_U_HighC_mean],\n",
    "                  'Comp sem(%)': [competitor_P_U_sem, competitor_P_U_LowC_sem, competitor_P_U_HighC_sem]},\n",
    "                  index=[\"All\", \"LowCoupling\", \"HighCoupling\"])\n",
    "\n",
    "P_U_summary_df.head()"
   ]
  },
  {
   "cell_type": "code",
   "execution_count": 8,
   "id": "da24db4b",
   "metadata": {},
   "outputs": [
    {
     "data": {
      "text/plain": [
       "<ErrorbarContainer object of 3 artists>"
      ]
     },
     "execution_count": 8,
     "metadata": {},
     "output_type": "execute_result"
    },
    {
     "data": {
      "image/png": "[encoded data removed]",
      "text/plain": [
       "<Figure size 288x288 with 1 Axes>"
      ]
     },
     "metadata": {
      "needs_background": "light"
     },
     "output_type": "display_data"
    }
   ],
   "source": [
    "decoy_P_part_df = uf.partFreq_PhantomDecoyWCondition(decoy_P_df)\n",
    "\n",
    "fig, ax = plt.subplots(1, 1, figsize=(4, 4))\n",
    "\n",
    "sns_y1 = np.array([target_P_HD_mean, target_P_WD_mean, target_P_U_mean])\n",
    "sns_x1 = [\"Highly_desirable\", \"Weakly_desirable\", \"Undesirable\"]\n",
    "sns_error1 = np.array([target_P_HD_sem, target_P_WD_sem, target_P_U_sem])\n",
    "\n",
    "PNBar = sns.barplot(x=\"PhantomCondition\", y=\"Target_perc\",\n",
    "            order=[\"Highly_desirable\", \"Weakly_desirable\", \"Undesirable\"],\n",
    "            ci=None,\n",
    "            ax=ax,        \n",
    "            data=decoy_P_part_df) #kind=\"bar\", ci=None,\n",
    "PNBar.set(ylim=(40, 65))\n",
    "\n",
    "sns.despine()\n",
    "ax.set_xticks([])\n",
    "\n",
    "ax.set_ylabel('Mean pereference for Target (%)', size=12)\n",
    "ax.set_xlabel(\"HighlyDesirable  WeaklyDesirable  Undesirable\", size=10)\n",
    "\n",
    "bars = PNBar.errorbar(x=sns_x1, y=sns_y1, yerr=sns_error1)\n",
    "\n",
    "xys = bars.lines[0].get_xydata()\n",
    "xys2 = np.array([[0, 58.12], [1, 54.13], [2, 51.92]])\n",
    "xys3 = np.array([[0, 58.12], [1, 0], [2, 0]])\n",
    "\n",
    "bars.remove()\n",
    "\n",
    "PNBar.errorbar(x=xys2[:, 0], y=[target_P_HD_mean, target_P_WD_mean, target_P_U_mean], \n",
    "               yerr=[target_P_HD_sem, target_P_WD_sem, target_P_U_sem],\n",
    "              ls='', lw=3, color='black', capsize=8)\n"
   ]
  },
  {
   "cell_type": "markdown",
   "id": "cb2a41d5",
   "metadata": {},
   "source": [
    "## Statistical Analysis Phantom Decoys (All items)"
   ]
  },
  {
   "cell_type": "markdown",
   "id": "554cb3bd",
   "metadata": {},
   "source": [
    "### All Phantom conditions One-way ANOVA"
   ]
  },
  {
   "cell_type": "code",
   "execution_count": 11,
   "id": "f99ec75a",
   "metadata": {},
   "outputs": [
    {
     "name": "stdout",
     "output_type": "stream",
     "text": [
      "                     df        sum_sq     mean_sq         F    PR(>F)\n",
      "PhantomCondition    2.0    784.838378  392.419189  3.329203  0.039104\n",
      "Residual          122.0  14380.361622  117.871817       NaN       NaN\n"
     ]
    }
   ],
   "source": [
    "#One-way ANOVA \"PhantomCondition\" with statsmodels\n",
    "PhanDecoys_Noisy_lm = ols('Target_perc ~ PhantomCondition', data=decoy_P_part_df).fit()\n",
    "\n",
    "PhanDecoys_Noisy_table = sm.stats.anova_lm(PhanDecoys_Noisy_lm)\n",
    "\n",
    "print(PhanDecoys_Noisy_table)"
   ]
  },
  {
   "cell_type": "code",
   "execution_count": 13,
   "id": "14920721",
   "metadata": {},
   "outputs": [
    {
     "data": {
      "text/plain": [
       "F_onewayResult(statistic=3.329202860936702, pvalue=0.03910403517705392)"
      ]
     },
     "execution_count": 13,
     "metadata": {},
     "output_type": "execute_result"
    }
   ],
   "source": [
    "#One-way ANOVA \"PhantomCondition\" with scipy.stats\n",
    "f_oneway(decoy_P_HD_freq_df[\"Target(%)\"], decoy_P_WD_freq_df[\"Target(%)\"], decoy_P_U_freq_df[\"Target(%)\"])\n"
   ]
  },
  {
   "cell_type": "code",
   "execution_count": 15,
   "id": "8c5f8aaf",
   "metadata": {},
   "outputs": [
    {
     "data": {
      "text/plain": [
       "1.0"
      ]
     },
     "execution_count": 15,
     "metadata": {},
     "output_type": "execute_result"
    }
   ],
   "source": [
    "# Power analysis for ANOVA between Phantom groups\n",
    "\n",
    "anova_power = stats_power.FTestAnovaPower()\n",
    "\n",
    "anova_power.solve_power(effect_size=3.329,\n",
    "                 nobs=125,\n",
    "                 alpha=0.05,\n",
    "                 power=None,\n",
    "                 k_groups=3)"
   ]
  },
  {
   "cell_type": "markdown",
   "id": "0ed0a588",
   "metadata": {},
   "source": [
    "### All Coupling conditions One-way ANOVA"
   ]
  },
  {
   "cell_type": "code",
   "execution_count": 16,
   "id": "c2263205",
   "metadata": {},
   "outputs": [
    {
     "name": "stdout",
     "output_type": "stream",
     "text": [
      "                      df        sum_sq     mean_sq         F    PR(>F)\n",
      "CouplingCondition    1.0     16.820133   16.820133  0.136574  0.712346\n",
      "Residual           123.0  15148.379867  123.157560       NaN       NaN\n"
     ]
    }
   ],
   "source": [
    "#One-way ANOVA \"CouplingCondition\" with statsmodels\n",
    "PhanDecoys_CoupC_Noisy_lm = ols('Target_perc ~ CouplingCondition', data=decoy_P_part_df).fit()\n",
    "\n",
    "PhanDecoys_CoupC_Noisy_table = sm.stats.anova_lm(PhanDecoys_CoupC_Noisy_lm)\n",
    "\n",
    "print(PhanDecoys_CoupC_Noisy_table)"
   ]
  },
  {
   "cell_type": "markdown",
   "id": "e9c4c132",
   "metadata": {},
   "source": [
    "### Individual group testing "
   ]
  },
  {
   "cell_type": "markdown",
   "id": "9c95b46a",
   "metadata": {},
   "source": [
    "##### Highly desirability and Weakly desirability (All items)"
   ]
  },
  {
   "cell_type": "code",
   "execution_count": 21,
   "id": "68b449bb",
   "metadata": {},
   "outputs": [
    {
     "name": "stdout",
     "output_type": "stream",
     "text": [
      "p_HD_WD: 0.9008856088928653\n"
     ]
    },
    {
     "data": {
      "text/plain": [
       "Ttest_indResult(statistic=1.715045377842608, pvalue=0.09002389786841232)"
      ]
     },
     "execution_count": 21,
     "metadata": {},
     "output_type": "execute_result"
    }
   ],
   "source": [
    "#Check if the two samples have the same variance.\n",
    "stat_HD_WD, p_HD_WD = stats.levene(decoy_P_HD_freq_df[\"Target(%)\"], decoy_P_WD_freq_df[\"Target(%)\"])\n",
    "\n",
    "print(\"p_HD_WD: \" + str(p_HD_WD))\n",
    "    \n",
    "#Perform two sample t-test with equal variances\n",
    "stats.ttest_ind(a=decoy_P_HD_freq_df[\"Target(%)\"], b=decoy_P_WD_freq_df[\"Target(%)\"], equal_var=True)\n"
   ]
  },
  {
   "cell_type": "code",
   "execution_count": 25,
   "id": "dc1c1986",
   "metadata": {},
   "outputs": [
    {
     "name": "stdout",
     "output_type": "stream",
     "text": [
      "Phantom Decoy NoisyItems Highly desirable & Weakly desirable: \n",
      " t-stat: 1.715\n",
      " p-value: 0.09\n",
      " df: 84.0\n"
     ]
    }
   ],
   "source": [
    "PhantNoisy_HDWD_ttest_results = ttest_ind(decoy_P_HD_freq_df[\"Target(%)\"], decoy_P_WD_freq_df[\"Target(%)\"], alternative=\"two-sided\", usevar=\"pooled\")\n",
    "\n",
    "print(\"Phantom Decoy NoisyItems Highly desirable & Weakly desirable: \" + \"\\n t-stat: \" + str(round(PhantNoisy_HDWD_ttest_results[0], 3)) + \"\\n p-value: \" + str(round(PhantNoisy_HDWD_ttest_results[1], 3)) + \"\\n df: \" + str(round(PhantNoisy_HDWD_ttest_results[2], 3)))\n"
   ]
  },
  {
   "cell_type": "code",
   "execution_count": 23,
   "id": "269ef4bf",
   "metadata": {},
   "outputs": [
    {
     "name": "stdout",
     "output_type": "stream",
     "text": [
      "Cohen's d between Highly desirability and Weakly desirability groups: \n"
     ]
    },
    {
     "data": {
      "text/plain": [
       "0.3707796835965918"
      ]
     },
     "execution_count": 23,
     "metadata": {},
     "output_type": "execute_result"
    }
   ],
   "source": [
    "print(\"Cohen's d between Highly desirability and Weakly desirability groups: \")\n",
    "pg.compute_effsize(decoy_P_HD_freq_df[\"Target(%)\"], decoy_P_WD_freq_df[\"Target(%)\"], eftype='cohen')\n"
   ]
  },
  {
   "cell_type": "markdown",
   "id": "383190b5",
   "metadata": {},
   "source": [
    "##### Weakly desirability and Undesirable (All items)"
   ]
  },
  {
   "cell_type": "code",
   "execution_count": 26,
   "id": "6524cca9",
   "metadata": {},
   "outputs": [
    {
     "name": "stdout",
     "output_type": "stream",
     "text": [
      "p_U_WD: 0.32169253102686823\n"
     ]
    },
    {
     "data": {
      "text/plain": [
       "Ttest_indResult(statistic=-0.914953286406703, pvalue=0.3628666621304373)"
      ]
     },
     "execution_count": 26,
     "metadata": {},
     "output_type": "execute_result"
    }
   ],
   "source": [
    "stat_U_WD, p_U_WD = stats.levene(decoy_P_U_freq_df[\"Target(%)\"], decoy_P_WD_freq_df[\"Target(%)\"])\n",
    "\n",
    "print(\"p_U_WD: \" + str(p_U_WD))\n",
    "\n",
    "stats.ttest_ind(a=decoy_P_U_freq_df[\"Target(%)\"], b=decoy_P_WD_freq_df[\"Target(%)\"], equal_var=True)"
   ]
  },
  {
   "cell_type": "code",
   "execution_count": 27,
   "id": "5a241afb",
   "metadata": {},
   "outputs": [
    {
     "name": "stdout",
     "output_type": "stream",
     "text": [
      "Phantom Decoy NoisyItems Weakly desirable &  Undesirable: \n",
      " t-stat: 0.915\n",
      " p-value: 0.363\n",
      " df: 83.0\n"
     ]
    }
   ],
   "source": [
    "PhantNoisy_WDU_ttest_results = ttest_ind(decoy_P_WD_freq_df[\"Target(%)\"], decoy_P_U_freq_df[\"Target(%)\"], alternative=\"two-sided\", usevar=\"pooled\")\n",
    "\n",
    "print(\"Phantom Decoy NoisyItems Weakly desirable &  Undesirable: \" + \"\\n t-stat: \" + str(round(PhantNoisy_WDU_ttest_results[0], 3)) + \"\\n p-value: \" + str(round(PhantNoisy_WDU_ttest_results[1], 3)) + \"\\n df: \" + str(round(PhantNoisy_WDU_ttest_results[2], 3)))\n"
   ]
  },
  {
   "cell_type": "code",
   "execution_count": 28,
   "id": "63795894",
   "metadata": {},
   "outputs": [
    {
     "name": "stdout",
     "output_type": "stream",
     "text": [
      "Cohen's d between Weakly desirability and  Undesirability groups: \n"
     ]
    },
    {
     "data": {
      "text/plain": [
       "0.19915772879761687"
      ]
     },
     "execution_count": 28,
     "metadata": {},
     "output_type": "execute_result"
    }
   ],
   "source": [
    "print(\"Cohen's d between Weakly desirability and  Undesirability groups: \")\n",
    "pg.compute_effsize(decoy_P_WD_freq_df[\"Target(%)\"], decoy_P_U_freq_df[\"Target(%)\"], eftype='cohen')"
   ]
  },
  {
   "cell_type": "markdown",
   "id": "354613d1",
   "metadata": {},
   "source": [
    "##### Highly desirable and Undesirable (All items)"
   ]
  },
  {
   "cell_type": "code",
   "execution_count": 29,
   "id": "e2b0d4bd",
   "metadata": {},
   "outputs": [
    {
     "name": "stdout",
     "output_type": "stream",
     "text": [
      "p_HD_U: 0.23806287198316395\n"
     ]
    },
    {
     "data": {
      "text/plain": [
       "Ttest_indResult(statistic=2.575762287109483, pvalue=0.01191653907500491)"
      ]
     },
     "execution_count": 29,
     "metadata": {},
     "output_type": "execute_result"
    }
   ],
   "source": [
    "stat_HD_U, p_HD_U = stats.levene(decoy_P_HD_freq_df[\"Target(%)\"], decoy_P_U_freq_df[\"Target(%)\"])\n",
    "\n",
    "print(\"p_HD_U: \" + str(p_HD_U))\n",
    "\n",
    "stats.ttest_ind(a=decoy_P_HD_freq_df[\"Target(%)\"], b=decoy_P_U_freq_df[\"Target(%)\"], equal_var=True)\n"
   ]
  },
  {
   "cell_type": "code",
   "execution_count": 30,
   "id": "cacad5a0",
   "metadata": {},
   "outputs": [
    {
     "name": "stdout",
     "output_type": "stream",
     "text": [
      "Phantom Decoy NoisyItems Highly desirable &  Undesirable: \n",
      " t-stat: 2.576\n",
      " p-value: 0.012\n",
      " df: 77.0\n"
     ]
    }
   ],
   "source": [
    "PhantNoisy_HDU_ttest_results = ttest_ind(decoy_P_HD_freq_df[\"Target(%)\"], decoy_P_U_freq_df[\"Target(%)\"], alternative=\"two-sided\", usevar=\"pooled\")\n",
    "\n",
    "print(\"Phantom Decoy NoisyItems Highly desirable &  Undesirable: \" + \"\\n t-stat: \" + str(round(PhantNoisy_HDU_ttest_results[0], 3)) + \"\\n p-value: \" + str(round(PhantNoisy_HDU_ttest_results[1], 3)) + \"\\n df: \" + str(round(PhantNoisy_HDU_ttest_results[2], 3)))\n"
   ]
  },
  {
   "cell_type": "code",
   "execution_count": 31,
   "id": "7fd0d517",
   "metadata": {},
   "outputs": [
    {
     "name": "stdout",
     "output_type": "stream",
     "text": [
      "Cohen's d between Highly desirability and  Undesirability groups: \n"
     ]
    },
    {
     "data": {
      "text/plain": [
       "0.5796382367675894"
      ]
     },
     "execution_count": 31,
     "metadata": {},
     "output_type": "execute_result"
    }
   ],
   "source": [
    "print(\"Cohen's d between Highly desirability and  Undesirability groups: \")\n",
    "pg.compute_effsize(decoy_P_HD_freq_df[\"Target(%)\"], decoy_P_U_freq_df[\"Target(%)\"], eftype='cohen')"
   ]
  },
  {
   "cell_type": "markdown",
   "id": "0b5aff34",
   "metadata": {},
   "source": [
    "### Quick test on the relation between PCs and Phantom scores"
   ]
  },
  {
   "cell_type": "code",
   "execution_count": 37,
   "id": "67ca5700",
   "metadata": {},
   "outputs": [
    {
     "name": "stdout",
     "output_type": "stream",
     "text": [
      "(125, 3)\n"
     ]
    }
   ],
   "source": [
    "all_classic_decoys_df = pd.read_csv(\"classic_decoys_scores.csv\")\n",
    "all_classic_decoys_with_phantoms_df = pd.read_csv(\"classic_decoys_scores_with_Phantoms.csv\")\n",
    "\n",
    "participants_phantom_condition_arr = np.array(all_classic_decoys_with_phantoms_df.Phantoms)\n",
    "\n",
    "print(all_classic_decoys_df.shape)"
   ]
  },
  {
   "cell_type": "code",
   "execution_count": 38,
   "id": "59f7e413",
   "metadata": {},
   "outputs": [
    {
     "data": {
      "text/html": [
       "<div>\n",
       "<style scoped>\n",
       "    .dataframe tbody tr th:only-of-type {\n",
       "        vertical-align: middle;\n",
       "    }\n",
       "\n",
       "    .dataframe tbody tr th {\n",
       "        vertical-align: top;\n",
       "    }\n",
       "\n",
       "    .dataframe thead th {\n",
       "        text-align: right;\n",
       "    }\n",
       "</style>\n",
       "<table border=\"1\" class=\"dataframe\">\n",
       "  <thead>\n",
       "    <tr style=\"text-align: right;\">\n",
       "      <th></th>\n",
       "      <th>Similarity</th>\n",
       "      <th>Compromise</th>\n",
       "      <th>Attraction</th>\n",
       "    </tr>\n",
       "  </thead>\n",
       "  <tbody>\n",
       "    <tr>\n",
       "      <th>0</th>\n",
       "      <td>0.000000</td>\n",
       "      <td>0.928571</td>\n",
       "      <td>0.777778</td>\n",
       "    </tr>\n",
       "    <tr>\n",
       "      <th>1</th>\n",
       "      <td>0.400000</td>\n",
       "      <td>0.466667</td>\n",
       "      <td>0.444444</td>\n",
       "    </tr>\n",
       "    <tr>\n",
       "      <th>2</th>\n",
       "      <td>0.083333</td>\n",
       "      <td>0.866667</td>\n",
       "      <td>0.875000</td>\n",
       "    </tr>\n",
       "    <tr>\n",
       "      <th>3</th>\n",
       "      <td>0.166667</td>\n",
       "      <td>0.500000</td>\n",
       "      <td>0.888889</td>\n",
       "    </tr>\n",
       "    <tr>\n",
       "      <th>4</th>\n",
       "      <td>0.111111</td>\n",
       "      <td>0.642857</td>\n",
       "      <td>0.500000</td>\n",
       "    </tr>\n",
       "  </tbody>\n",
       "</table>\n",
       "</div>"
      ],
      "text/plain": [
       "   Similarity  Compromise  Attraction\n",
       "0    0.000000    0.928571    0.777778\n",
       "1    0.400000    0.466667    0.444444\n",
       "2    0.083333    0.866667    0.875000\n",
       "3    0.166667    0.500000    0.888889\n",
       "4    0.111111    0.642857    0.500000"
      ]
     },
     "execution_count": 38,
     "metadata": {},
     "output_type": "execute_result"
    }
   ],
   "source": [
    "ClassicDecoys_PhC_wBias_df = pd.DataFrame(data={'Similarity': all_classic_decoys_df.loc[:, \"Similarity\"],\n",
    "                  'Compromise': all_classic_decoys_df.loc[:, \"Compromise\"],\n",
    "                  'Attraction': all_classic_decoys_df.loc[:, \"Attraction\"],\n",
    "                  'Phantom_condition': participants_phantom_condition_arr.flatten()}, index=range(125))\n",
    "\n",
    "\n",
    "ClassicDecoys_HD_wBias_df = ClassicDecoys_PhC_wBias_df.loc[ClassicDecoys_PhC_wBias_df[\"Phantom_condition\"]==\"Highly_desirable\"]\n",
    "ClassicDecoys_WD_wBias_df = ClassicDecoys_PhC_wBias_df.loc[ClassicDecoys_PhC_wBias_df[\"Phantom_condition\"]==\"Weakly_desirable\"]\n",
    "ClassicDecoys_U_wBias_df = ClassicDecoys_PhC_wBias_df.loc[ClassicDecoys_PhC_wBias_df[\"Phantom_condition\"]==\"Undesirable\"]\n",
    "\n",
    "ClassicDecoys_HD_wBias_df = ClassicDecoys_HD_wBias_df.reset_index()\n",
    "ClassicDecoys_WD_wBias_df = ClassicDecoys_WD_wBias_df.reset_index()\n",
    "ClassicDecoys_U_wBias_df = ClassicDecoys_U_wBias_df.reset_index()\n",
    "\n",
    "ClassicDecoys_HD_wBias_df = ClassicDecoys_HD_wBias_df.drop([\"Phantom_condition\", \"index\"], axis=1)\n",
    "ClassicDecoys_WD_wBias_df = ClassicDecoys_WD_wBias_df.drop([\"Phantom_condition\", \"index\"], axis=1)\n",
    "ClassicDecoys_U_wBias_df = ClassicDecoys_U_wBias_df.drop([\"Phantom_condition\", \"index\"], axis=1)\n",
    "\n",
    "ClassicDecoys_HD_wBias_df.head()"
   ]
  },
  {
   "cell_type": "code",
   "execution_count": 42,
   "id": "6926800f",
   "metadata": {},
   "outputs": [
    {
     "data": {
      "text/plain": [
       "array([0.62225284, 0.20086019])"
      ]
     },
     "execution_count": 42,
     "metadata": {},
     "output_type": "execute_result"
    }
   ],
   "source": [
    "pca = PCA(n_components=2)\n",
    "\n",
    "#\n",
    "\n",
    "principalComponents_HD_wBias = pca.fit_transform(ClassicDecoys_HD_wBias_df)\n",
    "\n",
    "pca.explained_variance_ratio_"
   ]
  },
  {
   "cell_type": "code",
   "execution_count": 43,
   "id": "12155bf7",
   "metadata": {},
   "outputs": [
    {
     "data": {
      "text/plain": [
       "array([0.57386637, 0.26566176])"
      ]
     },
     "execution_count": 43,
     "metadata": {},
     "output_type": "execute_result"
    }
   ],
   "source": [
    "#\n",
    "principalComponents_WD_wBias = pca.fit_transform(ClassicDecoys_WD_wBias_df)\n",
    "\n",
    "pca.explained_variance_ratio_"
   ]
  },
  {
   "cell_type": "code",
   "execution_count": 44,
   "id": "40fdad8a",
   "metadata": {},
   "outputs": [
    {
     "data": {
      "text/plain": [
       "array([0.7068183 , 0.18297016])"
      ]
     },
     "execution_count": 44,
     "metadata": {},
     "output_type": "execute_result"
    }
   ],
   "source": [
    "#\n",
    "principalComponents_U_wBias = pca.fit_transform(ClassicDecoys_U_wBias_df)\n",
    "\n",
    "pca.explained_variance_ratio_"
   ]
  },
  {
   "cell_type": "code",
   "execution_count": 45,
   "id": "bb720ceb",
   "metadata": {},
   "outputs": [],
   "source": [
    "PCs_HD_wBias_df = pd.DataFrame(data={'PC1': principalComponents_HD_wBias[:, 0].flatten(),\n",
    "                  'PC2': principalComponents_HD_wBias[:, 1].flatten(),\n",
    "                  'Phantom_scores': decoy_P_HD_freq_df[\"Target(%)\"]}, index=range(40))\n",
    "\n",
    "PCs_WD_wBias_df = pd.DataFrame(data={'PC1': principalComponents_WD_wBias[:, 0].flatten(),\n",
    "                  'PC2': principalComponents_WD_wBias[:, 1].flatten(),\n",
    "                  'Phantom_scores': decoy_P_WD_freq_df[\"Target(%)\"]}, index=range(46))\n",
    "\n",
    "PCs_U_wBias_df = pd.DataFrame(data={'PC1': principalComponents_U_wBias[:, 0].flatten(),\n",
    "                  'PC2': principalComponents_U_wBias[:, 1].flatten(),\n",
    "                  'Phantom_scores': decoy_P_U_freq_df[\"Target(%)\"]}, index=range(39))"
   ]
  },
  {
   "cell_type": "code",
   "execution_count": 46,
   "id": "4e633c5e",
   "metadata": {},
   "outputs": [
    {
     "name": "stdout",
     "output_type": "stream",
     "text": [
      "Correlation coefficient PC1-Phantom HD scores: -0.11, p-value: 0.480832382560447\n",
      "Correlation coefficient PC1-Phantom WD scores: -0.04, p-value: 0.7674852845157086\n",
      "Correlation coefficient PC1-Phantom U scores: -0.27, p-value: 0.09409379587216316\n",
      "\n",
      "Correlation coefficient PC2-Phantom HD scores: 0.03, p-value: 0.8674261377613717\n",
      "Correlation coefficient PC2-Phantom WD scores: 0.33, p-value: 0.025609080762267904\n",
      "Correlation coefficient PC2-Phantom U scores: 0.11, p-value: 0.5227595769254286\n"
     ]
    }
   ],
   "source": [
    "PC1_HD_wBias_corr = stats.pearsonr(PCs_HD_wBias_df[\"PC1\"], PCs_HD_wBias_df[\"Phantom_scores\"])\n",
    "PC1_WD_wBias_corr = stats.pearsonr(PCs_WD_wBias_df[\"PC1\"], PCs_WD_wBias_df[\"Phantom_scores\"])\n",
    "PC1_U_wBias_corr = stats.pearsonr(PCs_U_wBias_df[\"PC1\"], PCs_U_wBias_df[\"Phantom_scores\"])\n",
    "\n",
    "print(\"Correlation coefficient PC1-Phantom HD scores: \" + str(round(PC1_HD_wBias_corr[0], 2)) + \", p-value: \" + str(PC1_HD_wBias_corr[1]))\n",
    "print(\"Correlation coefficient PC1-Phantom WD scores: \" + str(round(PC1_WD_wBias_corr[0], 2)) + \", p-value: \" + str(PC1_WD_wBias_corr[1]))\n",
    "print(\"Correlation coefficient PC1-Phantom U scores: \" + str(round(PC1_U_wBias_corr[0], 2)) + \", p-value: \" + str(PC1_U_wBias_corr[1]))\n",
    "\n",
    "PC2_HD_wBias_corr = stats.pearsonr(PCs_HD_wBias_df[\"PC2\"], PCs_HD_wBias_df[\"Phantom_scores\"])\n",
    "PC2_WD_wBias_corr = stats.pearsonr(PCs_WD_wBias_df[\"PC2\"], PCs_WD_wBias_df[\"Phantom_scores\"])\n",
    "PC2_U_wBias_corr = stats.pearsonr(PCs_U_wBias_df[\"PC2\"], PCs_U_wBias_df[\"Phantom_scores\"])\n",
    "\n",
    "print(\"\\nCorrelation coefficient PC2-Phantom HD scores: \" + str(round(PC2_HD_wBias_corr[0], 2)) + \", p-value: \" + str(PC2_HD_wBias_corr[1]))\n",
    "print(\"Correlation coefficient PC2-Phantom WD scores: \" + str(round(PC2_WD_wBias_corr[0], 2)) + \", p-value: \" + str(PC2_WD_wBias_corr[1]))\n",
    "print(\"Correlation coefficient PC2-Phantom U scores: \" + str(round(PC2_U_wBias_corr[0], 2)) + \", p-value: \" + str(PC2_U_wBias_corr[1]))\n"
   ]
  },
  {
   "cell_type": "code",
   "execution_count": 47,
   "id": "eedfc242",
   "metadata": {},
   "outputs": [
    {
     "data": {
      "text/plain": [
       "Text(0.5, 1.0, 'PC1 vs. Phantom_U')"
      ]
     },
     "execution_count": 47,
     "metadata": {},
     "output_type": "execute_result"
    },
    {
     "data": {
      "image/png": "[encoded data removed]",
      "text/plain": [
       "<Figure size 1008x360 with 3 Axes>"
      ]
     },
     "metadata": {
      "needs_background": "light"
     },
     "output_type": "display_data"
    }
   ],
   "source": [
    "fig, ax = plt.subplots(1, 3, figsize=(14, 5))\n",
    "\n",
    "ax[0].scatter(PCs_HD_wBias_df[\"PC1\"], PCs_HD_wBias_df[\"Phantom_scores\"])\n",
    "a_0, b_0 = np.polyfit(np.array(PCs_HD_wBias_df[\"PC1\"]).flatten(), np.array(PCs_HD_wBias_df[\"Phantom_scores\"]).flatten(), 1)\n",
    "ax[0].plot(PCs_HD_wBias_df[\"PC1\"], a_0*PCs_HD_wBias_df[\"PC1\"]+b_0, color='black')  \n",
    "ax[0].set_xlabel(\"PC1 scores\")\n",
    "ax[0].set_ylabel(\"Phantom_HD scores\")\n",
    "ax[0].set_title(\"PC1 vs. Phantom_HD\")\n",
    "\n",
    "ax[1].scatter(PCs_WD_wBias_df[\"PC1\"], PCs_WD_wBias_df[\"Phantom_scores\"])\n",
    "a_1, b_1 = np.polyfit(np.array(PCs_WD_wBias_df[\"PC1\"]).flatten(), np.array(PCs_WD_wBias_df[\"Phantom_scores\"]).flatten(), 1)\n",
    "ax[1].plot(PCs_WD_wBias_df[\"PC1\"], a_1*PCs_WD_wBias_df[\"PC1\"]+b_1, color='black')  \n",
    "ax[1].set_xlabel(\"PC1 scores\")\n",
    "ax[1].set_ylabel(\"Phantom_WD scores\")\n",
    "ax[1].set_title(\"PC1 vs. Phantom_WD\")\n",
    "\n",
    "ax[2].scatter(PCs_U_wBias_df[\"PC1\"], PCs_U_wBias_df[\"Phantom_scores\"])\n",
    "a_2, b_2 = np.polyfit(np.array(PCs_U_wBias_df[\"PC1\"]).flatten(), np.array(PCs_U_wBias_df[\"Phantom_scores\"]).flatten(), 1)\n",
    "ax[2].plot(PCs_U_wBias_df[\"PC1\"], a_2*PCs_U_wBias_df[\"PC1\"]+b_2, color='black')  \n",
    "ax[2].set_xlabel(\"PC1 scores\")\n",
    "ax[2].set_ylabel(\"Phantom_U scores\")\n",
    "ax[2].set_title(\"PC1 vs. Phantom_U\")"
   ]
  },
  {
   "cell_type": "code",
   "execution_count": 48,
   "id": "8f676b8b",
   "metadata": {},
   "outputs": [
    {
     "data": {
      "text/plain": [
       "Text(0.5, 1.0, 'PC2 vs. Phantom_U')"
      ]
     },
     "execution_count": 48,
     "metadata": {},
     "output_type": "execute_result"
    },
    {
     "data": {
      "image/png": "[encoded data removed]",
      "text/plain": [
       "<Figure size 1008x360 with 3 Axes>"
      ]
     },
     "metadata": {
      "needs_background": "light"
     },
     "output_type": "display_data"
    }
   ],
   "source": [
    "fig, ax = plt.subplots(1, 3, figsize=(14, 5))\n",
    "\n",
    "ax[0].scatter(PCs_HD_wBias_df[\"PC2\"], PCs_HD_wBias_df[\"Phantom_scores\"])\n",
    "a_0, b_0 = np.polyfit(np.array(PCs_HD_wBias_df[\"PC2\"]).flatten(), np.array(PCs_HD_wBias_df[\"Phantom_scores\"]).flatten(), 1)\n",
    "ax[0].plot(PCs_HD_wBias_df[\"PC2\"], a_0*PCs_HD_wBias_df[\"PC2\"]+b_0, color='black')  \n",
    "ax[0].set_xlabel(\"PC2 scores\")\n",
    "ax[0].set_ylabel(\"Phantom_HD scores\")\n",
    "ax[0].set_title(\"PC2 vs. Phantom_HD\")\n",
    "\n",
    "ax[1].scatter(PCs_WD_wBias_df[\"PC2\"], PCs_WD_wBias_df[\"Phantom_scores\"])\n",
    "a_1, b_1 = np.polyfit(np.array(PCs_WD_wBias_df[\"PC2\"]).flatten(), np.array(PCs_WD_wBias_df[\"Phantom_scores\"]).flatten(), 1)\n",
    "ax[1].plot(PCs_WD_wBias_df[\"PC2\"], a_1*PCs_WD_wBias_df[\"PC2\"]+b_1, color='black')  \n",
    "ax[1].set_xlabel(\"PC2 scores\")\n",
    "ax[1].set_ylabel(\"Phantom_WD scores\")\n",
    "ax[1].set_title(\"PC2 vs. Phantom_WD\")\n",
    "\n",
    "ax[2].scatter(PCs_U_wBias_df[\"PC2\"], PCs_U_wBias_df[\"Phantom_scores\"])\n",
    "a_2, b_2 = np.polyfit(np.array(PCs_U_wBias_df[\"PC2\"]).flatten(), np.array(PCs_U_wBias_df[\"Phantom_scores\"]).flatten(), 1)\n",
    "ax[2].plot(PCs_U_wBias_df[\"PC2\"], a_2*PCs_U_wBias_df[\"PC2\"]+b_2, color='black')  \n",
    "ax[2].set_xlabel(\"PC2 scores\")\n",
    "ax[2].set_ylabel(\"Phantom_U scores\")\n",
    "ax[2].set_title(\"PC2 vs. Phantom_U\")"
   ]
  },
  {
   "cell_type": "markdown",
   "id": "78293091",
   "metadata": {},
   "source": [
    "#### PCA (Classic decoys + phantoms)"
   ]
  },
  {
   "cell_type": "code",
   "execution_count": 56,
   "id": "d70c0f5c",
   "metadata": {},
   "outputs": [],
   "source": [
    "# Create new Dataframes with all information.\n",
    "\n",
    "ClassicDecoys_Phantoms_HD_wB_df = ClassicDecoys_HD_wBias_df.copy()\n",
    "ClassicDecoys_Phantoms_HD_wB_df[\"Phantom_scores\"] = decoy_P_HD_freq_df[\"Target(%)\"]\n",
    "\n",
    "ClassicDecoys_Phantoms_WD_wB_df = ClassicDecoys_WD_wBias_df.copy()\n",
    "ClassicDecoys_Phantoms_WD_wB_df[\"Phantom_scores\"] = decoy_P_WD_freq_df[\"Target(%)\"]\n",
    "\n",
    "ClassicDecoys_Phantoms_U_wB_df = ClassicDecoys_U_wBias_df.copy()\n",
    "ClassicDecoys_Phantoms_U_wB_df[\"Phantom_scores\"] = decoy_P_U_freq_df[\"Target(%)\"]\n"
   ]
  },
  {
   "cell_type": "code",
   "execution_count": 64,
   "id": "ce2e020b",
   "metadata": {},
   "outputs": [],
   "source": [
    "# Create a new PCA object.\n",
    "\n",
    "pca2 = PCA(n_components=3)\n"
   ]
  },
  {
   "cell_type": "code",
   "execution_count": 65,
   "id": "389db855",
   "metadata": {},
   "outputs": [
    {
     "data": {
      "text/plain": [
       "array([9.99347794e-01, 4.04617543e-04, 1.32250580e-04])"
      ]
     },
     "execution_count": 65,
     "metadata": {},
     "output_type": "execute_result"
    }
   ],
   "source": [
    "principalComponents_ClassicD_HD_wBias = pca2.fit_transform(ClassicDecoys_Phantoms_HD_wB_df)\n",
    "\n",
    "pca2.explained_variance_ratio_"
   ]
  },
  {
   "cell_type": "code",
   "execution_count": 66,
   "id": "e4498ed9",
   "metadata": {},
   "outputs": [
    {
     "data": {
      "text/plain": [
       "array([9.99170825e-01, 4.92384331e-04, 2.05180026e-04])"
      ]
     },
     "execution_count": 66,
     "metadata": {},
     "output_type": "execute_result"
    }
   ],
   "source": [
    "principalComponents_ClassicD_WD_wBias = pca2.fit_transform(ClassicDecoys_Phantoms_WD_wB_df)\n",
    "\n",
    "pca2.explained_variance_ratio_"
   ]
  },
  {
   "cell_type": "code",
   "execution_count": 67,
   "id": "f8849f73",
   "metadata": {},
   "outputs": [
    {
     "data": {
      "text/plain": [
       "array([9.99321835e-01, 4.69572834e-04, 1.29595190e-04])"
      ]
     },
     "execution_count": 67,
     "metadata": {},
     "output_type": "execute_result"
    }
   ],
   "source": [
    "principalComponents_ClassicD_U_wBias = pca2.fit_transform(ClassicDecoys_Phantoms_U_wB_df)\n",
    "\n",
    "pca2.explained_variance_ratio_"
   ]
  },
  {
   "cell_type": "markdown",
   "id": "8bbe1338",
   "metadata": {},
   "source": [
    "## Phantom Decoys (Filtered Items)"
   ]
  },
  {
   "cell_type": "code",
   "execution_count": null,
   "id": "74169fde",
   "metadata": {},
   "outputs": [],
   "source": [
    "# Items filtered for each group.\n",
    "print()"
   ]
  },
  {
   "cell_type": "markdown",
   "id": "88e7cb70",
   "metadata": {},
   "source": [
    "### Highly Desirable Condition"
   ]
  },
  {
   "cell_type": "code",
   "execution_count": 69,
   "id": "c750eceb",
   "metadata": {},
   "outputs": [
    {
     "data": {
      "text/html": [
       "<div>\n",
       "<style scoped>\n",
       "    .dataframe tbody tr th:only-of-type {\n",
       "        vertical-align: middle;\n",
       "    }\n",
       "\n",
       "    .dataframe tbody tr th {\n",
       "        vertical-align: top;\n",
       "    }\n",
       "\n",
       "    .dataframe thead th {\n",
       "        text-align: right;\n",
       "    }\n",
       "</style>\n",
       "<table border=\"1\" class=\"dataframe\">\n",
       "  <thead>\n",
       "    <tr style=\"text-align: right;\">\n",
       "      <th></th>\n",
       "      <th>Target mean(%)</th>\n",
       "      <th>Target sem(%)</th>\n",
       "      <th>Comp mean(%)</th>\n",
       "      <th>Comp sem(%)</th>\n",
       "    </tr>\n",
       "  </thead>\n",
       "  <tbody>\n",
       "    <tr>\n",
       "      <th>All</th>\n",
       "      <td>59.38</td>\n",
       "      <td>1.98</td>\n",
       "      <td>40.62</td>\n",
       "      <td>1.98</td>\n",
       "    </tr>\n",
       "    <tr>\n",
       "      <th>LowCoupling</th>\n",
       "      <td>58.33</td>\n",
       "      <td>2.99</td>\n",
       "      <td>41.67</td>\n",
       "      <td>2.99</td>\n",
       "    </tr>\n",
       "    <tr>\n",
       "      <th>HighCoupling</th>\n",
       "      <td>60.32</td>\n",
       "      <td>2.69</td>\n",
       "      <td>39.68</td>\n",
       "      <td>2.69</td>\n",
       "    </tr>\n",
       "  </tbody>\n",
       "</table>\n",
       "</div>"
      ],
      "text/plain": [
       "              Target mean(%)  Target sem(%)  Comp mean(%)  Comp sem(%)\n",
       "All                    59.38           1.98         40.62         1.98\n",
       "LowCoupling            58.33           2.99         41.67         2.99\n",
       "HighCoupling           60.32           2.69         39.68         2.69"
      ]
     },
     "execution_count": 69,
     "metadata": {},
     "output_type": "execute_result"
    }
   ],
   "source": [
    "decoy_P_HD_CI_df = decoy_P_HD_df.loc[(decoy_P_HD_df[\"Item\"]==\"Baby stroller\") | (decoy_P_HD_df[\"Item\"]==\"Dehumidifier\") | (decoy_P_HD_df[\"Item\"]==\"Electric mop\") | (decoy_P_HD_df[\"Item\"]==\"Organic fertilizer\") | (decoy_P_HD_df[\"Item\"]==\"Paint sprayer\") | (decoy_P_HD_df[\"Item\"]==\"Wifi extender\")] \n",
    "decoy_P_HD_df_LowC = decoy_P_HD_CI_df[decoy_P_HD_CI_df[\"CouplingCondition\"] == \"Low coupling\"]\n",
    "decoy_P_HD_df_HighC = decoy_P_HD_CI_df[decoy_P_HD_CI_df[\"CouplingCondition\"] == \"High coupling\"]\n",
    "\n",
    "#\"Baby stroller\", \"Dehumidifier\", \"Electric mop\", \"Organic fertilizer\", \"Paint sprayer\"\n",
    "\n",
    "decoy_P_HD_freq_CI_df = uf.partFreq_PhantomDecoy(decoy_P_HD_CI_df)\n",
    "decoy_P_HD_LowC_freq_CI_df = uf.partFreq_PhantomDecoy(decoy_P_HD_df_LowC)\n",
    "decoy_P_HD_HighC_freq_CI_df = uf.partFreq_PhantomDecoy(decoy_P_HD_df_HighC)\n",
    "\n",
    "total_n = decoy_P_HD_df[\"Survey_ID\"].unique()\n",
    "number_of_low_coupling = decoy_P_HD_df_LowC[\"Survey_ID\"].unique()\n",
    "number_of_high_coupling = decoy_P_HD_df_HighC[\"Survey_ID\"].unique()\n",
    "\n",
    "total_n = int(len(total_n))\n",
    "number_of_low_coupling = int(len(number_of_low_coupling))\n",
    "number_of_high_coupling = int(len(number_of_high_coupling))\n",
    "\n",
    "# Get mean, std, and sem for all participatns.\n",
    "target_P_HD_CI_mean, target_P_HD_CI_std, target_P_HD_CI_sem = uf.get_decoy_stats(decoy_P_HD_freq_CI_df, \"Target(%)\", total_n)\n",
    "competitor_P_HD_CI_mean, competitor_P_HD_CI_std, competitor_P_HD_CI_sem = uf.get_decoy_stats(decoy_P_HD_freq_CI_df, \"Competitor(%)\", total_n)\n",
    "\n",
    "# Get mean, std, and sem for 'Low coupling' participatns.\n",
    "target_P_HD_LowC_CI_mean, target_P_HD_LowC_CI_std, target_P_HD_LowC_CI_sem = uf.get_decoy_stats(decoy_P_HD_LowC_freq_CI_df, \"Target(%)\", number_of_low_coupling)\n",
    "competitor_P_HD_LowC_CI_mean, competitor_P_HD_LowC_CI_std, competitor_P_HD_LowC_CI_sem = uf.get_decoy_stats(decoy_P_HD_LowC_freq_CI_df, \"Competitor(%)\", number_of_low_coupling)\n",
    "\n",
    "# Get mean, std, and sem for 'High coupling' participatns.\n",
    "target_P_HD_HighC_CI_mean, target_P_HD_HighC_CI_std, target_P_HD_HighC_CI_sem = uf.get_decoy_stats(decoy_P_HD_HighC_freq_CI_df, \"Target(%)\", number_of_high_coupling)\n",
    "competitor_P_HD_HighC_CI_mean, competitor_P_HD_HighC_CI_std, competitor_P_HD_HighC_CI_sem = uf.get_decoy_stats(decoy_P_HD_HighC_freq_CI_df, \"Competitor(%)\", number_of_high_coupling)\n",
    "\n",
    "P_HD_summary_df = pd.DataFrame({'Target mean(%)': [target_P_HD_CI_mean, target_P_HD_LowC_CI_mean, target_P_HD_HighC_CI_mean],\n",
    "                  'Target sem(%)': [target_P_HD_CI_sem, target_P_HD_LowC_CI_sem, target_P_HD_HighC_CI_sem],\n",
    "                  'Comp mean(%)': [competitor_P_HD_CI_mean, competitor_P_HD_LowC_CI_mean, competitor_P_HD_HighC_CI_mean],\n",
    "                  'Comp sem(%)': [competitor_P_HD_CI_sem, competitor_P_HD_LowC_CI_sem, competitor_P_HD_HighC_CI_sem]},\n",
    "                  index=[\"All\", \"LowCoupling\", \"HighCoupling\"])\n",
    "\n",
    "P_HD_summary_df.head()"
   ]
  },
  {
   "cell_type": "markdown",
   "id": "fa545edb",
   "metadata": {},
   "source": [
    "### Weakly Desirable Condition"
   ]
  },
  {
   "cell_type": "code",
   "execution_count": 70,
   "id": "6a8cc078",
   "metadata": {},
   "outputs": [
    {
     "data": {
      "text/html": [
       "<div>\n",
       "<style scoped>\n",
       "    .dataframe tbody tr th:only-of-type {\n",
       "        vertical-align: middle;\n",
       "    }\n",
       "\n",
       "    .dataframe tbody tr th {\n",
       "        vertical-align: top;\n",
       "    }\n",
       "\n",
       "    .dataframe thead th {\n",
       "        text-align: right;\n",
       "    }\n",
       "</style>\n",
       "<table border=\"1\" class=\"dataframe\">\n",
       "  <thead>\n",
       "    <tr style=\"text-align: right;\">\n",
       "      <th></th>\n",
       "      <th>Target mean(%)</th>\n",
       "      <th>Target sem(%)</th>\n",
       "      <th>Comp mean(%)</th>\n",
       "      <th>Comp sem(%)</th>\n",
       "    </tr>\n",
       "  </thead>\n",
       "  <tbody>\n",
       "    <tr>\n",
       "      <th>All</th>\n",
       "      <td>56.43</td>\n",
       "      <td>2.13</td>\n",
       "      <td>43.57</td>\n",
       "      <td>2.13</td>\n",
       "    </tr>\n",
       "    <tr>\n",
       "      <th>LowCoupling</th>\n",
       "      <td>52.78</td>\n",
       "      <td>2.66</td>\n",
       "      <td>47.22</td>\n",
       "      <td>2.66</td>\n",
       "    </tr>\n",
       "    <tr>\n",
       "      <th>HighCoupling</th>\n",
       "      <td>55.00</td>\n",
       "      <td>2.11</td>\n",
       "      <td>45.00</td>\n",
       "      <td>2.11</td>\n",
       "    </tr>\n",
       "  </tbody>\n",
       "</table>\n",
       "</div>"
      ],
      "text/plain": [
       "              Target mean(%)  Target sem(%)  Comp mean(%)  Comp sem(%)\n",
       "All                    56.43           2.13         43.57         2.13\n",
       "LowCoupling            52.78           2.66         47.22         2.66\n",
       "HighCoupling           55.00           2.11         45.00         2.11"
      ]
     },
     "execution_count": 70,
     "metadata": {},
     "output_type": "execute_result"
    }
   ],
   "source": [
    "decoy_P_WD_CI_df = decoy_P_WD_df.loc[(decoy_P_WD_df[\"Item\"]==\"Dehumidifier\") | (decoy_P_WD_df[\"Item\"]==\"Organic fertilizer\") | (decoy_P_WD_df[\"Item\"]==\"Paint sprayer\") | (decoy_P_WD_df[\"Item\"]==\"Wifi extender\") | (decoy_P_WD_df[\"Item\"]==\"Outdoor solar lights\") | (decoy_P_HD_df[\"Item\"]==\"Wifi extender\")]\n",
    "decoy_P_WD_df_LowC = decoy_P_WD_df[decoy_P_WD_df[\"CouplingCondition\"] == \"Low coupling\"]\n",
    "decoy_P_WD_df_HighC = decoy_P_WD_df[decoy_P_WD_df[\"CouplingCondition\"] == \"High coupling\"]\n",
    "\n",
    "decoy_P_WD_freq_CI_df = uf.partFreq_PhantomDecoy(decoy_P_WD_CI_df)\n",
    "decoy_P_WD_LowC_freq_CI_df = uf.partFreq_PhantomDecoy(decoy_P_WD_df_LowC)\n",
    "decoy_P_WD_HighC_freq_CI_df = uf.partFreq_PhantomDecoy(decoy_P_WD_df_HighC)\n",
    "\n",
    "total_n = decoy_P_WD_df[\"Survey_ID\"].unique()\n",
    "number_of_low_coupling = decoy_P_WD_df_LowC[\"Survey_ID\"].unique()\n",
    "number_of_high_coupling = decoy_P_WD_df_HighC[\"Survey_ID\"].unique()\n",
    "\n",
    "total_n = int(len(total_n))\n",
    "number_of_low_coupling = int(len(number_of_low_coupling))\n",
    "number_of_high_coupling = int(len(number_of_high_coupling))\n",
    "\n",
    "# Get mean, std, and sem for all participatns.\n",
    "target_P_WD_CI_mean, target_P_WD_CI_std, target_P_WD_CI_sem = uf.get_decoy_stats(decoy_P_WD_freq_CI_df, \"Target(%)\", total_n)\n",
    "competitor_P_WD_CI_mean, competitor_P_WD_CI_std, competitor_P_WD_CI_sem = uf.get_decoy_stats(decoy_P_WD_freq_CI_df, \"Competitor(%)\", total_n)\n",
    "\n",
    "# Get mean, std, and sem for 'Low coupling' participatns.\n",
    "target_P_WD_LowC_CI_mean, target_P_WD_LowC_CI_std, target_P_WD_LowC_CI_sem = uf.get_decoy_stats(decoy_P_WD_LowC_freq_CI_df, \"Target(%)\", number_of_low_coupling)\n",
    "competitor_P_WD_LowC_CI_mean, competitor_P_WD_LowC_CI_std, competitor_P_WD_LowC_CI_sem = uf.get_decoy_stats(decoy_P_WD_LowC_freq_CI_df, \"Competitor(%)\", number_of_low_coupling)\n",
    "\n",
    "# Get mean, std, and sem for 'High coupling' participatns.\n",
    "target_P_WD_HighC_CI_mean, target_P_WD_HighC_CI_std, target_P_WD_HighC_CI_sem = uf.get_decoy_stats(decoy_P_WD_HighC_freq_CI_df, \"Target(%)\", number_of_high_coupling)\n",
    "competitor_P_WD_HighC_CI_mean, competitor_P_WD_HighC_CI_std, competitor_P_WD_HighC_CI_sem = uf.get_decoy_stats(decoy_P_WD_HighC_freq_CI_df, \"Competitor(%)\", number_of_high_coupling)\n",
    "\n",
    "P_WD_summary_df = pd.DataFrame({'Target mean(%)': [target_P_WD_CI_mean, target_P_WD_LowC_CI_mean, target_P_WD_HighC_CI_mean],\n",
    "                  'Target sem(%)': [target_P_WD_CI_sem, target_P_WD_LowC_CI_sem, target_P_WD_HighC_CI_sem],\n",
    "                  'Comp mean(%)': [competitor_P_WD_CI_mean, competitor_P_WD_LowC_CI_mean, competitor_P_WD_HighC_CI_mean],\n",
    "                  'Comp sem(%)': [competitor_P_WD_CI_sem, competitor_P_WD_LowC_CI_sem, competitor_P_WD_HighC_CI_sem]},\n",
    "                  index=[\"All\", \"LowCoupling\", \"HighCoupling\"])\n",
    "\n",
    "P_WD_summary_df.head()\n"
   ]
  },
  {
   "cell_type": "markdown",
   "id": "575244ee",
   "metadata": {},
   "source": [
    "### Undesirable Condition"
   ]
  },
  {
   "cell_type": "code",
   "execution_count": 71,
   "id": "730eb8da",
   "metadata": {},
   "outputs": [
    {
     "data": {
      "text/html": [
       "<div>\n",
       "<style scoped>\n",
       "    .dataframe tbody tr th:only-of-type {\n",
       "        vertical-align: middle;\n",
       "    }\n",
       "\n",
       "    .dataframe tbody tr th {\n",
       "        vertical-align: top;\n",
       "    }\n",
       "\n",
       "    .dataframe thead th {\n",
       "        text-align: right;\n",
       "    }\n",
       "</style>\n",
       "<table border=\"1\" class=\"dataframe\">\n",
       "  <thead>\n",
       "    <tr style=\"text-align: right;\">\n",
       "      <th></th>\n",
       "      <th>Target mean(%)</th>\n",
       "      <th>Target sem(%)</th>\n",
       "      <th>Comp mean(%)</th>\n",
       "      <th>Comp sem(%)</th>\n",
       "    </tr>\n",
       "  </thead>\n",
       "  <tbody>\n",
       "    <tr>\n",
       "      <th>All</th>\n",
       "      <td>51.92</td>\n",
       "      <td>1.77</td>\n",
       "      <td>48.08</td>\n",
       "      <td>1.77</td>\n",
       "    </tr>\n",
       "    <tr>\n",
       "      <th>LowCoupling</th>\n",
       "      <td>52.71</td>\n",
       "      <td>2.39</td>\n",
       "      <td>47.29</td>\n",
       "      <td>2.39</td>\n",
       "    </tr>\n",
       "    <tr>\n",
       "      <th>HighCoupling</th>\n",
       "      <td>50.67</td>\n",
       "      <td>2.62</td>\n",
       "      <td>49.33</td>\n",
       "      <td>2.62</td>\n",
       "    </tr>\n",
       "  </tbody>\n",
       "</table>\n",
       "</div>"
      ],
      "text/plain": [
       "              Target mean(%)  Target sem(%)  Comp mean(%)  Comp sem(%)\n",
       "All                    51.92           1.77         48.08         1.77\n",
       "LowCoupling            52.71           2.39         47.29         2.39\n",
       "HighCoupling           50.67           2.62         49.33         2.62"
      ]
     },
     "execution_count": 71,
     "metadata": {},
     "output_type": "execute_result"
    }
   ],
   "source": [
    "decoy_P_U_CI_df = decoy_P_U_df.loc[(decoy_P_U_df[\"Item\"]==\"Dehumidifier\") | (decoy_P_U_df[\"Item\"]==\"Organic fertilizer\") | (decoy_P_U_df[\"Item\"]==\"Paint sprayer\") | (decoy_P_U_df[\"Item\"]==\"Wifi extender\") | (decoy_P_U_df[\"Item\"]==\"Outdoor solar lights\") | (decoy_P_HD_df[\"Item\"]==\"Wifi extender\")]\n",
    "decoy_P_U_df_LowC = decoy_P_U_df[decoy_P_U_df[\"CouplingCondition\"] == \"Low coupling\"]\n",
    "decoy_P_U_df_HighC = decoy_P_U_df[decoy_P_U_df[\"CouplingCondition\"] == \"High coupling\"]\n",
    "\n",
    "decoy_P_U_freq_CI_df = uf.partFreq_PhantomDecoy(decoy_P_U_df)\n",
    "decoy_P_U_LowC_freq_CI_df = uf.partFreq_PhantomDecoy(decoy_P_U_df_LowC)\n",
    "decoy_P_U_HighC_freq_CI_df = uf.partFreq_PhantomDecoy(decoy_P_U_df_HighC)\n",
    "\n",
    "total_n = decoy_P_U_df[\"Survey_ID\"].unique()\n",
    "number_of_low_coupling = decoy_P_U_df_LowC[\"Survey_ID\"].unique()\n",
    "number_of_high_coupling = decoy_P_U_df_HighC[\"Survey_ID\"].unique()\n",
    "\n",
    "total_n = int(len(total_n))\n",
    "number_of_low_coupling = int(len(number_of_low_coupling))\n",
    "number_of_high_coupling = int(len(number_of_high_coupling))\n",
    "\n",
    "# Get mean, std, and sem for all participatns.\n",
    "target_P_U_CI_mean, target_P_U_CI_std, target_P_U_CI_sem = uf.get_decoy_stats(decoy_P_U_freq_CI_df, \"Target(%)\", total_n)\n",
    "competitor_P_U_CI_mean, competitor_P_U_CI_std, competitor_P_U_CI_sem = uf.get_decoy_stats(decoy_P_U_freq_CI_df, \"Competitor(%)\", total_n)\n",
    "\n",
    "# Get mean, std, and sem for 'Low coupling' participatns.\n",
    "target_P_U_LowC_CI_mean, target_P_U_LowC_CI_std, target_P_U_LowC_CI_sem = uf.get_decoy_stats(decoy_P_U_LowC_freq_CI_df, \"Target(%)\", number_of_low_coupling)\n",
    "competitor_P_U_LowC_CI_mean, competitor_P_U_LowC_CI_std, competitor_P_U_LowC_CI_sem = uf.get_decoy_stats(decoy_P_U_LowC_freq_CI_df, \"Competitor(%)\", number_of_low_coupling)\n",
    "\n",
    "# Get mean, std, and sem for 'High coupling' participatns.\n",
    "target_P_U_HighC_CI_mean, target_P_U_HighC_CI_std, target_P_U_HighC_CI_sem = uf.get_decoy_stats(decoy_P_U_HighC_freq_CI_df, \"Target(%)\", number_of_high_coupling)\n",
    "competitor_P_U_HighC_CI_mean, competitor_P_U_HighC_CI_std, competitor_P_U_HighC_CI_sem = uf.get_decoy_stats(decoy_P_U_HighC_freq_CI_df, \"Competitor(%)\", number_of_high_coupling)\n",
    "\n",
    "P_U_summary_df = pd.DataFrame({'Target mean(%)': [target_P_U_CI_mean, target_P_U_LowC_CI_mean, target_P_U_HighC_CI_mean],\n",
    "                  'Target sem(%)': [target_P_U_CI_sem, target_P_U_LowC_CI_sem, target_P_U_HighC_CI_sem],\n",
    "                  'Comp mean(%)': [competitor_P_U_CI_mean, competitor_P_U_LowC_CI_mean, competitor_P_U_HighC_CI_mean],\n",
    "                  'Comp sem(%)': [competitor_P_U_CI_sem, competitor_P_U_LowC_CI_sem, competitor_P_U_HighC_CI_sem]},\n",
    "                  index=[\"All\", \"LowCoupling\", \"HighCoupling\"])\n",
    "\n",
    "P_U_summary_df.head()"
   ]
  },
  {
   "cell_type": "code",
   "execution_count": 111,
   "id": "cbf6fffd",
   "metadata": {},
   "outputs": [
    {
     "data": {
      "text/html": [
       "<div>\n",
       "<style scoped>\n",
       "    .dataframe tbody tr th:only-of-type {\n",
       "        vertical-align: middle;\n",
       "    }\n",
       "\n",
       "    .dataframe tbody tr th {\n",
       "        vertical-align: top;\n",
       "    }\n",
       "\n",
       "    .dataframe thead th {\n",
       "        text-align: right;\n",
       "    }\n",
       "</style>\n",
       "<table border=\"1\" class=\"dataframe\">\n",
       "  <thead>\n",
       "    <tr style=\"text-align: right;\">\n",
       "      <th></th>\n",
       "      <th>index</th>\n",
       "      <th>Decoy</th>\n",
       "      <th>Item</th>\n",
       "      <th>Option_1</th>\n",
       "      <th>Option_2</th>\n",
       "      <th>Option_3</th>\n",
       "      <th>Choice</th>\n",
       "      <th>CatchTrials</th>\n",
       "      <th>Deliberation_RT</th>\n",
       "      <th>Choice_RT</th>\n",
       "      <th>Too_Slow</th>\n",
       "      <th>Survey_ID</th>\n",
       "      <th>CouplingCondition</th>\n",
       "      <th>PhantomCondition</th>\n",
       "    </tr>\n",
       "  </thead>\n",
       "  <tbody>\n",
       "    <tr>\n",
       "      <th>132</th>\n",
       "      <td>2163</td>\n",
       "      <td>P</td>\n",
       "      <td>Organic fertilizer</td>\n",
       "      <td>B</td>\n",
       "      <td>P_A</td>\n",
       "      <td>A</td>\n",
       "      <td>A</td>\n",
       "      <td>NaN</td>\n",
       "      <td>10000</td>\n",
       "      <td>1445.4</td>\n",
       "      <td>0</td>\n",
       "      <td>37978</td>\n",
       "      <td>High coupling</td>\n",
       "      <td>Highly_desirable</td>\n",
       "    </tr>\n",
       "    <tr>\n",
       "      <th>135</th>\n",
       "      <td>2179</td>\n",
       "      <td>P</td>\n",
       "      <td>Electric mop</td>\n",
       "      <td>P_A</td>\n",
       "      <td>A</td>\n",
       "      <td>B</td>\n",
       "      <td>A</td>\n",
       "      <td>NaN</td>\n",
       "      <td>10000</td>\n",
       "      <td>662.6</td>\n",
       "      <td>0</td>\n",
       "      <td>37978</td>\n",
       "      <td>High coupling</td>\n",
       "      <td>Highly_desirable</td>\n",
       "    </tr>\n",
       "    <tr>\n",
       "      <th>136</th>\n",
       "      <td>2181</td>\n",
       "      <td>P</td>\n",
       "      <td>Baby stroller</td>\n",
       "      <td>B</td>\n",
       "      <td>P_A</td>\n",
       "      <td>A</td>\n",
       "      <td>A</td>\n",
       "      <td>NaN</td>\n",
       "      <td>10000</td>\n",
       "      <td>582.2</td>\n",
       "      <td>0</td>\n",
       "      <td>37978</td>\n",
       "      <td>High coupling</td>\n",
       "      <td>Highly_desirable</td>\n",
       "    </tr>\n",
       "    <tr>\n",
       "      <th>138</th>\n",
       "      <td>2194</td>\n",
       "      <td>P</td>\n",
       "      <td>Paint sprayer</td>\n",
       "      <td>B</td>\n",
       "      <td>A</td>\n",
       "      <td>P_A</td>\n",
       "      <td>A</td>\n",
       "      <td>NaN</td>\n",
       "      <td>10000</td>\n",
       "      <td>1440.5</td>\n",
       "      <td>0</td>\n",
       "      <td>37978</td>\n",
       "      <td>High coupling</td>\n",
       "      <td>Highly_desirable</td>\n",
       "    </tr>\n",
       "    <tr>\n",
       "      <th>142</th>\n",
       "      <td>2314</td>\n",
       "      <td>P</td>\n",
       "      <td>Electric mop</td>\n",
       "      <td>P_A</td>\n",
       "      <td>B</td>\n",
       "      <td>A</td>\n",
       "      <td>A</td>\n",
       "      <td>NaN</td>\n",
       "      <td>10000</td>\n",
       "      <td>5244.2</td>\n",
       "      <td>1</td>\n",
       "      <td>36432</td>\n",
       "      <td>High coupling</td>\n",
       "      <td>Highly_desirable</td>\n",
       "    </tr>\n",
       "    <tr>\n",
       "      <th>143</th>\n",
       "      <td>2319</td>\n",
       "      <td>P</td>\n",
       "      <td>Organic fertilizer</td>\n",
       "      <td>B</td>\n",
       "      <td>A</td>\n",
       "      <td>P_A</td>\n",
       "      <td>A</td>\n",
       "      <td>NaN</td>\n",
       "      <td>10000</td>\n",
       "      <td>3613.2</td>\n",
       "      <td>0</td>\n",
       "      <td>36432</td>\n",
       "      <td>High coupling</td>\n",
       "      <td>Highly_desirable</td>\n",
       "    </tr>\n",
       "    <tr>\n",
       "      <th>146</th>\n",
       "      <td>2332</td>\n",
       "      <td>P</td>\n",
       "      <td>Wifi extender</td>\n",
       "      <td>P_A</td>\n",
       "      <td>A</td>\n",
       "      <td>B</td>\n",
       "      <td>B</td>\n",
       "      <td>NaN</td>\n",
       "      <td>10000</td>\n",
       "      <td>551.7</td>\n",
       "      <td>0</td>\n",
       "      <td>36432</td>\n",
       "      <td>High coupling</td>\n",
       "      <td>Highly_desirable</td>\n",
       "    </tr>\n",
       "    <tr>\n",
       "      <th>147</th>\n",
       "      <td>2339</td>\n",
       "      <td>P</td>\n",
       "      <td>Baby stroller</td>\n",
       "      <td>P_B</td>\n",
       "      <td>A</td>\n",
       "      <td>B</td>\n",
       "      <td>A</td>\n",
       "      <td>NaN</td>\n",
       "      <td>10000</td>\n",
       "      <td>734.4</td>\n",
       "      <td>0</td>\n",
       "      <td>36432</td>\n",
       "      <td>High coupling</td>\n",
       "      <td>Highly_desirable</td>\n",
       "    </tr>\n",
       "    <tr>\n",
       "      <th>148</th>\n",
       "      <td>2343</td>\n",
       "      <td>P</td>\n",
       "      <td>Dehumidifier</td>\n",
       "      <td>P_A</td>\n",
       "      <td>A</td>\n",
       "      <td>B</td>\n",
       "      <td>A</td>\n",
       "      <td>NaN</td>\n",
       "      <td>10000</td>\n",
       "      <td>1672.7</td>\n",
       "      <td>0</td>\n",
       "      <td>36432</td>\n",
       "      <td>High coupling</td>\n",
       "      <td>Highly_desirable</td>\n",
       "    </tr>\n",
       "    <tr>\n",
       "      <th>149</th>\n",
       "      <td>2346</td>\n",
       "      <td>P</td>\n",
       "      <td>Paint sprayer</td>\n",
       "      <td>P_B</td>\n",
       "      <td>B</td>\n",
       "      <td>A</td>\n",
       "      <td>A</td>\n",
       "      <td>NaN</td>\n",
       "      <td>10000</td>\n",
       "      <td>486.7</td>\n",
       "      <td>0</td>\n",
       "      <td>36432</td>\n",
       "      <td>High coupling</td>\n",
       "      <td>Highly_desirable</td>\n",
       "    </tr>\n",
       "    <tr>\n",
       "      <th>150</th>\n",
       "      <td>2350</td>\n",
       "      <td>P</td>\n",
       "      <td>Dehumidifier</td>\n",
       "      <td>A</td>\n",
       "      <td>P_B</td>\n",
       "      <td>B</td>\n",
       "      <td>A</td>\n",
       "      <td>NaN</td>\n",
       "      <td>10000</td>\n",
       "      <td>570.0</td>\n",
       "      <td>0</td>\n",
       "      <td>36432</td>\n",
       "      <td>High coupling</td>\n",
       "      <td>Highly_desirable</td>\n",
       "    </tr>\n",
       "    <tr>\n",
       "      <th>152</th>\n",
       "      <td>2360</td>\n",
       "      <td>P</td>\n",
       "      <td>Wifi extender</td>\n",
       "      <td>A</td>\n",
       "      <td>P_B</td>\n",
       "      <td>B</td>\n",
       "      <td>B</td>\n",
       "      <td>NaN</td>\n",
       "      <td>10000</td>\n",
       "      <td>514.3</td>\n",
       "      <td>0</td>\n",
       "      <td>36432</td>\n",
       "      <td>High coupling</td>\n",
       "      <td>Highly_desirable</td>\n",
       "    </tr>\n",
       "    <tr>\n",
       "      <th>153</th>\n",
       "      <td>2369</td>\n",
       "      <td>P</td>\n",
       "      <td>Electric mop</td>\n",
       "      <td>P_B</td>\n",
       "      <td>B</td>\n",
       "      <td>A</td>\n",
       "      <td>B</td>\n",
       "      <td>NaN</td>\n",
       "      <td>10000</td>\n",
       "      <td>510.9</td>\n",
       "      <td>0</td>\n",
       "      <td>36432</td>\n",
       "      <td>High coupling</td>\n",
       "      <td>Highly_desirable</td>\n",
       "    </tr>\n",
       "    <tr>\n",
       "      <th>155</th>\n",
       "      <td>2376</td>\n",
       "      <td>P</td>\n",
       "      <td>Paint sprayer</td>\n",
       "      <td>A</td>\n",
       "      <td>B</td>\n",
       "      <td>P_A</td>\n",
       "      <td>A</td>\n",
       "      <td>NaN</td>\n",
       "      <td>10000</td>\n",
       "      <td>532.1</td>\n",
       "      <td>0</td>\n",
       "      <td>36432</td>\n",
       "      <td>High coupling</td>\n",
       "      <td>Highly_desirable</td>\n",
       "    </tr>\n",
       "    <tr>\n",
       "      <th>157</th>\n",
       "      <td>2385</td>\n",
       "      <td>P</td>\n",
       "      <td>Baby stroller</td>\n",
       "      <td>B</td>\n",
       "      <td>P_A</td>\n",
       "      <td>A</td>\n",
       "      <td>A</td>\n",
       "      <td>NaN</td>\n",
       "      <td>10000</td>\n",
       "      <td>823.3</td>\n",
       "      <td>0</td>\n",
       "      <td>36432</td>\n",
       "      <td>High coupling</td>\n",
       "      <td>Highly_desirable</td>\n",
       "    </tr>\n",
       "    <tr>\n",
       "      <th>158</th>\n",
       "      <td>2394</td>\n",
       "      <td>P</td>\n",
       "      <td>Organic fertilizer</td>\n",
       "      <td>A</td>\n",
       "      <td>B</td>\n",
       "      <td>P_B</td>\n",
       "      <td>B</td>\n",
       "      <td>NaN</td>\n",
       "      <td>10000</td>\n",
       "      <td>633.9</td>\n",
       "      <td>0</td>\n",
       "      <td>36432</td>\n",
       "      <td>High coupling</td>\n",
       "      <td>Highly_desirable</td>\n",
       "    </tr>\n",
       "    <tr>\n",
       "      <th>162</th>\n",
       "      <td>2412</td>\n",
       "      <td>P</td>\n",
       "      <td>Paint sprayer</td>\n",
       "      <td>B</td>\n",
       "      <td>P_B</td>\n",
       "      <td>A</td>\n",
       "      <td>A</td>\n",
       "      <td>NaN</td>\n",
       "      <td>10000</td>\n",
       "      <td>1160.6</td>\n",
       "      <td>0</td>\n",
       "      <td>43026</td>\n",
       "      <td>Low coupling</td>\n",
       "      <td>Highly_desirable</td>\n",
       "    </tr>\n",
       "    <tr>\n",
       "      <th>164</th>\n",
       "      <td>2422</td>\n",
       "      <td>P</td>\n",
       "      <td>Wifi extender</td>\n",
       "      <td>P_A</td>\n",
       "      <td>B</td>\n",
       "      <td>A</td>\n",
       "      <td>B</td>\n",
       "      <td>NaN</td>\n",
       "      <td>10000</td>\n",
       "      <td>486.5</td>\n",
       "      <td>0</td>\n",
       "      <td>43026</td>\n",
       "      <td>Low coupling</td>\n",
       "      <td>Highly_desirable</td>\n",
       "    </tr>\n",
       "    <tr>\n",
       "      <th>165</th>\n",
       "      <td>2427</td>\n",
       "      <td>P</td>\n",
       "      <td>Organic fertilizer</td>\n",
       "      <td>P_A</td>\n",
       "      <td>B</td>\n",
       "      <td>A</td>\n",
       "      <td>B</td>\n",
       "      <td>NaN</td>\n",
       "      <td>10000</td>\n",
       "      <td>699.5</td>\n",
       "      <td>0</td>\n",
       "      <td>43026</td>\n",
       "      <td>Low coupling</td>\n",
       "      <td>Highly_desirable</td>\n",
       "    </tr>\n",
       "    <tr>\n",
       "      <th>166</th>\n",
       "      <td>2433</td>\n",
       "      <td>P</td>\n",
       "      <td>Dehumidifier</td>\n",
       "      <td>A</td>\n",
       "      <td>B</td>\n",
       "      <td>P_A</td>\n",
       "      <td>A</td>\n",
       "      <td>NaN</td>\n",
       "      <td>10000</td>\n",
       "      <td>770.7</td>\n",
       "      <td>0</td>\n",
       "      <td>43026</td>\n",
       "      <td>Low coupling</td>\n",
       "      <td>Highly_desirable</td>\n",
       "    </tr>\n",
       "    <tr>\n",
       "      <th>167</th>\n",
       "      <td>2436</td>\n",
       "      <td>P</td>\n",
       "      <td>Baby stroller</td>\n",
       "      <td>B</td>\n",
       "      <td>A</td>\n",
       "      <td>P_A</td>\n",
       "      <td>A</td>\n",
       "      <td>NaN</td>\n",
       "      <td>10000</td>\n",
       "      <td>438.6</td>\n",
       "      <td>0</td>\n",
       "      <td>43026</td>\n",
       "      <td>Low coupling</td>\n",
       "      <td>Highly_desirable</td>\n",
       "    </tr>\n",
       "    <tr>\n",
       "      <th>168</th>\n",
       "      <td>2442</td>\n",
       "      <td>P</td>\n",
       "      <td>Electric mop</td>\n",
       "      <td>A</td>\n",
       "      <td>B</td>\n",
       "      <td>P_B</td>\n",
       "      <td>B</td>\n",
       "      <td>NaN</td>\n",
       "      <td>10000</td>\n",
       "      <td>526.8</td>\n",
       "      <td>0</td>\n",
       "      <td>43026</td>\n",
       "      <td>Low coupling</td>\n",
       "      <td>Highly_desirable</td>\n",
       "    </tr>\n",
       "    <tr>\n",
       "      <th>170</th>\n",
       "      <td>2451</td>\n",
       "      <td>P</td>\n",
       "      <td>Wifi extender</td>\n",
       "      <td>A</td>\n",
       "      <td>P_B</td>\n",
       "      <td>B</td>\n",
       "      <td>A</td>\n",
       "      <td>NaN</td>\n",
       "      <td>10000</td>\n",
       "      <td>990.0</td>\n",
       "      <td>0</td>\n",
       "      <td>43026</td>\n",
       "      <td>Low coupling</td>\n",
       "      <td>Highly_desirable</td>\n",
       "    </tr>\n",
       "    <tr>\n",
       "      <th>171</th>\n",
       "      <td>2456</td>\n",
       "      <td>P</td>\n",
       "      <td>Electric mop</td>\n",
       "      <td>A</td>\n",
       "      <td>B</td>\n",
       "      <td>P_A</td>\n",
       "      <td>B</td>\n",
       "      <td>NaN</td>\n",
       "      <td>10000</td>\n",
       "      <td>1326.1</td>\n",
       "      <td>0</td>\n",
       "      <td>43026</td>\n",
       "      <td>Low coupling</td>\n",
       "      <td>Highly_desirable</td>\n",
       "    </tr>\n",
       "    <tr>\n",
       "      <th>172</th>\n",
       "      <td>2464</td>\n",
       "      <td>P</td>\n",
       "      <td>Organic fertilizer</td>\n",
       "      <td>P_B</td>\n",
       "      <td>B</td>\n",
       "      <td>A</td>\n",
       "      <td>B</td>\n",
       "      <td>NaN</td>\n",
       "      <td>10000</td>\n",
       "      <td>2327.3</td>\n",
       "      <td>0</td>\n",
       "      <td>43026</td>\n",
       "      <td>Low coupling</td>\n",
       "      <td>Highly_desirable</td>\n",
       "    </tr>\n",
       "    <tr>\n",
       "      <th>173</th>\n",
       "      <td>2468</td>\n",
       "      <td>P</td>\n",
       "      <td>Paint sprayer</td>\n",
       "      <td>A</td>\n",
       "      <td>B</td>\n",
       "      <td>P_A</td>\n",
       "      <td>A</td>\n",
       "      <td>NaN</td>\n",
       "      <td>10000</td>\n",
       "      <td>1379.0</td>\n",
       "      <td>0</td>\n",
       "      <td>43026</td>\n",
       "      <td>Low coupling</td>\n",
       "      <td>Highly_desirable</td>\n",
       "    </tr>\n",
       "    <tr>\n",
       "      <th>174</th>\n",
       "      <td>2471</td>\n",
       "      <td>P</td>\n",
       "      <td>Baby stroller</td>\n",
       "      <td>B</td>\n",
       "      <td>A</td>\n",
       "      <td>P_B</td>\n",
       "      <td>B</td>\n",
       "      <td>NaN</td>\n",
       "      <td>10000</td>\n",
       "      <td>6969.7</td>\n",
       "      <td>1</td>\n",
       "      <td>43026</td>\n",
       "      <td>Low coupling</td>\n",
       "      <td>Highly_desirable</td>\n",
       "    </tr>\n",
       "    <tr>\n",
       "      <th>178</th>\n",
       "      <td>2491</td>\n",
       "      <td>P</td>\n",
       "      <td>Dehumidifier</td>\n",
       "      <td>P_B</td>\n",
       "      <td>A</td>\n",
       "      <td>B</td>\n",
       "      <td>B</td>\n",
       "      <td>NaN</td>\n",
       "      <td>10000</td>\n",
       "      <td>1583.6</td>\n",
       "      <td>0</td>\n",
       "      <td>43026</td>\n",
       "      <td>Low coupling</td>\n",
       "      <td>Highly_desirable</td>\n",
       "    </tr>\n",
       "    <tr>\n",
       "      <th>182</th>\n",
       "      <td>2511</td>\n",
       "      <td>P</td>\n",
       "      <td>Wifi extender</td>\n",
       "      <td>P_B</td>\n",
       "      <td>B</td>\n",
       "      <td>A</td>\n",
       "      <td>A</td>\n",
       "      <td>NaN</td>\n",
       "      <td>10000</td>\n",
       "      <td>948.5</td>\n",
       "      <td>0</td>\n",
       "      <td>36013</td>\n",
       "      <td>Low coupling</td>\n",
       "      <td>Highly_desirable</td>\n",
       "    </tr>\n",
       "    <tr>\n",
       "      <th>183</th>\n",
       "      <td>2519</td>\n",
       "      <td>P</td>\n",
       "      <td>Baby stroller</td>\n",
       "      <td>B</td>\n",
       "      <td>A</td>\n",
       "      <td>P_A</td>\n",
       "      <td>B</td>\n",
       "      <td>NaN</td>\n",
       "      <td>10000</td>\n",
       "      <td>450.7</td>\n",
       "      <td>0</td>\n",
       "      <td>36013</td>\n",
       "      <td>Low coupling</td>\n",
       "      <td>Highly_desirable</td>\n",
       "    </tr>\n",
       "    <tr>\n",
       "      <th>184</th>\n",
       "      <td>2522</td>\n",
       "      <td>P</td>\n",
       "      <td>Electric mop</td>\n",
       "      <td>P_A</td>\n",
       "      <td>A</td>\n",
       "      <td>B</td>\n",
       "      <td>A</td>\n",
       "      <td>NaN</td>\n",
       "      <td>10000</td>\n",
       "      <td>2264.2</td>\n",
       "      <td>0</td>\n",
       "      <td>36013</td>\n",
       "      <td>Low coupling</td>\n",
       "      <td>Highly_desirable</td>\n",
       "    </tr>\n",
       "    <tr>\n",
       "      <th>185</th>\n",
       "      <td>2529</td>\n",
       "      <td>P</td>\n",
       "      <td>Organic fertilizer</td>\n",
       "      <td>B</td>\n",
       "      <td>P_B</td>\n",
       "      <td>A</td>\n",
       "      <td>B</td>\n",
       "      <td>NaN</td>\n",
       "      <td>10000</td>\n",
       "      <td>3499.3</td>\n",
       "      <td>0</td>\n",
       "      <td>36013</td>\n",
       "      <td>Low coupling</td>\n",
       "      <td>Highly_desirable</td>\n",
       "    </tr>\n",
       "    <tr>\n",
       "      <th>187</th>\n",
       "      <td>2535</td>\n",
       "      <td>P</td>\n",
       "      <td>Dehumidifier</td>\n",
       "      <td>P_B</td>\n",
       "      <td>A</td>\n",
       "      <td>B</td>\n",
       "      <td>B</td>\n",
       "      <td>NaN</td>\n",
       "      <td>10000</td>\n",
       "      <td>483.7</td>\n",
       "      <td>0</td>\n",
       "      <td>36013</td>\n",
       "      <td>Low coupling</td>\n",
       "      <td>Highly_desirable</td>\n",
       "    </tr>\n",
       "    <tr>\n",
       "      <th>188</th>\n",
       "      <td>2542</td>\n",
       "      <td>P</td>\n",
       "      <td>Paint sprayer</td>\n",
       "      <td>P_B</td>\n",
       "      <td>B</td>\n",
       "      <td>A</td>\n",
       "      <td>A</td>\n",
       "      <td>NaN</td>\n",
       "      <td>10000</td>\n",
       "      <td>83.3</td>\n",
       "      <td>0</td>\n",
       "      <td>36013</td>\n",
       "      <td>Low coupling</td>\n",
       "      <td>Highly_desirable</td>\n",
       "    </tr>\n",
       "    <tr>\n",
       "      <th>190</th>\n",
       "      <td>2550</td>\n",
       "      <td>P</td>\n",
       "      <td>Organic fertilizer</td>\n",
       "      <td>P_A</td>\n",
       "      <td>A</td>\n",
       "      <td>B</td>\n",
       "      <td>A</td>\n",
       "      <td>NaN</td>\n",
       "      <td>10000</td>\n",
       "      <td>1569.2</td>\n",
       "      <td>0</td>\n",
       "      <td>36013</td>\n",
       "      <td>Low coupling</td>\n",
       "      <td>Highly_desirable</td>\n",
       "    </tr>\n",
       "    <tr>\n",
       "      <th>191</th>\n",
       "      <td>2555</td>\n",
       "      <td>P</td>\n",
       "      <td>Electric mop</td>\n",
       "      <td>A</td>\n",
       "      <td>P_B</td>\n",
       "      <td>B</td>\n",
       "      <td>B</td>\n",
       "      <td>NaN</td>\n",
       "      <td>10000</td>\n",
       "      <td>196.6</td>\n",
       "      <td>0</td>\n",
       "      <td>36013</td>\n",
       "      <td>Low coupling</td>\n",
       "      <td>Highly_desirable</td>\n",
       "    </tr>\n",
       "    <tr>\n",
       "      <th>196</th>\n",
       "      <td>2580</td>\n",
       "      <td>P</td>\n",
       "      <td>Paint sprayer</td>\n",
       "      <td>A</td>\n",
       "      <td>P_A</td>\n",
       "      <td>B</td>\n",
       "      <td>A</td>\n",
       "      <td>NaN</td>\n",
       "      <td>10000</td>\n",
       "      <td>463.4</td>\n",
       "      <td>0</td>\n",
       "      <td>36013</td>\n",
       "      <td>Low coupling</td>\n",
       "      <td>Highly_desirable</td>\n",
       "    </tr>\n",
       "    <tr>\n",
       "      <th>197</th>\n",
       "      <td>2587</td>\n",
       "      <td>P</td>\n",
       "      <td>Wifi extender</td>\n",
       "      <td>B</td>\n",
       "      <td>A</td>\n",
       "      <td>P_A</td>\n",
       "      <td>A</td>\n",
       "      <td>NaN</td>\n",
       "      <td>10000</td>\n",
       "      <td>279.8</td>\n",
       "      <td>0</td>\n",
       "      <td>36013</td>\n",
       "      <td>Low coupling</td>\n",
       "      <td>Highly_desirable</td>\n",
       "    </tr>\n",
       "    <tr>\n",
       "      <th>198</th>\n",
       "      <td>2594</td>\n",
       "      <td>P</td>\n",
       "      <td>Dehumidifier</td>\n",
       "      <td>P_A</td>\n",
       "      <td>A</td>\n",
       "      <td>B</td>\n",
       "      <td>B</td>\n",
       "      <td>NaN</td>\n",
       "      <td>10000</td>\n",
       "      <td>1728.4</td>\n",
       "      <td>0</td>\n",
       "      <td>36013</td>\n",
       "      <td>Low coupling</td>\n",
       "      <td>Highly_desirable</td>\n",
       "    </tr>\n",
       "    <tr>\n",
       "      <th>199</th>\n",
       "      <td>2595</td>\n",
       "      <td>P</td>\n",
       "      <td>Baby stroller</td>\n",
       "      <td>B</td>\n",
       "      <td>P_B</td>\n",
       "      <td>A</td>\n",
       "      <td>B</td>\n",
       "      <td>NaN</td>\n",
       "      <td>10000</td>\n",
       "      <td>397.6</td>\n",
       "      <td>0</td>\n",
       "      <td>36013</td>\n",
       "      <td>Low coupling</td>\n",
       "      <td>Highly_desirable</td>\n",
       "    </tr>\n",
       "  </tbody>\n",
       "</table>\n",
       "</div>"
      ],
      "text/plain": [
       "     index Decoy                Item Option_1 Option_2 Option_3 Choice  \\\n",
       "132   2163     P  Organic fertilizer        B      P_A        A      A   \n",
       "135   2179     P        Electric mop      P_A        A        B      A   \n",
       "136   2181     P       Baby stroller        B      P_A        A      A   \n",
       "138   2194     P       Paint sprayer        B        A      P_A      A   \n",
       "142   2314     P        Electric mop      P_A        B        A      A   \n",
       "143   2319     P  Organic fertilizer        B        A      P_A      A   \n",
       "146   2332     P       Wifi extender      P_A        A        B      B   \n",
       "147   2339     P       Baby stroller      P_B        A        B      A   \n",
       "148   2343     P        Dehumidifier      P_A        A        B      A   \n",
       "149   2346     P       Paint sprayer      P_B        B        A      A   \n",
       "150   2350     P        Dehumidifier        A      P_B        B      A   \n",
       "152   2360     P       Wifi extender        A      P_B        B      B   \n",
       "153   2369     P        Electric mop      P_B        B        A      B   \n",
       "155   2376     P       Paint sprayer        A        B      P_A      A   \n",
       "157   2385     P       Baby stroller        B      P_A        A      A   \n",
       "158   2394     P  Organic fertilizer        A        B      P_B      B   \n",
       "162   2412     P       Paint sprayer        B      P_B        A      A   \n",
       "164   2422     P       Wifi extender      P_A        B        A      B   \n",
       "165   2427     P  Organic fertilizer      P_A        B        A      B   \n",
       "166   2433     P        Dehumidifier        A        B      P_A      A   \n",
       "167   2436     P       Baby stroller        B        A      P_A      A   \n",
       "168   2442     P        Electric mop        A        B      P_B      B   \n",
       "170   2451     P       Wifi extender        A      P_B        B      A   \n",
       "171   2456     P        Electric mop        A        B      P_A      B   \n",
       "172   2464     P  Organic fertilizer      P_B        B        A      B   \n",
       "173   2468     P       Paint sprayer        A        B      P_A      A   \n",
       "174   2471     P       Baby stroller        B        A      P_B      B   \n",
       "178   2491     P        Dehumidifier      P_B        A        B      B   \n",
       "182   2511     P       Wifi extender      P_B        B        A      A   \n",
       "183   2519     P       Baby stroller        B        A      P_A      B   \n",
       "184   2522     P        Electric mop      P_A        A        B      A   \n",
       "185   2529     P  Organic fertilizer        B      P_B        A      B   \n",
       "187   2535     P        Dehumidifier      P_B        A        B      B   \n",
       "188   2542     P       Paint sprayer      P_B        B        A      A   \n",
       "190   2550     P  Organic fertilizer      P_A        A        B      A   \n",
       "191   2555     P        Electric mop        A      P_B        B      B   \n",
       "196   2580     P       Paint sprayer        A      P_A        B      A   \n",
       "197   2587     P       Wifi extender        B        A      P_A      A   \n",
       "198   2594     P        Dehumidifier      P_A        A        B      B   \n",
       "199   2595     P       Baby stroller        B      P_B        A      B   \n",
       "\n",
       "     CatchTrials  Deliberation_RT  Choice_RT  Too_Slow  Survey_ID  \\\n",
       "132          NaN            10000     1445.4         0      37978   \n",
       "135          NaN            10000      662.6         0      37978   \n",
       "136          NaN            10000      582.2         0      37978   \n",
       "138          NaN            10000     1440.5         0      37978   \n",
       "142          NaN            10000     5244.2         1      36432   \n",
       "143          NaN            10000     3613.2         0      36432   \n",
       "146          NaN            10000      551.7         0      36432   \n",
       "147          NaN            10000      734.4         0      36432   \n",
       "148          NaN            10000     1672.7         0      36432   \n",
       "149          NaN            10000      486.7         0      36432   \n",
       "150          NaN            10000      570.0         0      36432   \n",
       "152          NaN            10000      514.3         0      36432   \n",
       "153          NaN            10000      510.9         0      36432   \n",
       "155          NaN            10000      532.1         0      36432   \n",
       "157          NaN            10000      823.3         0      36432   \n",
       "158          NaN            10000      633.9         0      36432   \n",
       "162          NaN            10000     1160.6         0      43026   \n",
       "164          NaN            10000      486.5         0      43026   \n",
       "165          NaN            10000      699.5         0      43026   \n",
       "166          NaN            10000      770.7         0      43026   \n",
       "167          NaN            10000      438.6         0      43026   \n",
       "168          NaN            10000      526.8         0      43026   \n",
       "170          NaN            10000      990.0         0      43026   \n",
       "171          NaN            10000     1326.1         0      43026   \n",
       "172          NaN            10000     2327.3         0      43026   \n",
       "173          NaN            10000     1379.0         0      43026   \n",
       "174          NaN            10000     6969.7         1      43026   \n",
       "178          NaN            10000     1583.6         0      43026   \n",
       "182          NaN            10000      948.5         0      36013   \n",
       "183          NaN            10000      450.7         0      36013   \n",
       "184          NaN            10000     2264.2         0      36013   \n",
       "185          NaN            10000     3499.3         0      36013   \n",
       "187          NaN            10000      483.7         0      36013   \n",
       "188          NaN            10000       83.3         0      36013   \n",
       "190          NaN            10000     1569.2         0      36013   \n",
       "191          NaN            10000      196.6         0      36013   \n",
       "196          NaN            10000      463.4         0      36013   \n",
       "197          NaN            10000      279.8         0      36013   \n",
       "198          NaN            10000     1728.4         0      36013   \n",
       "199          NaN            10000      397.6         0      36013   \n",
       "\n",
       "    CouplingCondition  PhantomCondition  \n",
       "132     High coupling  Highly_desirable  \n",
       "135     High coupling  Highly_desirable  \n",
       "136     High coupling  Highly_desirable  \n",
       "138     High coupling  Highly_desirable  \n",
       "142     High coupling  Highly_desirable  \n",
       "143     High coupling  Highly_desirable  \n",
       "146     High coupling  Highly_desirable  \n",
       "147     High coupling  Highly_desirable  \n",
       "148     High coupling  Highly_desirable  \n",
       "149     High coupling  Highly_desirable  \n",
       "150     High coupling  Highly_desirable  \n",
       "152     High coupling  Highly_desirable  \n",
       "153     High coupling  Highly_desirable  \n",
       "155     High coupling  Highly_desirable  \n",
       "157     High coupling  Highly_desirable  \n",
       "158     High coupling  Highly_desirable  \n",
       "162      Low coupling  Highly_desirable  \n",
       "164      Low coupling  Highly_desirable  \n",
       "165      Low coupling  Highly_desirable  \n",
       "166      Low coupling  Highly_desirable  \n",
       "167      Low coupling  Highly_desirable  \n",
       "168      Low coupling  Highly_desirable  \n",
       "170      Low coupling  Highly_desirable  \n",
       "171      Low coupling  Highly_desirable  \n",
       "172      Low coupling  Highly_desirable  \n",
       "173      Low coupling  Highly_desirable  \n",
       "174      Low coupling  Highly_desirable  \n",
       "178      Low coupling  Highly_desirable  \n",
       "182      Low coupling  Highly_desirable  \n",
       "183      Low coupling  Highly_desirable  \n",
       "184      Low coupling  Highly_desirable  \n",
       "185      Low coupling  Highly_desirable  \n",
       "187      Low coupling  Highly_desirable  \n",
       "188      Low coupling  Highly_desirable  \n",
       "190      Low coupling  Highly_desirable  \n",
       "191      Low coupling  Highly_desirable  \n",
       "196      Low coupling  Highly_desirable  \n",
       "197      Low coupling  Highly_desirable  \n",
       "198      Low coupling  Highly_desirable  \n",
       "199      Low coupling  Highly_desirable  "
      ]
     },
     "execution_count": 111,
     "metadata": {},
     "output_type": "execute_result"
    }
   ],
   "source": [
    "decoy_P_HD_CI_df[80:120]"
   ]
  },
  {
   "cell_type": "code",
   "execution_count": 76,
   "id": "83a9a340",
   "metadata": {},
   "outputs": [
    {
     "data": {
      "image/png": "[encoded data removed]",
      "text/plain": [
       "<Figure size 288x288 with 1 Axes>"
      ]
     },
     "metadata": {
      "needs_background": "light"
     },
     "output_type": "display_data"
    }
   ],
   "source": [
    "filtered_decoy_P_part_df = uf.partFreq_PhantomDecoyWCondition(decoy_P_HD_CI_df)\n",
    "\n",
    "fig, ax = plt.subplots(1, 1, figsize=(4, 4))\n",
    "\n",
    "sns_y2 = np.array([target_P_HD_CI_mean, target_P_WD_CI_mean, target_P_U_CI_mean])\n",
    "sns_x2 = [\"Highly_desirable\", \"Weakly_desirable\", \"Undesirable\"]\n",
    "sns_error2 = np.array([target_P_HD_CI_sem, target_P_WD_CI_sem, target_P_U_CI_sem])\n",
    "\n",
    "PNBar2 = sns.barplot(x=\"PhantomCondition\", y=\"Target_perc\",\n",
    "            order=[\"Highly_desirable\", \"Weakly_desirable\", \"Undesirable\"],\n",
    "            ci=None,\n",
    "            ax=ax,        \n",
    "            data=filtered_decoy_P_part_df) \n",
    "PNBar2.set(ylim=(40, 65))\n",
    "\n",
    "#sns.despine()\n",
    "#ax.set_xticks([])\n",
    "\n",
    "#ax.set_ylabel('Mean pereference for Target (%)', size=12)\n",
    "#ax.set_xlabel(\"HighlyDesirable  WeaklyDesirable  Undesirable\", size=10)\n",
    "\n",
    "#bars2 = PNBar2.errorbar(x=sns_x2, y=sns_y2, yerr=sns_error2)\n",
    "\n",
    "#xys = bars2.lines[0].get_xydata()\n",
    "xys2 = np.array([[0, 59.38], [1, 56.43], [2, 51.92]])\n",
    "#xys3 = np.array([[0, 58.12], [1, 0], [2, 0]])\n",
    "\n",
    "#bars2.remove()\n",
    "\n",
    "#PNBar2.errorbar(x=xys2[:, 0], y=[target_P_HD_CI_mean, target_P_WD_CI_mean, target_P_U_CI_mean], \n",
    "#               yerr=[target_P_HD_CI_sem, target_P_WD_CI_sem, target_P_U_CI_sem],\n",
    "#              ls='', lw=3, color='black', capsize=8)\n"
   ]
  },
  {
   "cell_type": "code",
   "execution_count": 80,
   "id": "895aa26b",
   "metadata": {},
   "outputs": [
    {
     "data": {
      "text/plain": [
       "array(['Highly_desirable'], dtype=object)"
      ]
     },
     "execution_count": 80,
     "metadata": {},
     "output_type": "execute_result"
    }
   ],
   "source": [
    "filtered_decoy_P_part_df[\"PhantomCondition\"].unique()\n",
    "#Check why no other condition is showing."
   ]
  },
  {
   "cell_type": "markdown",
   "id": "25cb8c4d",
   "metadata": {},
   "source": [
    "## Statistical Analysis Phantom Decoys (Filtered items)"
   ]
  },
  {
   "cell_type": "markdown",
   "id": "df1e24c7",
   "metadata": {},
   "source": [
    "#### All conditions One-way ANOVA"
   ]
  },
  {
   "cell_type": "code",
   "execution_count": 82,
   "id": "af7ec04e",
   "metadata": {},
   "outputs": [
    {
     "name": "stdout",
     "output_type": "stream",
     "text": [
      "                    df       sum_sq     mean_sq   F  PR(>F)\n",
      "PhantomCondition   0.0     0.000000         NaN NaN     NaN\n",
      "Residual          39.0  6137.152778  157.362892 NaN     NaN\n"
     ]
    }
   ],
   "source": [
    "#One-way ANOVA \"PhantomCondition\" with statsmodels\n",
    "PhanDecoys_FilteredI_lm = ols('Target_perc ~ PhantomCondition', data=filtered_decoy_P_part_df).fit()\n",
    "\n",
    "PhanDecoys_FilteredI_table = sm.stats.anova_lm(PhanDecoys_FilteredI_lm)\n",
    "\n",
    "print(PhanDecoys_FilteredI_table)"
   ]
  },
  {
   "cell_type": "code",
   "execution_count": 83,
   "id": "2f848972",
   "metadata": {},
   "outputs": [
    {
     "data": {
      "text/plain": [
       "F_onewayResult(statistic=3.36044301460113, pvalue=0.03796290349119579)"
      ]
     },
     "execution_count": 83,
     "metadata": {},
     "output_type": "execute_result"
    }
   ],
   "source": [
    "# One-way ANOVA \n",
    "\n",
    "f_oneway(decoy_P_HD_freq_CI_df[\"Target(%)\"], decoy_P_WD_freq_CI_df[\"Target(%)\"], decoy_P_U_freq_CI_df[\"Target(%)\"])\n"
   ]
  },
  {
   "cell_type": "code",
   "execution_count": 84,
   "id": "c6a7c897",
   "metadata": {},
   "outputs": [
    {
     "data": {
      "text/plain": [
       "1.0"
      ]
     },
     "execution_count": 84,
     "metadata": {},
     "output_type": "execute_result"
    }
   ],
   "source": [
    "anova_power.solve_power(effect_size=3.3604,\n",
    "                 nobs=125,\n",
    "                 alpha=0.05,\n",
    "                 power=None,\n",
    "                 k_groups=3)"
   ]
  },
  {
   "cell_type": "markdown",
   "id": "1fc21182",
   "metadata": {},
   "source": [
    "### Individual group testing "
   ]
  },
  {
   "cell_type": "markdown",
   "id": "66b2824a",
   "metadata": {},
   "source": [
    "##### Highly desirability and Weakly desirability (Filtered items)"
   ]
  },
  {
   "cell_type": "code",
   "execution_count": 90,
   "id": "23626a56",
   "metadata": {},
   "outputs": [
    {
     "name": "stdout",
     "output_type": "stream",
     "text": [
      "p_HD_WD_CI: 0.2096971678690332\n"
     ]
    },
    {
     "data": {
      "text/plain": [
       "Ttest_indResult(statistic=1.001096720174051, pvalue=0.31965520610996145)"
      ]
     },
     "execution_count": 90,
     "metadata": {},
     "output_type": "execute_result"
    }
   ],
   "source": [
    "#Perform two sample t-test with equal variances\n",
    "stat_HD_WD_CI, p_HD_WD_CI = stats.levene(decoy_P_HD_freq_CI_df[\"Target(%)\"], decoy_P_WD_freq_CI_df[\"Target(%)\"])\n",
    "\n",
    "print(\"p_HD_WD_CI: \" + str(p_HD_WD_CI))\n",
    "\n",
    "stats.ttest_ind(a=decoy_P_HD_freq_CI_df[\"Target(%)\"], b=decoy_P_WD_freq_CI_df[\"Target(%)\"], equal_var=True)\n"
   ]
  },
  {
   "cell_type": "code",
   "execution_count": 91,
   "id": "5cd744f3",
   "metadata": {},
   "outputs": [
    {
     "name": "stdout",
     "output_type": "stream",
     "text": [
      "Phantom Decoy Filtered items Highly desirable & Weakly desirable: \n",
      " t-stat: 1.001\n",
      " p-value: 0.32\n",
      " df: 84.0\n"
     ]
    }
   ],
   "source": [
    "PhantLessNoisy_HDWD_ttest_results = ttest_ind(decoy_P_HD_freq_CI_df[\"Target(%)\"], decoy_P_WD_freq_CI_df[\"Target(%)\"], alternative=\"two-sided\", usevar=\"pooled\")\n",
    "\n",
    "print(\"Phantom Decoy Filtered items Highly desirable & Weakly desirable: \" + \"\\n t-stat: \" + str(round(PhantLessNoisy_HDWD_ttest_results[0], 3)) + \"\\n p-value: \" + str(round(PhantLessNoisy_HDWD_ttest_results[1], 3)) + \"\\n df: \" + str(round(PhantLessNoisy_HDWD_ttest_results[2], 3)))\n"
   ]
  },
  {
   "cell_type": "code",
   "execution_count": 92,
   "id": "d1c5bde7",
   "metadata": {},
   "outputs": [
    {
     "name": "stdout",
     "output_type": "stream",
     "text": [
      "Cohen's d between Highly desirable and Weakly desirable groups: \n"
     ]
    },
    {
     "data": {
      "text/plain": [
       "0.2164294484281481"
      ]
     },
     "execution_count": 92,
     "metadata": {},
     "output_type": "execute_result"
    }
   ],
   "source": [
    "print(\"Cohen's d between Highly desirable and Weakly desirable groups: \")\n",
    "pg.compute_effsize(decoy_P_HD_freq_CI_df[\"Target(%)\"], decoy_P_WD_freq_CI_df[\"Target(%)\"], eftype='cohen')"
   ]
  },
  {
   "cell_type": "markdown",
   "id": "3ee3607b",
   "metadata": {},
   "source": [
    "##### Weakly desirability and Undesirable (Filtered items)"
   ]
  },
  {
   "cell_type": "code",
   "execution_count": 93,
   "id": "f672d659",
   "metadata": {},
   "outputs": [
    {
     "name": "stdout",
     "output_type": "stream",
     "text": [
      "p_WD_U_CI: 0.15751038230238612\n"
     ]
    },
    {
     "data": {
      "text/plain": [
       "Ttest_indResult(statistic=1.5911343610175408, pvalue=0.11538114079138027)"
      ]
     },
     "execution_count": 93,
     "metadata": {},
     "output_type": "execute_result"
    }
   ],
   "source": [
    "stat_WD_U_CI, p_WD_U_CI = stats.levene(decoy_P_WD_freq_CI_df[\"Target(%)\"], decoy_P_U_freq_CI_df[\"Target(%)\"])\n",
    "\n",
    "print(\"p_WD_U_CI: \" + str(p_WD_U_CI))\n",
    "\n",
    "stats.ttest_ind(a=decoy_P_WD_freq_CI_df[\"Target(%)\"], b=decoy_P_U_freq_CI_df[\"Target(%)\"], equal_var=True)"
   ]
  },
  {
   "cell_type": "code",
   "execution_count": 94,
   "id": "06cba678",
   "metadata": {},
   "outputs": [
    {
     "name": "stdout",
     "output_type": "stream",
     "text": [
      "Phantom Decoy Filtered items Weakly desirable & Undesirable: \n",
      " t-stat: 1.591\n",
      " p-value: 0.115\n",
      " df: 83.0\n"
     ]
    }
   ],
   "source": [
    "PhantLessNoisy_WDU_ttest_results = ttest_ind(decoy_P_WD_freq_CI_df[\"Target(%)\"], decoy_P_U_freq_CI_df[\"Target(%)\"], alternative=\"two-sided\", usevar=\"pooled\")\n",
    "\n",
    "print(\"Phantom Decoy Filtered items Weakly desirable & Undesirable: \" + \"\\n t-stat: \" + str(round(PhantLessNoisy_WDU_ttest_results[0], 3)) + \"\\n p-value: \" + str(round(PhantLessNoisy_WDU_ttest_results[1], 3)) + \"\\n df: \" + str(round(PhantLessNoisy_WDU_ttest_results[2], 3)))\n"
   ]
  },
  {
   "cell_type": "code",
   "execution_count": 95,
   "id": "dd54db8d",
   "metadata": {},
   "outputs": [
    {
     "name": "stdout",
     "output_type": "stream",
     "text": [
      "Cohen's d between Weakly desirable and Undesirable groups: \n"
     ]
    },
    {
     "data": {
      "text/plain": [
       "0.34634195019574193"
      ]
     },
     "execution_count": 95,
     "metadata": {},
     "output_type": "execute_result"
    }
   ],
   "source": [
    "print(\"Cohen's d between Weakly desirable and Undesirable groups: \")\n",
    "pg.compute_effsize(decoy_P_WD_freq_CI_df[\"Target(%)\"], decoy_P_U_freq_CI_df[\"Target(%)\"], eftype='cohen')"
   ]
  },
  {
   "cell_type": "markdown",
   "id": "a5df66cb",
   "metadata": {},
   "source": [
    "##### Highly desirability and  Undesirable (Filtered items)"
   ]
  },
  {
   "cell_type": "code",
   "execution_count": 96,
   "id": "8969b043",
   "metadata": {},
   "outputs": [
    {
     "name": "stdout",
     "output_type": "stream",
     "text": [
      "p_HD_U_CI: 0.9921655482506276\n"
     ]
    },
    {
     "data": {
      "text/plain": [
       "Ttest_indResult(statistic=2.800248212415819, pvalue=0.006452525140823083)"
      ]
     },
     "execution_count": 96,
     "metadata": {},
     "output_type": "execute_result"
    }
   ],
   "source": [
    "stat_HD_U_CI, p_HD_U_CI = stats.levene(decoy_P_HD_freq_CI_df[\"Target(%)\"], decoy_P_U_freq_CI_df[\"Target(%)\"])\n",
    "\n",
    "print(\"p_HD_U_CI: \" + str(p_HD_U_CI))\n",
    "\n",
    "stats.ttest_ind(a=decoy_P_HD_freq_CI_df[\"Target(%)\"], b=decoy_P_U_freq_CI_df[\"Target(%)\"], equal_var=True)"
   ]
  },
  {
   "cell_type": "code",
   "execution_count": 97,
   "id": "9f699e33",
   "metadata": {},
   "outputs": [
    {
     "name": "stdout",
     "output_type": "stream",
     "text": [
      "Phantom Decoy Filtered items Highly desirable & Undesirable: \n",
      " t-stat: 2.8\n",
      " p-value: 0.006\n",
      " df: 77.0\n"
     ]
    }
   ],
   "source": [
    "PhantLessNoisy_HDU_ttest_results = ttest_ind(decoy_P_HD_freq_CI_df[\"Target(%)\"], decoy_P_U_freq_CI_df[\"Target(%)\"], alternative=\"two-sided\", usevar=\"pooled\")\n",
    "\n",
    "print(\"Phantom Decoy Filtered items Highly desirable & Undesirable: \" + \"\\n t-stat: \" + str(round(PhantLessNoisy_HDU_ttest_results[0], 3)) + \"\\n p-value: \" + str(round(PhantLessNoisy_HDU_ttest_results[1], 3)) + \"\\n df: \" + str(round(PhantLessNoisy_HDU_ttest_results[2], 3)))\n"
   ]
  },
  {
   "cell_type": "code",
   "execution_count": 98,
   "id": "a2e7e424",
   "metadata": {},
   "outputs": [
    {
     "name": "stdout",
     "output_type": "stream",
     "text": [
      "Cohen's d between Highly desirable and Undesirable groups: \n"
     ]
    },
    {
     "data": {
      "text/plain": [
       "0.6301555638419472"
      ]
     },
     "execution_count": 98,
     "metadata": {},
     "output_type": "execute_result"
    }
   ],
   "source": [
    "print(\"Cohen's d between Highly desirable and Undesirable groups: \")\n",
    "pg.compute_effsize(decoy_P_HD_freq_CI_df[\"Target(%)\"], decoy_P_U_freq_CI_df[\"Target(%)\"], eftype='cohen')"
   ]
  },
  {
   "cell_type": "markdown",
   "id": "3ac3b961",
   "metadata": {},
   "source": [
    "### Quick test on the relation between PCs and Phantom scores (Filtered items)"
   ]
  },
  {
   "cell_type": "code",
   "execution_count": 99,
   "id": "571996ee",
   "metadata": {},
   "outputs": [],
   "source": [
    "PCs_HD_df = pd.DataFrame(data={'PC1': principalComponents_HD_wBias[:, 0].flatten(),\n",
    "                  'PC2': principalComponents_HD_wBias[:, 1].flatten(),\n",
    "                  'Phantom_scores': decoy_P_HD_freq_CI_df[\"Target(%)\"]}, index=range(40))\n",
    "\n",
    "PCs_WD_df = pd.DataFrame(data={'PC1': principalComponents_WD_wBias[:, 0].flatten(),\n",
    "                  'PC2': principalComponents_WD_wBias[:, 1].flatten(),\n",
    "                  'Phantom_scores': decoy_P_WD_freq_CI_df[\"Target(%)\"]}, index=range(46))\n",
    "\n",
    "PCs_U_df = pd.DataFrame(data={'PC1': principalComponents_U_wBias[:, 0].flatten(),\n",
    "                  'PC2': principalComponents_U_wBias[:, 1].flatten(),\n",
    "                  'Phantom_scores': decoy_P_U_freq_CI_df[\"Target(%)\"]}, index=range(39))\n"
   ]
  },
  {
   "cell_type": "code",
   "execution_count": 100,
   "id": "9461e6ed",
   "metadata": {},
   "outputs": [
    {
     "name": "stdout",
     "output_type": "stream",
     "text": [
      "Correlation coefficient PC1-Phantom HD scores: -0.22, p-value: 0.1806170807579985\n",
      "Correlation coefficient PC1-Phantom WD scores: 0.0, p-value: 0.9871136824118819\n",
      "Correlation coefficient PC1-Phantom U scores: -0.27, p-value: 0.09409379587216316\n",
      "\n",
      "Correlation coefficient PC2-Phantom HD scores: -0.05, p-value: 0.7692942683601807\n",
      "Correlation coefficient PC2-Phantom WD scores: 0.18, p-value: 0.23361482542792603\n",
      "Correlation coefficient PC2-Phantom U scores: 0.11, p-value: 0.5227595769254286\n"
     ]
    }
   ],
   "source": [
    "PC1_HD_corr = stats.pearsonr(PCs_HD_df[\"PC1\"], PCs_HD_df[\"Phantom_scores\"])\n",
    "PC1_WD_corr = stats.pearsonr(PCs_WD_df[\"PC1\"], PCs_WD_df[\"Phantom_scores\"])\n",
    "PC1_U_corr = stats.pearsonr(PCs_U_df[\"PC1\"], PCs_U_df[\"Phantom_scores\"])\n",
    "\n",
    "print(\"Correlation coefficient PC1-Phantom HD scores: \" + str(round(PC1_HD_corr[0], 2)) + \", p-value: \" + str(PC1_HD_corr[1]))\n",
    "print(\"Correlation coefficient PC1-Phantom WD scores: \" + str(round(PC1_WD_corr[0], 2)) + \", p-value: \" + str(PC1_WD_corr[1]))\n",
    "print(\"Correlation coefficient PC1-Phantom U scores: \" + str(round(PC1_U_corr[0], 2)) + \", p-value: \" + str(PC1_U_corr[1]))\n",
    "\n",
    "PC2_HD_corr = stats.pearsonr(PCs_HD_df[\"PC2\"], PCs_HD_df[\"Phantom_scores\"])\n",
    "PC2_WD_corr = stats.pearsonr(PCs_WD_df[\"PC2\"], PCs_WD_df[\"Phantom_scores\"])\n",
    "PC2_U_corr = stats.pearsonr(PCs_U_df[\"PC2\"], PCs_U_df[\"Phantom_scores\"])\n",
    "\n",
    "print(\"\\nCorrelation coefficient PC2-Phantom HD scores: \" + str(round(PC2_HD_corr[0], 2)) + \", p-value: \" + str(PC2_HD_corr[1]))\n",
    "print(\"Correlation coefficient PC2-Phantom WD scores: \" + str(round(PC2_WD_corr[0], 2)) + \", p-value: \" + str(PC2_WD_corr[1]))\n",
    "print(\"Correlation coefficient PC2-Phantom U scores: \" + str(round(PC2_U_corr[0], 2)) + \", p-value: \" + str(PC2_U_corr[1]))\n"
   ]
  },
  {
   "cell_type": "code",
   "execution_count": 101,
   "id": "60b107ee",
   "metadata": {},
   "outputs": [
    {
     "data": {
      "text/plain": [
       "Text(0.5, 1.0, 'PC1 vs. Phantom_U')"
      ]
     },
     "execution_count": 101,
     "metadata": {},
     "output_type": "execute_result"
    },
    {
     "data": {
      "image/png": "[encoded data removed]",
      "text/plain": [
       "<Figure size 1008x360 with 3 Axes>"
      ]
     },
     "metadata": {
      "needs_background": "light"
     },
     "output_type": "display_data"
    }
   ],
   "source": [
    "fig, ax = plt.subplots(1, 3, figsize=(14, 5))\n",
    "\n",
    "ax[0].scatter(PCs_HD_df[\"PC1\"], PCs_HD_df[\"Phantom_scores\"])\n",
    "a_0, b_0 = np.polyfit(np.array(PCs_HD_df[\"PC1\"]).flatten(), np.array(PCs_HD_df[\"Phantom_scores\"]).flatten(), 1)\n",
    "ax[0].plot(PCs_HD_df[\"PC1\"], a_0*PCs_HD_df[\"PC1\"]+b_0, color='black')  \n",
    "ax[0].set_xlabel(\"PC1 scores\")\n",
    "ax[0].set_ylabel(\"Phantom_HD scores\")\n",
    "ax[0].set_title(\"PC1 vs. Phantom_HD\")\n",
    "\n",
    "ax[1].scatter(PCs_WD_df[\"PC1\"], PCs_WD_df[\"Phantom_scores\"])\n",
    "a_1, b_1 = np.polyfit(np.array(PCs_WD_df[\"PC1\"]).flatten(), np.array(PCs_WD_df[\"Phantom_scores\"]).flatten(), 1)\n",
    "ax[1].plot(PCs_WD_df[\"PC1\"], a_1*PCs_WD_df[\"PC1\"]+b_1, color='black')  \n",
    "ax[1].set_xlabel(\"PC1 scores\")\n",
    "ax[1].set_ylabel(\"Phantom_WD scores\")\n",
    "ax[1].set_title(\"PC1 vs. Phantom_WD\")\n",
    "\n",
    "ax[2].scatter(PCs_U_df[\"PC1\"], PCs_U_df[\"Phantom_scores\"])\n",
    "a_2, b_2 = np.polyfit(np.array(PCs_U_df[\"PC1\"]).flatten(), np.array(PCs_U_df[\"Phantom_scores\"]).flatten(), 1)\n",
    "ax[2].plot(PCs_U_df[\"PC1\"], a_2*PCs_U_df[\"PC1\"]+b_2, color='black')  \n",
    "ax[2].set_xlabel(\"PC1 scores\")\n",
    "ax[2].set_ylabel(\"Phantom_U scores\")\n",
    "ax[2].set_title(\"PC1 vs. Phantom_U\")"
   ]
  },
  {
   "cell_type": "code",
   "execution_count": 102,
   "id": "97a22743",
   "metadata": {},
   "outputs": [
    {
     "data": {
      "text/plain": [
       "Text(0.5, 1.0, 'PC2 vs. Phantom_U')"
      ]
     },
     "execution_count": 102,
     "metadata": {},
     "output_type": "execute_result"
    },
    {
     "data": {
      "image/png": "[encoded data removed]",
      "text/plain": [
       "<Figure size 1008x360 with 3 Axes>"
      ]
     },
     "metadata": {
      "needs_background": "light"
     },
     "output_type": "display_data"
    }
   ],
   "source": [
    "fig, ax = plt.subplots(1, 3, figsize=(14, 5))\n",
    "\n",
    "ax[0].scatter(PCs_HD_df[\"PC2\"], PCs_HD_df[\"Phantom_scores\"])\n",
    "a_0, b_0 = np.polyfit(np.array(PCs_HD_df[\"PC2\"]).flatten(), np.array(PCs_HD_df[\"Phantom_scores\"]).flatten(), 1)\n",
    "ax[0].plot(PCs_HD_df[\"PC2\"], a_0*PCs_HD_df[\"PC2\"]+b_0, color='black')  \n",
    "ax[0].set_xlabel(\"PC2 scores\")\n",
    "ax[0].set_ylabel(\"Phantom_HD scores\")\n",
    "ax[0].set_title(\"PC2 vs. Phantom_HD\")\n",
    "\n",
    "ax[1].scatter(PCs_WD_df[\"PC2\"], PCs_WD_df[\"Phantom_scores\"])\n",
    "a_1, b_1 = np.polyfit(np.array(PCs_WD_df[\"PC2\"]).flatten(), np.array(PCs_WD_df[\"Phantom_scores\"]).flatten(), 1)\n",
    "ax[1].plot(PCs_WD_df[\"PC2\"], a_1*PCs_WD_df[\"PC2\"]+b_1, color='black')  \n",
    "ax[1].set_xlabel(\"PC2 scores\")\n",
    "ax[1].set_ylabel(\"Phantom_WD scores\")\n",
    "ax[1].set_title(\"PC2 vs. Phantom_WD\")\n",
    "\n",
    "ax[2].scatter(PCs_U_df[\"PC2\"], PCs_U_df[\"Phantom_scores\"])\n",
    "a_2, b_2 = np.polyfit(np.array(PCs_U_df[\"PC2\"]).flatten(), np.array(PCs_U_df[\"Phantom_scores\"]).flatten(), 1)\n",
    "ax[2].plot(PCs_U_df[\"PC2\"], a_2*PCs_U_df[\"PC2\"]+b_2, color='black')  \n",
    "ax[2].set_xlabel(\"PC2 scores\")\n",
    "ax[2].set_ylabel(\"Phantom_U scores\")\n",
    "ax[2].set_title(\"PC2 vs. Phantom_U\")"
   ]
  },
  {
   "cell_type": "markdown",
   "id": "f8a3ea14",
   "metadata": {},
   "source": [
    "#### PCA (Classic decoys + phantoms) (Filtered items)"
   ]
  },
  {
   "cell_type": "code",
   "execution_count": 105,
   "id": "e9a7f4c6",
   "metadata": {},
   "outputs": [
    {
     "data": {
      "text/plain": [
       "array([9.99643382e-01, 2.66580258e-04, 9.00373084e-05])"
      ]
     },
     "execution_count": 105,
     "metadata": {},
     "output_type": "execute_result"
    }
   ],
   "source": [
    "principalComponents_ClassicD_HD_filtered = pca2.fit_transform(PCs_HD_df)\n",
    "\n",
    "pca2.explained_variance_ratio_"
   ]
  },
  {
   "cell_type": "code",
   "execution_count": 106,
   "id": "59f6f3eb",
   "metadata": {},
   "outputs": [
    {
     "data": {
      "text/plain": [
       "array([9.99577865e-01, 2.91513708e-04, 1.30621594e-04])"
      ]
     },
     "execution_count": 106,
     "metadata": {},
     "output_type": "execute_result"
    }
   ],
   "source": [
    "principalComponents_ClassicD_WD_filtered = pca2.fit_transform(PCs_WD_df)\n",
    "\n",
    "pca2.explained_variance_ratio_"
   ]
  },
  {
   "cell_type": "code",
   "execution_count": 107,
   "id": "0ca5e667",
   "metadata": {},
   "outputs": [
    {
     "data": {
      "text/plain": [
       "array([9.99400789e-01, 4.69606590e-04, 1.29604178e-04])"
      ]
     },
     "execution_count": 107,
     "metadata": {},
     "output_type": "execute_result"
    }
   ],
   "source": [
    "principalComponents_ClassicD_U_filtered = pca2.fit_transform(PCs_U_df)\n",
    "\n",
    "pca2.explained_variance_ratio_"
   ]
  },
  {
   "cell_type": "code",
   "execution_count": null,
   "id": "7beae5ae",
   "metadata": {},
   "outputs": [],
   "source": []
  },
  {
   "cell_type": "code",
   "execution_count": null,
   "id": "cf9b8f52",
   "metadata": {},
   "outputs": [],
   "source": []
  }
 ],
 "metadata": {
  "kernelspec": {
   "display_name": "Python 3",
   "language": "python",
   "name": "python3"
  },
  "language_info": {
   "codemirror_mode": {
    "name": "ipython",
    "version": 3
   },
   "file_extension": ".py",
   "mimetype": "text/x-python",
   "name": "python",
   "nbconvert_exporter": "python",
   "pygments_lexer": "ipython3",
   "version": "3.8.8"
  }
 },
 "nbformat": 4,
 "nbformat_minor": 5
}
